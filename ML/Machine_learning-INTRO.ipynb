{
 "cells": [
  {
   "cell_type": "code",
   "execution_count": 1,
   "metadata": {},
   "outputs": [],
   "source": [
    "import numpy as np\n",
    "import scipy.io as sio\n",
    "import ase\n",
    "from ase.io import read\n",
    "from lib import ase_view, traj_view\n",
    "import matplotlib.pyplot as plt\n",
    "from ipywidgets import *"
   ]
  },
  {
   "cell_type": "markdown",
   "metadata": {},
   "source": [
    "# Introduction et rappels de math"
   ]
  },
  {
   "cell_type": "markdown",
   "metadata": {},
   "source": [
    "Une fonction affine est une fonction de la forme:\n",
    "\\begin{align}\n",
    "f(x)=ax+b\n",
    "\\end{align}\n",
    "\n",
    "Supposons que nous étudions une propriété physique $y$ qui dépend linéairement d'une autre propriété $x$.\n",
    "\n",
    "La fonction ci-dessous génére un nombre alétaire $a\\in [low;high]$"
   ]
  },
  {
   "cell_type": "code",
   "execution_count": 2,
   "metadata": {},
   "outputs": [],
   "source": [
    "def rand_in(low,high):\n",
    "    return (high-low)*np.random.random()+low"
   ]
  },
  {
   "cell_type": "markdown",
   "metadata": {},
   "source": [
    "Définir un vecteur $x$ contenant une dizaine de valeurs aléatoire dans l'interval $[0;1]$, une fonction affine avec $b=0$ et $a \\in [1;5]$ généré aléatoirement.\n",
    "Calculer $y=f(x)$ et tracer les points (x,y) avec la fonction plt.scatter. "
   ]
  },
  {
   "cell_type": "code",
   "execution_count": 3,
   "metadata": {},
   "outputs": [
    {
     "data": {
      "image/png": "[encoded data removed]",
      "text/plain": [
       "<matplotlib.figure.Figure at 0x7f59b9ef75c0>"
      ]
     },
     "metadata": {},
     "output_type": "display_data"
    }
   ],
   "source": [
    "a=rand_in(5,1)\n",
    "x=np.random.random(10)\n",
    "y=a*x\n",
    "plt.scatter(x,y)\n",
    "plt.show()"
   ]
  },
  {
   "cell_type": "markdown",
   "metadata": {},
   "source": [
    "Retrouver la valeur de $a$ à partir des valeurs de $x$ et $y$ (sans faire \"print(a)\"!!).\n",
    "Pour vérifier, tracer la ligne représentant la fonction affine $f(x)=ax$ avec plt.plot, en plus des points (x,y)."
   ]
  },
  {
   "cell_type": "code",
   "execution_count": 4,
   "metadata": {},
   "outputs": [
    {
     "data": {
      "image/png": "[encoded data removed]",
      "text/plain": [
       "<matplotlib.figure.Figure at 0x7f59b9ef7160>"
      ]
     },
     "metadata": {},
     "output_type": "display_data"
    }
   ],
   "source": [
    "pente=(y[0]/x[0])\n",
    "xx=np.linspace(0,1,10)\n",
    "yy=pente*xx\n",
    "plt.plot(xx,yy, color='k')\n",
    "plt.scatter(x,y)\n",
    "plt.show()"
   ]
  },
  {
   "cell_type": "markdown",
   "metadata": {},
   "source": [
    "Dans la réalité, les choses ne collent pas aussi bien... $f$ ne représente pas paraitement la réalité, c'est un modèle. D'autres facteurs peuvent affecter les valeurs de $y$. \n",
    "\n",
    "Ajouter artifiellement du bruit aux données: \n",
    "Génerer une autre pente $a$, des points x aléatoires, et des valeurs\n",
    "$y=ax+as$ ou s est un nombre aléatoire entre $-0.2$ et $0.2$ (différent pour chaque valeur de x)."
   ]
  },
  {
   "cell_type": "code",
   "execution_count": 23,
   "metadata": {},
   "outputs": [
    {
     "data": {
      "image/png": "[encoded data removed]",
      "text/plain": [
       "<matplotlib.figure.Figure at 0x7f59b78a46a0>"
      ]
     },
     "metadata": {},
     "output_type": "display_data"
    }
   ],
   "source": [
    "a=rand_in(1,5)\n",
    "x=np.random.random(10)\n",
    "y=a*x+a*np.array([rand_in(-0.2,0.2) for i in range(len(x))])\n",
    "plt.scatter(x,y)\n",
    "plt.show()"
   ]
  },
  {
   "cell_type": "markdown",
   "metadata": {},
   "source": [
    "Faire glisser la barre ci-dessous pour changer la pente de la droite tracée et estimer la nouvelle valeur de $a$."
   ]
  },
  {
   "cell_type": "code",
   "execution_count": 24,
   "metadata": {},
   "outputs": [
    {
     "data": {
      "application/vnd.jupyter.widget-view+json": {
       "model_id": "b9ec3bdf4e3343b8b04b9ab596baea41",
       "version_major": 2,
       "version_minor": 0
      },
      "text/plain": [
       "A Jupyter Widget"
      ]
     },
     "metadata": {},
     "output_type": "display_data"
    }
   ],
   "source": [
    "## here they can use the slider to change the slope of the line until it fits the points best\n",
    "@interact(a=2)\n",
    "def plot_line(a):\n",
    "    fig=plt.figure()\n",
    "    ax=fig.add_subplot(111)\n",
    "    ax.scatter(x,y)\n",
    "    xx=np.linspace(0,1,3)\n",
    "    ax.plot(xx,a*xx)\n",
    "    plt.show()\n",
    "    return"
   ]
  },
  {
   "cell_type": "markdown",
   "metadata": {},
   "source": [
    "\"Estimer la valeur de la pente\", c'est en fait efectuer un régression linéaire, et il y a des méthodes systématiques pour y arriver.\n",
    "\n",
    "'''Theory on Linear regression''' \n"
   ]
  },
  {
   "cell_type": "markdown",
   "metadata": {},
   "source": [
    "Écrire une fonction \"cost\" qui calcule la somme des différence entre les valeurs mesurées $y$ et des valeurs à comparer yn"
   ]
  },
  {
   "cell_type": "code",
   "execution_count": 29,
   "metadata": {},
   "outputs": [
    {
     "name": "stdout",
     "output_type": "stream",
     "text": [
      "12.3017772544 69.1423380989\n"
     ]
    }
   ],
   "source": [
    "def cost(yn, y):\n",
    "    return np.sum(np.square(y**2-yn**2))\n",
    "print(cost(4*x, y),cost(3*x, y)) "
   ]
  },
  {
   "cell_type": "markdown",
   "metadata": {},
   "source": [
    "Écrire une fonction qui, à partir d'une list de pentes à essayer et des points $x$ et $y$ , trouve la meilleures pente dans la liste, c'est à dire celle qui donne le plus petit coût."
   ]
  },
  {
   "cell_type": "code",
   "execution_count": 32,
   "metadata": {},
   "outputs": [
    {
     "name": "stdout",
     "output_type": "stream",
     "text": [
      "4 3.8\n"
     ]
    }
   ],
   "source": [
    "def best_slope(a_list,x,y):\n",
    "    return min(a_list, key=lambda z: cost(z*x,y))\n",
    "print(best_slope([3.0,3.5,4,4.5],x,y),best_slope([3.8,3.9,4,4.1,4.2],x,y))"
   ]
  },
  {
   "cell_type": "markdown",
   "metadata": {},
   "source": [
    "Nous allons effectuer une régression linéaire simplifier come suit:\n",
    "- Partir d'un interval donné. \n",
    "- Prendre $N$ valeur de pente equidistantes dans cette interval.\n",
    "- Trouver la meilleure \n",
    "- Recommencer en prenant comme nouvel interval celui défini par les 2 valeurs de pente autour de la meilleure \n",
    "L'algorithme s'arretera lorsque on sait que la leilleure pente se trouve dans un interval plus petit qu'une certaine tolérance.\n",
    "\n",
    "Est-t-il une bonne idée de prendre $N$ grand? "
   ]
  },
  {
   "cell_type": "code",
   "execution_count": 42,
   "metadata": {},
   "outputs": [],
   "source": [
    "def Da(rng, N):\n",
    "    return abs(rng[1]-rng[0])/N\n",
    "def simple_lreg(x,y,thr, init_rng, N):\n",
    "    rng=init_rng\n",
    "    count=0\n",
    "    while Da(rng,N) > thr:\n",
    "        alist=np.linspace(rng[0],rng[1],N)\n",
    "        ba=best_slope(alist,x,y)\n",
    "        count+=len(alist)\n",
    "        rng=[ba-Da(rng,N),ba+Da(rng,N)]\n",
    "    print(\"after trying \",count,\" slopes\")\n",
    "    return ba, count"
   ]
  },
  {
   "cell_type": "code",
   "execution_count": 43,
   "metadata": {},
   "outputs": [
    {
     "name": "stdout",
     "output_type": "stream",
     "text": [
      "after trying  49  slopes\n"
     ]
    },
    {
     "data": {
      "text/plain": [
       "3.7624090869167328"
      ]
     },
     "execution_count": 43,
     "metadata": {},
     "output_type": "execute_result"
    }
   ],
   "source": [
    "simple_lreg(x,y,0.0001,[1.,5.],7)"
   ]
  },
  {
   "cell_type": "code",
   "execution_count": 45,
   "metadata": {},
   "outputs": [
    {
     "name": "stdout",
     "output_type": "stream",
     "text": [
      "after trying  150  slopes\n"
     ]
    },
    {
     "data": {
      "text/plain": [
       "3.7625795918367344"
      ]
     },
     "execution_count": 45,
     "metadata": {},
     "output_type": "execute_result"
    }
   ],
   "source": [
    "simple_lreg(x,y,0.0001,[1.,5.],50)"
   ]
  }
 ],
 "metadata": {
  "kernelspec": {
   "display_name": "Python 3",
   "language": "python",
   "name": "python3"
  },
  "language_info": {
   "codemirror_mode": {
    "name": "ipython",
    "version": 3
   },
   "file_extension": ".py",
   "mimetype": "text/x-python",
   "name": "python",
   "nbconvert_exporter": "python",
   "pygments_lexer": "ipython3",
   "version": "3.6.3"
  }
 },
 "nbformat": 4,
 "nbformat_minor": 1
}
