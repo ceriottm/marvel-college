{
 "cells": [
  {
   "cell_type": "code",
   "execution_count": 1,
   "metadata": {},
   "outputs": [],
   "source": [
    "import numpy as np\n",
    "import scipy.io as sio\n",
    "from lib import view, traj_view\n",
    "import matplotlib.pyplot as plt"
   ]
  },
  {
   "cell_type": "markdown",
   "metadata": {},
   "source": [
    "# Can this framework be useful in materials science ? \n",
    "## Let's apply this to molecules.\n",
    "## Import data / read a dictionary\n"
   ]
  },
  {
   "cell_type": "code",
   "execution_count": 2,
   "metadata": {},
   "outputs": [],
   "source": [
    "def read_xsf_file(file):\n",
    "    with open(file, 'r') as f:\n",
    "        lines=f.readlines()\n",
    "    mols=[]\n",
    "    idx=0\n",
    "    while idx<len(lines):\n",
    "        mol={'species':[], 'positions':[],'cell':[[0.0,0.0,0.0],[0.0,0.0,0.0],[0.0,0.0,0.0]]}\n",
    "        nat=int(lines[idx])\n",
    "        toread=range(idx+2, idx+2+nat)\n",
    "        for i in toread:\n",
    "            data=lines[i].split()\n",
    "            mol['species'].append(data[0])\n",
    "            mol['positions'].append([float(x) for x in data[1:]])\n",
    "        mols.append(mol)\n",
    "        idx=idx+2+nat\n",
    "    return mols"
   ]
  },
  {
   "cell_type": "code",
   "execution_count": 3,
   "metadata": {},
   "outputs": [
    {
     "name": "stdout",
     "output_type": "stream",
     "text": [
      "CV1 CV2 aepbe0 electron_affinity polarizability_pbe C O N S Cl H\n",
      "    \n",
      "[ -3.81473000e-01  -6.24022000e-01  -4.20933750e+02  -3.98613000e+00\n",
      "   2.53457600e+00   1.00000000e+00   0.00000000e+00   0.00000000e+00\n",
      "   0.00000000e+00   0.00000000e+00   4.00000000e+00]\n"
     ]
    }
   ],
   "source": [
    "#import a dataset\n",
    "! head -1 Qm7b.dat\n",
    "print(\"    \")\n",
    "properties = np.loadtxt('./Qm7b.dat',skiprows=1)\n",
    "molecules = read_xsf_file('qm7b-ase.xyz')\n",
    "print(properties[0])"
   ]
  },
  {
   "cell_type": "code",
   "execution_count": 4,
   "metadata": {},
   "outputs": [
    {
     "data": {
      "application/vnd.jupyter.widget-view+json": {
       "model_id": "b76903bd0ad445079e29837c9bdb14c5",
       "version_major": 2,
       "version_minor": 0
      },
      "text/plain": [
       "A Jupyter Widget"
      ]
     },
     "metadata": {},
     "output_type": "display_data"
    },
    {
     "data": {
      "application/vnd.jupyter.widget-view+json": {
       "model_id": "b99b640332c3445d8da10865f8e5638f",
       "version_major": 2,
       "version_minor": 0
      },
      "text/plain": [
       "A Jupyter Widget"
      ]
     },
     "metadata": {},
     "output_type": "display_data"
    }
   ],
   "source": [
    "##Task number one : Students try to read the xyz file in their possession,here for simplicity parsed in ase\n",
    "## as a first exercise, they will place the coordinates in position, species in sp and assemble them in a \n",
    "## simple dictionary entry called molecule, with two attributes : \"pos\" and \"sp\"\n",
    "mol = molecules[150]\n",
    "view(mol)"
   ]
  },
  {
   "cell_type": "markdown",
   "metadata": {},
   "source": [
    "# Explore and manipulate data\n",
    "### In this part they will try viewing the molecules, see on what they differ, and try to visualise numerically how the property of interest oscillates (atomization energy)"
   ]
  },
  {
   "cell_type": "code",
   "execution_count": 5,
   "metadata": {},
   "outputs": [
    {
     "data": {
      "image/png": "[encoded data removed]",
      "text/plain": [
       "<matplotlib.figure.Figure at 0x7fc6847deb00>"
      ]
     },
     "metadata": {},
     "output_type": "display_data"
    }
   ],
   "source": [
    "submols=molecules[:1000]\n",
    "subproperties=properties[:1000]\n",
    "nat=[len(mol['species']) for mol in submols]\n",
    "totE=subproperties[:,2]\n",
    "plt.scatter(nat,totE, c='blue')\n",
    "plt.show()"
   ]
  },
  {
   "cell_type": "code",
   "execution_count": null,
   "metadata": {},
   "outputs": [],
   "source": [
    "submols=molecules[:1000]\n",
    "subproperties=properties[:1000]\n",
    "nat=[len(mol['species']) for mol in submols]\n",
    "totE=subproperties[:,2]\n",
    "plt.scatter(nat,totE, c='blue')\n",
    "plt.show()"
   ]
  },
  {
   "cell_type": "code",
   "execution_count": 45,
   "metadata": {},
   "outputs": [],
   "source": [
    "### Build a description for our molecules : First round --> atomic positions\n",
    "### First problem : not all of same lengths --> solution: pad them with zeros!\n",
    "\n",
    "feats = [molecules[i].positions.flatten() for i in range(len(molecules))]\n",
    "ll = 0\n",
    "for i in feats:\n",
    "    if len(i)>ll :\n",
    "        ll = len(i)*3\n",
    "\n",
    "feats = np.zeros((len(molecules),ll))\n",
    "for i in range(len(molecules)):\n",
    "    feats[i,0:len(molecules[i].positions)*3] = molecules[i].positions.flatten()\n",
    "    \n",
    "\n",
    "    \n",
    "    \n",
    "X = feats\n",
    "y = properties[:,2]\n",
    "#print y.shape,X.shape"
   ]
  },
  {
   "cell_type": "markdown",
   "metadata": {},
   "source": [
    "In a linear regression formulation, we assume that our predicted property and the elements in our set are related\n",
    "by a linear relation.\n",
    "Meaning that, ideally, all our points would lay on a line, with any other new structure having a property simply found\n",
    "as a linear interpolation of the known ones.\n",
    "In simple math : \n",
    "\n",
    "\\begin{align}\n",
    "    y_{i}\\,=\\,x_i^t\\beta + x^0_i\n",
    "\\end{align}\n",
    "\n",
    "Then, discussion on training set and test set."
   ]
  },
  {
   "cell_type": "code",
   "execution_count": 46,
   "metadata": {},
   "outputs": [
    {
     "name": "stdout",
     "output_type": "stream",
     "text": [
      "Mean squared error: 9246.70\n",
      "Variance score: 0.69\n"
     ]
    }
   ],
   "source": [
    "## Trying to distinguish how similar two structures are on the basis of their atomic positions\n",
    "## Check how linear regression performs, using only one feature, or more \n",
    "## The student will become familiar with MAE, RMSE error measures, and try to understand how to improve it\n",
    "\n",
    "import matplotlib.pyplot as plt\n",
    "from sklearn import datasets, linear_model\n",
    "from sklearn.metrics import mean_squared_error, r2_score\n",
    "\n",
    "\n",
    "\n",
    "# Use only one feature\n",
    "db_X = np.sum(X,axis=1).reshape(-1,1)\n",
    "# Using more features \n",
    "db_X = X\n",
    "\n",
    "\n",
    "\n",
    "# Split the data into training/testing sets\n",
    "db_X_train = db_X[:-2000]\n",
    "db_X_test = db_X[-2000:]\n",
    "#print db_X_train.shape,db_X_test.shape\n",
    "\n",
    "# Split the targets into training/testing sets\n",
    "db_y_train = y[:-2000]\n",
    "db_y_test = y[-2000:]\n",
    "#print db_y_train.shape,db_y_test.shape\n",
    "\n",
    "\n",
    "# Create linear regression object\n",
    "regr = linear_model.LinearRegression()\n",
    "\n",
    "# Train the model using the training sets\n",
    "regr.fit(db_X_train, db_y_train)\n",
    "\n",
    "# Make predictions using the testing set\n",
    "db_y_pred = regr.predict(db_X_test)\n",
    "\n",
    "# The coefficients\n",
    "#print('Coefficients: ', regr.coef_)\n",
    "# The mean squared error\n",
    "print(\"Mean squared error: %.2f\"\n",
    "      % mean_squared_error(db_y_test, db_y_pred))\n",
    "# Explained variance score: 1 is perfect prediction\n",
    "print('Variance score: %.2f' % r2_score(db_y_test, db_y_pred))\n",
    "\n",
    "\n",
    "if len(db_X[0])==1:\n",
    "    # Plot outputs\n",
    "    print(db_X_test.shape, db_y_test.shape)\n",
    "    plt.scatter(db_X_test, db_y_test,  color='black')\n",
    "    plt.plot(db_X_test, db_y_pred, color='blue', linewidth=3)\n",
    "\n",
    "    plt.xticks(())\n",
    "    plt.yticks(())\n",
    "\n",
    "    plt.show()"
   ]
  },
  {
   "cell_type": "code",
   "execution_count": null,
   "metadata": {
    "collapsed": true
   },
   "outputs": [],
   "source": [
    "##The student plays with the ratio of the training / test set and see how it affects the error outcome"
   ]
  },
  {
   "cell_type": "code",
   "execution_count": null,
   "metadata": {
    "collapsed": true
   },
   "outputs": [],
   "source": [
    "## the students grasps the limit of our description, we suggest them to think of others,\n",
    "## based on simple geometrical ideas \n",
    "\n",
    "def new_descriptor_geometrical_1(molecule):\n",
    "    return value\n",
    "def new_descriptor_geometrical_2(molecule):\n",
    "    return value\n",
    "def new_descriptor_geometrical_3(molecule):\n",
    "    return value\n",
    "def new_descriptor_geometrical_4(molecule):\n",
    "    return value"
   ]
  },
  {
   "cell_type": "code",
   "execution_count": null,
   "metadata": {
    "collapsed": true
   },
   "outputs": [],
   "source": [
    "## Test them again by wrapping the previous linear regression model in a single function to do it quick!\n",
    "\n",
    "def linreg(X,y,trainpct):\n",
    "    \n",
    "    \n",
    "    return"
   ]
  },
  {
   "cell_type": "code",
   "execution_count": null,
   "metadata": {
    "collapsed": true
   },
   "outputs": [],
   "source": [
    "##Offering SMIfp fingerprint : they work well and show how well \n",
    "## First the student is told how they work and they try to implement them\n",
    "\n",
    "def SMIfp(mol):\n",
    "    \n",
    "    \n",
    "    return x"
   ]
  },
  {
   "cell_type": "code",
   "execution_count": 20,
   "metadata": {},
   "outputs": [
    {
     "name": "stdout",
     "output_type": "stream",
     "text": [
      "Object `pybel.pybel` not found.\n"
     ]
    }
   ],
   "source": [
    "## Once the students have access to this new descriptor, they test it with linreg and see\n",
    "## that it outperforms whatever they had used before (or maybe not, if they guessed amazing geometrical descr.)\n",
    "## Now we tell them that they can combine various descriptors to reduce the error on training, but is it \n",
    "## always the more the better? \n",
    "\n",
    "## Introduce a ridge regression formulation"
   ]
  },
  {
   "cell_type": "code",
   "execution_count": null,
   "metadata": {
    "collapsed": true
   },
   "outputs": [],
   "source": []
  }
 ],
 "metadata": {
  "kernelspec": {
   "display_name": "Python 3",
   "language": "python",
   "name": "python3"
  },
  "language_info": {
   "codemirror_mode": {
    "name": "ipython",
    "version": 3
   },
   "file_extension": ".py",
   "mimetype": "text/x-python",
   "name": "python",
   "nbconvert_exporter": "python",
   "pygments_lexer": "ipython3",
   "version": "3.6.3"
  }
 },
 "nbformat": 4,
 "nbformat_minor": 1
}
