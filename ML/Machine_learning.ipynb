{
 "cells": [
  {
   "cell_type": "code",
   "execution_count": 1,
   "metadata": {},
   "outputs": [],
   "source": [
    "import numpy as np\n",
    "from lib import view, traj_view\n",
    "#%matplotlib notebook\n",
    "import matplotlib.pyplot as plt\n",
    "from IPython.display import Image\n",
    "import json as json \n",
    "from ipywidgets import interact, fixed"
   ]
  },
  {
   "cell_type": "markdown",
   "metadata": {},
   "source": [
    "![title](ML2.png)"
   ]
  },
  {
   "cell_type": "markdown",
   "metadata": {},
   "source": [
    "# Récuparation de la base de données\n",
    "\n",
    "Nous allons maintenant essayer d'apprendre automatiquement l'élasticité des matériaux crystallins. Nous avons une base de données qui contient 1181 matériaux crystallin et leur module d'élasticité $K$, calculé grace à une méthode de simulation qui s'appelle \"théorie de la fonctionnelle de la densité\". Pour les plus curieux, la génération de ces données est décrite ici: https://www.nature.com/articles/sdata20159. Les données en elle-même peuvent être récupérées ici: http://dx.doi.org/10.5061/dryad.h505v, mais nous en avons déjà mis une copie dans votre dossier de travail.\n",
    "\n",
    "Nous avons vu que pour décrire des matériaux crystallins, il nous suffit de connaitre la cellule unitaire (avec les éléments et leur positions à l'intérieur) et trois vecteurs indiquant comment celle-ci se répéte. \n",
    "\n",
    "C'est exactement les informations que l'on récupère dans la base de données. La fonction \"parser\" ci-dessous collecte les données qui nous intéressent à partir d'un fichier json. Elle retourne 2 vecteurs:\n",
    "\n",
    "- Le vecteur $mats$, dont chaque élément représente un matériau. Chaque matériau est représenté par un dictionnaire qui contient: le nombre atomique des élements de la cellule unitaire (\"species\"), leur positions (\"positions\"), et les vecteurs du crystal (\"cell\"), indiquant comment on doit répéter la cellule unitaire pour former le crystal.\n",
    "- le vecteur $Ks$, qui contient les modules d'élasticité."
   ]
  },
  {
   "cell_type": "code",
   "execution_count": 2,
   "metadata": {},
   "outputs": [],
   "source": [
    "# À regarder\n",
    "from elements import ELEMENTS\n",
    "def parser(filename):\n",
    "    #La fonction \"json.load\" permet d'importer le fichier dans une variable de type liste de dictionnaire.\n",
    "    d = json.load(open(filename))\n",
    "    mats=[]\n",
    "    Ks=[]\n",
    "    #on parcourt ensuite cette liste de dictionnaire et on récupère ce qu'il nous faut.\n",
    "    for m in d:\n",
    "        pos=m['poscar']\n",
    "        lines=pos.splitlines()\n",
    "        a=np.array([float(x) for x in lines[2].split()])\n",
    "        b=np.array([float(x) for x in  lines[3].split()])\n",
    "        c=np.array([float(x) for x in lines[4].split()])\n",
    "        #if c[2]< 0: c=-c\n",
    "        species=lines[5].split()\n",
    "        spe_count=[int(x) for x in lines[6].split()]\n",
    "        i=8\n",
    "        p=[]\n",
    "        mat={'species':[], 'positions':[],'cell':[a,b,c]}\n",
    "        for j in range(sum(spe_count)):\n",
    "            mat['positions'].append(sum([float(x)*np.array(mat['cell'][k]) \n",
    "                        for k,x in enumerate(lines[i+j].split()[:3])]))\n",
    "            mat['species'].append(ELEMENTS[lines[i+j].split()[3]].number)\n",
    "        mats.append(mat)\n",
    "        #\n",
    "        Ks.append(m[\"K_VRH\"])\n",
    "    return mats, np.array(Ks)\n",
    "#\n",
    "mats, Ks = parser('ec.json')"
   ]
  },
  {
   "cell_type": "markdown",
   "metadata": {},
   "source": [
    "Explorer la base de donnée:\n",
    "\n",
    "- Vérifier le nombre de matériaux dans la base de donnée, et le nombre de modules d'élasticité obtenus\n",
    "- Imprimer un élément quelconque du vecteur $mats$, pour voir ce qu'il contient (le dictionnaire décrivant un matériau).\n",
    "- Vous pouvez visualiser la cellule unitaire d'un matériau en appellant la fonction:\n",
    "```python\n",
    "view(mat)\n",
    "```\n",
    "où mat est un élement du vecteur $mats$. Vous pouvez aussi visualiser quelque répétitions de la cellule (par exemple 3 dans chaque direction) en appellant:\n",
    "```python\n",
    "view(mat, [3,3,3])\n",
    "```"
   ]
  },
  {
   "cell_type": "code",
   "execution_count": 3,
   "metadata": {},
   "outputs": [
    {
     "name": "stdout",
     "output_type": "stream",
     "text": [
      "1181 1181\n",
      "{'species': [3, 3, 3, 3, 9, 9, 9, 9], 'positions': [array([ 0.,  0.,  0.]), array([ 0.      ,  2.040743,  2.040743]), array([ 2.040743,  0.      ,  2.040743]), array([ 2.040743,  2.040743,  0.      ]), array([ 0.      ,  2.040743,  0.      ]), array([ 0.      ,  0.      ,  2.040743]), array([ 2.040743,  2.040743,  2.040743]), array([ 2.040743,  0.      ,  0.      ])], 'cell': [array([ 4.081486,  0.      ,  0.      ]), array([ 0.      ,  4.081486,  0.      ]), array([ 0.      ,  0.      ,  4.081486])]}\n",
      "69.88112627\n"
     ]
    },
    {
     "data": {
      "application/vnd.jupyter.widget-view+json": {
       "model_id": "76de0aefcc4e4e0c8b09ef0dfee00f07",
       "version_major": 2,
       "version_minor": 0
      },
      "text/plain": [
       "A Jupyter Widget"
      ]
     },
     "metadata": {},
     "output_type": "display_data"
    }
   ],
   "source": [
    "# À faire\n",
    "print(len(mats), len(Ks))\n",
    "i=123\n",
    "mat = mats[i]\n",
    "print(mats[i])\n",
    "print(Ks[i])\n",
    "view(mat, [3,3,3])"
   ]
  },
  {
   "cell_type": "markdown",
   "metadata": {},
   "source": [
    "# Descripteurs\n",
    "\n",
    "Nous allons maintenant construire des descripteurs pour nos matériaux. Chaque dimension du descripteur est un nombre, que l'on fabrique à partir des informations contenues dans $mats$. \n",
    "\n",
    "On commence simplement avec le volume par atome. C'est-à-dire le volume de la cellule unitaire divisé par le nombre d'atomes. Cela donne une mesure de la densité du matériaux (petit volume par atome => haute densité) \n",
    "\n",
    "Écrire une fonction NombreAtomes qui retourne le nombre d'atome dans la cellule primitive d'un matériau $mat$. Construire ensuite le vecteur Nat qui contient ce nombre pour chaque matériau."
   ]
  },
  {
   "cell_type": "code",
   "execution_count": 4,
   "metadata": {},
   "outputs": [],
   "source": [
    "# À faire\n",
    "def NombreAtomes(mat):\n",
    "    return len(mat['species'])\n",
    "\n",
    "Nat = np.zeros(len(mats))\n",
    "for i, mat in enumerate(mats):\n",
    "    Nat[i] = NombreAtomes(mat) \n",
    "# oneliner: Nat=np.array([NombreAtomes(mat) for mat in mats])"
   ]
  },
  {
   "cell_type": "markdown",
   "metadata": {},
   "source": [
    "Écrire une fonction Volume qui retourne le volume de la cellule primitive d'un matériau $mat$. Les matériaux de cette base de donnée sont tels que le volume est égal au produit des normes des trois vecteurs de répétition de la cellule unitaire $V=|a|\\times|b|\\times|c|$. \n",
    "Construire ensuite le vecteur $Volumes$ qui contient le volume de chaque matériaux.\n",
    "\n",
    "Enfin, diviser $Volumes$ par $Nat$ pour créer le vecteur $VolumesParAtomes$"
   ]
  },
  {
   "cell_type": "code",
   "execution_count": 5,
   "metadata": {},
   "outputs": [],
   "source": [
    "# À faire\n",
    "def Volume(mat):\n",
    "    a = mat[\"cell\"][0][0]\n",
    "    b = mat[\"cell\"][1][1]\n",
    "    c = mat[\"cell\"][2][2]\n",
    "    volume = np.abs(a*b*c) \n",
    "    return volume\n",
    "\n",
    "Volumes = np.zeros(len(mats))\n",
    "for i, mat in enumerate(mats):\n",
    "    Volumes[i] = Volume(mat)\n",
    "# oneliner Volumes = np.array([Volume(mat) for mat in mats])\n",
    "\n",
    "VolumeParAtome=Volumes/Nat"
   ]
  },
  {
   "cell_type": "markdown",
   "metadata": {},
   "source": [
    "Le volume par atome sera notre descripteur principal. Il est important de s'assurer que l'on va pouvoir effectuer une régression linéaire correcte avec ce descripteur. Pour cela on va devoir manipuler la variable à prédire, de sorte qu'elle dépendent approximativement linéairement du descripteur.\n",
    "\n",
    "Regarder comment le module d'élasticité varie avec notre descripteur:\n",
    "la figure intéractive suivante applique des transformations $y \\to \\hat{y}$ au module d'élasticité. Essayer les differentes transformations et choisir celle pour laquelle la relation entre le descripteur $x$ et le module d'élasticité transformé $\\hat{y}$ ressemble le plus à une relation linéaire."
   ]
  },
  {
   "cell_type": "code",
   "execution_count": 1,
   "metadata": {},
   "outputs": [
    {
     "ename": "NameError",
     "evalue": "name 'VolumeParAtome' is not defined",
     "output_type": "error",
     "traceback": [
      "\u001b[0;31m---------------------------------------------------------------------------\u001b[0m",
      "\u001b[0;31mNameError\u001b[0m                                 Traceback (most recent call last)",
      "\u001b[0;32m<ipython-input-1-5191a6016bd7>\u001b[0m in \u001b[0;36m<module>\u001b[0;34m()\u001b[0m\n\u001b[1;32m      1\u001b[0m \u001b[0;31m# À regarder puis jouer avec\u001b[0m\u001b[0;34m\u001b[0m\u001b[0;34m\u001b[0m\u001b[0m\n\u001b[0;32m----> 2\u001b[0;31m \u001b[0mx\u001b[0m\u001b[0;34m=\u001b[0m\u001b[0mVolumeParAtome\u001b[0m\u001b[0;34m\u001b[0m\u001b[0m\n\u001b[0m\u001b[1;32m      3\u001b[0m \u001b[0my\u001b[0m\u001b[0;34m=\u001b[0m\u001b[0mKs\u001b[0m\u001b[0;34m\u001b[0m\u001b[0m\n\u001b[1;32m      4\u001b[0m \u001b[0;32mdef\u001b[0m \u001b[0mplot\u001b[0m\u001b[0;34m(\u001b[0m\u001b[0mx\u001b[0m\u001b[0;34m,\u001b[0m\u001b[0my\u001b[0m\u001b[0;34m,\u001b[0m\u001b[0mfunc\u001b[0m\u001b[0;34m)\u001b[0m\u001b[0;34m:\u001b[0m\u001b[0;34m\u001b[0m\u001b[0m\n\u001b[1;32m      5\u001b[0m     \u001b[0;32mif\u001b[0m \u001b[0mfunc\u001b[0m\u001b[0;34m==\u001b[0m\u001b[0;34m'identité'\u001b[0m\u001b[0;34m:\u001b[0m\u001b[0;34m\u001b[0m\u001b[0m\n",
      "\u001b[0;31mNameError\u001b[0m: name 'VolumeParAtome' is not defined"
     ]
    }
   ],
   "source": [
    "# À regarder puis jouer avec\n",
    "x=VolumeParAtome\n",
    "y=Ks\n",
    "def plot(x,y,func):\n",
    "    if func=='identité':\n",
    "        toplot=y\n",
    "    elif func=='inverse':\n",
    "        toplot=1./y\n",
    "    elif func=='log':\n",
    "        toplot=np.log(y)\n",
    "    elif func=='exp':\n",
    "        toplot=np.exp(y)\n",
    "    elif func=='1/sqrt':\n",
    "        toplot=np.sqrt(1./y)\n",
    "    elif func=='sqrt':\n",
    "        toplot=np.sqrt(y)\n",
    "    elif func=='carre':\n",
    "        toplot=y**2\n",
    "    else:\n",
    "        print(\"fonction par reconnue\")\n",
    "        toplot=y\n",
    "    fig=plt.figure()\n",
    "    ax=plt.subplot(111,xlabel='x', ylabel='y')\n",
    "    ax.scatter(x, toplot)\n",
    "    plt.show()\n",
    "#\n",
    "interact(plot,x=fixed(x), y=fixed(y), func=['identité','exp','sqrt','carre','log','inverse', '1/sqrt'])"
   ]
  },
  {
   "cell_type": "markdown",
   "metadata": {},
   "source": [
    "Pour mieux differencier les matériaux, il faut injecter plus d'informations dans note apprentissage automatique.\n",
    "Nous allons essayer d'obtenir des informations d'ordre chimique, sur le type d'éléments présents.\n",
    "\n",
    "Indirectement, cela contiendra aussi un peu d'information sur le type de liaisons chimiques présentes dans le matériaux. On peut comprendre intuitivement que les liaisons sont trés influentes. Chaque liaison est comme un ressort liant les constituents du matériau. Le module d'élasticité du matériau dépend fortemement de la rigidité de chaqun de ces ressort. Les détails de cette dépendence ne sont pas évidents (cela va dépendre aussi de l'orentation relative des ressorts, etc...), mais l'avantage de l'apprentissage automatique est que nous allons laisser la machine \"apprendre\" ces détails pour nous.\n",
    "\n",
    "\n",
    "Au long de l'exercise, nous allons construire des descripteurs de dimension de plus en plus grande, contenant de plus en plus d'information. Commencer par implémenter le descripteur suivant:\n",
    "\n",
    "- un vecteur à 2 dimensions contenant, pour chaque matériau, la proportion de métaux et de non-métaux. Plus précisement, prendre le nombre de non-métaux et diviser par le nombre d'atomes. Dans le tableau ci-dessous, les non métaux correspondent au coin en haut à droite, contenant les éléments de couleur: bleu (He), vert (comme N), vert-bleu (comme C), et marron (comme B). Les autres sont des métaux. \n",
    "\n",
    "Continuer l'exercise et effectuer la régréssion en associant ce descripteur au volume par atome \n",
    "\n",
    "Une fois cela fait, revenir ici et implementer un nouveau descripteur:\n",
    "\n",
    "- un descripteur à 7 dimensions contenant la proportion d'éléments chimiques dans chaque groupe indiqué par les couleurs du tableau des éléments ci-dessous. La proportion d'élément, c'est le nombre d'atomes appartenant à un certain groupe divisé par le nombre total d'atomes dans la cellule unitaire.\n",
    "\n",
    "encore une fois, continuer l'exercise et effectuer la régréssion en associant ce nouveau descripteur au volume par atome.\n",
    "\n",
    "Recommencer une dernière fois, si le temps le permet, avec un dernier descripteur:\n",
    "\n",
    "- un descripteur à $N$ dimensions ($N$ étant le nombre d'éléments différents présent dans la base de donnée) contenant la proportion de chaque élément. Donc le nombre d'atome d'un certain élément diviser par le nombre total d'atomes dans le cellule unitaire.\n"
   ]
  },
  {
   "cell_type": "markdown",
   "metadata": {},
   "source": [
    "![title](PT.png)"
   ]
  },
  {
   "cell_type": "code",
   "execution_count": 7,
   "metadata": {},
   "outputs": [],
   "source": [
    "# À faire\n",
    "\n",
    "# 1er descripteur:\n",
    "non_metaux = [1,7,8,9,17,35,53,5,14,32,33,51,52,6,15,16,34]\n",
    "\n",
    "des_nm=np.zeros((len(mats),2))\n",
    "for j,m in enumerate(mats):\n",
    "    nm=0\n",
    "    for e in m['species']:\n",
    "        if e in non_metaux:\n",
    "            nm+=1.\n",
    "    des_nm[j,0]= nm/Nat[j]\n",
    "    des_nm[j,1]= (Nat[j]-nm)/Nat[j]\n",
    "        \n",
    "\n",
    "# 2eme descripteur :\n",
    "groupes = { \n",
    "0 : [1,7,8,9,17,35,53], \n",
    "1 : [3,11,19,37,55],\n",
    "2 : [4,12,20,38,56],\n",
    "3 : [13,30,31,48,49,50,80,81,82,83],\n",
    "4 : [5,14,32,33,51,52], \n",
    "5 : [6,15,16,34], \n",
    "6 : [21,22,23,24,25,26,27,28,29,39,40,41,42,43,44,45,46,47,72,73,74,75,76,77,78,79]}\n",
    "\n",
    "des_groupe = np.zeros((len(mats),7))\n",
    "for j,m in enumerate(mats):\n",
    "    for e in m[\"species\"] :\n",
    "        for g,list_e in groupes.items() :\n",
    "            if e in list_e:\n",
    "                des_groupe[j,g]+=1./Nat[j]\n",
    "\n",
    "# 3eme Descripteur:\n",
    "# D'abord, on doit savoir quel éléments sont présents dans la base de donnée. \n",
    "# On crée une liste des éléments (unique) présent\n",
    "BD_elements = []\n",
    "for mat in mats:\n",
    "    for e in mat[\"species\"]:\n",
    "        if e not in BD_elements:\n",
    "            BD_elements.append(e)\n",
    "# on les ordonne par nombre atomique croissant\n",
    "BD_elements=sorted(BD_elements)\n",
    "            \n",
    "#le descripteur compte le nombre d'occurences de chaque élément dans \n",
    "# la liste d'atomes de la cellule unitaire. \n",
    "des_el = np.zeros((len(mats),len(BD_elements))) \n",
    "for j,m in enumerate(mats):\n",
    "    for e in m[\"species\"] :\n",
    "        des_el[j,BD_elements.index(e)] += 1./Nat[j]"
   ]
  },
  {
   "cell_type": "markdown",
   "metadata": {},
   "source": [
    "La ligne ci-dessous permet de définir rapidement le descripteur combinant VolumeParAtome et un autre descripteur multidimensionel. "
   ]
  },
  {
   "cell_type": "code",
   "execution_count": null,
   "metadata": {},
   "outputs": [],
   "source": [
    "X = np.column_stack((VolumeParAtome,des_el))"
   ]
  },
  {
   "cell_type": "markdown",
   "metadata": {},
   "source": [
    "# Régression linéaire\n",
    "\n",
    "On fourni les fonctions ci-dessous pour effectuer l'apprentissage. Regarder le code, et s'assurer que l'on comprend tout. Pour effectuer la régression linéaire en elle-mėme, on utilise la fonction minimize de la librairie scipy.optimize. C'est l'équivalent de l'algorithme que vous avez écrit dans l'intro, mais plus efficace et général. En particulier, il permet de gérer la présence d'un $b$ and $f(x)= ax+b$ et il n'est pas nécessaire de connaitre à priori l'interval dans lequel se trouve les pentes."
   ]
  },
  {
   "cell_type": "code",
   "execution_count": 8,
   "metadata": {},
   "outputs": [],
   "source": [
    "# À regarder\n",
    "from scipy.optimize import minimize\n",
    "\n",
    "# une fonction qui calcule la prédiction à partir des descripteurs et \n",
    "# des paramètre du modèle trouvé par régression.\n",
    "def Prediction(a,X):\n",
    "    pred = np.dot(X,a) # equivalent de y=a*x en plusieurs dimensions\n",
    "    return pred\n",
    "# Une fonction qui calcule le Cout associé à un vecteur de paramètres donné\n",
    "def Cout(a,y_true,X):\n",
    "    # valeur moyenne de la racine des differences au carrée\n",
    "    return np.sqrt(((y_true-Prediction(a,X))**2).mean()) \n",
    "\n",
    "# Une fonction qui sépare les données en 2 ensembles, un pour apprendre, \n",
    "# un pour tester (en proportion \"fac\"), puis \n",
    "# effectue la régression et retourne:\n",
    "# x_train, y_train: les données d'entrainement\n",
    "# x_test,y_test: les données de test\n",
    "# a_opt, y_pred: les paramètres trouvés et les prédictions du modèle\n",
    "def Apprentissage(X,Y,fac):\n",
    "    ######################  Préparation\n",
    "    # trouver le nombre totale de données \n",
    "    ntot=len(Y)\n",
    "    # en déduire le nombre de données d'entrainement avec \"fac\" \n",
    "    # (arrondir à l'entier en dessous)\n",
    "    ntrain = int(fac*ntot)\n",
    "    # Mélanger les indices pour faire un échantillonage aléatoire:\n",
    "    indices = np.arange(ntot)\n",
    "    np.random.shuffle(indices)\n",
    "    # En déduire les indices des ensemble d'entrainement et de test:\n",
    "    itest = indices[ntrain:]\n",
    "    itrain = indices[:ntrain]\n",
    "    # Définir les x_train, y_train, x_test, y_test:\n",
    "    x_train = X[itrain]\n",
    "    y_train = Y[itrain]\n",
    "    x_test=X[itest]\n",
    "    y_test=Y[itest]\n",
    "    #\n",
    "    #################################  Régression\n",
    "    # Générer des paramètres initiaux aléatoirement:\n",
    "    a0 = np.random.random(len(X[0]))\n",
    "    # Minimiser avec l'optimiseur scipy:\n",
    "    solution = minimize(lambda a: Cout(a,y_train,x_train),a0)\n",
    "    a_opt = solution.x\n",
    "    # Cela nous donne les paramètres du modèle... \n",
    "    # que l'on utilise pour trouver les prédictions:\n",
    "    y_pred=Prediction(a_opt,x_test)\n",
    "    #\n",
    "    ############################# Imprime quelques résultats\n",
    "    # paramètres:\n",
    "    print('paramètres du modèle: ', a_opt)\n",
    "    # Le Cout:\n",
    "    print(\"Cout: %.2f\"\n",
    "          % Cout(a_opt,y_test, x_test))\n",
    "    return x_train, y_train, x_test,y_test, a_opt, y_pred"
   ]
  },
  {
   "cell_type": "markdown",
   "metadata": {},
   "source": [
    "Effectuer l'apprentissage et regarder les résultats!"
   ]
  },
  {
   "cell_type": "code",
   "execution_count": 9,
   "metadata": {},
   "outputs": [
    {
     "name": "stdout",
     "output_type": "stream",
     "text": [
      "paramètres du modèle:  [ 0.00207369  0.24693816  0.16320826  0.07155823  0.04388999  0.04826564\n",
      "  0.02880855  0.0676561   0.04730371  0.21542361  0.10631676  0.06832068\n",
      "  0.05496483  0.06505201  0.04694238  0.15624427  0.20425248  0.13630999\n",
      "  0.06787997  0.04930055  0.0414036   0.04226865  0.05238998  0.0495185\n",
      "  0.0438343   0.04446532  0.06306629  0.07905116  0.094335    0.08849402\n",
      "  0.08209747  0.1061916   0.14606387  0.21748009  0.17683043  0.07475093\n",
      "  0.04838126  0.03180246  0.02834037  0.02845336  0.0214543   0.02630819\n",
      "  0.04023394  0.06620004  0.08916451  0.11645682  0.07522846  0.08038691\n",
      "  0.18208654  0.17988394  0.34662491  0.18525097  0.04082057  0.02940229\n",
      "  0.01877504  0.0151742   0.01221542  0.01571605  0.0240607   0.05009232\n",
      "  0.1336919   0.12926894  0.09412464  0.22745416]\n",
      "Cout: 0.02\n",
      "pourcentage d'erreur moyen sur module d'élasticité:  18.5816342103 %\n"
     ]
    },
    {
     "data": {
      "image/png": "[encoded data removed]",
      "text/plain": [
       "<matplotlib.figure.Figure at 0x7fb1d89b6ac8>"
      ]
     },
     "metadata": {},
     "output_type": "display_data"
    }
   ],
   "source": [
    "# À faire\n",
    "#\n",
    "# Définir la variable à prédire, en applicant \n",
    "# la meilleure transformation trouvée plus haut.\n",
    "Y=1./np.sqrt(Ks)\n",
    "#\n",
    "# Apprentissage\n",
    "x_train, y_train, x_test,y_test,a_opt, y_pred= Apprentissage(X,Y, 0.8)\n",
    "#\n",
    "# Récuperer le module d'élasticiteé \n",
    "# en appliquant la transformation inverse\n",
    "Ypred=1./(y_pred)**2\n",
    "Ytest=1./(y_test)**2\n",
    "\n",
    "#Calculer le pourcentage d'erreur moyen sur les prédictions\n",
    "err=np.mean(np.abs( Ypred - Ytest)/np.abs(Ytest)*100)\n",
    "print(\"pourcentage d'erreur moyen sur module d'élasticité: \", np.mean(err),\"%\")\n",
    "# plotter les résultat: élasticité prédit VS élasticité vraie!\n",
    "fig=plt.figure()\n",
    "ax=plt.subplot(111,xlabel='x', ylabel='y')\n",
    "ax.scatter(Ytest,Ypred)\n",
    "ax.scatter(Ytest,Ytest, c='orange')\n",
    "plt.show()"
   ]
  }
 ],
 "metadata": {
  "kernelspec": {
   "display_name": "Python 3",
   "language": "python",
   "name": "python3"
  },
  "language_info": {
   "codemirror_mode": {
    "name": "ipython",
    "version": 3
   },
   "file_extension": ".py",
   "mimetype": "text/x-python",
   "name": "python",
   "nbconvert_exporter": "python",
   "pygments_lexer": "ipython3",
   "version": "3.6.3"
  },
  "toc": {
   "nav_menu": {},
   "number_sections": true,
   "sideBar": true,
   "skip_h1_title": false,
   "title_cell": "Table of Contents",
   "title_sidebar": "Contents",
   "toc_cell": false,
   "toc_position": {},
   "toc_section_display": true,
   "toc_window_display": false
  },
  "widgets": {
   "application/vnd.jupyter.widget-state+json": {
    "state": {
     "0f004a8ff09d48b4aa03a3901b5f3d7b": {
      "model_module": "@jupyter-widgets/controls",
      "model_module_version": "1.0.0",
      "model_name": "DropdownModel",
      "state": {
       "_options_labels": [
        "identité",
        "exp",
        "sqrt",
        "carre",
        "log",
        "inverse",
        "1/sqrt"
       ],
       "description": "func",
       "index": 6,
       "layout": "IPY_MODEL_42d650471b134dc094e181adf25e08ee",
       "style": "IPY_MODEL_d7a99ba9594a42e892847f99a83d28be"
      }
     },
     "1b503374652d4150a3a60ef669c9eb7a": {
      "model_module": "@jupyter-widgets/base",
      "model_module_version": "1.0.0",
      "model_name": "LayoutModel",
      "state": {}
     },
     "2f3310f0aece4d519e315ec2cddf17e2": {
      "model_module": "@jupyter-widgets/controls",
      "model_module_version": "1.0.0",
      "model_name": "VBoxModel",
      "state": {
       "_dom_classes": [
        "widget-interact"
       ],
       "children": [
        "IPY_MODEL_0f004a8ff09d48b4aa03a3901b5f3d7b",
        "IPY_MODEL_f75fec1cdbbf4237821d59bf5a08261a"
       ],
       "layout": "IPY_MODEL_af2e8c39c17845a4a5ef50300c22e736"
      }
     },
     "3b508cb4d5a048d7841a3982d047886e": {
      "model_module": "@jupyter-widgets/controls",
      "model_module_version": "1.0.0",
      "model_name": "ImageModel",
      "state": {
       "layout": "IPY_MODEL_1b503374652d4150a3a60ef669c9eb7a",
       "value": {},
       "width": "900.0"
      }
     },
     "42d650471b134dc094e181adf25e08ee": {
      "model_module": "@jupyter-widgets/base",
      "model_module_version": "1.0.0",
      "model_name": "LayoutModel",
      "state": {}
     },
     "66fb9eae3a0c446693c2dd35ed67955c": {
      "model_module": "@jupyter-widgets/base",
      "model_module_version": "1.0.0",
      "model_name": "LayoutModel",
      "state": {}
     },
     "af2e8c39c17845a4a5ef50300c22e736": {
      "model_module": "@jupyter-widgets/base",
      "model_module_version": "1.0.0",
      "model_name": "LayoutModel",
      "state": {}
     },
     "d380135f1a5241b38635318b7df85fe8": {
      "model_module": "@jupyter-widgets/base",
      "model_module_version": "1.0.0",
      "model_name": "LayoutModel",
      "state": {}
     },
     "d435e0455113443fa49699ed98ef1966": {
      "model_module": "nglview-js-widgets",
      "model_module_version": "0.5.4-dev.27",
      "model_name": "NGLModel",
      "state": {
       "_camera_orientation": [
        16.203229959389006,
        0.7983060813902902,
        -14.726660180389691,
        0,
        0.4682812570453366,
        21.839190804717973,
        1.6990972439865504,
        0,
        14.740845475499698,
        -1.5712816999627832,
        16.1336611552339,
        0,
        -5.1020002365112305,
        -5.1020002365112305,
        -5.1020002365112305,
        1
       ],
       "_camera_str": "orthographic",
       "_image_data": "",
       "_n_dragged_files": 0,
       "_ngl_coordinate_resource": {},
       "_ngl_full_stage_parameters": {
        "ambientColor": 14540253,
        "ambientIntensity": 0.2,
        "backgroundColor": "white",
        "cameraFov": 40,
        "cameraType": "perspective",
        "clipDist": 10,
        "clipFar": 100,
        "clipNear": 0,
        "fogFar": 100,
        "fogNear": 50,
        "hoverTimeout": 0,
        "impostor": true,
        "lightColor": 14540253,
        "lightIntensity": 1,
        "mousePreset": "default",
        "panSpeed": 1,
        "quality": "medium",
        "rotateSpeed": 2,
        "sampleLevel": 0,
        "tooltip": true,
        "workerDefault": true,
        "zoomSpeed": 1.2
       },
       "_ngl_full_stage_parameters_embed": {},
       "_ngl_msg_archive": [],
       "_ngl_original_stage_parameters": {
        "ambientColor": 14540253,
        "ambientIntensity": 0.2,
        "backgroundColor": "white",
        "cameraFov": 40,
        "cameraType": "perspective",
        "clipDist": 10,
        "clipFar": 100,
        "clipNear": 0,
        "fogFar": 100,
        "fogNear": 50,
        "hoverTimeout": 0,
        "impostor": true,
        "lightColor": 14540253,
        "lightIntensity": 1,
        "mousePreset": "default",
        "panSpeed": 1,
        "quality": "medium",
        "rotateSpeed": 2,
        "sampleLevel": 0,
        "tooltip": true,
        "workerDefault": true,
        "zoomSpeed": 1.2
       },
       "_ngl_repr_dict": {
        "0": {
         "0": {
          "params": {
           "aspectRatio": 4,
           "assembly": "default",
           "bondScale": 0.4,
           "bondSpacing": 1,
           "clipCenter": {
            "x": 0,
            "y": 0,
            "z": 0
           },
           "clipNear": 0,
           "clipRadius": 0,
           "colorMode": "hcl",
           "colorReverse": false,
           "colorScale": "",
           "colorScheme": "element",
           "colorValue": 9474192,
           "cylinderOnly": false,
           "defaultAssembly": "",
           "depthWrite": true,
           "diffuse": 16777215,
           "disableImpostor": false,
           "disablePicking": false,
           "flatShaded": false,
           "lazy": false,
           "lineOnly": false,
           "linewidth": 2,
           "matrix": {
            "elements": [
             1,
             0,
             0,
             0,
             0,
             1,
             0,
             0,
             0,
             0,
             1,
             0,
             0,
             0,
             0,
             1
            ]
           },
           "metalness": 0,
           "multipleBond": "off",
           "opacity": 1,
           "openEnded": true,
           "quality": "medium",
           "radialSegments": 10,
           "radius": 0.15,
           "roughness": 0.4,
           "scale": 1,
           "sele": "all",
           "side": "double",
           "sphereDetail": 1,
           "visible": true,
           "wireframe": false
          },
          "type": "ball+stick"
         }
        }
       },
       "_ngl_serialize": false,
       "_ngl_version": "1.0.0-beta.4",
       "_scene_position": {},
       "_scene_rotation": {},
       "background": "white",
       "count": 1,
       "frame": 0,
       "layout": "IPY_MODEL_66fb9eae3a0c446693c2dd35ed67955c",
       "n_components": 1,
       "picked": {}
      }
     },
     "d7a99ba9594a42e892847f99a83d28be": {
      "model_module": "@jupyter-widgets/controls",
      "model_module_version": "1.0.0",
      "model_name": "DescriptionStyleModel",
      "state": {
       "description_width": ""
      }
     },
     "f75fec1cdbbf4237821d59bf5a08261a": {
      "model_module": "@jupyter-widgets/output",
      "model_module_version": "1.0.0",
      "model_name": "OutputModel",
      "state": {
       "layout": "IPY_MODEL_d380135f1a5241b38635318b7df85fe8",
       "outputs": [
        {
         "data": {
          "application/javascript": "/* Put everything inside the global mpl namespace */\nwindow.mpl = {};\n\n\nmpl.get_websocket_type = function() {\n    if (typeof(WebSocket) !== 'undefined') {\n        return WebSocket;\n    } else if (typeof(MozWebSocket) !== 'undefined') {\n        return MozWebSocket;\n    } else {\n        alert('Your browser does not have WebSocket support.' +\n              'Please try Chrome, Safari or Firefox ≥ 6. ' +\n              'Firefox 4 and 5 are also supported but you ' +\n              'have to enable WebSockets in about:config.');\n    };\n}\n\nmpl.figure = function(figure_id, websocket, ondownload, parent_element) {\n    this.id = figure_id;\n\n    this.ws = websocket;\n\n    this.supports_binary = (this.ws.binaryType != undefined);\n\n    if (!this.supports_binary) {\n        var warnings = document.getElementById(\"mpl-warnings\");\n        if (warnings) {\n            warnings.style.display = 'block';\n            warnings.textContent = (\n                \"This browser does not support binary websocket messages. \" +\n                    \"Performance may be slow.\");\n        }\n    }\n\n    this.imageObj = new Image();\n\n    this.context = undefined;\n    this.message = undefined;\n    this.canvas = undefined;\n    this.rubberband_canvas = undefined;\n    this.rubberband_context = undefined;\n    this.format_dropdown = undefined;\n\n    this.image_mode = 'full';\n\n    this.root = $('<div/>');\n    this._root_extra_style(this.root)\n    this.root.attr('style', 'display: inline-block');\n\n    $(parent_element).append(this.root);\n\n    this._init_header(this);\n    this._init_canvas(this);\n    this._init_toolbar(this);\n\n    var fig = this;\n\n    this.waiting = false;\n\n    this.ws.onopen =  function () {\n            fig.send_message(\"supports_binary\", {value: fig.supports_binary});\n            fig.send_message(\"send_image_mode\", {});\n            if (mpl.ratio != 1) {\n                fig.send_message(\"set_dpi_ratio\", {'dpi_ratio': mpl.ratio});\n            }\n            fig.send_message(\"refresh\", {});\n        }\n\n    this.imageObj.onload = function() {\n            if (fig.image_mode == 'full') {\n                // Full images could contain transparency (where diff images\n                // almost always do), so we need to clear the canvas so that\n                // there is no ghosting.\n                fig.context.clearRect(0, 0, fig.canvas.width, fig.canvas.height);\n            }\n            fig.context.drawImage(fig.imageObj, 0, 0);\n        };\n\n    this.imageObj.onunload = function() {\n        this.ws.close();\n    }\n\n    this.ws.onmessage = this._make_on_message_function(this);\n\n    this.ondownload = ondownload;\n}\n\nmpl.figure.prototype._init_header = function() {\n    var titlebar = $(\n        '<div class=\"ui-dialog-titlebar ui-widget-header ui-corner-all ' +\n        'ui-helper-clearfix\"/>');\n    var titletext = $(\n        '<div class=\"ui-dialog-title\" style=\"width: 100%; ' +\n        'text-align: center; padding: 3px;\"/>');\n    titlebar.append(titletext)\n    this.root.append(titlebar);\n    this.header = titletext[0];\n}\n\n\n\nmpl.figure.prototype._canvas_extra_style = function(canvas_div) {\n\n}\n\n\nmpl.figure.prototype._root_extra_style = function(canvas_div) {\n\n}\n\nmpl.figure.prototype._init_canvas = function() {\n    var fig = this;\n\n    var canvas_div = $('<div/>');\n\n    canvas_div.attr('style', 'position: relative; clear: both; outline: 0');\n\n    function canvas_keyboard_event(event) {\n        return fig.key_event(event, event['data']);\n    }\n\n    canvas_div.keydown('key_press', canvas_keyboard_event);\n    canvas_div.keyup('key_release', canvas_keyboard_event);\n    this.canvas_div = canvas_div\n    this._canvas_extra_style(canvas_div)\n    this.root.append(canvas_div);\n\n    var canvas = $('<canvas/>');\n    canvas.addClass('mpl-canvas');\n    canvas.attr('style', \"left: 0; top: 0; z-index: 0; outline: 0\")\n\n    this.canvas = canvas[0];\n    this.context = canvas[0].getContext(\"2d\");\n\n    var backingStore = this.context.backingStorePixelRatio ||\n\tthis.context.webkitBackingStorePixelRatio ||\n\tthis.context.mozBackingStorePixelRatio ||\n\tthis.context.msBackingStorePixelRatio ||\n\tthis.context.oBackingStorePixelRatio ||\n\tthis.context.backingStorePixelRatio || 1;\n\n    mpl.ratio = (window.devicePixelRatio || 1) / backingStore;\n\n    var rubberband = $('<canvas/>');\n    rubberband.attr('style', \"position: absolute; left: 0; top: 0; z-index: 1;\")\n\n    var pass_mouse_events = true;\n\n    canvas_div.resizable({\n        start: function(event, ui) {\n            pass_mouse_events = false;\n        },\n        resize: function(event, ui) {\n            fig.request_resize(ui.size.width, ui.size.height);\n        },\n        stop: function(event, ui) {\n            pass_mouse_events = true;\n            fig.request_resize(ui.size.width, ui.size.height);\n        },\n    });\n\n    function mouse_event_fn(event) {\n        if (pass_mouse_events)\n            return fig.mouse_event(event, event['data']);\n    }\n\n    rubberband.mousedown('button_press', mouse_event_fn);\n    rubberband.mouseup('button_release', mouse_event_fn);\n    // Throttle sequential mouse events to 1 every 20ms.\n    rubberband.mousemove('motion_notify', mouse_event_fn);\n\n    rubberband.mouseenter('figure_enter', mouse_event_fn);\n    rubberband.mouseleave('figure_leave', mouse_event_fn);\n\n    canvas_div.on(\"wheel\", function (event) {\n        event = event.originalEvent;\n        event['data'] = 'scroll'\n        if (event.deltaY < 0) {\n            event.step = 1;\n        } else {\n            event.step = -1;\n        }\n        mouse_event_fn(event);\n    });\n\n    canvas_div.append(canvas);\n    canvas_div.append(rubberband);\n\n    this.rubberband = rubberband;\n    this.rubberband_canvas = rubberband[0];\n    this.rubberband_context = rubberband[0].getContext(\"2d\");\n    this.rubberband_context.strokeStyle = \"#000000\";\n\n    this._resize_canvas = function(width, height) {\n        // Keep the size of the canvas, canvas container, and rubber band\n        // canvas in synch.\n        canvas_div.css('width', width)\n        canvas_div.css('height', height)\n\n        canvas.attr('width', width * mpl.ratio);\n        canvas.attr('height', height * mpl.ratio);\n        canvas.attr('style', 'width: ' + width + 'px; height: ' + height + 'px;');\n\n        rubberband.attr('width', width);\n        rubberband.attr('height', height);\n    }\n\n    // Set the figure to an initial 600x600px, this will subsequently be updated\n    // upon first draw.\n    this._resize_canvas(600, 600);\n\n    // Disable right mouse context menu.\n    $(this.rubberband_canvas).bind(\"contextmenu\",function(e){\n        return false;\n    });\n\n    function set_focus () {\n        canvas.focus();\n        canvas_div.focus();\n    }\n\n    window.setTimeout(set_focus, 100);\n}\n\nmpl.figure.prototype._init_toolbar = function() {\n    var fig = this;\n\n    var nav_element = $('<div/>')\n    nav_element.attr('style', 'width: 100%');\n    this.root.append(nav_element);\n\n    // Define a callback function for later on.\n    function toolbar_event(event) {\n        return fig.toolbar_button_onclick(event['data']);\n    }\n    function toolbar_mouse_event(event) {\n        return fig.toolbar_button_onmouseover(event['data']);\n    }\n\n    for(var toolbar_ind in mpl.toolbar_items) {\n        var name = mpl.toolbar_items[toolbar_ind][0];\n        var tooltip = mpl.toolbar_items[toolbar_ind][1];\n        var image = mpl.toolbar_items[toolbar_ind][2];\n        var method_name = mpl.toolbar_items[toolbar_ind][3];\n\n        if (!name) {\n            // put a spacer in here.\n            continue;\n        }\n        var button = $('<button/>');\n        button.addClass('ui-button ui-widget ui-state-default ui-corner-all ' +\n                        'ui-button-icon-only');\n        button.attr('role', 'button');\n        button.attr('aria-disabled', 'false');\n        button.click(method_name, toolbar_event);\n        button.mouseover(tooltip, toolbar_mouse_event);\n\n        var icon_img = $('<span/>');\n        icon_img.addClass('ui-button-icon-primary ui-icon');\n        icon_img.addClass(image);\n        icon_img.addClass('ui-corner-all');\n\n        var tooltip_span = $('<span/>');\n        tooltip_span.addClass('ui-button-text');\n        tooltip_span.html(tooltip);\n\n        button.append(icon_img);\n        button.append(tooltip_span);\n\n        nav_element.append(button);\n    }\n\n    var fmt_picker_span = $('<span/>');\n\n    var fmt_picker = $('<select/>');\n    fmt_picker.addClass('mpl-toolbar-option ui-widget ui-widget-content');\n    fmt_picker_span.append(fmt_picker);\n    nav_element.append(fmt_picker_span);\n    this.format_dropdown = fmt_picker[0];\n\n    for (var ind in mpl.extensions) {\n        var fmt = mpl.extensions[ind];\n        var option = $(\n            '<option/>', {selected: fmt === mpl.default_extension}).html(fmt);\n        fmt_picker.append(option)\n    }\n\n    // Add hover states to the ui-buttons\n    $( \".ui-button\" ).hover(\n        function() { $(this).addClass(\"ui-state-hover\");},\n        function() { $(this).removeClass(\"ui-state-hover\");}\n    );\n\n    var status_bar = $('<span class=\"mpl-message\"/>');\n    nav_element.append(status_bar);\n    this.message = status_bar[0];\n}\n\nmpl.figure.prototype.request_resize = function(x_pixels, y_pixels) {\n    // Request matplotlib to resize the figure. Matplotlib will then trigger a resize in the client,\n    // which will in turn request a refresh of the image.\n    this.send_message('resize', {'width': x_pixels, 'height': y_pixels});\n}\n\nmpl.figure.prototype.send_message = function(type, properties) {\n    properties['type'] = type;\n    properties['figure_id'] = this.id;\n    this.ws.send(JSON.stringify(properties));\n}\n\nmpl.figure.prototype.send_draw_message = function() {\n    if (!this.waiting) {\n        this.waiting = true;\n        this.ws.send(JSON.stringify({type: \"draw\", figure_id: this.id}));\n    }\n}\n\n\nmpl.figure.prototype.handle_save = function(fig, msg) {\n    var format_dropdown = fig.format_dropdown;\n    var format = format_dropdown.options[format_dropdown.selectedIndex].value;\n    fig.ondownload(fig, format);\n}\n\n\nmpl.figure.prototype.handle_resize = function(fig, msg) {\n    var size = msg['size'];\n    if (size[0] != fig.canvas.width || size[1] != fig.canvas.height) {\n        fig._resize_canvas(size[0], size[1]);\n        fig.send_message(\"refresh\", {});\n    };\n}\n\nmpl.figure.prototype.handle_rubberband = function(fig, msg) {\n    var x0 = msg['x0'] / mpl.ratio;\n    var y0 = (fig.canvas.height - msg['y0']) / mpl.ratio;\n    var x1 = msg['x1'] / mpl.ratio;\n    var y1 = (fig.canvas.height - msg['y1']) / mpl.ratio;\n    x0 = Math.floor(x0) + 0.5;\n    y0 = Math.floor(y0) + 0.5;\n    x1 = Math.floor(x1) + 0.5;\n    y1 = Math.floor(y1) + 0.5;\n    var min_x = Math.min(x0, x1);\n    var min_y = Math.min(y0, y1);\n    var width = Math.abs(x1 - x0);\n    var height = Math.abs(y1 - y0);\n\n    fig.rubberband_context.clearRect(\n        0, 0, fig.canvas.width, fig.canvas.height);\n\n    fig.rubberband_context.strokeRect(min_x, min_y, width, height);\n}\n\nmpl.figure.prototype.handle_figure_label = function(fig, msg) {\n    // Updates the figure title.\n    fig.header.textContent = msg['label'];\n}\n\nmpl.figure.prototype.handle_cursor = function(fig, msg) {\n    var cursor = msg['cursor'];\n    switch(cursor)\n    {\n    case 0:\n        cursor = 'pointer';\n        break;\n    case 1:\n        cursor = 'default';\n        break;\n    case 2:\n        cursor = 'crosshair';\n        break;\n    case 3:\n        cursor = 'move';\n        break;\n    }\n    fig.rubberband_canvas.style.cursor = cursor;\n}\n\nmpl.figure.prototype.handle_message = function(fig, msg) {\n    fig.message.textContent = msg['message'];\n}\n\nmpl.figure.prototype.handle_draw = function(fig, msg) {\n    // Request the server to send over a new figure.\n    fig.send_draw_message();\n}\n\nmpl.figure.prototype.handle_image_mode = function(fig, msg) {\n    fig.image_mode = msg['mode'];\n}\n\nmpl.figure.prototype.updated_canvas_event = function() {\n    // Called whenever the canvas gets updated.\n    this.send_message(\"ack\", {});\n}\n\n// A function to construct a web socket function for onmessage handling.\n// Called in the figure constructor.\nmpl.figure.prototype._make_on_message_function = function(fig) {\n    return function socket_on_message(evt) {\n        if (evt.data instanceof Blob) {\n            /* FIXME: We get \"Resource interpreted as Image but\n             * transferred with MIME type text/plain:\" errors on\n             * Chrome.  But how to set the MIME type?  It doesn't seem\n             * to be part of the websocket stream */\n            evt.data.type = \"image/png\";\n\n            /* Free the memory for the previous frames */\n            if (fig.imageObj.src) {\n                (window.URL || window.webkitURL).revokeObjectURL(\n                    fig.imageObj.src);\n            }\n\n            fig.imageObj.src = (window.URL || window.webkitURL).createObjectURL(\n                evt.data);\n            fig.updated_canvas_event();\n            fig.waiting = false;\n            return;\n        }\n        else if (typeof evt.data === 'string' && evt.data.slice(0, 21) == \"data:image/png;base64\") {\n            fig.imageObj.src = evt.data;\n            fig.updated_canvas_event();\n            fig.waiting = false;\n            return;\n        }\n\n        var msg = JSON.parse(evt.data);\n        var msg_type = msg['type'];\n\n        // Call the  \"handle_{type}\" callback, which takes\n        // the figure and JSON message as its only arguments.\n        try {\n            var callback = fig[\"handle_\" + msg_type];\n        } catch (e) {\n            console.log(\"No handler for the '\" + msg_type + \"' message type: \", msg);\n            return;\n        }\n\n        if (callback) {\n            try {\n                // console.log(\"Handling '\" + msg_type + \"' message: \", msg);\n                callback(fig, msg);\n            } catch (e) {\n                console.log(\"Exception inside the 'handler_\" + msg_type + \"' callback:\", e, e.stack, msg);\n            }\n        }\n    };\n}\n\n// from http://stackoverflow.com/questions/1114465/getting-mouse-location-in-canvas\nmpl.findpos = function(e) {\n    //this section is from http://www.quirksmode.org/js/events_properties.html\n    var targ;\n    if (!e)\n        e = window.event;\n    if (e.target)\n        targ = e.target;\n    else if (e.srcElement)\n        targ = e.srcElement;\n    if (targ.nodeType == 3) // defeat Safari bug\n        targ = targ.parentNode;\n\n    // jQuery normalizes the pageX and pageY\n    // pageX,Y are the mouse positions relative to the document\n    // offset() returns the position of the element relative to the document\n    var x = e.pageX - $(targ).offset().left;\n    var y = e.pageY - $(targ).offset().top;\n\n    return {\"x\": x, \"y\": y};\n};\n\n/*\n * return a copy of an object with only non-object keys\n * we need this to avoid circular references\n * http://stackoverflow.com/a/24161582/3208463\n */\nfunction simpleKeys (original) {\n  return Object.keys(original).reduce(function (obj, key) {\n    if (typeof original[key] !== 'object')\n        obj[key] = original[key]\n    return obj;\n  }, {});\n}\n\nmpl.figure.prototype.mouse_event = function(event, name) {\n    var canvas_pos = mpl.findpos(event)\n\n    if (name === 'button_press')\n    {\n        this.canvas.focus();\n        this.canvas_div.focus();\n    }\n\n    var x = canvas_pos.x * mpl.ratio;\n    var y = canvas_pos.y * mpl.ratio;\n\n    this.send_message(name, {x: x, y: y, button: event.button,\n                             step: event.step,\n                             guiEvent: simpleKeys(event)});\n\n    /* This prevents the web browser from automatically changing to\n     * the text insertion cursor when the button is pressed.  We want\n     * to control all of the cursor setting manually through the\n     * 'cursor' event from matplotlib */\n    event.preventDefault();\n    return false;\n}\n\nmpl.figure.prototype._key_event_extra = function(event, name) {\n    // Handle any extra behaviour associated with a key event\n}\n\nmpl.figure.prototype.key_event = function(event, name) {\n\n    // Prevent repeat events\n    if (name == 'key_press')\n    {\n        if (event.which === this._key)\n            return;\n        else\n            this._key = event.which;\n    }\n    if (name == 'key_release')\n        this._key = null;\n\n    var value = '';\n    if (event.ctrlKey && event.which != 17)\n        value += \"ctrl+\";\n    if (event.altKey && event.which != 18)\n        value += \"alt+\";\n    if (event.shiftKey && event.which != 16)\n        value += \"shift+\";\n\n    value += 'k';\n    value += event.which.toString();\n\n    this._key_event_extra(event, name);\n\n    this.send_message(name, {key: value,\n                             guiEvent: simpleKeys(event)});\n    return false;\n}\n\nmpl.figure.prototype.toolbar_button_onclick = function(name) {\n    if (name == 'download') {\n        this.handle_save(this, null);\n    } else {\n        this.send_message(\"toolbar_button\", {name: name});\n    }\n};\n\nmpl.figure.prototype.toolbar_button_onmouseover = function(tooltip) {\n    this.message.textContent = tooltip;\n};\nmpl.toolbar_items = [[\"Home\", \"Reset original view\", \"fa fa-home icon-home\", \"home\"], [\"Back\", \"Back to  previous view\", \"fa fa-arrow-left icon-arrow-left\", \"back\"], [\"Forward\", \"Forward to next view\", \"fa fa-arrow-right icon-arrow-right\", \"forward\"], [\"\", \"\", \"\", \"\"], [\"Pan\", \"Pan axes with left mouse, zoom with right\", \"fa fa-arrows icon-move\", \"pan\"], [\"Zoom\", \"Zoom to rectangle\", \"fa fa-square-o icon-check-empty\", \"zoom\"], [\"\", \"\", \"\", \"\"], [\"Download\", \"Download plot\", \"fa fa-floppy-o icon-save\", \"download\"]];\n\nmpl.extensions = [\"eps\", \"jpeg\", \"pdf\", \"png\", \"ps\", \"raw\", \"svg\", \"tif\"];\n\nmpl.default_extension = \"png\";var comm_websocket_adapter = function(comm) {\n    // Create a \"websocket\"-like object which calls the given IPython comm\n    // object with the appropriate methods. Currently this is a non binary\n    // socket, so there is still some room for performance tuning.\n    var ws = {};\n\n    ws.close = function() {\n        comm.close()\n    };\n    ws.send = function(m) {\n        //console.log('sending', m);\n        comm.send(m);\n    };\n    // Register the callback with on_msg.\n    comm.on_msg(function(msg) {\n        //console.log('receiving', msg['content']['data'], msg);\n        // Pass the mpl event to the overriden (by mpl) onmessage function.\n        ws.onmessage(msg['content']['data'])\n    });\n    return ws;\n}\n\nmpl.mpl_figure_comm = function(comm, msg) {\n    // This is the function which gets called when the mpl process\n    // starts-up an IPython Comm through the \"matplotlib\" channel.\n\n    var id = msg.content.data.id;\n    // Get hold of the div created by the display call when the Comm\n    // socket was opened in Python.\n    var element = $(\"#\" + id);\n    var ws_proxy = comm_websocket_adapter(comm)\n\n    function ondownload(figure, format) {\n        window.open(figure.imageObj.src);\n    }\n\n    var fig = new mpl.figure(id, ws_proxy,\n                           ondownload,\n                           element.get(0));\n\n    // Call onopen now - mpl needs it, as it is assuming we've passed it a real\n    // web socket which is closed, not our websocket->open comm proxy.\n    ws_proxy.onopen();\n\n    fig.parent_element = element.get(0);\n    fig.cell_info = mpl.find_output_cell(\"<div id='\" + id + \"'></div>\");\n    if (!fig.cell_info) {\n        console.error(\"Failed to find cell for figure\", id, fig);\n        return;\n    }\n\n    var output_index = fig.cell_info[2]\n    var cell = fig.cell_info[0];\n\n};\n\nmpl.figure.prototype.handle_close = function(fig, msg) {\n    var width = fig.canvas.width/mpl.ratio\n    fig.root.unbind('remove')\n\n    // Update the output cell to use the data from the current canvas.\n    fig.push_to_output();\n    var dataURL = fig.canvas.toDataURL();\n    // Re-enable the keyboard manager in IPython - without this line, in FF,\n    // the notebook keyboard shortcuts fail.\n    IPython.keyboard_manager.enable()\n    $(fig.parent_element).html('<img src=\"' + dataURL + '\" width=\"' + width + '\">');\n    fig.close_ws(fig, msg);\n}\n\nmpl.figure.prototype.close_ws = function(fig, msg){\n    fig.send_message('closing', msg);\n    // fig.ws.close()\n}\n\nmpl.figure.prototype.push_to_output = function(remove_interactive) {\n    // Turn the data on the canvas into data in the output cell.\n    var width = this.canvas.width/mpl.ratio\n    var dataURL = this.canvas.toDataURL();\n    this.cell_info[1]['text/html'] = '<img src=\"' + dataURL + '\" width=\"' + width + '\">';\n}\n\nmpl.figure.prototype.updated_canvas_event = function() {\n    // Tell IPython that the notebook contents must change.\n    IPython.notebook.set_dirty(true);\n    this.send_message(\"ack\", {});\n    var fig = this;\n    // Wait a second, then push the new image to the DOM so\n    // that it is saved nicely (might be nice to debounce this).\n    setTimeout(function () { fig.push_to_output() }, 1000);\n}\n\nmpl.figure.prototype._init_toolbar = function() {\n    var fig = this;\n\n    var nav_element = $('<div/>')\n    nav_element.attr('style', 'width: 100%');\n    this.root.append(nav_element);\n\n    // Define a callback function for later on.\n    function toolbar_event(event) {\n        return fig.toolbar_button_onclick(event['data']);\n    }\n    function toolbar_mouse_event(event) {\n        return fig.toolbar_button_onmouseover(event['data']);\n    }\n\n    for(var toolbar_ind in mpl.toolbar_items){\n        var name = mpl.toolbar_items[toolbar_ind][0];\n        var tooltip = mpl.toolbar_items[toolbar_ind][1];\n        var image = mpl.toolbar_items[toolbar_ind][2];\n        var method_name = mpl.toolbar_items[toolbar_ind][3];\n\n        if (!name) { continue; };\n\n        var button = $('<button class=\"btn btn-default\" href=\"#\" title=\"' + name + '\"><i class=\"fa ' + image + ' fa-lg\"></i></button>');\n        button.click(method_name, toolbar_event);\n        button.mouseover(tooltip, toolbar_mouse_event);\n        nav_element.append(button);\n    }\n\n    // Add the status bar.\n    var status_bar = $('<span class=\"mpl-message\" style=\"text-align:right; float: right;\"/>');\n    nav_element.append(status_bar);\n    this.message = status_bar[0];\n\n    // Add the close button to the window.\n    var buttongrp = $('<div class=\"btn-group inline pull-right\"></div>');\n    var button = $('<button class=\"btn btn-mini btn-primary\" href=\"#\" title=\"Stop Interaction\"><i class=\"fa fa-power-off icon-remove icon-large\"></i></button>');\n    button.click(function (evt) { fig.handle_close(fig, {}); } );\n    button.mouseover('Stop Interaction', toolbar_mouse_event);\n    buttongrp.append(button);\n    var titlebar = this.root.find($('.ui-dialog-titlebar'));\n    titlebar.prepend(buttongrp);\n}\n\nmpl.figure.prototype._root_extra_style = function(el){\n    var fig = this\n    el.on(\"remove\", function(){\n\tfig.close_ws(fig, {});\n    });\n}\n\nmpl.figure.prototype._canvas_extra_style = function(el){\n    // this is important to make the div 'focusable\n    el.attr('tabindex', 0)\n    // reach out to IPython and tell the keyboard manager to turn it's self\n    // off when our div gets focus\n\n    // location in version 3\n    if (IPython.notebook.keyboard_manager) {\n        IPython.notebook.keyboard_manager.register_events(el);\n    }\n    else {\n        // location in version 2\n        IPython.keyboard_manager.register_events(el);\n    }\n\n}\n\nmpl.figure.prototype._key_event_extra = function(event, name) {\n    var manager = IPython.notebook.keyboard_manager;\n    if (!manager)\n        manager = IPython.keyboard_manager;\n\n    // Check for shift+enter\n    if (event.shiftKey && event.which == 13) {\n        this.canvas_div.blur();\n        // select the cell after this one\n        var index = IPython.notebook.find_cell_index(this.cell_info[0]);\n        IPython.notebook.select(index + 1);\n    }\n}\n\nmpl.figure.prototype.handle_save = function(fig, msg) {\n    fig.ondownload(fig, null);\n}\n\n\nmpl.find_output_cell = function(html_output) {\n    // Return the cell and output element which can be found *uniquely* in the notebook.\n    // Note - this is a bit hacky, but it is done because the \"notebook_saving.Notebook\"\n    // IPython event is triggered only after the cells have been serialised, which for\n    // our purposes (turning an active figure into a static one), is too late.\n    var cells = IPython.notebook.get_cells();\n    var ncells = cells.length;\n    for (var i=0; i<ncells; i++) {\n        var cell = cells[i];\n        if (cell.cell_type === 'code'){\n            for (var j=0; j<cell.output_area.outputs.length; j++) {\n                var data = cell.output_area.outputs[j];\n                if (data.data) {\n                    // IPython >= 3 moved mimebundle to data attribute of output\n                    data = data.data;\n                }\n                if (data['text/html'] == html_output) {\n                    return [cell, data, j];\n                }\n            }\n        }\n    }\n}\n\n// Register the function which deals with the matplotlib target/channel.\n// The kernel may be null if the page has been refreshed.\nif (IPython.notebook.kernel != null) {\n    IPython.notebook.kernel.comm_manager.register_target('matplotlib', mpl.mpl_figure_comm);\n}\n",
          "text/plain": "<IPython.core.display.Javascript object>"
         },
         "metadata": {},
         "output_type": "display_data"
        },
        {
         "data": {
          "text/html": "<div id='6ab5ca37-1cdd-439c-9144-6c0dd1163b4c'></div>",
          "text/plain": "<IPython.core.display.HTML object>"
         },
         "metadata": {},
         "output_type": "display_data"
        }
       ]
      }
     }
    },
    "version_major": 2,
    "version_minor": 0
   }
  }
 },
 "nbformat": 4,
 "nbformat_minor": 1
}
