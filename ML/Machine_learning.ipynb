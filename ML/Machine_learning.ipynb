{
 "cells": [
  {
   "cell_type": "code",
   "execution_count": 4,
   "metadata": {},
   "outputs": [],
   "source": [
    "import numpy as np\n",
    "import scipy.io as sio\n",
    "import ase\n",
    "from ase.io import read\n",
    "from lib import ase_view, traj_view\n",
    "import matplotlib.pyplot as plt\n",
    "import json"
   ]
  },
  {
   "cell_type": "markdown",
   "metadata": {},
   "source": [
    "# Import data / read a dictionary"
   ]
  },
  {
   "cell_type": "code",
   "execution_count": 2,
   "metadata": {
    "scrolled": true
   },
   "outputs": [
    {
     "data": {
      "application/vnd.jupyter.widget-view+json": {
       "model_id": "4ccde7c99be34a4f8a985039257b5c17",
       "version_major": 2,
       "version_minor": 0
      },
      "text/plain": [
       "A Jupyter Widget"
      ]
     },
     "metadata": {},
     "output_type": "display_data"
    },
    {
     "data": {
      "application/vnd.jupyter.widget-view+json": {
       "model_id": "32ebc1db9ca24bf6a99c0f488168d464",
       "version_major": 2,
       "version_minor": 0
      },
      "text/plain": [
       "A Jupyter Widget"
      ]
     },
     "metadata": {},
     "output_type": "display_data"
    }
   ],
   "source": [
    "#Import a structure and view it\n",
    "PbO=read(\"./PbO.xsf\")\n",
    "ase_view(PbO*(5,5,1))"
   ]
  },
  {
   "cell_type": "code",
   "execution_count": 6,
   "metadata": {},
   "outputs": [
    {
     "data": {
      "text/plain": [
       "dict_keys(['__header__', '__version__', '__globals__', 'X', 'R', 'Z', 'T', 'P'])"
      ]
     },
     "execution_count": 6,
     "metadata": {},
     "output_type": "execute_result"
    }
   ],
   "source": [
    "#import a dataset\n",
    "data=sio.loadmat(\"./qm7b.mat\")\n",
    "data.keys()"
   ]
  },
  {
   "cell_type": "code",
   "execution_count": 8,
   "metadata": {},
   "outputs": [
    {
     "data": {
      "text/plain": [
       "dict_keys(['distances', 'natoms', 'repetitions', 'name', 'formula', 'vectors', 'chemical_symbols', 'qpoints', 'atom_numbers', 'lattice', 'atomic_numbers', 'highsym_qpts', 'highsym_qpoints', 'atom_pos_car', 'atom_pos_red', 'eigenvalues', 'atom_types'])"
      ]
     },
     "execution_count": 8,
     "metadata": {},
     "output_type": "execute_result"
    }
   ],
   "source": [
    "# import a json\n",
    "phonons=json.load(open(\"./PbO.json\"))\n",
    "phonons.keys()"
   ]
  },
  {
   "cell_type": "markdown",
   "metadata": {},
   "source": [
    "# Explore and manipulate data"
   ]
  },
  {
   "cell_type": "code",
   "execution_count": 9,
   "metadata": {},
   "outputs": [
    {
     "name": "stdout",
     "output_type": "stream",
     "text": [
      "{8: [array([  0.        ,   0.        ,  11.19968713]), array([  2.04329885,   2.04329885,  11.19968713])], 82: [array([  0.        ,   2.04329885,  12.39937426]), array([  2.04329885,   0.        ,  10.        ])]}\n"
     ]
    }
   ],
   "source": [
    "# explore and manipulate data inside the dictionary\n",
    "d={at:[] for at in set(PbO.numbers)}\n",
    "for pos, at in zip(PbO.positions, PbO.numbers):\n",
    "    d[at].append(pos)\n",
    "print(d)"
   ]
  },
  {
   "cell_type": "code",
   "execution_count": 10,
   "metadata": {},
   "outputs": [
    {
     "name": "stdout",
     "output_type": "stream",
     "text": [
      "[  183.89689678   183.89689678  2015.94368365]\n"
     ]
    }
   ],
   "source": [
    "# build descriptors\n",
    "Cm=0\n",
    "for specy, positions in d.items():\n",
    "    Cm+=float(specy)*np.mean(positions,0)*len(positions)\n",
    "print(Cm)"
   ]
  },
  {
   "cell_type": "code",
   "execution_count": 11,
   "metadata": {},
   "outputs": [
    {
     "data": {
      "image/png": "[encoded data removed]",
      "text/plain": [
       "<matplotlib.figure.Figure at 0x7fe3614b4c50>"
      ]
     },
     "metadata": {},
     "output_type": "display_data"
    }
   ],
   "source": [
    "x=np.linspace(0,1, 100)\n",
    "y=30+22*x\n",
    "plt.scatter(x,y)\n",
    "plt.xlabel(\"blah\")\n",
    "plt.show()"
   ]
  },
  {
   "cell_type": "code",
   "execution_count": null,
   "metadata": {},
   "outputs": [],
   "source": []
  }
 ],
 "metadata": {
  "kernelspec": {
   "display_name": "Python 3",
   "language": "python",
   "name": "python3"
  },
  "language_info": {
   "codemirror_mode": {
    "name": "ipython",
    "version": 3
   },
   "file_extension": ".py",
   "mimetype": "text/x-python",
   "name": "python",
   "nbconvert_exporter": "python",
   "pygments_lexer": "ipython3",
   "version": "3.6.3"
  }
 },
 "nbformat": 4,
 "nbformat_minor": 1
}
