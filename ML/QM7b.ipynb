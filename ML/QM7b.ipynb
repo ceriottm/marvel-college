{
 "cells": [
  {
   "cell_type": "code",
   "execution_count": 1,
   "metadata": {},
   "outputs": [],
   "source": [
    "import numpy as np\n",
    "import scipy.io as sio\n",
    "import ase\n",
    "from ase.io import read\n",
    "from lib import ase_view, traj_view\n",
    "import matplotlib.pyplot as plt"
   ]
  },
  {
   "cell_type": "markdown",
   "metadata": {},
   "source": [
    "# <center> Project I </center>\n",
    "##  <center> Learning on QM7b </center>\n"
   ]
  },
  {
   "cell_type": "code",
   "execution_count": 7,
   "metadata": {},
   "outputs": [
    {
     "data": {
      "text/plain": [
       "dict_keys(['__header__', '__version__', '__globals__', 'X', 'T', 'names'])"
      ]
     },
     "execution_count": 7,
     "metadata": {},
     "output_type": "execute_result"
    }
   ],
   "source": [
    "#Load the properties encoded in the dictionary qm7.mat\n",
    "data=sio.loadmat(\"./qm7b.mat\")\n",
    "data.keys()"
   ]
  },
  {
   "cell_type": "code",
   "execution_count": null,
   "metadata": {
    "collapsed": true
   },
   "outputs": [],
   "source": [
    "def parser(d):\n",
    "    mats=[]\n",
    "    Ks=[]\n",
    "    for m in d:\n",
    "        pos=m['poscar']\n",
    "        lines=pos.splitlines()\n",
    "        a=np.array([float(x) for x in lines[2].split()])\n",
    "        b=np.array([float(x) for x in  lines[3].split()])\n",
    "        c=np.array([float(x) for x in lines[4].split()])\n",
    "        #if c[2]< 0: c=-c\n",
    "        species=lines[5].split()\n",
    "        spe_count=[int(x) for x in lines[6].split()]\n",
    "        i=8\n",
    "        p=[]\n",
    "        mat={'species':[], 'positions':[],'cell':[a,b,c]}\n",
    "        for j in range(sum(spe_count)):\n",
    "            mat['positions'].append(sum([float(x)*np.array(mat['cell'][k]) for k,x in enumerate(lines[i+j].split()[:3])]))\n",
    "            mat['species'].append(ELEMENTS[lines[i+j].split()[3]].number)\n",
    "        mats.append(mat)\n",
    "        #\n",
    "        Ks.append(m[\"K_VRH\"])\n",
    "    return mats, np.array(Ks)\n",
    "#\n",
    "data = json.load(open('ec.json'))\n",
    "#mats, Ks = parser(data)"
   ]
  }
 ],
 "metadata": {
  "kernelspec": {
   "display_name": "Python 3",
   "language": "python",
   "name": "python3"
  },
  "language_info": {
   "codemirror_mode": {
    "name": "ipython",
    "version": 3
   },
   "file_extension": ".py",
   "mimetype": "text/x-python",
   "name": "python",
   "nbconvert_exporter": "python",
   "pygments_lexer": "ipython3",
   "version": "3.6.5"
  }
 },
 "nbformat": 4,
 "nbformat_minor": 1
}
