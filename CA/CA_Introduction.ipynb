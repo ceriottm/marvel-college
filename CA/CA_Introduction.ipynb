{
 "cells": [
  {
   "cell_type": "markdown",
   "metadata": {},
   "source": [
    "# Let's import the necessary functions that we will use throughout the exercises"
   ]
  },
  {
   "cell_type": "code",
   "execution_count": null,
   "metadata": {
    "collapsed": true
   },
   "outputs": [],
   "source": [
    "import numpy as np\n",
    "import matplotlib.pyplot as plt\n",
    "import matplotlib.animation as animation\n",
    "from IPython.display import HTML\n",
    "%matplotlib inline\n",
    "%matplotlib notebook"
   ]
  },
  {
   "cell_type": "markdown",
   "metadata": {},
   "source": [
    "# The Cellular Automata\n",
    "We will now start looking into what is a <b>Cellular Automata (CA)</b> and what it is possible to be done with it.\n",
    "\n",
    "During the presentation we have seen that in order to define a CA it is necessary to define a few concepts:\n",
    "- the <b>space</b> that we are going to divide into unitary cells\n",
    "- the number and types of possible <b>states</b> (for example 0 and 1, to indicate a cell that is \"full\" or \"empty\") of each unitary cells\n",
    "- the <b>rule</b> that updates the cells at every iteration\n",
    "- the <b>neighbourhood</b> (i.e. the number of neighboring cells) that is taken into consideration to enforce the rule\n",
    "\n",
    "## Let's start with the space\n",
    "We are going to consider a 2D space that is divided into unitary cells. This can easily be visualized as a squared paper, like the one shown below, where each square can have values that are either 1 or 0.\n",
    "\n",
    "<img src=\"images/squaredPaper.jpg\" width=\"250\" height=\"250\" />\n",
    "\n",
    "This will be used throughout all of the examples, so the space will always be a 2D space divided into unitary cells.\n",
    "\n",
    "We will use <b>periodic boundary conditions</b> for the first part. This means that when we are at one of the extremes of the squared grid, the unitary cell will interact with the cell that is at the other extreme, as shown in the figure.\n",
    "\n",
    "<img src=\"images/periodicBoundary.png\" width=\"262\" height=\"214\" />\n",
    "\n",
    "Which means, as you have seen in the presentation, that we are working on a torus. Can you understand why?\n",
    "\n",
    "<img src=\"images/grid-to-torus.jpeg\" width=\"408\" height=\"144\" />\n",
    "\n",
    "\n",
    "## And the values that each unitary cell can have\n",
    "The values that each cell can take will be 0 or 1 for the simple examples, but can differ once we start introducing more complex models.\n",
    "\n",
    "In the notebook we are going to use a <b>matrix</b> in order to make this \"square grid\". A matrix can be visualized as a 2D table, where each square has a value. Normally one can use any value, here we are going to restrict the values of the matrix to those that are allowed by the CA that we are using. "
   ]
  },
  {
   "cell_type": "code",
   "execution_count": null,
   "metadata": {
    "collapsed": true
   },
   "outputs": [],
   "source": [
    "def makeMatrix(nx=100, ny=100, initialization=\"random\", concentration=0.5):\n",
    "    \"\"\"This function is used to create a matrix with the desired configuration. The easiest example is to create \n",
    "    a matrix of single values through the numpy functions np.zeros or np.ones. Other initialization can be created\n",
    "    at will, given a good implementation.\"\"\"\n",
    "    \n",
    "    if initialization == \"zeros\":\n",
    "        matrix = np.zeros((ny,nx))\n",
    "        \n",
    "    elif initialization == \"ones\":\n",
    "        pass # Your code goes here, instead of pass\n",
    "    \n",
    "    elif initialization == \"random\":\n",
    "        pass # Your code goes here, instead of pass\n",
    "    \n",
    "    else:\n",
    "        print(\"Inconnu\")\n",
    "    return matrix"
   ]
  },
  {
   "cell_type": "markdown",
   "metadata": {},
   "source": [
    "## Define the neighborhood\n",
    "Now we define the neighborhood used to update the cells. This means that we are going to select which neighboring cells are taken into account every iteration to decide the next value of a cell.\n",
    "\n",
    "Within this work we are going to consider only two possible neighborhoods: <b>Von Neumann</b> and <b>Moore</b>.\n",
    "\n",
    "### Von Neumann neighborhood\n",
    "This is the simplest case we can consider. Here we only consider the East, North, West, South neighboring cells. It means that only these cells will be taken into consideration when deciding the next value that the central cell will have after 1 timestep\n",
    "\n",
    "### Moore neighborhood\n",
    "In this case we add 4 more cells: North-East, North-West, South-East, South-West. Therefore all those cells that surround the current one. \n",
    "\n",
    "<img src=\"images/neighborhoods.gif\" width=\"389\" height=\"260\" />\n",
    "\n",
    "The way we define the function *giveNeighborhood* might appear strange, but it helps later in the code.\n",
    "\n",
    "We imagine to sit on a cell in the *space* that we have defined and we want to return all of the distances of the neighbors relative to the chosen cell. This means that to return the right and left neighbors, we have to return _[[0,1],[0,-1]]_ in the for of a list of lists."
   ]
  },
  {
   "cell_type": "code",
   "execution_count": null,
   "metadata": {
    "collapsed": true
   },
   "outputs": [],
   "source": [
    "def giveNeighborhood(neighType=\"Von_Neumann\"):\n",
    "    \"\"\"This function returns a list of neighbors as list of the deltas from the given cell.\"\"\"\n",
    "    \n",
    "    if neighType == \"Von_Neumann\":\n",
    "        return [[-1,0],[0,-1],[1,0],[0,1]]\n",
    "    elif neighType == \"Moore\": # This can be left as an exercise to the student, after seeing the previous.\n",
    "        return [[-1,-1],[-1,0],[-1,1],[0,-1],[0,1],[1,-1],[1,0],[1,1]]\n",
    "    else:\n",
    "        raise NameError(\"The neighborhood can be only Von_Neumann or Moore. Otherwise implement a new one\")"
   ]
  },
  {
   "cell_type": "markdown",
   "metadata": {},
   "source": [
    "## Continue with the rules\n",
    "Now we introduce possible rules that determine how the cells of the CA evolve in time.\n",
    "\n",
    "We will start with a simple rule, to have a look at a CA in action.\n",
    "\n",
    "The *Parity Rule* is already implemented in the next cell. The value of each cell is decided depending on the number of \"ones\" in the surrounding cells. If the number is even, then the cell will take the value of 0. If the number is odd, then it will take the value of 1.\n",
    "Since the values can only be \"1\" or \"0\", the simple implementation is to sum the values of all the neighbors and check if it is even or odd.\n",
    "\n",
    "In this case it is evident that the choice of the neighborhood can have an important role for the rule. But we will add this later."
   ]
  },
  {
   "cell_type": "code",
   "execution_count": null,
   "metadata": {
    "collapsed": true
   },
   "outputs": [],
   "source": [
    "def ruleIterate(matrix,rulename,neighborhood=\"Von_Neumann\"):\n",
    "    \"\"\"This is the most important function. Here the rules will be specified and an algorithm that enforces them \n",
    "    must be written. It is very important to have a clear understanding of what elements are given and which are \n",
    "    expected to be returned.\n",
    "    \n",
    "    \"\"\"\n",
    "    newMatrix = matrix.copy()\n",
    "    \n",
    "    leny = matrix.shape[0]\n",
    "    lenx = matrix.shape[1]\n",
    "    \n",
    "    neighborList = giveNeighborhood(neighType=neighborhood)\n",
    "    \n",
    "    if rulename == \"ParityRule\":\n",
    "        for ix in range(lenx):\n",
    "            for iy in range(leny):\n",
    "                \n",
    "                neighborsSum = 0\n",
    "                for delta in neighborList:\n",
    "                    [idx,idy] = (np.array([ix,iy]) + np.array(delta)) % np.array([lenx,leny])\n",
    "                    neighborsSum += matrix[idx,idy]\n",
    "                    \n",
    "                if neighborsSum % 2 == 0: # If the sum of the neighbors is even...\n",
    "                    newMatrix[ix,iy] = 0  # The cell becomes 0\n",
    "                else:                     # If the sum is odd...\n",
    "                    newMatrix[ix,iy] = 1  # The cell becomes 1\n",
    "\n",
    "    elif rulename == \"ConwayRule\":\n",
    "        pass # Your code goes here, instead of pass\n",
    "                        \n",
    "    elif rulename == \"MyRule\":\n",
    "        pass # Your code goes here, instead of pass\n",
    "                            \n",
    "    else: raise NameError(\"Règle inconnu\")\n",
    "                        \n",
    "    return newMatrix"
   ]
  },
  {
   "cell_type": "markdown",
   "metadata": {},
   "source": [
    "### This is an helper function, needed to animate the CA\n",
    "It is a bit complicated to implement and it is out of the scope of the exercise, therefore this function is given and should not be changed at any time."
   ]
  },
  {
   "cell_type": "code",
   "execution_count": null,
   "metadata": {
    "collapsed": true
   },
   "outputs": [],
   "source": [
    "def RunAndShow(cellularAutomata,rulename=\"ConwayRule\",neighborhood=\"Moore\",niter=10):\n",
    "    \"\"\"This function must be called when one wants to run and visualize a CA. It takes an initialized matrix as an \n",
    "    input and returns the \"\"\"\n",
    "    \n",
    "    [ny,nx] = cellularAutomata.shape[0],cellularAutomata.shape[1]\n",
    "    cellmatrix = makeMatrix(nx,ny,initialization=\"random\")\n",
    "\n",
    "    fig = plt.figure(figsize= (8,8))\n",
    "    plt.axis([-0.5,nx-0.5,-0.5,ny-0.5])\n",
    "    im = plt.imshow(cellmatrix,animated=True)\n",
    "    plt.colorbar()\n",
    "\n",
    "    def runstep(i):\n",
    "        \"\"\"This function is called at each step when creating the animation\"\"\"\n",
    "        global cellmatrix\n",
    "        if i==0:\n",
    "            cellmatrix = cellularAutomata.copy()\n",
    "        else:\n",
    "            cellmatrix = ruleIterate(cellmatrix,rulename,neighborhood)\n",
    "        im.set_array(cellmatrix)\n",
    "        return im\n",
    "\n",
    "    # Here we create the animation. It can be saved or showed on the notebook using the HTML plugin\n",
    "    # For now we use the HTML plugin (you can find it later)\n",
    "    ani = animation.FuncAnimation(fig, runstep, frames=niter, interval=250, repeat=False)\n",
    "    plt.close()\n",
    "    return ani"
   ]
  },
  {
   "cell_type": "markdown",
   "metadata": {},
   "source": [
    "# The first example\n",
    "## Parity rule with Von Neumann neighborhood\n",
    "\n",
    "Let's begin with our first CA. The Parity rule has been explained previously, so here we will see how it works in a \"real\" case. We will test it on a simple square lattice where all the values are zeros but for a small square of ones in the middle of the canvas."
   ]
  },
  {
   "cell_type": "code",
   "execution_count": null,
   "metadata": {},
   "outputs": [],
   "source": [
    "[nx,ny] = [30,30]\n",
    "maxiter = 50\n",
    "\n",
    "# We are initializing a cell of zeros with a central square of ones\n",
    "cellularAutomata = makeMatrix(nx, ny, initialization=\"zeros\")\n",
    "cellularAutomata[14:16,14:16] = 1\n",
    "\n",
    "ani = RunAndShow(cellularAutomata,rulename=\"ParityRule\",neighborhood=\"Von_Neumann\",niter=maxiter)\n",
    "HTML(ani.to_jshtml()) # Here the gif is shown"
   ]
  },
  {
   "cell_type": "markdown",
   "metadata": {},
   "source": [
    "While this is a very beautiful pattern, what would happen with other initial configurations?\n",
    "\n",
    "### Change the initial configurations\n",
    "\n",
    "In order to see what happens in different initial conditions try to do two things:\n",
    "\n",
    " - Start again from a matrix made of only \"zeros\", then change some of the values of the matrix to \"ones\". Then run the code and see what happens\n",
    " - Go back to the <b>makeMatrix</b> function and add different initialization schemes, such as a \"random\" one, where 0s and 1s are randomly assigned on the grid."
   ]
  },
  {
   "cell_type": "code",
   "execution_count": null,
   "metadata": {
    "collapsed": true
   },
   "outputs": [],
   "source": []
  },
  {
   "cell_type": "code",
   "execution_count": null,
   "metadata": {
    "collapsed": true
   },
   "outputs": [],
   "source": []
  },
  {
   "cell_type": "code",
   "execution_count": null,
   "metadata": {
    "collapsed": true
   },
   "outputs": [],
   "source": []
  },
  {
   "cell_type": "code",
   "execution_count": null,
   "metadata": {
    "collapsed": true
   },
   "outputs": [],
   "source": []
  },
  {
   "cell_type": "code",
   "execution_count": null,
   "metadata": {
    "collapsed": true
   },
   "outputs": [],
   "source": []
  },
  {
   "cell_type": "code",
   "execution_count": null,
   "metadata": {
    "collapsed": true
   },
   "outputs": [],
   "source": []
  },
  {
   "cell_type": "markdown",
   "metadata": {},
   "source": [
    "### Random initial configuration: discussion\n",
    "\n",
    "Unfortunately, when starting with a random initial configuration no global behaviour can be observed. There is no evolution and (likely) the CA tends towards a 50/50 division of the cells. Therefore we should look into another rule, but which one?\n",
    "\n",
    "# How many rules are possible?\n",
    "\n",
    "If you have an interest in the calculation of combinations, you will like this small exercise. \n",
    "Can you say how many rules are possible for a given neighborhood?\n",
    "\n",
    "In order to compute them it might help to do a few steps first. It should be noted that you can do this exercise even just by *brute force*, writing on paper all of the possible combinations, if you use only 2 neighbours as a start.\n",
    "\n",
    "You can start your reasoning from here:\n",
    "\n",
    " - define a neighborhood, i.e. the number of cells you are considering when evaluating for the next state of the central one (take 2 if you want to do it *brute force*)\n",
    " - how many different states each of these cell can have?\n",
    " - how many different combinations of states exist? (note that (1,0,0,0) is different from (0,1,0,0) so each one must be counted)\n",
    " \n",
    "Have you counted the number of combinations or have you found a formula to calculate the combinations? If you have found a formula, see how different the number of combinations is for the Moore or Von Neumann neighborhoods.\n",
    "\n",
    "In order to create a rule, however, we have to establish what will be the *next* value of the current cell. \n",
    "\n",
    " - Take all of the combinations of states that you have calculated before. \n",
    " - Imagine that *ALL* of those combinations yield 0 as next state of the cell. This counts as 1 rule.\n",
    " - Now imagine that all yield 0, but *ONE* yields a 1. How many different ways this can be achieved?\n",
    "\n",
    "You should repeat this reasoning for all possible combinations, with all possible outcomes. The numbers you will be calculating will be huge! Try it for the two neighborhoods.\n",
    "\n",
    "It would obviously impossible to explore all of the possible rules. Also, most of these rules will quickly result in complete barren environment in all of the cells, but some other rules might give birth to some interesting pattern. Here we will look into a few interesting rules.\n",
    "\n",
    "# Conway's rule of life\n",
    "\n",
    "This rule was introduced in 1970 as a game on a mathematical magazine. Many readers tried to play the game (mostly with pen and paper, as the computers were not commons at the time) and found many self-sustaining configurations and even some \"evolving\" ones. This sparked an interest on the topic and several researchers started working on this \"game\".\n",
    "\n",
    "The rule is set to represent the \"life\" of some sort of cellular entity (imagine cells or bacteria). The main idea is that cells that are left alone would die, because alone are not able to sustain themselves. On the other hand, if too many cells are full, then there is not enough food for everybody, and some of the cells end up dying.\n",
    "Cells survive only if they are surrounded by 2 or 3 neighbors and they can even multiply, if they are not overcrowded or completely alone. The idea, therefore is that:\n",
    "\n",
    "    if CELL is alive:\n",
    "        0-1 neighbors --> cell dies because it is alone\n",
    "        2-3 neighbors --> cell lives\n",
    "        >4 neighbors --> cell dies because it is overcrowded and there is not enough food for everybody\n",
    "    if CELL is dead:\n",
    "        3 neighbors --> cell becomes alive (imagine mitosis of a cell)\n",
    "        every other case --> cell remains dead\n",
    "        \n",
    "### Implement the rule of life\n",
    "\n",
    " - Go back to the <b>ruleIterate</b> function and try to implement the rules stated above. Feel free to re-use parts of the parityRule already implemented and modify it to give the expected outcome\n",
    " - After you have implemented the rule, try to run the following examples to test whether it works as intended\n",
    "\n",
    "## Still life\n",
    "Let's start by using the same initial configuration that created that nice pattern before, with the parity rule. What will happen now?"
   ]
  },
  {
   "cell_type": "code",
   "execution_count": null,
   "metadata": {
    "collapsed": true
   },
   "outputs": [],
   "source": [
    "[nx,ny] = [30,30]\n",
    "maxiter = 10\n",
    "\n",
    "# This is again the square of ones in the middle\n",
    "cellularAutomata = makeMatrix(nx, ny, initialization=\"zeros\")\n",
    "cellularAutomata[14:16,14:16] = 1\n",
    "\n",
    "ani = RunAndShow(cellularAutomata,rulename=\"ConwayRule\",neighborhood=\"Moore\",niter=maxiter)\n",
    "HTML(ani.to_jshtml())"
   ]
  },
  {
   "cell_type": "markdown",
   "metadata": {},
   "source": [
    "Unfortunately in this case the final result is a so-called \"still life\", where nothing happens. If your simulation shows a square that doesn't move, then it is correct!\n",
    "\n",
    "Luckily there are some more interesting configurations to be studied.\n",
    "\n",
    "## Glider\n",
    "One of the first configurations to be found that was self-sustaining is the \"glider\", a sort of small object that remains alive forever and keeps moving. This is one of the most frequent configurations that is found when using a \"random\" initial configuration for the matrix."
   ]
  },
  {
   "cell_type": "code",
   "execution_count": null,
   "metadata": {
    "collapsed": true
   },
   "outputs": [],
   "source": [
    "[nx,ny] = [10,10]\n",
    "maxiter = 100\n",
    "\n",
    "# This is a \"spaceship\"\n",
    "cellularAutomata = makeMatrix(nx, ny, initialization=\"zeros\")\n",
    "cellularAutomata[0,3:6] = cellularAutomata[1,5] = cellularAutomata[2,4] = 1\n",
    "\n",
    "\n",
    "ani = RunAndShow(cellularAutomata,rulename=\"ConwayRule\",neighborhood=\"Moore\",niter=maxiter)\n",
    "HTML(ani.to_jshtml())\n"
   ]
  },
  {
   "cell_type": "markdown",
   "metadata": {},
   "source": [
    "However there are a number of other configurations that can be created. This rule has been extensively studied and many interesting states have been found.\n",
    "\n",
    "A list of possible patterns can be found here: \n",
    " - https://en.wikipedia.org/wiki/Conway%27s_Game_of_Life\n",
    " - http://pentadecathlon.com/lifenews/2006/06/single_glider_collision_survey.html\n",
    " - http://mathworld.wolfram.com/GameofLife.html\n",
    "\n",
    "And a super comprehensive list can be found here: \n",
    " - http://conwaylife.com/wiki/Category:Patterns\n",
    " \n",
    "Also, feel free to use the *random* initial configuration that you implemented before. This time it will be much more interesting!"
   ]
  },
  {
   "cell_type": "code",
   "execution_count": null,
   "metadata": {
    "collapsed": true
   },
   "outputs": [],
   "source": []
  },
  {
   "cell_type": "code",
   "execution_count": null,
   "metadata": {
    "collapsed": true
   },
   "outputs": [],
   "source": []
  },
  {
   "cell_type": "code",
   "execution_count": null,
   "metadata": {
    "collapsed": true
   },
   "outputs": [],
   "source": []
  },
  {
   "cell_type": "code",
   "execution_count": null,
   "metadata": {
    "collapsed": true
   },
   "outputs": [],
   "source": []
  },
  {
   "cell_type": "code",
   "execution_count": null,
   "metadata": {
    "collapsed": true
   },
   "outputs": [],
   "source": []
  },
  {
   "cell_type": "code",
   "execution_count": null,
   "metadata": {
    "collapsed": true
   },
   "outputs": [],
   "source": []
  },
  {
   "cell_type": "markdown",
   "metadata": {},
   "source": [
    "# Implementing other rules\n",
    "\n",
    "Are there any other interesting rules? Sure!\n",
    "\n",
    "While \"Life\" is probably the most studied rule, there are a number of other rules that one can implement to have fun.\n",
    "\n",
    "Here is a quite comprehensive list of interesting rules that you can have fun implementing on your own: http://psoup.math.wisc.edu/mcell/rullex_life.html\n",
    "\n",
    " - Go back to the <b>ruleIterate</b> function and implement one of the rules described in the link above in the place where \"myRule\" is given. Feel free to add even more than just one more rule!"
   ]
  },
  {
   "cell_type": "code",
   "execution_count": null,
   "metadata": {
    "collapsed": true
   },
   "outputs": [],
   "source": []
  },
  {
   "cell_type": "code",
   "execution_count": null,
   "metadata": {
    "collapsed": true
   },
   "outputs": [],
   "source": []
  },
  {
   "cell_type": "code",
   "execution_count": null,
   "metadata": {
    "collapsed": true
   },
   "outputs": [],
   "source": []
  },
  {
   "cell_type": "code",
   "execution_count": null,
   "metadata": {
    "collapsed": true
   },
   "outputs": [],
   "source": []
  },
  {
   "cell_type": "code",
   "execution_count": null,
   "metadata": {
    "collapsed": true
   },
   "outputs": [],
   "source": []
  },
  {
   "cell_type": "code",
   "execution_count": null,
   "metadata": {
    "collapsed": true
   },
   "outputs": [],
   "source": []
  },
  {
   "cell_type": "markdown",
   "metadata": {},
   "source": [
    "# What have we seen?\n",
    "\n",
    "Most of the rules that we have seen form extremely interesting patterns, but they can hardly be used to model real phenomena. Therefore we will now turn to different rules that will allow us to study properties actually related to materials."
   ]
  }
 ],
 "metadata": {
  "hide_input": false,
  "kernelspec": {
   "display_name": "Python 3",
   "language": "python",
   "name": "python3"
  },
  "language_info": {
   "codemirror_mode": {
    "name": "ipython",
    "version": 3
   },
   "file_extension": ".py",
   "mimetype": "text/x-python",
   "name": "python",
   "nbconvert_exporter": "python",
   "pygments_lexer": "ipython3",
   "version": "3.6.8"
  },
  "latex_envs": {
   "LaTeX_envs_menu_present": true,
   "autoclose": false,
   "autocomplete": true,
   "bibliofile": "biblio.bib",
   "cite_by": "apalike",
   "current_citInitial": 1,
   "eqLabelWithNumbers": true,
   "eqNumInitial": 1,
   "hotkeys": {
    "equation": "Ctrl-E",
    "itemize": "Ctrl-I"
   },
   "labels_anchors": false,
   "latex_user_defs": false,
   "report_style_numbering": false,
   "user_envs_cfg": false
  }
 },
 "nbformat": 4,
 "nbformat_minor": 2
}
