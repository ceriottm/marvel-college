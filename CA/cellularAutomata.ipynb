{
 "cells": [
  {
   "cell_type": "markdown",
   "metadata": {},
   "source": [
    "# Let's import the necessary functions that we will use throughout the exercises"
   ]
  },
  {
   "cell_type": "code",
   "execution_count": null,
   "metadata": {
    "collapsed": true
   },
   "outputs": [],
   "source": [
    "import numpy as np\n",
    "import matplotlib.pyplot as plt\n",
    "import matplotlib.animation as animation\n",
    "from IPython.display import HTML\n",
    "%matplotlib inline\n",
    "%matplotlib notebook"
   ]
  },
  {
   "cell_type": "markdown",
   "metadata": {},
   "source": [
    "# The Cellular Automata\n",
    "We will now start looking into what is a <b>Cellular Automata (CA)</b> and what it is possible to be done with it.\n",
    "\n",
    "During the presentation we have seen that in order to define a CA it is necessary to define a few concepts:\n",
    "- the <b>space</b> that we are going to divide into unitary cells\n",
    "- the number and types of possible <b>states</b> (for example 0 and 1, to indicate a cell that is \"full\" or \"empty\") of each unitary cells\n",
    "- the <b>rule</b> that updates the cells at every iteration\n",
    "- the <b>neighbourhood</b> (i.e. the number of neighboring cells) that is taken into consideration to enforce the rule\n",
    "\n",
    "## Let's start with the space\n",
    "We are going to consider a 2D space that is divided into unitary cells. This can easily be visualized as a squared paper, like the one shown below, where each square can have values that are either 1 or 0.\n",
    "\n",
    "<img src=\"images/squaredPaper.jpg\" width=\"250\" height=\"250\" />\n",
    "\n",
    "This will be used throughout all of the examples, so the space will always be a 2D space divided into unitary cells.\n",
    "\n",
    "We will use <b>periodic boundary conditions</b> for the first part. This means that when we are at one of the extremes of the squared grid, the unitary cell will interact with the cell that is at the other extreme, as shown in the figure.\n",
    "\n",
    "<img src=\"images/periodicBoundary.png\" width=\"262\" height=\"214\" />\n",
    "\n",
    "Which means, as you have seen in the presentation, that we are working on a torus. Can you understand why?\n",
    "\n",
    "<img src=\"images/grid-to-torus.jpeg\" width=\"408\" height=\"144\" />\n",
    "\n",
    "\n",
    "## And the values that each unitary cell can have\n",
    "The values that each cell can take will be 0 or 1 for the simple examples, but can differ once we start introducing more complex models.\n",
    "\n",
    "In the notebook we are going to use a <b>matrix</b> in order to make this \"square grid\". A matrix can be visualized as a 2D table, where each square has a value. Normally one can use any value, here we are going to restrict the values of the matrix to those that are allowed by the CA that we are using. "
   ]
  },
  {
   "cell_type": "code",
   "execution_count": null,
   "metadata": {
    "collapsed": true
   },
   "outputs": [],
   "source": [
    "def makeMatrix(nx=100, ny=100, initialization=\"random\", concentration=0.5):\n",
    "    \"\"\"This function is used to create a matrix with the desired configuration. The easiest example is to create \n",
    "    a matrix of single values through the numpy functions np.zeros or np.ones. Other initialization can be created\n",
    "    at will, given a good implementation.\"\"\"\n",
    "    \n",
    "    if initialization == \"zeros\":\n",
    "        matrix = np.zeros((ny,nx))\n",
    "        \n",
    "    elif initialization == \"ones\":\n",
    "        pass # Your code goes here, instead of pass\n",
    "    \n",
    "    elif initialization == \"random\":\n",
    "        pass # Your code goes here, instead of pass\n",
    "    \n",
    "    else:\n",
    "        print(\"Inconnu\")\n",
    "    return matrix"
   ]
  },
  {
   "cell_type": "markdown",
   "metadata": {},
   "source": [
    "## Define the neighborhood\n",
    "Now we define the neighborhood used to update the cells. This means that we are going to select which neighboring cells are taken into account every iteration to decide the next value of a cell.\n",
    "\n",
    "Within this work we are going to consider only two possible neighborhoods: <b>Von Neumann</b> and <b>Moore</b>.\n",
    "\n",
    "### Von Neumann neighborhood\n",
    "This is the simplest case we can consider. Here we only consider the East, North, West, South neighboring cells. It means that only these cells will be taken into consideration when deciding the next value that the central cell will have after 1 timestep\n",
    "\n",
    "### Moore neighborhood\n",
    "In this case we add 4 more cells: North-East, North-West, South-East, South-West. Therefore all those cells that surround the current one. \n",
    "\n",
    "<img src=\"images/neighborhoods.gif\" width=\"389\" height=\"260\" />\n",
    "\n",
    "The way we define the function *giveNeighborhood* might appear strange, but it helps later in the code.\n",
    "\n",
    "We imagine to sit on a cell in the *space* that we have defined and we want to return all of the distances of the neighbors relative to the chosen cell. This means that to return the right and left neighbors, we have to return _[[0,1],[0,-1]]_ in the for of a list of lists."
   ]
  },
  {
   "cell_type": "code",
   "execution_count": null,
   "metadata": {
    "collapsed": true
   },
   "outputs": [],
   "source": [
    "def giveNeighborhood(neighType=\"Von_Neumann\"):\n",
    "    \"\"\"This function returns a list of neighbors as list of the deltas from the given cell.\"\"\"\n",
    "    \n",
    "    if neighType == \"Von_Neumann\":\n",
    "        return [[-1,0],[0,-1],[1,0],[0,1]]\n",
    "    elif neighType == \"Moore\": # This can be left as an exercise to the student, after seeing the previous.\n",
    "        return [[-1,-1],[-1,0],[-1,1],[0,-1],[0,1],[1,-1],[1,0],[1,1]]\n",
    "    else:\n",
    "        raise NameError(\"The neighborhood can be only Von_Neumann or Moore. Otherwise implement a new one\")"
   ]
  },
  {
   "cell_type": "markdown",
   "metadata": {},
   "source": [
    "## Continue with the rules\n",
    "Now we introduce possible rules that determine how the cells of the CA evolve in time.\n",
    "\n",
    "We will start with a simple rule, to have a look at a CA in action.\n",
    "\n",
    "The *Parity Rule* is already implemented in the next cell. The value of each cell is decided depending on the number of \"ones\" in the surrounding cells. If the number is even, then the cell will take the value of 0. If the number is odd, then it will take the value of 1.\n",
    "Since the values can only be \"1\" or \"0\", the simple implementation is to sum the values of all the neighbors and check if it is even or odd.\n",
    "\n",
    "In this case it is evident that the choice of the neighborhood can have an important role for the rule. But we will add this later."
   ]
  },
  {
   "cell_type": "code",
   "execution_count": null,
   "metadata": {
    "collapsed": true
   },
   "outputs": [],
   "source": [
    "def ruleIterate(matrix,rulename,neighborhood=\"Von_Neumann\"):\n",
    "    \"\"\"This is the most important function. Here the rules will be specified and an algorithm that enforces them \n",
    "    must be written. It is very important to have a clear understanding of what elements are given and which are \n",
    "    expected to be returned.\n",
    "    \n",
    "    \"\"\"\n",
    "    newMatrix = matrix.copy()\n",
    "    \n",
    "    leny = matrix.shape[0]\n",
    "    lenx = matrix.shape[1]\n",
    "    \n",
    "    neighborList = giveNeighborhood(neighType=neighborhood)\n",
    "    \n",
    "    if rulename == \"ParityRule\":\n",
    "        for ix in range(lenx):\n",
    "            for iy in range(leny):\n",
    "                \n",
    "                neighborsSum = 0\n",
    "                for delta in neighborList:\n",
    "                    [idx,idy] = (np.array([ix,iy]) + np.array(delta)) % np.array([lenx,leny])\n",
    "                    neighborsSum += matrix[idx,idy]\n",
    "                    \n",
    "                if neighborsSum % 2 == 0: # If the sum of the neighbors is even...\n",
    "                    newMatrix[ix,iy] = 0  # The cell becomes 0\n",
    "                else:                     # If the sum is odd...\n",
    "                    newMatrix[ix,iy] = 1  # The cell becomes 1\n",
    "\n",
    "    elif rulename == \"ConwayRule\":\n",
    "        pass # Your code goes here, instead of pass\n",
    "                        \n",
    "    elif rulename == \"MyRule\":\n",
    "        pass # Your code goes here, instead of pass\n",
    "                            \n",
    "    else: raise NameError(\"Règle inconnu\")\n",
    "                        \n",
    "    return newMatrix"
   ]
  },
  {
   "cell_type": "markdown",
   "metadata": {},
   "source": [
    "### This is an helper function, needed to animate the CA\n",
    "It is a bit complicated to implement and it is out of the scope of the exercise, therefore this function is given and should not be changed at any time."
   ]
  },
  {
   "cell_type": "code",
   "execution_count": null,
   "metadata": {
    "collapsed": true
   },
   "outputs": [],
   "source": [
    "def RunAndShow(cellularAutomata,rulename=\"ConwayRule\",neighborhood=\"Moore\",niter=10):\n",
    "    \"\"\"This function must be called when one wants to run and visualize a CA. It takes an initialized matrix as an \n",
    "    input and returns the \"\"\"\n",
    "    \n",
    "    [ny,nx] = cellularAutomata.shape[0],cellularAutomata.shape[1]\n",
    "    cellmatrix = makeMatrix(nx,ny,initialization=\"random\")\n",
    "\n",
    "    fig = plt.figure(figsize= (8,8))\n",
    "    plt.axis([-0.5,nx-0.5,-0.5,ny-0.5])\n",
    "    im = plt.imshow(cellmatrix,animated=True)\n",
    "    plt.colorbar()\n",
    "\n",
    "    def runstep(i):\n",
    "        \"\"\"This function is called at each step when creating the animation\"\"\"\n",
    "        global cellmatrix\n",
    "        if i==0:\n",
    "            cellmatrix = cellularAutomata.copy()\n",
    "        else:\n",
    "            cellmatrix = ruleIterate(cellmatrix,rulename,neighborhood)\n",
    "        im.set_array(cellmatrix)\n",
    "        return im\n",
    "\n",
    "    # Here we create the animation. It can be saved or showed on the notebook using the HTML plugin\n",
    "    # For now we use the HTML plugin (you can find it later)\n",
    "    ani = animation.FuncAnimation(fig, runstep, frames=niter, interval=250, repeat=False)\n",
    "    plt.close()\n",
    "    return ani"
   ]
  },
  {
   "cell_type": "markdown",
   "metadata": {},
   "source": [
    "# The first example\n",
    "## Parity rule with Von Neumann neighborhood\n",
    "\n",
    "Let's begin with our first CA. The Parity rule has been explained previously, so here we will see how it works in a \"real\" case. We will test it on a simple square lattice where all the values are zeros but for a small square of ones in the middle of the canvas."
   ]
  },
  {
   "cell_type": "code",
   "execution_count": null,
   "metadata": {},
   "outputs": [],
   "source": [
    "[nx,ny] = [30,30]\n",
    "maxiter = 50\n",
    "\n",
    "# We are initializing a cell of zeros with a central square of ones\n",
    "cellularAutomata = makeMatrix(nx, ny, initialization=\"zeros\")\n",
    "cellularAutomata[14:16,14:16] = 1\n",
    "\n",
    "ani = RunAndShow(cellularAutomata,rulename=\"ParityRule\",neighborhood=\"Von_Neumann\",niter=maxiter)\n",
    "HTML(ani.to_jshtml()) # Here the gif is shown"
   ]
  },
  {
   "cell_type": "markdown",
   "metadata": {},
   "source": [
    "While this is a very beautiful pattern, what would happen with other initial configurations?\n",
    "\n",
    "### Change the initial configurations\n",
    "\n",
    "In order to see what happens in different initial conditions try to do two things:\n",
    "\n",
    " - Start again from a matrix made of only \"zeros\", then change some of the values of the matrix to \"ones\". Then run the code and see what happens\n",
    " - Go back to the <b>makeMatrix</b> function and add different initialization schemes, such as a \"random\" one, where 0s and 1s are randomly assigned on the grid."
   ]
  },
  {
   "cell_type": "code",
   "execution_count": null,
   "metadata": {
    "collapsed": true
   },
   "outputs": [],
   "source": []
  },
  {
   "cell_type": "code",
   "execution_count": null,
   "metadata": {
    "collapsed": true
   },
   "outputs": [],
   "source": []
  },
  {
   "cell_type": "code",
   "execution_count": null,
   "metadata": {
    "collapsed": true
   },
   "outputs": [],
   "source": []
  },
  {
   "cell_type": "code",
   "execution_count": null,
   "metadata": {
    "collapsed": true
   },
   "outputs": [],
   "source": []
  },
  {
   "cell_type": "code",
   "execution_count": null,
   "metadata": {
    "collapsed": true
   },
   "outputs": [],
   "source": []
  },
  {
   "cell_type": "code",
   "execution_count": null,
   "metadata": {
    "collapsed": true
   },
   "outputs": [],
   "source": []
  },
  {
   "cell_type": "markdown",
   "metadata": {},
   "source": [
    "### Random initial configuration: discussion\n",
    "\n",
    "Unfortunately, when starting with a random initial configuration no global behaviour can be observed. There is no evolution and (likely) the CA tends towards a 50/50 division of the cells. Therefore we should look into another rule, but which one?\n",
    "\n",
    "# How many rules are possible?\n",
    "\n",
    "If you have an interest in the calculation of combinations, you will like this small exercise. \n",
    "Can you say how many rules are possible for a given neighborhood?\n",
    "\n",
    "In order to compute them it might help to do a few steps first. It should be noted that you can do this exercise even just by *brute force*, writing on paper all of the possible combinations, if you use only 2 neighbours as a start.\n",
    "\n",
    "You can start your reasoning from here:\n",
    "\n",
    " - define a neighborhood, i.e. the number of cells you are considering when evaluating for the next state of the central one (take 2 if you want to do it *brute force*)\n",
    " - how many different states each of these cell can have?\n",
    " - how many different combinations of states exist? (note that (1,0,0,0) is different from (0,1,0,0) so each one must be counted)\n",
    " \n",
    "Have you counted the number of combinations or have you found a formula to calculate the combinations? If you have found a formula, see how different the number of combinations is for the Moore or Von Neumann neighborhoods.\n",
    "\n",
    "In order to create a rule, however, we have to establish what will be the *next* value of the current cell. \n",
    "\n",
    " - Take all of the combinations of states that you have calculated before. \n",
    " - Imagine that *ALL* of those combinations yield 0 as next state of the cell. This counts as 1 rule.\n",
    " - Now imagine that all yield 0, but *ONE* yields a 1. How many different ways this can be achieved?\n",
    "\n",
    "You should repeat this reasoning for all possible combinations, with all possible outcomes. The numbers you will be calculating will be huge! Try it for the two neighborhoods.\n",
    "\n",
    "It would obviously impossible to explore all of the possible rules. Also, most of these rules will quickly result in complete barren environment in all of the cells, but some other rules might give birth to some interesting pattern. Here we will look into a few interesting rules.\n",
    "\n",
    "# Conway's rule of life\n",
    "\n",
    "This rule was introduced in 1970 as a game on a mathematical magazine. Many readers tried to play the game (mostly with pen and paper, as the computers were not commons at the time) and found many self-sustaining configurations and even some \"evolving\" ones. This sparked an interest on the topic and several researchers started working on this \"game\".\n",
    "\n",
    "The rule is set to represent the \"life\" of some sort of cellular entity (imagine cells or bacteria). The main idea is that cells that are left alone would die, because alone are not able to sustain themselves. On the other hand, if too many cells are full, then there is not enough food for everybody, and some of the cells end up dying.\n",
    "Cells survive only if they are surrounded by 2 or 3 neighbors and they can even multiply, if they are not overcrowded or completely alone. The idea, therefore is that:\n",
    "\n",
    "    if CELL is alive:\n",
    "        0-1 neighbors --> cell dies because it is alone\n",
    "        2-3 neighbors --> cell lives\n",
    "        >4 neighbors --> cell dies because it is overcrowded and there is not enough food for everybody\n",
    "    if CELL is dead:\n",
    "        3 neighbors --> cell becomes alive (imagine mitosis of a cell)\n",
    "        every other case --> cell remains dead\n",
    "        \n",
    "### Implement the rule of life\n",
    "\n",
    " - Go back to the <b>ruleIterate</b> function and try to implement the rules stated above. Feel free to re-use parts of the parityRule already implemented and modify it to give the expected outcome\n",
    " - After you have implemented the rule, try to run the following examples to test whether it works as intended\n",
    "\n",
    "## Still life\n",
    "Let's start by using the same initial configuration that created that nice pattern before, with the parity rule. What will happen now?"
   ]
  },
  {
   "cell_type": "code",
   "execution_count": null,
   "metadata": {
    "collapsed": true
   },
   "outputs": [],
   "source": [
    "[nx,ny] = [30,30]\n",
    "maxiter = 10\n",
    "\n",
    "# This is again the square of ones in the middle\n",
    "cellularAutomata = makeMatrix(nx, ny, initialization=\"zeros\")\n",
    "cellularAutomata[14:16,14:16] = 1\n",
    "\n",
    "ani = RunAndShow(cellularAutomata,rulename=\"ConwayRule\",neighborhood=\"Moore\",niter=maxiter)\n",
    "HTML(ani.to_jshtml())"
   ]
  },
  {
   "cell_type": "markdown",
   "metadata": {},
   "source": [
    "Unfortunately in this case the final result is a so-called \"still life\", where nothing happens. If your simulation shows a square that doesn't move, then it is correct!\n",
    "\n",
    "Luckily there are some more interesting configurations to be studied.\n",
    "\n",
    "## Glider\n",
    "One of the first configurations to be found that was self-sustaining is the \"glider\", a sort of small object that remains alive forever and keeps moving. This is one of the most frequent configurations that is found when using a \"random\" initial configuration for the matrix."
   ]
  },
  {
   "cell_type": "code",
   "execution_count": null,
   "metadata": {
    "collapsed": true
   },
   "outputs": [],
   "source": [
    "[nx,ny] = [10,10]\n",
    "maxiter = 100\n",
    "\n",
    "# This is a \"spaceship\"\n",
    "cellularAutomata = makeMatrix(nx, ny, initialization=\"zeros\")\n",
    "cellularAutomata[0,3:6] = cellularAutomata[1,5] = cellularAutomata[2,4] = 1\n",
    "\n",
    "\n",
    "ani = RunAndShow(cellularAutomata,rulename=\"ConwayRule\",neighborhood=\"Moore\",niter=maxiter)\n",
    "HTML(ani.to_jshtml())\n"
   ]
  },
  {
   "cell_type": "markdown",
   "metadata": {},
   "source": [
    "However there are a number of other configurations that can be created. This rule has been extensively studied and many interesting states have been found.\n",
    "\n",
    "A list of possible patterns can be found here: \n",
    " - https://en.wikipedia.org/wiki/Conway%27s_Game_of_Life\n",
    " - http://pentadecathlon.com/lifenews/2006/06/single_glider_collision_survey.html\n",
    " - http://mathworld.wolfram.com/GameofLife.html\n",
    "\n",
    "And a super comprehensive list can be found here: \n",
    " - http://conwaylife.com/wiki/Category:Patterns\n",
    " \n",
    "Also, feel free to use the *random* initial configuration that you implemented before. This time it will be much more interesting!"
   ]
  },
  {
   "cell_type": "code",
   "execution_count": null,
   "metadata": {
    "collapsed": true
   },
   "outputs": [],
   "source": []
  },
  {
   "cell_type": "code",
   "execution_count": null,
   "metadata": {
    "collapsed": true
   },
   "outputs": [],
   "source": []
  },
  {
   "cell_type": "code",
   "execution_count": null,
   "metadata": {
    "collapsed": true
   },
   "outputs": [],
   "source": []
  },
  {
   "cell_type": "code",
   "execution_count": null,
   "metadata": {
    "collapsed": true
   },
   "outputs": [],
   "source": []
  },
  {
   "cell_type": "code",
   "execution_count": null,
   "metadata": {
    "collapsed": true
   },
   "outputs": [],
   "source": []
  },
  {
   "cell_type": "code",
   "execution_count": null,
   "metadata": {
    "collapsed": true
   },
   "outputs": [],
   "source": []
  },
  {
   "cell_type": "markdown",
   "metadata": {},
   "source": [
    "# Implementing other rules\n",
    "\n",
    "Are there any other interesting rules? Sure!\n",
    "\n",
    "While \"Life\" is probably the most studied rule, there are a number of other rules that one can implement to have fun.\n",
    "\n",
    "Here is a quite comprehensive list of interesting rules that you can have fun implementing on your own: http://psoup.math.wisc.edu/mcell/rullex_life.html\n",
    "\n",
    " - Go back to the <b>ruleIterate</b> function and implement one of the rules described in the link above in the place where \"myRule\" is given. Feel free to add even more than just one more rule!"
   ]
  },
  {
   "cell_type": "code",
   "execution_count": null,
   "metadata": {
    "collapsed": true
   },
   "outputs": [],
   "source": []
  },
  {
   "cell_type": "code",
   "execution_count": null,
   "metadata": {
    "collapsed": true
   },
   "outputs": [],
   "source": []
  },
  {
   "cell_type": "code",
   "execution_count": null,
   "metadata": {
    "collapsed": true
   },
   "outputs": [],
   "source": []
  },
  {
   "cell_type": "code",
   "execution_count": null,
   "metadata": {
    "collapsed": true
   },
   "outputs": [],
   "source": []
  },
  {
   "cell_type": "code",
   "execution_count": null,
   "metadata": {
    "collapsed": true
   },
   "outputs": [],
   "source": []
  },
  {
   "cell_type": "code",
   "execution_count": null,
   "metadata": {
    "collapsed": true
   },
   "outputs": [],
   "source": []
  },
  {
   "cell_type": "markdown",
   "metadata": {},
   "source": [
    "# What have we seen?\n",
    "\n",
    "Most of the rules that we have seen form extremely interesting patterns, but they can hardly be used to model real phenomena. Therefore we will now turn to different rules that will allow us to study properties actually related to materials.\n",
    "\n",
    "# A new model: grain growth\n",
    "\n",
    "The solidification of a material is a complex process, very difficult to model accurately. In the field of metallurgy it is important to understand how solidification happens, since this will impact the mechanical properties of the material. \n",
    "\n",
    "The following image shows 4, among the many, possible microscopic configurations of steel, after it has been cooled down in different conditions. Each one of them has different properties and is used for different purposes. Knowing exactly which configuration is growing when casting steel is important to obtain a material with specific properties.\n",
    "<img src=\"images/ironPhases.png\" width=\"1000\" height=\"280\" />\n",
    "\n",
    "## Atoms and phases of matter\n",
    "\n",
    "The smallest constitutive unit of matter that we consider for materials is the atom, which can, for simplicity, be approximated by a sphere. Atoms can arrange in various ways, and different phases can exist. Normally we talk about gas (atoms don't have any structure), liquid (atoms are disordered, but stay close to each other), and solid (ordered and packed).\n",
    "\n",
    "<img src=\"images/statesofmatter.jpg\" width=\"600\" height=\"248\" />\n",
    "\n",
    "## Solid phase: crystals and grains\n",
    "\n",
    "However, even when all of the atoms are in the same phase, they can still show some differences. Atoms in the solid phase can arrange themselves differently, as it can be seen in the following figure, where 3 common solid arrangements of atoms are shown:\n",
    "\n",
    "<img src=\"images/scfccbcc.png\" width=\"559\" height=\"238\" />\n",
    "\n",
    "The same material, in different conditions, can show any of these (and many other!) configurations. Changes in chemical composition, pressure, temperature can drive the material from one structure to another. However, for the rest of the lecture, we will assume that all atoms have the same configuration (e.g. FCC) and not consider differences in this sense.\n",
    "\n",
    "A group of atoms sharing the same arrangement and direction is called a <b>crystal</b>. Crystals are formed upon solidifications, when the atoms begin to re-arrange themselves in an ordered manner. However we talk about a \"crystalline\" system only when all of the atoms have the same orientation, which is hardly ever the case. It can happen that the atoms will have different orientations, different general directions, even if their internal arrangement is the same. In this case we talk about a polycristalline structure and we introduce the concept of grain.\n",
    "\n",
    "<img src=\"images/crystal-poly.png\" width=\"325\" height=\"200\" />\n",
    "\n",
    "A <b>grain</b> is a single crystal surrounded by other crystals of the same type, but at different orientations. Multiple grains, each oriented in a different manner, form the solid as we know it. The orientation, form and dimension of the grains are controlled by many factors, such as the cooling rate (the velocity at which the temperature is lowered) and the amount of other elements in the material, and affects the mechanical properties of the solid.\n",
    "\n",
    "In the following figure we can clearly see different grains, i.e. different groups of atoms that oriented in the same manner. The border between two crystals is called \"grain boundary\" and it is also important to know how it is shaped and the angle between different grains.\n",
    "<img src=\"images/grains-HRTEM-2.png\" width=\"454\" height=\"287\" />\n",
    "\n",
    "Therefore it is necessary to study how different parameters can influence the microscopic picture, in order to drive the solidification towards the system with the most interesting mechanical properties.\n",
    "\n",
    "## Solidification\n",
    "\n",
    "Solidification is the process or re-arrangement of the atoms from a very chaotic state to a very compact and ordinated one.\n",
    "\n",
    "At microscopic level it is very complex and till today remains one of the biggest challenges in computational materials science. There are two main concept to understand in order to make a reasonable model:\n",
    "\n",
    "   - Solidification is an activated process\n",
    "   - Solidification is driven by temperature\n",
    "    \n",
    "\n",
    "### Activated process\n",
    "\n",
    "Solidification does not happen at the same time everywhere, as the atoms do not tend to spontaneously re-arrange in a solid form on their own. It is usually necessary to wait for an \"event\" which creates a <b>seed</b> for the solidification. What happens in experiments is that a very small part of the liquid becomes solid (either spontaneously or due to some type of interaction) and forms a (small) solid seed. After this, all the liquid attached to it will start to solidify as well.\n",
    "\n",
    "<img src=\"images/GrainGrowth.gif\" width=\"226\" height=\"198\" />\n",
    "\n",
    "### Driven by temperature\n",
    "\n",
    "It is normally said that a liquid, once it has reached the solidification temperature, will become solid. However, this is not completely true. What really happens is that the liquid can be cooled beyond the transition temperature, before starting to solidify.\n",
    "\n",
    "The lower is the temperature of the liquid, the higher the probability that a seed will appear and will start to solidify together with its surrounding atoms. Therefore a seed that appears early will have more time to solidify the liquid, growing bigger than other grains.\n",
    "\n",
    "## Modelling grain growth with a CA\n",
    "\n",
    "Keeping in mind these two concepts, we can imagine what is necessary in order to provide a reasonable model of solidification, using a CA. We have to introduce a seed in the system, from which the solidification will have origin, at a temperature that is different for each seed. This will change the dimension and shape of the grain during its growth.\n",
    "\n",
    "Grains differ one from the other in terms of relative orientation of the atoms and this will be highlighted by using different colors for each grain. In reality each one, with its own orientation, will grow only following a certain direction and shape, however in this simple model we are going to disregard that.\n",
    "\n",
    "In this simple model we are going to assume that the temperature at which seeds appear at the border and in the center of the liquid can differ. This reflects the fact that the liquid can interact with external factors that will make the seed appear first in either region.\n",
    "\n",
    "The grains will grow by \"capturing\" the neighboring cells. The velocity of growth depends on the local supercooling of the liquid, which keeps increasing over time (as the liquid gets colder and colder).\n",
    "\n",
    "Differently from before, the CA does not have periodic boundary conditions and cells at the border will not interact with those at the other side.\n",
    "\n",
    "# These functions are now given, all the rules have already been implemented."
   ]
  },
  {
   "cell_type": "code",
   "execution_count": null,
   "metadata": {
    "collapsed": true
   },
   "outputs": [],
   "source": [
    "def ruleIterategg(matrix, shadowMatrix, undercoolingMatrix, seedMatrix, timestep=0.001, ngrains=42): \n",
    "    newMatrix = matrix.copy()\n",
    "    leny = matrix.shape[0]\n",
    "    lenx = matrix.shape[1]\n",
    "    \n",
    "    neighborList = [[-1,0],[0,-1],[1,0],[0,1]]\n",
    "    \n",
    "    # Just consider the cells that are non zero, i.e. the solid ones\n",
    "    grainy, grainx = matrix.nonzero()\n",
    "    # Iterate over the non zero cells to propagate them\n",
    "    for _idf in range(len(grainx)):\n",
    "        idgrain = int(matrix[grainy[_idf],grainx[_idf]]-1)\n",
    "        for delta in neighborList:\n",
    "            [idx,idy] = (np.array([grainx[_idf],grainy[_idf]]) + np.array(delta))\n",
    "            if (0 <= idx < lenx) and (0 <= idy < leny) and matrix[idy,idx] == 0:\n",
    "                shadowMatrix[idy,idx,idgrain] += (undercoolingMatrix[grainy[_idf],grainx[_idf]]**3 \\\n",
    "                                                  + undercoolingMatrix[grainy[_idf],grainx[_idf]]**2)*timestep\n",
    "                if shadowMatrix[idy,idx,idgrain] >=1:\n",
    "                    newMatrix[idy,idx] = idgrain+1\n",
    "                    seedMatrix[idy,idx] = 0\n",
    "    \n",
    "    # The non zero cells in the seed matrix\n",
    "    seedy, seedx = seedMatrix.nonzero()\n",
    "    # If now they are able to spawn, then make them spawn\n",
    "    for _ids in range(len(seedx)):\n",
    "        if undercoolingMatrix[seedy[_ids],seedx[_ids]] > seedMatrix[seedy[_ids],seedx[_ids]]:\n",
    "            newMatrix[seedy[_ids],seedx[_ids]] = np.random.randint(1,ngrains+1)\n",
    "            seedMatrix[seedy[_ids],seedx[_ids]] = 0\n",
    "\n",
    "    return newMatrix, shadowMatrix"
   ]
  },
  {
   "cell_type": "code",
   "execution_count": null,
   "metadata": {
    "collapsed": true
   },
   "outputs": [],
   "source": [
    "def RunAndShowgg(nx,ny,\\\n",
    "                 nGrainsSurface,deltaTSurfaceMean,deltaTSurfaceSigma,\\\n",
    "                 nGrainsVolume,deltaTVolumeMean,deltaTVolumeSigma, \\\n",
    "                 undercoolingVelocity, niter=10):\n",
    "    \n",
    "    global shadowMatrix\n",
    "    global undercoolingMatrix\n",
    "    \n",
    "    # We initialize the necessary matrixes that we are going to use in the program\n",
    "    cellularAutomata = makeMatrix(nx,ny,initialization=\"zeros\")\n",
    "    seedMatrix = makeMatrix(nx,ny,initialization=\"zeros\")\n",
    "    undercoolingMatrix = makeMatrix(nx,ny,initialization=\"zeros\")\n",
    "    orientations = 42\n",
    "    \n",
    "    # Here I am placing the seeds in random positions of the matrix\n",
    "    # First we do on the surface\n",
    "    for _idGrain in range(nGrainsSurface):\n",
    "        if np.random.randint(2):\n",
    "            idx = np.random.randint(0,nx-1)\n",
    "            idy = np.random.choice([0,ny-1])\n",
    "        else:\n",
    "            idx = np.random.choice([0,nx-1])\n",
    "            idy = np.random.randint(0,ny-1)\n",
    "        if seedMatrix[idy,idx] > 0:\n",
    "            seedMatrix[idy,idx] = np.min([seedMatrix[idy,idx],\\\n",
    "                                          np.random.normal(loc=deltaTSurfaceMean,scale=deltaTSurfaceSigma)])\n",
    "        else:            \n",
    "            seedMatrix[idy,idx] = np.random.normal(loc=deltaTSurfaceMean,scale=deltaTSurfaceSigma)\n",
    "    \n",
    "    # Then we do it in the bulk\n",
    "    for _idGrain in range(nGrainsVolume):\n",
    "        idx = np.random.randint(int(nx*.15),int(nx*.85))\n",
    "        idy = np.random.randint(int(ny*.15),int(ny*.85))\n",
    "        if seedMatrix[idy,idx] > 0:\n",
    "            seedMatrix[idy,idx] = np.min([seedMatrix[idy,idx],\\\n",
    "                                         np.random.normal(loc=deltaTVolumeMean,scale=deltaTVolumeSigma)])\n",
    "        else:            \n",
    "            seedMatrix[idy,idx] = np.random.normal(loc=deltaTVolumeMean,scale=deltaTVolumeSigma)\n",
    "        \n",
    "    # Inizialization of the cellmatrix to guarantee that it spans all of the colourbar\n",
    "    cellmatrix = makeMatrix(nx,ny,initialization=\"random\")*orientations\n",
    "    # Inizialization of the shadowMatrix that will contain the values of the \n",
    "    shadowMatrix = np.zeros((nx,ny,orientations+1))\n",
    "\n",
    "    fig = plt.figure(figsize= (8,8))\n",
    "    im = plt.imshow(cellmatrix,animated=True,cmap=\"Spectral\")\n",
    "    plt.title(\"Supercooling = {} K\".format(np.min(undercoolingMatrix)))\n",
    "    plt.colorbar()\n",
    "    \n",
    "    timestep = np.abs(1/(undercoolingVelocity*niter)**3)\n",
    "\n",
    "    def runstep(i):\n",
    "        global cellmatrix\n",
    "        global shadowMatrix\n",
    "        global undercoolingMatrix\n",
    "\n",
    "        if i==0: # Starting frame\n",
    "            cellmatrix = cellularAutomata.copy()\n",
    "            \n",
    "        else: # Everything else\n",
    "            undercoolingMatrix -= undercoolingVelocity\n",
    "            cellmatrix, shadowMatrix = ruleIterategg(cellmatrix,shadowMatrix,undercoolingMatrix,\\\n",
    "                                                     seedMatrix,timestep,ngrains=orientations)\n",
    "        #im.title(\"Supercooling = {} K\".format(np.min(undercoolingMatrix)))\n",
    "        im.set_data(cellmatrix)\n",
    "        return im\n",
    "\n",
    "\n",
    "    ani = animation.FuncAnimation(fig, runstep, frames=niter, interval = 80, repeat=False)\n",
    "    plt.close()\n",
    "    return ani"
   ]
  },
  {
   "cell_type": "markdown",
   "metadata": {},
   "source": [
    "## Now we can play around with the parameters that affect the simulation\n",
    "\n",
    "A few examples of interesting configurations are here provided, in order to show some patterns that can be created using this model.\n",
    "\n",
    "The parameters that can be freely modified are:\n",
    "\n",
    "   - <b>nx,ny</b> --> the dimension of the grid. The bigger the grid, the longer the simulation will take to evaluate\n",
    "   - <b>maxiter</b> --> the number of iterations of the simulation. It is useless to set it to a number greater than nx/2, because anyway the simulation will come to a stop. The longer it is, the more time it will take to evaluate\n",
    "   - <b>nGrainsSurface</b> --> the number of grains that must be randomly placed on the border of the grid\n",
    "   - <b>nGrainsVolume</b> --> the number of grains that must be randomly placed in the center of the grid\n",
    "   - <b>deltaTSurfaceMean</b> --> the average temperature of the grains on the border\n",
    "   - <b>deltaTSurfaceSigma</b> --> how far can the temperature can go from the mean for the seeds on the border\n",
    "   - <b>deltaTVolumeMean</b> --> the average temperature of the grains in the center\n",
    "   - <b>deltaTVolumeSigma</b> --> how far can the temperature can go from the mean for the seeds in the center\n",
    "   - <b>undercoolingVelocity</b> --> the cooling ratio of the liquid\n",
    "    \n",
    "### Case one: seeds appear first on the surface\n",
    "\n",
    "In this case we are going to set the parameters so that the seeds will appear first on the surface and only after in the center. This is a common scenario, because the seeds tend to form first where they are in contact with something solid (like the container where it is casted)\n",
    "\n",
    "How do you think the grains will look like?"
   ]
  },
  {
   "cell_type": "code",
   "execution_count": null,
   "metadata": {},
   "outputs": [],
   "source": [
    "[nx,ny] = [100,100]\n",
    "maxiter = 120\n",
    "nGrainsSurface = 100\n",
    "nGrainsVolume = 100\n",
    "deltaTSurfaceMean = 0.5\n",
    "deltaTSurfaceSigma = 0.2\n",
    "deltaTVolumeMean = 10\n",
    "deltaTVolumeSigma = 0.2\n",
    "undercoolingVelocity = -0.1\n",
    "\n",
    "\n",
    "\n",
    "ani = RunAndShowgg(nx,ny,nGrainsSurface,deltaTSurfaceMean,deltaTSurfaceSigma\\\n",
    "                   ,nGrainsVolume,deltaTVolumeMean,deltaTVolumeSigma, undercoolingVelocity, niter=maxiter)\n",
    "HTML(ani.to_jshtml())"
   ]
  },
  {
   "cell_type": "markdown",
   "metadata": {},
   "source": [
    "### Case two: seeds appear at the same time on the surface and in the bulk\n",
    "\n",
    "How do you think this will differ from the previous case?"
   ]
  },
  {
   "cell_type": "code",
   "execution_count": null,
   "metadata": {},
   "outputs": [],
   "source": [
    "[nx,ny] = [100,100]\n",
    "maxiter = 120\n",
    "nGrainsSurface = 100\n",
    "nGrainsVolume = 100\n",
    "deltaTSurfaceMean = 4\n",
    "deltaTSurfaceSigma = 0.1\n",
    "deltaTVolumeMean = 4\n",
    "deltaTVolumeSigma = 0.1\n",
    "undercoolingVelocity = -0.1\n",
    "\n",
    "\n",
    "\n",
    "ani = RunAndShowgg(nx,ny,nGrainsSurface,deltaTSurfaceMean,deltaTSurfaceSigma\\\n",
    "                   ,nGrainsVolume,deltaTVolumeMean,deltaTVolumeSigma, undercoolingVelocity, niter=maxiter)\n",
    "HTML(ani.to_jshtml())"
   ]
  },
  {
   "cell_type": "markdown",
   "metadata": {},
   "source": [
    "### Case three: seeds appear first in the bulk\n",
    "\n",
    "What do you think the simulation will look like?"
   ]
  },
  {
   "cell_type": "code",
   "execution_count": null,
   "metadata": {},
   "outputs": [],
   "source": [
    "[nx,ny] = [100,100]\n",
    "maxiter = 120\n",
    "nGrainsSurface = 100\n",
    "nGrainsVolume = 80\n",
    "deltaTSurfaceMean = 8\n",
    "deltaTSurfaceSigma = 0.1\n",
    "deltaTVolumeMean = 0.5\n",
    "deltaTVolumeSigma = 0.1\n",
    "undercoolingVelocity = -0.1\n",
    "\n",
    "\n",
    "\n",
    "ani = RunAndShowgg(nx,ny,nGrainsSurface,deltaTSurfaceMean,deltaTSurfaceSigma\\\n",
    "                   ,nGrainsVolume,deltaTVolumeMean,deltaTVolumeSigma, undercoolingVelocity, niter=maxiter)\n",
    "HTML(ani.to_jshtml())"
   ]
  },
  {
   "cell_type": "code",
   "execution_count": null,
   "metadata": {
    "collapsed": true
   },
   "outputs": [],
   "source": []
  },
  {
   "cell_type": "code",
   "execution_count": null,
   "metadata": {
    "collapsed": true
   },
   "outputs": [],
   "source": []
  },
  {
   "cell_type": "code",
   "execution_count": null,
   "metadata": {
    "collapsed": true
   },
   "outputs": [],
   "source": []
  },
  {
   "cell_type": "code",
   "execution_count": null,
   "metadata": {
    "collapsed": true
   },
   "outputs": [],
   "source": []
  },
  {
   "cell_type": "code",
   "execution_count": null,
   "metadata": {
    "collapsed": true
   },
   "outputs": [],
   "source": []
  },
  {
   "cell_type": "code",
   "execution_count": null,
   "metadata": {
    "collapsed": true
   },
   "outputs": [],
   "source": []
  }
 ],
 "metadata": {
  "hide_input": false,
  "kernelspec": {
   "display_name": "Python 3",
   "language": "python",
   "name": "python3"
  },
  "language_info": {
   "codemirror_mode": {
    "name": "ipython",
    "version": 3
   },
   "file_extension": ".py",
   "mimetype": "text/x-python",
   "name": "python",
   "nbconvert_exporter": "python",
   "pygments_lexer": "ipython3",
   "version": "3.6.5"
  },
  "latex_envs": {
   "LaTeX_envs_menu_present": true,
   "autoclose": false,
   "autocomplete": true,
   "bibliofile": "biblio.bib",
   "cite_by": "apalike",
   "current_citInitial": 1,
   "eqLabelWithNumbers": true,
   "eqNumInitial": 1,
   "hotkeys": {
    "equation": "Ctrl-E",
    "itemize": "Ctrl-I"
   },
   "labels_anchors": false,
   "latex_user_defs": false,
   "report_style_numbering": false,
   "user_envs_cfg": false
  }
 },
 "nbformat": 4,
 "nbformat_minor": 2
}
