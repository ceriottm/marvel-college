{
 "cells": [
  {
   "cell_type": "code",
   "execution_count": 1,
   "metadata": {
    "collapsed": true
   },
   "outputs": [],
   "source": [
    "import numpy as np\n",
    "import scipy as sc\n",
    "import numpy.linalg as npl\n",
    "import scipy.linalg as scl\n",
    "from scipy.spatial.distance import pdist,squareform\n",
    "import ase"
   ]
  },
  {
   "cell_type": "code",
   "execution_count": 2,
   "metadata": {
    "collapsed": true
   },
   "outputs": [],
   "source": [
    "#%load_ext line_profiler"
   ]
  },
  {
   "cell_type": "markdown",
   "metadata": {},
   "source": [
    "# Funcs"
   ]
  },
  {
   "cell_type": "markdown",
   "metadata": {},
   "source": [
    "## get Lennard Jones forces"
   ]
  },
  {
   "cell_type": "code",
   "execution_count": 8,
   "metadata": {
    "code_folding": [
     0,
     9,
     25
    ],
    "collapsed": true
   },
   "outputs": [],
   "source": [
    "def get_separations(position,positions):\n",
    "    \n",
    "    r = np.subtract(position,positions).reshape((-1,3))\n",
    "    \n",
    "    distances2 = np.power(r,2).sum(axis=1)\n",
    "    norms = np.sqrt(distances2).reshape((-1,1))\n",
    "    direction_vectors = np.divide(r,norms)\n",
    "    return distances2,direction_vectors\n",
    "    \n",
    "def get_forces_LJ(positions,sigma,epsilon):\n",
    "    \n",
    "    ll = list(set(range(Natom)).difference([iatom]))\n",
    "    distances2,direction_vectors = get_separations(positions[iatom],positions[ll])\n",
    "\n",
    "    c6 = np.power(np.divide(sigma**2, distances2),3)\n",
    "    c12 = np.power(c6,2)\n",
    "\n",
    "    #energy += 0.5 * np.sum(np.multiply(4 * epsilon , np.subtract(c12,c6)))\n",
    "\n",
    "    forces[iatom] += np.multiply(np.multiply(4 * epsilon ,np.subtract(np.multiply(c12, 12), np.multiply(c6, 6))).reshape((Natom-1,1)), \n",
    "                                     direction_vectors).sum(axis=0)\n",
    "        \n",
    "    \n",
    "    return forces\n",
    "\n",
    "def get_forces_LJ2(positions,sigma,epsilon):\n",
    "    Natom,_ = positions.shape\n",
    "    forces = np.zeros((Natom,3))\n",
    "    \n",
    "    ll = np.arange(Natom)\n",
    "    ll = [[ll[i - j] for i in range(1,Natom)] for j in range(Natom, 0, -1)]\n",
    "    \n",
    "    pps = np.asarray([positions[ll[it]] for it in range(Natom)],dtype=np.float64)\n",
    "    \n",
    "    r = np.subtract(positions.reshape((Natom,1,3)),pps)\n",
    "    distances2 = np.power(r,2).sum(axis=2)\n",
    "    norms = np.sqrt(distances2).reshape((Natom,Natom-1,1))\n",
    "    \n",
    "    c6 = np.power(np.divide(sigma**2, distances2),3)\n",
    "    c12 = np.power(c6,2)\n",
    "    \n",
    "    forces = np.multiply(np.multiply(4 * epsilon ,np.subtract(np.multiply(c12, 12), np.multiply(c6, 6))).reshape((Natom,Natom-1,1)), \n",
    "                                     np.divide(r,norms)).sum(axis=1)\n",
    "    return forces\n",
    "\n",
    "#def get_forces_LJ3(positions,sigma,epsilon):\n",
    "    \n",
    "n = 10\n",
    "#f1 = get_forces_LJ(np.random.rand(n,3),sigma=1,epsilon=1)\n",
    "f2 = get_forces_LJ2(np.random.rand(n,3),sigma=1,epsilon=1)\n",
    "#np.allclose(f1,f2)"
   ]
  },
  {
   "cell_type": "code",
   "execution_count": 9,
   "metadata": {
    "code_folding": [
     0,
     9
    ],
    "collapsed": true
   },
   "outputs": [],
   "source": [
    "def get_separations(position,positions):\n",
    "    \n",
    "    r = np.subtract(position,positions).reshape((-1,3))\n",
    "    \n",
    "    distances2 = np.power(r,2).sum(axis=1)\n",
    "    norms = np.sqrt(distances2).reshape((-1,1))\n",
    "    direction_vectors = np.divide(r,norms)\n",
    "    return distances2,direction_vectors\n",
    "    \n",
    "def get_forces_LJ(positions,sigma,epsilon):\n",
    "    Natom,_ = positions.shape\n",
    "    \n",
    "    energy = 0\n",
    "    \n",
    "    forces = np.zeros((Natom,3))\n",
    "    \n",
    "    for iatom in range(Natom):\n",
    "        ll = list(set(range(Natom)).difference([iatom]))\n",
    "        distances2,direction_vectors = get_separations(positions[iatom],positions[ll])\n",
    "        \n",
    "        c6 = np.power(np.divide(sigma**2, distances2),3)\n",
    "        c12 = np.power(c6,2)\n",
    "        \n",
    "        #energy += 0.5 * np.sum(np.multiply(4 * epsilon , np.subtract(c12,c6)))\n",
    "        \n",
    "        forces[iatom] += np.multiply(np.multiply(4 * epsilon ,np.subtract(np.multiply(c12, 12), np.multiply(c6, 6))).reshape((Natom-1,1)), \n",
    "                                     direction_vectors).sum(axis=0)\n",
    "        \n",
    "    \n",
    "    return forces"
   ]
  },
  {
   "cell_type": "markdown",
   "metadata": {
    "heading_collapsed": true
   },
   "source": [
    "## get spring forces"
   ]
  },
  {
   "cell_type": "code",
   "execution_count": 10,
   "metadata": {
    "code_folding": [
     2,
     19,
     39
    ],
    "collapsed": true,
    "hidden": true
   },
   "outputs": [],
   "source": [
    "def get_energy_and_forces_polymer1(positions,r_m,k_spring):\n",
    "    Natom,_ = positions.shape\n",
    "    forces = np.zeros(positions.shape)\n",
    "    energy = 0\n",
    "    st = range(Natom)\n",
    "    nd = list(range(1,Natom))+[0]\n",
    "    for it,jt in zip(st,nd):\n",
    "        r = positions[it] - positions[jt]\n",
    "        norm = npl.norm(r) \n",
    "        direction_vector = r / norm\n",
    "        force = - k_spring * (norm - r_m) * direction_vector\n",
    "        forces[it] += force\n",
    "        forces[jt] -= force\n",
    "        energy += 0.5*k_spring * (norm - r_m)**2\n",
    "        \n",
    "    return forces\n",
    "\n",
    "def get_energy_and_forces_polymer2(positions,r_m,k_spring):\n",
    "    Natom,_ = positions.shape\n",
    "    forces = np.zeros(positions.shape)\n",
    "    energy = 0\n",
    "    pp2 = np.empty(positions.shape)\n",
    "    pp1 = positions\n",
    "    pp2[:-1] = positions[1:]\n",
    "    pp2[-1] = positions[0]\n",
    "    \n",
    "    r = np.subtract(pp1,pp2)\n",
    "    norms = npl.norm(r,axis=1).reshape((-1,1))\n",
    "    direction_vectors = np.divide(r,norms)\n",
    "    ffs = - np.multiply(k_spring, np.multiply(np.subtract(norms, r_m), direction_vectors))\n",
    "    st = range(Natom)\n",
    "    nd = list(range(1,Natom))+[0]\n",
    "    for ff,it,jt in zip(ffs,st,nd):\n",
    "        forces[it] += ff\n",
    "        forces[jt] -= ff\n",
    "    return forces\n",
    "\n",
    "def get_forces_polymer(positions,r_m,k_spring):\n",
    "    Natom,_ = positions.shape\n",
    "    forces = np.zeros(positions.shape)\n",
    "    energy = 0\n",
    "    pp2 = np.empty(positions.shape)\n",
    "    pp1 = positions\n",
    "    pp2[:-1] = positions[1:]\n",
    "    pp2[-1] = positions[0]\n",
    "    \n",
    "    r = np.subtract(pp1,pp2)\n",
    "    norms = npl.norm(r,axis=1).reshape((-1,1))\n",
    "    direction_vectors = np.divide(r,norms)\n",
    "    ffs = - np.multiply(k_spring, np.multiply(np.subtract(norms, r_m), direction_vectors))\n",
    "    # st = range(Natom)\n",
    "    # nd = list(range(1,Natom))+[0]\n",
    "    st = range(Natom-1)\n",
    "    nd = list(range(1,Natom))\n",
    "    for ff,it,jt in zip(ffs,st,nd):\n",
    "        forces[it] += ff\n",
    "        forces[jt] -= ff\n",
    "        \n",
    "        \n",
    "    return forces"
   ]
  },
  {
   "cell_type": "markdown",
   "metadata": {
    "heading_collapsed": true
   },
   "source": [
    "## integrator"
   ]
  },
  {
   "cell_type": "code",
   "execution_count": 11,
   "metadata": {
    "code_folding": [
     0
    ],
    "collapsed": true,
    "hidden": true
   },
   "outputs": [],
   "source": [
    "def move_velocity_verlet(positions,velocities,accelerations,dt,mass,r_m,epsilon,k_spring):\n",
    "    \n",
    "    sigma = r_m / 2**(1./6.)\n",
    "    \n",
    "    \n",
    "    v_half = velocities + 0.5 * dt * accelerations\n",
    "    new_positions = positions + dt * v_half\n",
    "    \n",
    "    forces = np.zeros(positions.shape)\n",
    "    forces += get_forces_LJ2(new_positions,sigma,epsilon)\n",
    "    forces += get_forces_polymer(positions,r_m,k_spring)\n",
    "    \n",
    "    new_accelerations = forces / mass\n",
    "    \n",
    "    new_velocities = v_half + 0.5 * dt * new_accelerations\n",
    "    \n",
    "    return new_positions,new_velocities,new_accelerations"
   ]
  },
  {
   "cell_type": "markdown",
   "metadata": {},
   "source": [
    "## thermostat"
   ]
  },
  {
   "cell_type": "code",
   "execution_count": 12,
   "metadata": {
    "collapsed": true
   },
   "outputs": [],
   "source": [
    "def andersen_thermostat(velocities,temperature):  \n",
    "    velocities = np.random.normal(loc=0.0, scale=np.sqrt(temperature),size=velocities.shape)\n",
    "    return velocities"
   ]
  },
  {
   "cell_type": "markdown",
   "metadata": {},
   "source": [
    "## main engine"
   ]
  },
  {
   "cell_type": "code",
   "execution_count": 13,
   "metadata": {
    "code_folding": [
     0
    ],
    "collapsed": true
   },
   "outputs": [],
   "source": [
    "def MD_NVT_simulator(positions,mass,temperature,r_m,epsilon,k_spring,Nstep,dt,thermostat_Nstep):\n",
    "    Natom, _ = positions.shape\n",
    "    velocities = np.zeros(positions.shape)\n",
    "    accelerations = np.zeros(positions.shape)\n",
    "    from tqdm import tqdm as tqdm_cs\n",
    "    pos = []\n",
    "    vel = []\n",
    "    k_b = 8.61733e-5 # eV / K\n",
    "        \n",
    "    for it in tqdm_cs(range(Nstep)):\n",
    "        \n",
    "        if it % thermostat_Nstep == 0:\n",
    "            velocities = andersen_thermostat(velocities,k_b*temperature)\n",
    "        \n",
    "        pos.append(positions)\n",
    "        vel.append(velocities)\n",
    "        \n",
    "        positions,velocities,accelerations = move_velocity_verlet(positions,velocities,accelerations,\n",
    "                                                                  dt,mass,r_m,epsilon,k_spring)\n",
    "        \n",
    "        \n",
    "        \n",
    "    return pos,vel"
   ]
  },
  {
   "cell_type": "markdown",
   "metadata": {},
   "source": [
    "## trajectory visualiser"
   ]
  },
  {
   "cell_type": "code",
   "execution_count": 14,
   "metadata": {
    "collapsed": true
   },
   "outputs": [],
   "source": [
    "def traj_view(t):\n",
    "    view=nv.show_asetraj(t, gui=True)\n",
    "    view.clear_representations()\n",
    "    view.add_ball_and_stick(aspectRatio=4)\n",
    "    return view"
   ]
  },
  {
   "cell_type": "code",
   "execution_count": 19,
   "metadata": {
    "collapsed": true
   },
   "outputs": [],
   "source": [
    "def view_traj(pos,stride):\n",
    "    from ase.visualize import view\n",
    "    from nglview import show_asetraj,show_ase\n",
    "    from ase import Atoms\n",
    "    Natom,_ = pos[0].shape\n",
    "    num = [1]*Natom\n",
    "    #cell = pos[0].max()*10*np.eye(3)\n",
    "    #frames = [Atoms(numbers=num,positions=pp,cell=cell,pbc=False) for pp in pos[::stride]]\n",
    "    frames = [Atoms(numbers=num,positions=pp,pbc=False) for pp in pos[::stride]]\n",
    "    view = show_asetraj(frames, gui=False)\n",
    "    view.clear_representations()\n",
    "    view.add_ball_and_stick(aspectRatio=4)\n",
    "    return view"
   ]
  },
  {
   "cell_type": "markdown",
   "metadata": {},
   "source": [
    "# run MD"
   ]
  },
  {
   "cell_type": "code",
   "execution_count": 16,
   "metadata": {
    "collapsed": true
   },
   "outputs": [],
   "source": [
    "from nglview import show_asetraj,show_ase"
   ]
  },
  {
   "cell_type": "code",
   "execution_count": 20,
   "metadata": {
    "code_folding": [
     0
    ]
   },
   "outputs": [
    {
     "data": {
      "text/html": [
       "<p>Failed to display Jupyter Widget of type <code>NGLWidget</code>.</p>\n",
       "<p>\n",
       "  If you're reading this message in the Jupyter Notebook or JupyterLab Notebook, it may mean\n",
       "  that the widgets JavaScript is still loading. If this message persists, it\n",
       "  likely means that the widgets JavaScript library is either not installed or\n",
       "  not enabled. See the <a href=\"https://ipywidgets.readthedocs.io/en/stable/user_install.html\">Jupyter\n",
       "  Widgets Documentation</a> for setup instructions.\n",
       "</p>\n",
       "<p>\n",
       "  If you're reading this message in another frontend (for example, a static\n",
       "  rendering on GitHub or <a href=\"https://nbviewer.jupyter.org/\">NBViewer</a>),\n",
       "  it may mean that your frontend doesn't currently support widgets.\n",
       "</p>\n"
      ],
      "text/plain": [
       "NGLWidget()"
      ]
     },
     "metadata": {},
     "output_type": "execute_result"
    }
   ],
   "source": [
    "def make_linear_chain(N,r_m):\n",
    "    r = N * r_m / (2*np.pi)\n",
    "    n = np.arange(N)\n",
    "    pos = np.asarray([r * np.cos(2*np.pi* n/N), r * np.sin(2*np.pi* n/N),np.zeros(N)]).T\n",
    "    return pos.reshape((-1,3))\n",
    "view = view_traj([make_linear_chain(N=10,r_m=1)],1)\n",
    "view"
   ]
  },
  {
   "cell_type": "code",
   "execution_count": 21,
   "metadata": {
    "code_folding": [
     0
    ]
   },
   "outputs": [
    {
     "data": {
      "text/html": [
       "<p>Failed to display Jupyter Widget of type <code>NGLWidget</code>.</p>\n",
       "<p>\n",
       "  If you're reading this message in the Jupyter Notebook or JupyterLab Notebook, it may mean\n",
       "  that the widgets JavaScript is still loading. If this message persists, it\n",
       "  likely means that the widgets JavaScript library is either not installed or\n",
       "  not enabled. See the <a href=\"https://ipywidgets.readthedocs.io/en/stable/user_install.html\">Jupyter\n",
       "  Widgets Documentation</a> for setup instructions.\n",
       "</p>\n",
       "<p>\n",
       "  If you're reading this message in another frontend (for example, a static\n",
       "  rendering on GitHub or <a href=\"https://nbviewer.jupyter.org/\">NBViewer</a>),\n",
       "  it may mean that your frontend doesn't currently support widgets.\n",
       "</p>\n"
      ],
      "text/plain": [
       "NGLWidget()"
      ]
     },
     "metadata": {},
     "output_type": "execute_result"
    }
   ],
   "source": [
    "def make_globular_chain(N,r_m,seed=10):\n",
    "    np.random.seed(seed)\n",
    "    pos = [np.zeros(3)]\n",
    "    r = r_m\n",
    "    for it in range(N):\n",
    "        theta,phi = np.random.rand(2)\n",
    "        pos.append(np.array(\n",
    "                   [r * np.sin(theta*np.pi) * np.cos(phi*2*np.pi),\n",
    "                    r * np.sin(theta*np.pi) * np.sin(phi*2*np.pi),\n",
    "                    r * np.cos(theta*np.pi) ]\n",
    "                    ) + pos[-1])\n",
    "    return np.asarray(pos)\n",
    "view_traj([make_globular_chain(N=10,r_m=1)],1)"
   ]
  },
  {
   "cell_type": "code",
   "execution_count": 22,
   "metadata": {},
   "outputs": [
    {
     "name": "stdout",
     "output_type": "stream",
     "text": [
      "0.23416049103469086\n",
      "16.67 0.01\n"
     ]
    }
   ],
   "source": [
    "epsilon = 1.\n",
    "r_m = 1.\n",
    "k_spring = 16.67 * epsilon / r_m**2\n",
    "mass = 10.\n",
    "print(np.pi / 6. * np.sqrt(2*epsilon / (mass* r_m**2)))\n",
    "dt = 0.01\n",
    "print(k_spring,dt)\n",
    "initial_pos = make_linear_chain(100,r_m)"
   ]
  },
  {
   "cell_type": "code",
   "execution_count": 23,
   "metadata": {},
   "outputs": [
    {
     "name": "stderr",
     "output_type": "stream",
     "text": [
      "100%|██████████| 10000/10000 [00:39<00:00, 256.29it/s]\n"
     ]
    }
   ],
   "source": [
    "T = 4.\n",
    "pos,vel = MD_NVT_simulator(initial_pos,mass=mass,r_m=r_m,epsilon=epsilon,\n",
    "                           k_spring=k_spring,temperature=T,\n",
    "                           Nstep=10000,dt=dt,thermostat_Nstep=2000)"
   ]
  },
  {
   "cell_type": "code",
   "execution_count": 24,
   "metadata": {},
   "outputs": [
    {
     "data": {
      "text/html": [
       "<p>Failed to display Jupyter Widget of type <code>NGLWidget</code>.</p>\n",
       "<p>\n",
       "  If you're reading this message in the Jupyter Notebook or JupyterLab Notebook, it may mean\n",
       "  that the widgets JavaScript is still loading. If this message persists, it\n",
       "  likely means that the widgets JavaScript library is either not installed or\n",
       "  not enabled. See the <a href=\"https://ipywidgets.readthedocs.io/en/stable/user_install.html\">Jupyter\n",
       "  Widgets Documentation</a> for setup instructions.\n",
       "</p>\n",
       "<p>\n",
       "  If you're reading this message in another frontend (for example, a static\n",
       "  rendering on GitHub or <a href=\"https://nbviewer.jupyter.org/\">NBViewer</a>),\n",
       "  it may mean that your frontend doesn't currently support widgets.\n",
       "</p>\n"
      ],
      "text/plain": [
       "NGLWidget(count=100)"
      ]
     },
     "metadata": {},
     "output_type": "execute_result"
    }
   ],
   "source": [
    "view_traj(pos,100)"
   ]
  },
  {
   "cell_type": "code",
   "execution_count": 84,
   "metadata": {},
   "outputs": [
    {
     "name": "stderr",
     "output_type": "stream",
     "text": [
      "100%|██████████| 10000/10000 [01:20<00:00, 124.05it/s]\n"
     ]
    }
   ],
   "source": [
    "pos,vel = MD_NVT_simulator(pos[-1],mass=mass,r_m=r_m,epsilon=epsilon,\n",
    "                           k_spring=k_spring,temperature=T,\n",
    "                           Nstep=10000,dt=dt,thermostat_Nstep=2000)"
   ]
  },
  {
   "cell_type": "code",
   "execution_count": 85,
   "metadata": {
    "collapsed": true
   },
   "outputs": [],
   "source": [
    "view_traj(pos,100)"
   ]
  },
  {
   "cell_type": "code",
   "execution_count": 35,
   "metadata": {
    "collapsed": true
   },
   "outputs": [],
   "source": [
    "initial_pos = np.array([[ 7.57791562,  6.05943954,  4.29313611],\n",
    "       [ 9.68264401,  7.29780593,  6.16368313],\n",
    "       [ 3.56309168,  3.4864184 ,  1.7344766 ],\n",
    "       [ 4.34609445,  8.26733904,  1.73420634],\n",
    "       [ 7.2692545 ,  1.6044641 ,  2.37728721],\n",
    "       [ 9.95430504,  9.75743299,  1.97981315],\n",
    "       [ 7.39230153,  7.12396028,  7.04031191],\n",
    "       [ 3.4686374 ,  9.90738663,  6.84665733],\n",
    "       [ 8.38584324,  6.83163809,  6.54699294],\n",
    "       [ 1.40366425,  7.42216277,  0.10324773]])"
   ]
  },
  {
   "cell_type": "code",
   "execution_count": 37,
   "metadata": {
    "collapsed": true
   },
   "outputs": [],
   "source": [
    "initial_pos = np.array([\n",
    "          [0.1947679907,        0.3306365642,        1.7069272101],\n",
    "          [1.1592174250,       -1.1514615100,       -0.6254746298],\n",
    "          [1.4851406793,       -0.0676273830,        0.9223060046],\n",
    "         [-0.1498046416,        1.4425168343,       -0.9785553065],\n",
    "          [1.4277261305,        0.3530265376,       -0.9475378022],\n",
    "         [-0.6881246261,       -1.5737014419,       -0.3328844168],\n",
    "         [-1.4277352637,       -0.3530034531,        0.9475270683],\n",
    "         [ 0.6881257085,        1.5736904826,        0.3329032458],\n",
    "         [-1.1592204530,        1.1514535263,        0.6254777879],\n",
    "         [ 0.1498035273,       -1.4424985165,        0.9785685322],\n",
    "         [-1.4851196066,        0.0676193562,       -0.9223231092],\n",
    "         [-0.7057028384,        0.6207073550,       -1.4756523155],\n",
    "         [-0.8745359533,        0.4648140463,        1.4422103492],\n",
    "         [-0.9742077067,       -0.8837261792,       -1.1536019836],\n",
    "         [-0.1947765396,       -0.3306358487,       -1.7069179299],\n",
    "          [0.3759933035,       -1.7072373106,       -0.0694439840],\n",
    "         [-1.7124296000,        0.3336352522,        0.1307959669],\n",
    "         [ 0.9143159284,        1.3089975397,       -0.7151210582],\n",
    "         [-0.3759920260,        1.7072300336,        0.0694634263],\n",
    "         [ 1.7124281219,       -0.3336312342,       -0.1308207313],\n",
    "         [-0.9143187026,       -1.3089785474,        0.7151290509],\n",
    "         [ 0.9742085109,        0.8837023041,        1.1536069633],\n",
    "         [ 0.7057104439,       -0.6206907639,        1.4756502961],\n",
    "         [ 0.8745319670,       -0.4648127187,       -1.4422106957],\n",
    "         [-1.1954804901,       -0.6171923123,       -0.1021449363],\n",
    "         [ 0.0917363053,       -1.0144887859,       -0.8848410405],\n",
    "         [ 0.9276243144,       -0.8836123311,        0.4234140820],\n",
    "         [ 1.1954744473,        0.6171883800,        0.1021399054],\n",
    "         [-0.9276176774,        0.8836123556,       -0.4234173533],\n",
    "         [-0.3595942315,       -0.4863167551,        1.2061133825],\n",
    "          [0.3595891589,        0.4863295901,       -1.2061152849],\n",
    "         [-0.0917352078,        1.0144694592,        0.8848400639],\n",
    "         [ 0.6410702480,       -0.1978633363,       -0.3898095439],\n",
    "         [-0.4162942817,       -0.0651798741,       -0.6515502084],\n",
    "         [ 0.1334019604,        0.7474406294,       -0.1600033264],\n",
    "         [-0.6410732823,        0.1978593218,        0.3898012337],\n",
    "         [ 0.4162968444,        0.0651733322,        0.6515490914],\n",
    "         [-0.1333998872,       -0.7474445984,        0.1600019961],\n",
    "])"
   ]
  },
  {
   "cell_type": "code",
   "execution_count": 38,
   "metadata": {
    "collapsed": true
   },
   "outputs": [],
   "source": [
    "view_traj([initial_pos],1)"
   ]
  },
  {
   "cell_type": "code",
   "execution_count": null,
   "metadata": {
    "collapsed": true
   },
   "outputs": [],
   "source": []
  }
 ],
 "metadata": {
  "kernelspec": {
   "display_name": "Python 3 soap",
   "language": "python",
   "name": "soap"
  },
  "language_info": {
   "codemirror_mode": {
    "name": "ipython",
    "version": 3
   },
   "file_extension": ".py",
   "mimetype": "text/x-python",
   "name": "python",
   "nbconvert_exporter": "python",
   "pygments_lexer": "ipython3",
   "version": "3.6.2"
  },
  "toc": {
   "nav_menu": {
    "height": "160px",
    "width": "252px"
   },
   "number_sections": true,
   "sideBar": true,
   "skip_h1_title": false,
   "title_cell": "Table of Contents",
   "title_sidebar": "Contents",
   "toc_cell": false,
   "toc_position": {
    "height": "461px",
    "left": "0px",
    "right": "927.667px",
    "top": "107px",
    "width": "139px"
   },
   "toc_section_display": "block",
   "toc_window_display": false
  }
 },
 "nbformat": 4,
 "nbformat_minor": 1
}
