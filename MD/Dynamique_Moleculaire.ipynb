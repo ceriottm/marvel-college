{
 "cells": [
  {
   "cell_type": "code",
   "execution_count": 1,
   "metadata": {
    "collapsed": true
   },
   "outputs": [],
   "source": [
    "import numpy as np\n",
    "import scipy as sc\n",
    "import numpy.linalg as npl\n",
    "import scipy.linalg as scl\n",
    "from scipy.spatial.distance import pdist,squareform\n",
    "import ase"
   ]
  },
  {
   "cell_type": "code",
   "execution_count": 2,
   "metadata": {
    "collapsed": true
   },
   "outputs": [],
   "source": [
    "%matplotlib inline\n",
    "import matplotlib.pyplot as plt"
   ]
  },
  {
   "cell_type": "code",
   "execution_count": 3,
   "metadata": {
    "collapsed": true
   },
   "outputs": [],
   "source": [
    "#%load_ext line_profiler"
   ]
  },
  {
   "cell_type": "markdown",
   "metadata": {},
   "source": [
    "# Funcs"
   ]
  },
  {
   "cell_type": "markdown",
   "metadata": {},
   "source": [
    "## get Lennard Jones forces"
   ]
  },
  {
   "cell_type": "code",
   "execution_count": 4,
   "metadata": {
    "code_folding": [
     9,
     25
    ],
    "collapsed": true
   },
   "outputs": [],
   "source": [
    "def get_separations(position,positions):\n",
    "    \n",
    "    r = np.subtract(position,positions).reshape((-1,3))\n",
    "    \n",
    "    distances2 = np.power(r,2).sum(axis=1)\n",
    "    norms = np.sqrt(distances2).reshape((-1,1))\n",
    "    direction_vectors = r#np.divide(r,norms)\n",
    "    return distances2,direction_vectors\n",
    "    \n",
    "def get_forces_LJ(positions,sigma,epsilon):\n",
    "    \n",
    "    ll = list(set(range(Natom)).difference([iatom]))\n",
    "    distances2,direction_vectors = get_separations(positions[iatom],positions[ll])\n",
    "\n",
    "    c6 = np.power(np.divide(sigma**2, distances2),3)\n",
    "    c12 = np.power(c6,2)\n",
    "\n",
    "    #energy += 0.5 * np.sum(np.multiply(4 * epsilon , np.subtract(c12,c6)))\n",
    "\n",
    "    forces[iatom] += np.multiply(np.multiply(4 * epsilon ,np.subtract(np.multiply(c12, 12), np.multiply(c6, 6))).reshape((Natom-1,1)), \n",
    "                                     direction_vectors).sum(axis=0)\n",
    "        \n",
    "    \n",
    "    return forces\n",
    "\n",
    "def get_forces_LJ2(positions,sigma,epsilon):\n",
    "    Natom,_ = positions.shape\n",
    "    forces = np.zeros((Natom,3))\n",
    "    \n",
    "    ll = np.arange(Natom)\n",
    "    ll = [[ll[i - j] for i in range(1,Natom)] for j in range(Natom, 0, -1)]\n",
    "    \n",
    "    pps = np.asarray([positions[ll[it]] for it in range(Natom)],dtype=np.float64)\n",
    "    \n",
    "    r = np.subtract(positions.reshape((Natom,1,3)),pps)\n",
    "    distances2 = np.power(r,2).sum(axis=2)\n",
    "    norms = np.sqrt(distances2).reshape((Natom,Natom-1,1))\n",
    "    \n",
    "    c6 = np.power(np.divide(sigma**2, distances2),3)\n",
    "    c12 = np.power(c6,2)\n",
    "    \n",
    "    forces = np.multiply(np.multiply(4 * epsilon ,np.subtract(np.multiply(c12, 12), np.multiply(c6, 6))).reshape((Natom,Natom-1,1)), \n",
    "                                     np.divide(r,norms)).sum(axis=1)\n",
    "    return forces\n",
    "\n",
    "#def get_forces_LJ3(positions,sigma,epsilon):\n",
    "    \n",
    "n = 10\n",
    "#f1 = get_forces_LJ(np.random.rand(n,3),sigma=1,epsilon=1)\n",
    "f2 = get_forces_LJ2(np.random.rand(n,3),sigma=1,epsilon=1)\n",
    "#np.allclose(f1,f2)"
   ]
  },
  {
   "cell_type": "code",
   "execution_count": 5,
   "metadata": {
    "collapsed": true
   },
   "outputs": [],
   "source": [
    "def get_numerical_force(pot_func,r,*args):\n",
    "    from numpy.linalg import norm\n",
    "    e_x,e_y,e_z = np.array([1,0,0]),np.array([0,1,0]),np.array([0,0,1])\n",
    "    h = 1e-6\n",
    "    F_x = - ( pot_func(norm(r+e_x*h),*args) - pot_func(norm(r-e_x*h),*args) )  / (2*h)\n",
    "    F_y = - ( pot_func(norm(r+e_y*h),*args) - pot_func(norm(r-e_y*h),*args) )  / (2*h)\n",
    "    F_z = - ( pot_func(norm(r+e_z*h),*args) - pot_func(norm(r-e_z*h),*args) )  / (2*h)\n",
    "    return np.array([F_x,F_y,F_z])"
   ]
  },
  {
   "cell_type": "code",
   "execution_count": 6,
   "metadata": {
    "code_folding": [],
    "collapsed": true
   },
   "outputs": [],
   "source": [
    "def calcule_r_et_d(positions):\n",
    "    Nparticule,_ = positions.shape\n",
    "    # matrice des distances\n",
    "    distances2 = np.zeros((Nparticule,Nparticule-1))\n",
    "    # matrice des vecteurs de direction\n",
    "    sepVec = np.zeros((Nparticule,Nparticule-1,3))\n",
    "    # TODO\n",
    "    dd_diag = np.zeros((Nparticule-1))\n",
    "    sepVec_diag = np.zeros((Nparticule-1,3))\n",
    "    for ii in range(Nparticule-1):\n",
    "        # calcule les vecteurs d'orientation: pour chaque position prendre la difference avec les autres positions\n",
    "        rr = positions[ii] - positions[ii+1:]\n",
    "        # calcule la norme des vecteur d'orientation\n",
    "        dd = np.power(rr,2).sum(axis=1)\n",
    "        dd_diag[ii] = np.sqrt(dd[0])\n",
    "        sepVec_diag[ii] = rr[0] / dd_diag[ii]\n",
    "        # distances2[ii,ii+1:] = distances2[ii+1:,ii] = dd\n",
    "        distances2[ii,ii:] = distances2[ii+1:,ii] = dd\n",
    "        #distances2[ii+1:,ii] = dd\n",
    "        # normalise les vecteurs d'orientation\n",
    "        sepVec[ii,ii:,:] = rr \n",
    "        sepVec[ii+1:,ii,:] = - sepVec[ii,ii:,:]\n",
    "    return distances2,sepVec,dd_diag,sepVec_diag"
   ]
  },
  {
   "cell_type": "markdown",
   "metadata": {},
   "source": [
    "$\\mathbf{F}_{LJ}\\left(\\mathbf{r}\\right)  = \\mathbf{\\hat{r}} \\,F_{LJ}\\left(d\\right) = \\mathbf{\\hat{r}}  \\frac{12 \\epsilon}{d} \\left[\\left(\\frac{r_m}{d}\\right)^{12}-\\left(\\frac{r_m}{d}\\right)^{6}  \\right] $"
   ]
  },
  {
   "cell_type": "code",
   "execution_count": 7,
   "metadata": {
    "code_folding": [],
    "collapsed": true
   },
   "outputs": [],
   "source": [
    "def get_forces_LJ(distances2,sepVec,r_m,epsilon,forces):\n",
    "    Natom,_ = positions.shape\n",
    "    #forces = np.zeros((Natom,3))\n",
    "    r_m2 = r_m**2\n",
    "    epsi = 12*epsilon\n",
    "    pot = 0\n",
    "    for iatom in range(Natom):\n",
    "        c6 = np.power(np.divide(r_m2,distances2[iatom]),3)\n",
    "        c12 = np.power(c6,2)\n",
    "        fac = np.multiply(np.divide(epsi,distances2[iatom]),np.subtract(c12,c6)).reshape((1,-1,1))\n",
    "        forces[iatom] += np.sum(np.multiply(sepVec[iatom],fac),axis=1).flatten()\n",
    "        #if iatom == 1:\n",
    "        pot += 0.5*np.sum(epsilon*np.subtract(c12,2*c6))\n",
    "    return pot"
   ]
  },
  {
   "cell_type": "markdown",
   "metadata": {},
   "source": [
    "$\\mathbf{F}_{Har}\\left(\\mathbf{r}\\right)  = \\mathbf{\\hat{r}} \\,F_{Har}\\left(d\\right) =  - 2 k \\, (d - r_m)  \\mathbf{\\hat{r}} $\n"
   ]
  },
  {
   "cell_type": "code",
   "execution_count": 8,
   "metadata": {
    "code_folding": [],
    "collapsed": true
   },
   "outputs": [],
   "source": [
    "def get_forces_polymer(dd_diag,sepVec_diag,r_m,k_spring,forces):\n",
    "    \n",
    "    force_resort = np.multiply( -2*k_spring*(dd_diag-r_m).reshape((-1,1)),sepVec_diag)\n",
    "    forces[:-1] += force_resort\n",
    "    forces[1:] -= force_resort\n",
    "    pot = np.sum( k_spring*(dd_diag-r_m)**2 )\n",
    "    return pot"
   ]
  },
  {
   "cell_type": "code",
   "execution_count": 9,
   "metadata": {
    "code_folding": [
     0
    ],
    "collapsed": true
   },
   "outputs": [],
   "source": [
    "def Potentiel_Harmonique(d,r_m,k):\n",
    "    ''' '''\n",
    "    return k*( d - r_m)**2\n",
    "def Potentiel_LennardJones(d,r_m,epsilon):\n",
    "    ''' '''\n",
    "    return epsilon*( (r_m/d)**12 - 2*(r_m/d)**6)"
   ]
  },
  {
   "cell_type": "code",
   "execution_count": 10,
   "metadata": {
    "collapsed": true
   },
   "outputs": [],
   "source": [
    "positions,r_m,epsilon,k_spring = np.array([[1,1,0],[1,0,0],[1,0,1]]),0.8,1.,1.\n",
    "#positions,r_m,epsilon,k_spring = np.array([[0,0,0],[0.9,1.3,0.99]]),1.2,1.,1"
   ]
  },
  {
   "cell_type": "code",
   "execution_count": 11,
   "metadata": {
    "code_folding": [
     2
    ],
    "collapsed": true
   },
   "outputs": [],
   "source": [
    "import math\n",
    "\n",
    "def rotation_matrix(axis, theta):\n",
    "    \"\"\"\n",
    "    Return the rotation matrix associated with counterclockwise rotation about\n",
    "    the given axis by theta radians.\n",
    "    \"\"\"\n",
    "    axis = np.asarray(axis)\n",
    "    axis = axis/math.sqrt(np.dot(axis, axis))\n",
    "    a = math.cos(theta/2.0)\n",
    "    b, c, d = -axis*math.sin(theta/2.0)\n",
    "    aa, bb, cc, dd = a*a, b*b, c*c, d*d\n",
    "    bc, ad, ac, ab, bd, cd = b*c, a*d, a*c, a*b, b*d, c*d\n",
    "    return np.array([[aa+bb-cc-dd, 2*(bc+ad), 2*(bd-ac)],\n",
    "                     [2*(bc-ad), aa+cc-bb-dd, 2*(cd+ab)],\n",
    "                     [2*(bd+ac), 2*(cd-ab), aa+dd-bb-cc]])"
   ]
  },
  {
   "cell_type": "code",
   "execution_count": 12,
   "metadata": {},
   "outputs": [
    {
     "data": {
      "text/plain": [
       "1.0"
      ]
     },
     "execution_count": 12,
     "metadata": {},
     "output_type": "execute_result"
    }
   ],
   "source": [
    "positions,r_m,epsilon,k_spring = np.array([[1,1,0],[1,0,0],[1,0,1]]),0.8,1.,1.\n",
    "rot = rotation_matrix([0,1,1],np.pi*0.)\n",
    "positions = np.dot(positions,rot)\n",
    "np.linalg.norm(positions[1]-positions[0])"
   ]
  },
  {
   "cell_type": "code",
   "execution_count": 12,
   "metadata": {
    "collapsed": true
   },
   "outputs": [],
   "source": [
    "Nparticule = len(positions)\n",
    "distances2,sepVec,dd_diag,sepVec_diag = calcule_r_et_d(positions)"
   ]
  },
  {
   "cell_type": "markdown",
   "metadata": {
    "heading_collapsed": true
   },
   "source": [
    "### check lj"
   ]
  },
  {
   "cell_type": "code",
   "execution_count": 109,
   "metadata": {
    "collapsed": true,
    "hidden": true
   },
   "outputs": [],
   "source": [
    "positions,r_m,epsilon,k_spring = np.array([[1,1,0],[1,0,0],[1,0,1],[1,1,1]]),1.,1.,1.\n",
    "#positions,r_m,epsilon,k_spring = np.array([[0,0,0],[0.9,1.3,0.99]]),1.2,1.,1"
   ]
  },
  {
   "cell_type": "code",
   "execution_count": 110,
   "metadata": {
    "collapsed": true,
    "hidden": true
   },
   "outputs": [],
   "source": [
    "positions = np.random.rand(4,3)"
   ]
  },
  {
   "cell_type": "code",
   "execution_count": 111,
   "metadata": {
    "hidden": true
   },
   "outputs": [
    {
     "name": "stdout",
     "output_type": "stream",
     "text": [
      "49.31245870163867\n"
     ]
    },
    {
     "data": {
      "text/plain": [
       "array([ -55.01752739, -930.81442541,  404.14619784])"
      ]
     },
     "execution_count": 111,
     "metadata": {},
     "output_type": "execute_result"
    }
   ],
   "source": [
    "r = positions[1]-positions[0]\n",
    "ppp = 0\n",
    "F_num = get_numerical_force(Potentiel_LennardJones,r,*[r_m,epsilon])\n",
    "ppp += Potentiel_LennardJones(np.linalg.norm(r),*[r_m,epsilon])\n",
    "r = positions[1]-positions[2]\n",
    "F_num += get_numerical_force(Potentiel_LennardJones,r,*[r_m,epsilon])\n",
    "ppp += Potentiel_LennardJones(np.linalg.norm(r),*[r_m,epsilon])\n",
    "r = positions[1]-positions[3]\n",
    "F_num += get_numerical_force(Potentiel_LennardJones,r,*[r_m,epsilon])\n",
    "ppp += Potentiel_LennardJones(np.linalg.norm(r),*[r_m,epsilon])\n",
    "print(ppp)\n",
    "F_num"
   ]
  },
  {
   "cell_type": "code",
   "execution_count": 112,
   "metadata": {
    "hidden": true
   },
   "outputs": [
    {
     "name": "stdout",
     "output_type": "stream",
     "text": [
      "49.31245870163873\n"
     ]
    },
    {
     "data": {
      "text/plain": [
       "array([[-4.46097692e+07,  1.25133658e+08,  1.40075854e+07],\n",
       "       [-5.50175273e+01, -9.30814425e+02,  4.04146198e+02],\n",
       "       [-5.84964770e+07, -7.62165471e+07,  5.68223882e+07],\n",
       "       [ 1.03106301e+08, -4.89161796e+07, -7.08303778e+07]])"
      ]
     },
     "execution_count": 112,
     "metadata": {},
     "output_type": "execute_result"
    }
   ],
   "source": [
    "forces = np.zeros((len(positions),3))\n",
    "distances2,sepVec,dd_diag,sepVec_diag = calcule_r_et_d(positions)\n",
    "print(get_forces_LJ(distances2,sepVec,r_m,epsilon,forces))\n",
    "forces"
   ]
  },
  {
   "cell_type": "markdown",
   "metadata": {
    "heading_collapsed": true
   },
   "source": [
    "### check harm"
   ]
  },
  {
   "cell_type": "code",
   "execution_count": 570,
   "metadata": {
    "hidden": true
   },
   "outputs": [
    {
     "data": {
      "text/plain": [
       "array([-0. ,  0.4, -0. ])"
      ]
     },
     "execution_count": 570,
     "metadata": {},
     "output_type": "execute_result"
    }
   ],
   "source": [
    "r = (positions[1]-positions[0])\n",
    "F_num = get_numerical_force(Potentiel_Harmonique,r,*[r_m,epsilon])\n",
    "F_num"
   ]
  },
  {
   "cell_type": "code",
   "execution_count": 571,
   "metadata": {
    "hidden": true
   },
   "outputs": [
    {
     "data": {
      "text/plain": [
       "array([ 0. , -0.4, -0.4])"
      ]
     },
     "execution_count": 571,
     "metadata": {},
     "output_type": "execute_result"
    }
   ],
   "source": [
    "r = (positions[0]-positions[1])\n",
    "F_num = get_numerical_force(Potentiel_Harmonique,r,*[r_m,epsilon])\n",
    "r = positions[1]-positions[2]\n",
    "F_num -= get_numerical_force(Potentiel_Harmonique,r,*[r_m,epsilon])\n",
    "F_num"
   ]
  },
  {
   "cell_type": "code",
   "execution_count": 572,
   "metadata": {
    "collapsed": true,
    "hidden": true
   },
   "outputs": [],
   "source": [
    "aa = np.zeros((Nparticule-1))\n",
    "bb = np.zeros((Nparticule-1,3))\n",
    "for ii in range(Nparticule-1):\n",
    "    aa[ii] = np.sqrt(distances2[ii,ii])\n",
    "    bb[ii] = sepVec_diag[ii] / aa[ii]"
   ]
  },
  {
   "cell_type": "code",
   "execution_count": 573,
   "metadata": {
    "hidden": true
   },
   "outputs": [
    {
     "data": {
      "text/plain": [
       "array([0., 1., 0.])"
      ]
     },
     "execution_count": 573,
     "metadata": {},
     "output_type": "execute_result"
    }
   ],
   "source": [
    "positions[1]-positions[2]\n",
    "positions[0]-positions[1]"
   ]
  },
  {
   "cell_type": "code",
   "execution_count": 574,
   "metadata": {
    "hidden": true
   },
   "outputs": [
    {
     "name": "stdout",
     "output_type": "stream",
     "text": [
      "[1. 1.] [1. 1.]\n"
     ]
    }
   ],
   "source": [
    "print(aa,dd_diag)"
   ]
  },
  {
   "cell_type": "code",
   "execution_count": 575,
   "metadata": {
    "hidden": true
   },
   "outputs": [
    {
     "data": {
      "text/plain": [
       "array([[ 0. , -0.4,  0. ],\n",
       "       [ 0. ,  0.4,  0.4],\n",
       "       [ 0. ,  0. , -0.4]])"
      ]
     },
     "execution_count": 575,
     "metadata": {},
     "output_type": "execute_result"
    }
   ],
   "source": [
    "forces = np.zeros((len(positions),3))\n",
    "pp = get_forces_polymer(dd_diag,sepVec_diag,r_m,k_spring,forces)\n",
    "forces"
   ]
  },
  {
   "cell_type": "code",
   "execution_count": 564,
   "metadata": {
    "hidden": true
   },
   "outputs": [
    {
     "data": {
      "text/plain": [
       "array([0.4       , 0.56568542, 0.4       ])"
      ]
     },
     "execution_count": 564,
     "metadata": {},
     "output_type": "execute_result"
    }
   ],
   "source": [
    "np.linalg.norm(forces,axis=1)"
   ]
  },
  {
   "cell_type": "markdown",
   "metadata": {
    "heading_collapsed": true
   },
   "source": [
    "## get spring forces"
   ]
  },
  {
   "cell_type": "code",
   "execution_count": 10,
   "metadata": {
    "code_folding": [
     2,
     19,
     39
    ],
    "collapsed": true,
    "hidden": true
   },
   "outputs": [],
   "source": [
    "def get_energy_and_forces_polymer1(positions,r_m,k_spring):\n",
    "    Natom,_ = positions.shape\n",
    "    forces = np.zeros(positions.shape)\n",
    "    energy = 0\n",
    "    st = range(Natom)\n",
    "    nd = list(range(1,Natom))+[0]\n",
    "    for it,jt in zip(st,nd):\n",
    "        r = positions[it] - positions[jt]\n",
    "        norm = npl.norm(r) \n",
    "        direction_vector = r / norm\n",
    "        force = - k_spring * (norm - r_m) * direction_vector\n",
    "        forces[it] += force\n",
    "        forces[jt] -= force\n",
    "        energy += 0.5*k_spring * (norm - r_m)**2\n",
    "        \n",
    "    return forces\n",
    "\n",
    "def get_energy_and_forces_polymer2(positions,r_m,k_spring):\n",
    "    Natom,_ = positions.shape\n",
    "    forces = np.zeros(positions.shape)\n",
    "    energy = 0\n",
    "    pp2 = np.empty(positions.shape)\n",
    "    pp1 = positions\n",
    "    pp2[:-1] = positions[1:]\n",
    "    pp2[-1] = positions[0]\n",
    "    \n",
    "    r = np.subtract(pp1,pp2)\n",
    "    norms = npl.norm(r,axis=1).reshape((-1,1))\n",
    "    direction_vectors = np.divide(r,norms)\n",
    "    ffs = - np.multiply(k_spring, np.multiply(np.subtract(norms, r_m), direction_vectors))\n",
    "    st = range(Natom)\n",
    "    nd = list(range(1,Natom))+[0]\n",
    "    for ff,it,jt in zip(ffs,st,nd):\n",
    "        forces[it] += ff\n",
    "        forces[jt] -= ff\n",
    "    return forces\n",
    "\n",
    "def get_forces_polymer(positions,r_m,k_spring):\n",
    "    Natom,_ = positions.shape\n",
    "    forces = np.zeros(positions.shape)\n",
    "    energy = 0\n",
    "    pp2 = np.empty(positions.shape)\n",
    "    pp1 = positions\n",
    "    pp2[:-1] = positions[1:]\n",
    "    pp2[-1] = positions[0]\n",
    "    \n",
    "    r = np.subtract(pp1,pp2)\n",
    "    norms = npl.norm(r,axis=1).reshape((-1,1))\n",
    "    direction_vectors = np.divide(r,norms)\n",
    "    ffs = - np.multiply(k_spring, np.multiply(np.subtract(norms, r_m), direction_vectors))\n",
    "    # st = range(Natom)\n",
    "    # nd = list(range(1,Natom))+[0]\n",
    "    st = range(Natom-1)\n",
    "    nd = list(range(1,Natom))\n",
    "    for ff,it,jt in zip(ffs,st,nd):\n",
    "        forces[it] += ff\n",
    "        forces[jt] -= ff\n",
    "        \n",
    "        \n",
    "    return forces"
   ]
  },
  {
   "cell_type": "markdown",
   "metadata": {},
   "source": [
    "## integrator"
   ]
  },
  {
   "cell_type": "code",
   "execution_count": 13,
   "metadata": {
    "code_folding": [
     0
    ],
    "collapsed": true
   },
   "outputs": [],
   "source": [
    "def move_velocity_verlet(positions,velocities,accelerations,dt,mass,r_m,epsilon,k_spring):\n",
    "    \n",
    "    v_half = velocities + 0.5 * dt * accelerations\n",
    "    new_positions = positions + dt * v_half\n",
    "    \n",
    "    forces = np.zeros(positions.shape)\n",
    "    distances2,sepVec,dd_diag,sepVec_diag = calcule_r_et_d(positions)\n",
    "    \n",
    "    forces = get_forces_LJ(distances2,sepVec,r_m,epsilon,forces)\n",
    "    forces = get_forces_polymer(dd_diag,sepVec_diag,r_m,k_spring,forces)\n",
    "    \n",
    "    new_accelerations = forces / mass\n",
    "    \n",
    "    new_velocities = v_half + 0.5 * dt * new_accelerations\n",
    "    \n",
    "    return new_positions,new_velocities,new_accelerations"
   ]
  },
  {
   "cell_type": "markdown",
   "metadata": {},
   "source": [
    "## thermostat"
   ]
  },
  {
   "cell_type": "code",
   "execution_count": 14,
   "metadata": {
    "code_folding": [],
    "collapsed": true
   },
   "outputs": [],
   "source": [
    "def andersen_thermostat(velocities,temperature,freq,dt):\n",
    "    Ekin_tot = 0.5*np.power(velocities,2).sum()\n",
    "    mask = (np.random.rand(velocities.shape[0]) < 1 - np.exp(-freq*dt))\n",
    "    Nupdate = np.sum(mask)\n",
    "    #mask = np.hstack([mask,mask,mask])\n",
    "    velocities[mask,0] = np.sqrt(temperature)*np.random.normal(loc=0.0, scale=1,size=(Nupdate))\n",
    "    velocities[mask,1] = np.sqrt(temperature)*np.random.normal(loc=0.0, scale=1,size=(Nupdate))\n",
    "    velocities[mask,2] = np.sqrt(temperature)*np.random.normal(loc=0.0, scale=1,size=(Nupdate))\n",
    "    Ekin_tot_var = (0.5*np.power(velocities,2).sum() - Ekin_tot)\n",
    "    return velocities,Ekin_tot_var"
   ]
  },
  {
   "cell_type": "markdown",
   "metadata": {},
   "source": [
    "## main engine"
   ]
  },
  {
   "cell_type": "code",
   "execution_count": 71,
   "metadata": {
    "code_folding": []
   },
   "outputs": [],
   "source": [
    "def MD_NVT_simulator(positions,velocities,mass,temperature,r_m,epsilon,k_spring,Nstep,dt,thermostat_Nstep):\n",
    "    Nparticule, _ = positions.shape\n",
    "    #velocities = np.zeros(positions.shape)\n",
    "    accelerations = np.zeros(positions.shape)\n",
    "    from tqdm import tqdm_notebook as tqdm_cs\n",
    "    pos = []\n",
    "    vel = []\n",
    "    #k_b = 8.61733e-5 # eV / K\n",
    "    masses = np.ones((Nparticule))*mass\n",
    "    nu = np.sqrt(k_spring)\n",
    "    En = [[],[],[],[]]\n",
    "    dt_half = 0.5*dt\n",
    "    for it in tqdm_cs(range(Nstep)):\n",
    "        \n",
    "        velocities = velocities + dt_half * accelerations\n",
    "        \n",
    "        positions = positions + dt_half * velocities\n",
    "        \n",
    "        velocities,th_en = andersen_thermostat(velocities,temperature,nu,dt)\n",
    "        CoM = np.average(velocities,weights=masses,axis=0).reshape((1,3))\n",
    "        velocities = velocities-CoM\n",
    "        #th_en = 0\n",
    "        positions = positions + dt_half * velocities\n",
    "        \n",
    "        forces = np.zeros(positions.shape)\n",
    "        distances2,sepVec,dd_diag,sepVec_diag = calcule_r_et_d(positions)\n",
    "\n",
    "        ljpot = get_forces_LJ(distances2,sepVec,r_m,epsilon,forces)\n",
    "        sppot = get_forces_polymer(dd_diag,sepVec_diag,r_m,k_spring,forces)\n",
    "        \n",
    "        accelerations = forces / mass\n",
    "\n",
    "        velocities = velocities + dt_half * accelerations\n",
    "        \n",
    "        if it % thermostat_Nstep == 0:\n",
    "            En[0].append(ljpot)\n",
    "            En[1].append(sppot)\n",
    "            En[2].append(0.5*mass*np.power(velocities,2).sum())\n",
    "            En[3].append(th_en)\n",
    "            vel.append(velocities)\n",
    "            pos.append(positions)\n",
    "            \n",
    "        \n",
    "    return pos,vel,np.array(En)"
   ]
  },
  {
   "cell_type": "markdown",
   "metadata": {
    "heading_collapsed": true
   },
   "source": [
    "## trajectory visualiser"
   ]
  },
  {
   "cell_type": "code",
   "execution_count": 19,
   "metadata": {
    "collapsed": true,
    "hidden": true
   },
   "outputs": [],
   "source": [
    "def traj_view(t):\n",
    "    view=nv.show_asetraj(t, gui=True)\n",
    "    view.clear_representations()\n",
    "    view.add_ball_and_stick(aspectRatio=4)\n",
    "    return view"
   ]
  },
  {
   "cell_type": "code",
   "execution_count": 20,
   "metadata": {
    "collapsed": true,
    "hidden": true
   },
   "outputs": [],
   "source": [
    "def view_traj(pos,stride):\n",
    "    from ase.visualize import view\n",
    "    from nglview import show_asetraj,show_ase\n",
    "    from ase import Atoms\n",
    "    Natom,_ = pos[0].shape\n",
    "    num = [1]*Natom\n",
    "    #cell = pos[0].max()*10*np.eye(3)\n",
    "    #frames = [Atoms(numbers=num,positions=pp,cell=cell,pbc=False) for pp in pos[::stride]]\n",
    "    frames = [Atoms(numbers=num,positions=pp,pbc=False) for pp in pos[::stride]]\n",
    "    view = show_asetraj(frames, gui=False)\n",
    "    view.clear_representations()\n",
    "    view.add_ball_and_stick(aspectRatio=4)\n",
    "    return view"
   ]
  },
  {
   "cell_type": "markdown",
   "metadata": {},
   "source": [
    "# run MD"
   ]
  },
  {
   "cell_type": "code",
   "execution_count": 21,
   "metadata": {
    "collapsed": true
   },
   "outputs": [],
   "source": [
    "from nglview import show_asetraj,show_ase"
   ]
  },
  {
   "cell_type": "code",
   "execution_count": 22,
   "metadata": {
    "code_folding": [
     0
    ],
    "collapsed": true
   },
   "outputs": [],
   "source": [
    "def make_linear_chain(N,r_m):\n",
    "    r = N * r_m / (2*np.pi)\n",
    "    n = np.arange(N)\n",
    "    pos = np.asarray([r * np.cos(2*np.pi* n/N), r * np.sin(2*np.pi* n/N),np.zeros(N)]).T\n",
    "    return pos.reshape((-1,3))\n",
    "view = view_traj([make_linear_chain(N=10,r_m=1)],1)\n",
    "#view"
   ]
  },
  {
   "cell_type": "code",
   "execution_count": 23,
   "metadata": {
    "code_folding": [
     0
    ]
   },
   "outputs": [],
   "source": [
    "def make_chain(N,r_m):\n",
    "    n = np.arange(N)\n",
    "    pos = np.asarray([n*r_m,n*0,n*0]).T\n",
    "    return pos.reshape((-1,3))\n",
    "view = view_traj([make_chain(N=10,r_m=1)],1)\n",
    "#view"
   ]
  },
  {
   "cell_type": "code",
   "execution_count": 24,
   "metadata": {
    "code_folding": [
     0
    ],
    "collapsed": true
   },
   "outputs": [],
   "source": [
    "def make_globular_chain(N,r_m,seed=10):\n",
    "    np.random.seed(seed)\n",
    "    pos = [np.zeros(3)]\n",
    "    r = r_m\n",
    "    for it in range(N):\n",
    "        theta,phi = np.random.rand(2)\n",
    "        pos.append(np.array(\n",
    "                   [r * np.sin(theta*np.pi) * np.cos(phi*2*np.pi),\n",
    "                    r * np.sin(theta*np.pi) * np.sin(phi*2*np.pi),\n",
    "                    r * np.cos(theta*np.pi) ]\n",
    "                    ) + pos[-1])\n",
    "    return np.asarray(pos)\n",
    "#view_traj([make_globular_chain(N=10,r_m=1)],1)"
   ]
  },
  {
   "cell_type": "code",
   "execution_count": 25,
   "metadata": {
    "code_folding": [
     0
    ],
    "collapsed": true
   },
   "outputs": [],
   "source": [
    "def movingaverage(interval, window_size):\n",
    "    window= np.ones(int(window_size))/float(window_size)\n",
    "    return np.convolve(interval, window, 'same')"
   ]
  },
  {
   "cell_type": "code",
   "execution_count": 90,
   "metadata": {},
   "outputs": [
    {
     "name": "stdout",
     "output_type": "stream",
     "text": [
      "0.740480489693061\n",
      "16.67 0.01\n"
     ]
    }
   ],
   "source": [
    "epsilon = 1.\n",
    "r_m = 1.\n",
    "k_spring = 16.67 * epsilon / r_m**2\n",
    "mass = 1.\n",
    "print(np.pi / 6. * np.sqrt(2*epsilon / (mass* r_m**2)))\n",
    "dt = 0.01\n",
    "print(k_spring,dt)\n",
    "initial_pos = make_linear_chain(100,r_m)"
   ]
  },
  {
   "cell_type": "code",
   "execution_count": 91,
   "metadata": {
    "collapsed": true
   },
   "outputs": [],
   "source": [
    "vel_init = np.random.normal(loc=0.0, scale=np.sqrt(0.001),size=initial_pos.shape)"
   ]
  },
  {
   "cell_type": "code",
   "execution_count": 92,
   "metadata": {},
   "outputs": [
    {
     "data": {
      "text/plain": [
       "0.13562935632878975"
      ]
     },
     "execution_count": 92,
     "metadata": {},
     "output_type": "execute_result"
    }
   ],
   "source": [
    "np.power(vel_init,2).sum()/2"
   ]
  },
  {
   "cell_type": "code",
   "execution_count": 93,
   "metadata": {},
   "outputs": [
    {
     "data": {
      "application/vnd.jupyter.widget-view+json": {
       "model_id": "d2b7803a18e34baaa2b2f05493ea938d",
       "version_major": 2,
       "version_minor": 0
      },
      "text/html": [
       "<p>Failed to display Jupyter Widget of type <code>HBox</code>.</p>\n",
       "<p>\n",
       "  If you're reading this message in the Jupyter Notebook or JupyterLab Notebook, it may mean\n",
       "  that the widgets JavaScript is still loading. If this message persists, it\n",
       "  likely means that the widgets JavaScript library is either not installed or\n",
       "  not enabled. See the <a href=\"https://ipywidgets.readthedocs.io/en/stable/user_install.html\">Jupyter\n",
       "  Widgets Documentation</a> for setup instructions.\n",
       "</p>\n",
       "<p>\n",
       "  If you're reading this message in another frontend (for example, a static\n",
       "  rendering on GitHub or <a href=\"https://nbviewer.jupyter.org/\">NBViewer</a>),\n",
       "  it may mean that your frontend doesn't currently support widgets.\n",
       "</p>\n"
      ],
      "text/plain": [
       "HBox(children=(IntProgress(value=0, max=50000), HTML(value='')))"
      ]
     },
     "metadata": {},
     "output_type": "display_data"
    },
    {
     "name": "stdout",
     "output_type": "stream",
     "text": [
      "\n"
     ]
    }
   ],
   "source": [
    "T = 1.\n",
    "pos,vel,en = MD_NVT_simulator(initial_pos,vel_init,mass=mass,r_m=r_m,epsilon=epsilon,\n",
    "                           k_spring=k_spring,temperature=T,\n",
    "                           Nstep=50000,dt=dt,thermostat_Nstep=10)"
   ]
  },
  {
   "cell_type": "code",
   "execution_count": 45,
   "metadata": {
    "code_folding": [
     0
    ],
    "collapsed": true
   },
   "outputs": [],
   "source": [
    "def get_auto_correlation_function(data,dt,mlag):\n",
    "    # Computes the Fourier transform of the data.\n",
    "    fdata = np.fft.rfft(data, axis=0)\n",
    "\n",
    "    # Computes the Fourier transform of the vvac applying the convolution theorem.\n",
    "    tfvvacf = fdata * np.conjugate(fdata)\n",
    "\n",
    "    # Averages over all species and sums over the x,y,z directions. Also multiplies with the time step and a prefactor of (2pi)^-1.\n",
    "    fvvacf = 3.0 * np.real(np.mean(tfvvacf, axis=(1, 2))) * dt / (2 * np.pi) / data.shape[0]\n",
    "    # Computes the inverse Fourier transform to get the vvac.\n",
    "    vvacf = np.fft.irfft(fvvacf)[:mlag + 1]\n",
    "    return vvacf"
   ]
  },
  {
   "cell_type": "code",
   "execution_count": 94,
   "metadata": {},
   "outputs": [
    {
     "data": {
      "text/plain": [
       "[<matplotlib.lines.Line2D at 0x7f251928aba8>]"
      ]
     },
     "execution_count": 94,
     "metadata": {},
     "output_type": "execute_result"
    },
    {
     "data": {
      "image/png": "[encoded data removed]",
      "text/plain": [
       "<Figure size 432x288 with 1 Axes>"
      ]
     },
     "metadata": {},
     "output_type": "display_data"
    }
   ],
   "source": [
    "plt.plot(movingaverage(en[2]/len(initial_pos)*2/3, 500),label='kin')"
   ]
  },
  {
   "cell_type": "code",
   "execution_count": 95,
   "metadata": {},
   "outputs": [
    {
     "data": {
      "text/plain": [
       "[<matplotlib.lines.Line2D at 0x7f251e4c0198>]"
      ]
     },
     "execution_count": 95,
     "metadata": {},
     "output_type": "execute_result"
    },
    {
     "data": {
      "image/png": "[encoded data removed]",
      "text/plain": [
       "<Figure size 432x288 with 1 Axes>"
      ]
     },
     "metadata": {},
     "output_type": "display_data"
    }
   ],
   "source": [
    "plt.plot(movingaverage((en[1]+en[0]), 10),label='Etot avg',)"
   ]
  },
  {
   "cell_type": "code",
   "execution_count": 96,
   "metadata": {},
   "outputs": [
    {
     "data": {
      "text/plain": [
       "<matplotlib.legend.Legend at 0x7f251e39d320>"
      ]
     },
     "execution_count": 96,
     "metadata": {},
     "output_type": "execute_result"
    },
    {
     "data": {
      "image/png": "[encoded data removed]",
      "text/plain": [
       "<Figure size 432x288 with 1 Axes>"
      ]
     },
     "metadata": {},
     "output_type": "display_data"
    }
   ],
   "source": [
    "navg = 1\n",
    "plt.plot(movingaverage(en[0], navg),label='LJ')\n",
    "plt.plot(movingaverage(en[1], navg),label='spring')\n",
    "plt.plot(movingaverage(en[2]/len(initial_pos), navg),label='kin')\n",
    "plt.plot(movingaverage(en[3], navg),label='bath')\n",
    "plt.plot(movingaverage((en[2]+en[1]+en[0]+en[3]), navg),label='Etot avg',)\n",
    "plt.legend()"
   ]
  },
  {
   "cell_type": "code",
   "execution_count": 97,
   "metadata": {},
   "outputs": [
    {
     "data": {
      "application/vnd.jupyter.widget-view+json": {
       "model_id": "2b02510398ce4c90813efa3094113bb9",
       "version_major": 2,
       "version_minor": 0
      },
      "text/html": [
       "<p>Failed to display Jupyter Widget of type <code>NGLWidget</code>.</p>\n",
       "<p>\n",
       "  If you're reading this message in the Jupyter Notebook or JupyterLab Notebook, it may mean\n",
       "  that the widgets JavaScript is still loading. If this message persists, it\n",
       "  likely means that the widgets JavaScript library is either not installed or\n",
       "  not enabled. See the <a href=\"https://ipywidgets.readthedocs.io/en/stable/user_install.html\">Jupyter\n",
       "  Widgets Documentation</a> for setup instructions.\n",
       "</p>\n",
       "<p>\n",
       "  If you're reading this message in another frontend (for example, a static\n",
       "  rendering on GitHub or <a href=\"https://nbviewer.jupyter.org/\">NBViewer</a>),\n",
       "  it may mean that your frontend doesn't currently support widgets.\n",
       "</p>\n"
      ],
      "text/plain": [
       "NGLWidget(count=100)"
      ]
     },
     "metadata": {},
     "output_type": "display_data"
    }
   ],
   "source": [
    "view_traj(pos,50)"
   ]
  },
  {
   "cell_type": "code",
   "execution_count": 164,
   "metadata": {
    "collapsed": true
   },
   "outputs": [],
   "source": [
    "aa,bb = pos[-1],vel[-1]"
   ]
  },
  {
   "cell_type": "code",
   "execution_count": 172,
   "metadata": {
    "collapsed": true
   },
   "outputs": [],
   "source": [
    "d2,_,dd_diag,_ = calcule_r_et_d(aa)"
   ]
  },
  {
   "cell_type": "code",
   "execution_count": null,
   "metadata": {
    "code_folding": [],
    "scrolled": true
   },
   "outputs": [
    {
     "data": {
      "application/vnd.jupyter.widget-view+json": {
       "model_id": "765392c78818486983dc845be18886ab",
       "version_major": 2,
       "version_minor": 0
      },
      "text/html": [
       "<p>Failed to display Jupyter Widget of type <code>HBox</code>.</p>\n",
       "<p>\n",
       "  If you're reading this message in the Jupyter Notebook or JupyterLab Notebook, it may mean\n",
       "  that the widgets JavaScript is still loading. If this message persists, it\n",
       "  likely means that the widgets JavaScript library is either not installed or\n",
       "  not enabled. See the <a href=\"https://ipywidgets.readthedocs.io/en/stable/user_install.html\">Jupyter\n",
       "  Widgets Documentation</a> for setup instructions.\n",
       "</p>\n",
       "<p>\n",
       "  If you're reading this message in another frontend (for example, a static\n",
       "  rendering on GitHub or <a href=\"https://nbviewer.jupyter.org/\">NBViewer</a>),\n",
       "  it may mean that your frontend doesn't currently support widgets.\n",
       "</p>\n"
      ],
      "text/plain": [
       "HBox(children=(IntProgress(value=0, max=50000), HTML(value='')))"
      ]
     },
     "metadata": {},
     "output_type": "display_data"
    }
   ],
   "source": [
    "T = 0.5\n",
    "#pos,vel,en1 = MD_NVT_simulator(pos[-1],vel[-1],mass=mass,r_m=r_m,epsilon=epsilon,\n",
    "pos,vel,en1 = MD_NVT_simulator(aa,bb,mass=mass,r_m=r_m,epsilon=epsilon,                   \n",
    "                           k_spring=k_spring,temperature=T,\n",
    "                           Nstep=50000,dt=dt,thermostat_Nstep=10)"
   ]
  },
  {
   "cell_type": "code",
   "execution_count": null,
   "metadata": {
    "scrolled": true
   },
   "outputs": [],
   "source": [
    "plt.plot(movingaverage((en1[1]+en1[0]), navg),label='Epot avg',)"
   ]
  },
  {
   "cell_type": "code",
   "execution_count": 167,
   "metadata": {},
   "outputs": [
    {
     "data": {
      "text/plain": [
       "[<matplotlib.lines.Line2D at 0x7f24b256b550>]"
      ]
     },
     "execution_count": 167,
     "metadata": {},
     "output_type": "execute_result"
    },
    {
     "data": {
      "image/png": "[encoded data removed]",
      "text/plain": [
       "<Figure size 432x288 with 1 Axes>"
      ]
     },
     "metadata": {},
     "output_type": "display_data"
    }
   ],
   "source": [
    "plt.plot(movingaverage(en1[2]/len(initial_pos)*2/3, 10),label='kin')"
   ]
  },
  {
   "cell_type": "code",
   "execution_count": 168,
   "metadata": {},
   "outputs": [
    {
     "data": {
      "text/plain": [
       "<matplotlib.legend.Legend at 0x7f24b2fe8b38>"
      ]
     },
     "execution_count": 168,
     "metadata": {},
     "output_type": "execute_result"
    },
    {
     "data": {
      "image/png": "[encoded data removed]",
      "text/plain": [
       "<Figure size 432x288 with 1 Axes>"
      ]
     },
     "metadata": {},
     "output_type": "display_data"
    }
   ],
   "source": [
    "navg = 50\n",
    "plt.plot(movingaverage(en1[0], navg),label='LJ')\n",
    "plt.plot(movingaverage(en1[1], navg),label='spring')\n",
    "plt.plot(movingaverage(en1[2], navg),label='kin')\n",
    "plt.plot(movingaverage(en1[2]+en1[1]+en1[3]+en1[0], navg),label='Etot avg',)\n",
    "plt.legend()"
   ]
  },
  {
   "cell_type": "code",
   "execution_count": 169,
   "metadata": {},
   "outputs": [
    {
     "data": {
      "application/vnd.jupyter.widget-view+json": {
       "model_id": "61ac24e5d48248029a2e701e7d5f3f7c",
       "version_major": 2,
       "version_minor": 0
      },
      "text/html": [
       "<p>Failed to display Jupyter Widget of type <code>NGLWidget</code>.</p>\n",
       "<p>\n",
       "  If you're reading this message in the Jupyter Notebook or JupyterLab Notebook, it may mean\n",
       "  that the widgets JavaScript is still loading. If this message persists, it\n",
       "  likely means that the widgets JavaScript library is either not installed or\n",
       "  not enabled. See the <a href=\"https://ipywidgets.readthedocs.io/en/stable/user_install.html\">Jupyter\n",
       "  Widgets Documentation</a> for setup instructions.\n",
       "</p>\n",
       "<p>\n",
       "  If you're reading this message in another frontend (for example, a static\n",
       "  rendering on GitHub or <a href=\"https://nbviewer.jupyter.org/\">NBViewer</a>),\n",
       "  it may mean that your frontend doesn't currently support widgets.\n",
       "</p>\n"
      ],
      "text/plain": [
       "NGLWidget(count=500)"
      ]
     },
     "metadata": {},
     "output_type": "display_data"
    }
   ],
   "source": [
    "view_traj(pos,10)"
   ]
  },
  {
   "cell_type": "code",
   "execution_count": null,
   "metadata": {
    "collapsed": true
   },
   "outputs": [],
   "source": []
  },
  {
   "cell_type": "code",
   "execution_count": null,
   "metadata": {
    "collapsed": true
   },
   "outputs": [],
   "source": []
  },
  {
   "cell_type": "code",
   "execution_count": null,
   "metadata": {
    "collapsed": true
   },
   "outputs": [],
   "source": []
  }
 ],
 "metadata": {
  "kernelspec": {
   "display_name": "Python 3 soap",
   "language": "python",
   "name": "soap"
  },
  "language_info": {
   "codemirror_mode": {
    "name": "ipython",
    "version": 3
   },
   "file_extension": ".py",
   "mimetype": "text/x-python",
   "name": "python",
   "nbconvert_exporter": "python",
   "pygments_lexer": "ipython3",
   "version": "3.6.2"
  },
  "toc": {
   "nav_menu": {
    "height": "160px",
    "width": "252px"
   },
   "number_sections": true,
   "sideBar": true,
   "skip_h1_title": false,
   "title_cell": "Table of Contents",
   "title_sidebar": "Contents",
   "toc_cell": false,
   "toc_position": {
    "height": "461px",
    "left": "0px",
    "right": "927.667px",
    "top": "107px",
    "width": "139px"
   },
   "toc_section_display": "block",
   "toc_window_display": false
  }
 },
 "nbformat": 4,
 "nbformat_minor": 1
}
