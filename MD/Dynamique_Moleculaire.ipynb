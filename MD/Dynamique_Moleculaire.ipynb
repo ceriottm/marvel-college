{
 "cells": [
  {
   "cell_type": "code",
   "execution_count": 1,
   "metadata": {
    "collapsed": true
   },
   "outputs": [],
   "source": [
    "import numpy as np\n",
    "import scipy as sc\n",
    "import numpy.linalg as npl\n",
    "import scipy.linalg as scl\n",
    "from scipy.spatial.distance import pdist,squareform\n",
    "import ase"
   ]
  },
  {
   "cell_type": "code",
   "execution_count": 2,
   "metadata": {
    "collapsed": true
   },
   "outputs": [],
   "source": [
    "%matplotlib inline\n",
    "import matplotlib.pyplot as plt"
   ]
  },
  {
   "cell_type": "code",
   "execution_count": 32,
   "metadata": {
    "collapsed": true
   },
   "outputs": [],
   "source": [
    "%load_ext line_profiler"
   ]
  },
  {
   "cell_type": "markdown",
   "metadata": {
    "heading_collapsed": true
   },
   "source": [
    "# Dev forces"
   ]
  },
  {
   "cell_type": "code",
   "execution_count": 239,
   "metadata": {
    "collapsed": true,
    "hidden": true
   },
   "outputs": [],
   "source": [
    "def get_numerical_force(pot_func,r,*args):\n",
    "    from numpy.linalg import norm\n",
    "    e_x,e_y,e_z = np.array([1,0,0]),np.array([0,1,0]),np.array([0,0,1])\n",
    "    h = 1e-6\n",
    "    F_x = - ( pot_func(norm(r+e_x*h),*args) - pot_func(norm(r-e_x*h),*args) )  / (2*h)\n",
    "    F_y = - ( pot_func(norm(r+e_y*h),*args) - pot_func(norm(r-e_y*h),*args) )  / (2*h)\n",
    "    F_z = - ( pot_func(norm(r+e_z*h),*args) - pot_func(norm(r-e_z*h),*args) )  / (2*h)\n",
    "    return np.array([F_x,F_y,F_z])"
   ]
  },
  {
   "cell_type": "code",
   "execution_count": 258,
   "metadata": {
    "code_folding": [
     3
    ],
    "collapsed": true,
    "hidden": true
   },
   "outputs": [],
   "source": [
    "def Potentiel_Harmonique(d,r_m,k):\n",
    "    ''' '''\n",
    "    return k*( d - r_m)**2\n",
    "def Potentiel_LennardJones(d,r_m,epsilon):\n",
    "    ''' '''\n",
    "    return epsilon*( (r_m/d)**12 - 2*(r_m/d)**6)"
   ]
  },
  {
   "cell_type": "markdown",
   "metadata": {
    "heading_collapsed": true,
    "hidden": true
   },
   "source": [
    "## get forces simple"
   ]
  },
  {
   "cell_type": "markdown",
   "metadata": {
    "hidden": true
   },
   "source": [
    "$\\mathbf{F}_{LJ}\\left(\\mathbf{r}\\right)  = \\mathbf{\\hat{r}} \\,F_{LJ}\\left(d\\right) = \\mathbf{\\hat{r}}  \\frac{12 \\epsilon}{d} \\left[\\left(\\frac{r_m}{d}\\right)^{12}-\\left(\\frac{r_m}{d}\\right)^{6}  \\right] $"
   ]
  },
  {
   "cell_type": "markdown",
   "metadata": {
    "heading_collapsed": true,
    "hidden": true
   },
   "source": [
    "### lj"
   ]
  },
  {
   "cell_type": "code",
   "execution_count": 360,
   "metadata": {
    "code_folding": [],
    "collapsed": true,
    "hidden": true
   },
   "outputs": [],
   "source": [
    "def get_LJ_forces_simple(positions,r_m,epsilon):\n",
    "    Npart,_ = positions.shape\n",
    "    dist = squareform(pdist(positions))\n",
    "    forces = np.zeros(positions.shape)\n",
    "    energy = 0.0\n",
    "    dd = np.zeros((positions.shape[0]-1))\n",
    "    r = np.zeros((positions.shape[0]-1,3))\n",
    "    for ipart in range(Npart):\n",
    "        r[ipart:] = positions[ipart+1:] - positions[ipart]\n",
    "        r[:ipart] = positions[:ipart] - positions[ipart]\n",
    "        \n",
    "        dd[ipart:] = dist[ipart,ipart+1:]\n",
    "        dd[:ipart] = dist[ipart,:ipart]\n",
    "        \n",
    "        c6 = np.power(r_m/dd,6)\n",
    "        c12 = np.power(c6,2)\n",
    "        \n",
    "        energy += epsilon * (c12 - 2*c6).sum()\n",
    "        \n",
    "        factor = 12*epsilon/dd**2\n",
    "        fs = -(factor*(c12-c6)).reshape((-1,1)) * r \n",
    "        forces[ipart] += fs.sum(axis=0)\n",
    "        #forces[ipart+1:] += fs\n",
    "    energy = 0.5*energy\n",
    "    return forces,energy"
   ]
  },
  {
   "cell_type": "code",
   "execution_count": 251,
   "metadata": {
    "hidden": true
   },
   "outputs": [
    {
     "data": {
      "text/plain": [
       "(array([[ 8.71049111e+01,  7.32256876e+02, -6.27765746e+01],\n",
       "        [ 3.44370400e-02, -1.13149548e-03,  7.20524040e-02],\n",
       "        [-2.55023823e-02, -5.04551085e-02,  1.08705927e-02],\n",
       "        [-8.71138458e+01, -7.32205289e+02,  6.26936517e+01]]),\n",
       " 6.2196964865740885)"
      ]
     },
     "execution_count": 251,
     "metadata": {},
     "output_type": "execute_result"
    }
   ],
   "source": [
    "r_m,epsilon = 0.2,1\n",
    "positions = np.random.rand(4,3)\n",
    "get_LJ_forces_simple(positions,r_m,epsilon)"
   ]
  },
  {
   "cell_type": "code",
   "execution_count": 252,
   "metadata": {
    "hidden": true
   },
   "outputs": [
    {
     "data": {
      "text/plain": [
       "(array([[ 8.71049111e+01,  7.32256877e+02, -6.27765746e+01],\n",
       "        [ 3.44370400e-02, -1.13149548e-03,  7.20524040e-02],\n",
       "        [-2.55023823e-02, -5.04551085e-02,  1.08705927e-02],\n",
       "        [-8.71138458e+01, -7.32205290e+02,  6.26936516e+01]]),\n",
       " 6.219696486574091)"
      ]
     },
     "execution_count": 252,
     "metadata": {},
     "output_type": "execute_result"
    }
   ],
   "source": [
    "F_num = np.zeros(positions.shape)\n",
    "energy = 0\n",
    "for ii,p1 in enumerate(positions):\n",
    "    for jj,p2 in enumerate(positions):\n",
    "        if jj != ii:\n",
    "            r = p2-p1\n",
    "            F_num[ii] += get_numerical_force(Potentiel_LennardJones,r,*[r_m,epsilon])\n",
    "            energy += Potentiel_LennardJones(np.linalg.norm(r),r_m,epsilon)*0.5\n",
    "F_num,energy"
   ]
  },
  {
   "cell_type": "markdown",
   "metadata": {
    "heading_collapsed": true,
    "hidden": true
   },
   "source": [
    "### harm"
   ]
  },
  {
   "cell_type": "code",
   "execution_count": 341,
   "metadata": {
    "collapsed": true,
    "hidden": true
   },
   "outputs": [],
   "source": [
    "def get_Harm_forces_simple(positions,r_m,k_spring):\n",
    "    Npart,_ = positions.shape\n",
    "    forces = np.zeros(positions.shape)\n",
    "    energy = 0.0\n",
    "    for ii in range(Npart):\n",
    "        if ii < Npart-1:\n",
    "            r = positions[ii+1] - positions[ii]\n",
    "            d = np.linalg.norm(r)\n",
    "            f = - 2 * k_spring * (d-r_m)\n",
    "            forces[ii] -= r/d * f\n",
    "            energy += k_spring * (d-r_m)**2\n",
    "        if ii  > 0:\n",
    "            r = positions[ii-1] - positions[ii]\n",
    "            d = np.linalg.norm(r)\n",
    "            f = - 2 * k_spring * (d-r_m)\n",
    "            forces[ii] -= r/d * f\n",
    "            \n",
    "    \n",
    "    return forces,energy"
   ]
  },
  {
   "cell_type": "code",
   "execution_count": 342,
   "metadata": {
    "hidden": true
   },
   "outputs": [
    {
     "data": {
      "text/plain": [
       "(array([[-0.82575038,  0.38933746, -0.26052915],\n",
       "        [ 0.82708799, -0.465418  ,  0.73755648],\n",
       "        [-0.03385471, -0.06289112, -0.4124867 ],\n",
       "        [ 0.0325171 ,  0.13897166, -0.06454063]]), 0.28980096970183794)"
      ]
     },
     "execution_count": 342,
     "metadata": {},
     "output_type": "execute_result"
    }
   ],
   "source": [
    "r_m,k_spring = 0.2,1\n",
    "positions = np.random.rand(4,3)\n",
    "get_Harm_forces_simple(positions,r_m,k_spring)"
   ]
  },
  {
   "cell_type": "code",
   "execution_count": 343,
   "metadata": {
    "code_folding": [
     2
    ],
    "hidden": true
   },
   "outputs": [
    {
     "data": {
      "text/plain": [
       "(array([[ 0.82575038, -0.38933746,  0.26052915],\n",
       "        [-0.82708799,  0.465418  , -0.73755648],\n",
       "        [ 0.03385471,  0.06289112,  0.4124867 ],\n",
       "        [-0.0325171 , -0.13897166,  0.06454063]]), 0.28980096970183794)"
      ]
     },
     "execution_count": 343,
     "metadata": {},
     "output_type": "execute_result"
    }
   ],
   "source": [
    "F_num = np.zeros(positions.shape)\n",
    "energy = 0\n",
    "for ii in range(positions.shape[0]):\n",
    "    if ii < positions.shape[0]-1:\n",
    "        r = positions[ii+1] - positions[ii]\n",
    "        F_num[ii] += get_numerical_force(Potentiel_Harmonique,r,*[r_m,k_spring])\n",
    "        energy += Potentiel_Harmonique(np.linalg.norm(r),r_m,k_spring)\n",
    "    if ii  > 0:\n",
    "        r = positions[ii-1] - positions[ii]\n",
    "        F_num[ii] += get_numerical_force(Potentiel_Harmonique,r,*[r_m,k_spring])\n",
    "        \n",
    "F_num,energy"
   ]
  },
  {
   "cell_type": "markdown",
   "metadata": {
    "heading_collapsed": true,
    "hidden": true
   },
   "source": [
    "## get forces opt"
   ]
  },
  {
   "cell_type": "markdown",
   "metadata": {
    "heading_collapsed": true,
    "hidden": true
   },
   "source": [
    "### lj"
   ]
  },
  {
   "cell_type": "code",
   "execution_count": 535,
   "metadata": {
    "collapsed": true,
    "hidden": true
   },
   "outputs": [],
   "source": [
    "def get_LJ_forces(positions,r_m,epsilon):\n",
    "    Npart,_ = positions.shape\n",
    "    #dist = squareform(pdist(positions))\n",
    "    forces = np.zeros(positions.shape)\n",
    "    energy = 0.0\n",
    "    r_m2 = r_m**2\n",
    "    for ipart in range(Npart-1):\n",
    "        r = positions[ipart+1:] - positions[ipart]\n",
    "        d2 = np.power(r,2).sum(axis=1)\n",
    "        c6 = np.power(r_m2/d2,3)\n",
    "        c12 = np.power(c6,2)\n",
    "        \n",
    "        energy += epsilon * (c12 - 2*c6).sum()\n",
    "        \n",
    "        factor = 12*epsilon/d2\n",
    "        fs = -(factor*(c12-c6)).reshape((-1,1)) * r \n",
    "        forces[ipart] += fs.sum(axis=0)\n",
    "        forces[ipart+1:] -= fs\n",
    "    energy = energy\n",
    "    return forces,energy"
   ]
  },
  {
   "cell_type": "code",
   "execution_count": 539,
   "metadata": {
    "hidden": true
   },
   "outputs": [
    {
     "data": {
      "text/plain": [
       "(array([[-1.76415437e+01, -4.12434047e+00, -1.61412934e+01],\n",
       "        [ 2.01949668e+01,  7.26687150e-01,  1.89819521e+01],\n",
       "        [ 2.72585310e+02, -1.73839847e+02,  7.27475525e+02],\n",
       "        [-2.75138733e+02,  1.77237501e+02, -7.30316184e+02]]),\n",
       " 28.90875756475178)"
      ]
     },
     "execution_count": 539,
     "metadata": {},
     "output_type": "execute_result"
    }
   ],
   "source": [
    "r_m,epsilon = 0.8,1\n",
    "positions = np.random.rand(4,3)\n",
    "get_LJ_forces_simple(positions,r_m,epsilon)"
   ]
  },
  {
   "cell_type": "code",
   "execution_count": 540,
   "metadata": {
    "hidden": true
   },
   "outputs": [
    {
     "data": {
      "text/plain": [
       "(array([[-1.76415437e+01, -4.12434047e+00, -1.61412934e+01],\n",
       "        [ 2.01949668e+01,  7.26687150e-01,  1.89819521e+01],\n",
       "        [ 2.72585310e+02, -1.73839847e+02,  7.27475525e+02],\n",
       "        [-2.75138733e+02,  1.77237501e+02, -7.30316184e+02]]),\n",
       " 28.90875756475178)"
      ]
     },
     "execution_count": 540,
     "metadata": {},
     "output_type": "execute_result"
    }
   ],
   "source": [
    "get_LJ_forces(positions,r_m,epsilon)"
   ]
  },
  {
   "cell_type": "code",
   "execution_count": 541,
   "metadata": {
    "hidden": true
   },
   "outputs": [
    {
     "name": "stdout",
     "output_type": "stream",
     "text": [
      "242 µs ± 17.1 µs per loop (mean ± std. dev. of 3 runs, 10 loops each)\n",
      "97.5 µs ± 2.91 µs per loop (mean ± std. dev. of 3 runs, 10 loops each)\n"
     ]
    }
   ],
   "source": [
    "r_m,epsilon = 0.2,1\n",
    "positions = np.random.rand(4,3)\n",
    "%timeit -n 10 -r 3 get_LJ_forces_simple(positions,r_m,epsilon)\n",
    "%timeit -n 10 -r 3 get_LJ_forces(positions,r_m,epsilon)"
   ]
  },
  {
   "cell_type": "markdown",
   "metadata": {
    "heading_collapsed": true,
    "hidden": true
   },
   "source": [
    "### harm"
   ]
  },
  {
   "cell_type": "code",
   "execution_count": 625,
   "metadata": {
    "collapsed": true,
    "hidden": true
   },
   "outputs": [],
   "source": [
    "def get_Harm_forces(positions,r_m,k_spring):\n",
    "    Npart,_ = positions.shape\n",
    "    forces = np.zeros(positions.shape)\n",
    "    energy = 0.0\n",
    "    r = positions[1:] - positions[:-1]\n",
    "    d = np.linalg.norm(r,axis=1)\n",
    "    f = (- 2 * k_spring * (d-r_m)/d).reshape((-1,1))\n",
    "    rf = r * f\n",
    "    forces[:Npart-1] -= rf\n",
    "    forces[1:] += rf\n",
    "    energy = k_spring * ((d-r_m)**2).sum()\n",
    "    return forces,energy"
   ]
  },
  {
   "cell_type": "code",
   "execution_count": 630,
   "metadata": {
    "hidden": true
   },
   "outputs": [
    {
     "data": {
      "text/plain": [
       "(array([[  2.41655002,  -0.8133068 ,   0.68590926],\n",
       "        [ -3.15363821,  -6.63539248,   5.94455865],\n",
       "        [  5.17485324,   8.89031664, -10.52319975],\n",
       "        [ -4.49307633,  -1.48228086,   3.81402648],\n",
       "        [  0.05531128,   0.0406635 ,   0.07870536]]), 3.597436652143596)"
      ]
     },
     "execution_count": 630,
     "metadata": {},
     "output_type": "execute_result"
    }
   ],
   "source": [
    "r_m,k_spring = 0.5,10\n",
    "positions = np.random.rand(5,3)\n",
    "get_Harm_forces_simple(positions,r_m,k_spring)"
   ]
  },
  {
   "cell_type": "code",
   "execution_count": 631,
   "metadata": {
    "hidden": true,
    "scrolled": true
   },
   "outputs": [
    {
     "data": {
      "text/plain": [
       "(array([[  2.41655002,  -0.8133068 ,   0.68590926],\n",
       "        [ -3.15363821,  -6.63539248,   5.94455865],\n",
       "        [  5.17485324,   8.89031664, -10.52319975],\n",
       "        [ -4.49307633,  -1.48228086,   3.81402648],\n",
       "        [  0.05531128,   0.0406635 ,   0.07870536]]), 3.5974366521435956)"
      ]
     },
     "execution_count": 631,
     "metadata": {},
     "output_type": "execute_result"
    }
   ],
   "source": [
    "get_Harm_forces(positions,r_m,k_spring)"
   ]
  },
  {
   "cell_type": "code",
   "execution_count": 632,
   "metadata": {
    "hidden": true
   },
   "outputs": [
    {
     "name": "stdout",
     "output_type": "stream",
     "text": [
      "175 µs ± 7.6 µs per loop (mean ± std. dev. of 3 runs, 10 loops each)\n",
      "33.2 µs ± 3.1 µs per loop (mean ± std. dev. of 3 runs, 10 loops each)\n"
     ]
    }
   ],
   "source": [
    "r_m,epsilon = 0.2,1\n",
    "positions = np.random.rand(5,3)\n",
    "%timeit -n 10 -r 3 get_Harm_forces_simple(positions,r_m,k_spring)\n",
    "%timeit -n 10 -r 3 get_Harm_forces(positions,r_m,k_spring)"
   ]
  },
  {
   "cell_type": "markdown",
   "metadata": {
    "heading_collapsed": true
   },
   "source": [
    "# get all forces"
   ]
  },
  {
   "cell_type": "code",
   "execution_count": 634,
   "metadata": {
    "collapsed": true,
    "hidden": true
   },
   "outputs": [],
   "source": [
    "def get_forces_simple(positions,r_m,epsilon,k_spring):\n",
    "    LJ_forces,LJ_pot = get_LJ_forces_simple(positions,r_m,epsilon)\n",
    "    H_forces,H_pot = get_Harm_forces_simple(positions,r_m,k_spring)\n",
    "    return LJ_forces+H_forces,LJ_pot,H_pot"
   ]
  },
  {
   "cell_type": "code",
   "execution_count": 633,
   "metadata": {
    "collapsed": true,
    "hidden": true
   },
   "outputs": [],
   "source": [
    "def get_forces(positions,r_m,epsilon,k_spring):\n",
    "    LJ_forces,LJ_pot = get_LJ_forces(positions,r_m,epsilon)\n",
    "    H_forces,H_pot = get_Harm_forces(positions,r_m,k_spring)\n",
    "    return LJ_forces+H_forces,LJ_pot,H_pot"
   ]
  },
  {
   "cell_type": "markdown",
   "metadata": {
    "heading_collapsed": true
   },
   "source": [
    "# OLD"
   ]
  },
  {
   "cell_type": "code",
   "execution_count": 6,
   "metadata": {
    "code_folding": [
     0
    ],
    "collapsed": true,
    "hidden": true
   },
   "outputs": [],
   "source": [
    "def calcule_r_et_d(positions):\n",
    "    Nparticule,_ = positions.shape\n",
    "    # matrice des distances\n",
    "    distances2 = np.zeros((Nparticule,Nparticule-1))\n",
    "    # matrice des vecteurs de direction\n",
    "    sepVec = np.zeros((Nparticule,Nparticule-1,3))\n",
    "    # TODO\n",
    "    dd_diag = np.zeros((Nparticule-1))\n",
    "    sepVec_diag = np.zeros((Nparticule-1,3))\n",
    "    for ii in range(Nparticule-1):\n",
    "        # calcule les vecteurs d'orientation: pour chaque position prendre la difference avec les autres positions\n",
    "        rr = positions[ii] - positions[ii+1:]\n",
    "        # calcule la norme des vecteur d'orientation\n",
    "        dd = np.power(rr,2).sum(axis=1)\n",
    "        dd_diag[ii] = np.sqrt(dd[0])\n",
    "        sepVec_diag[ii] = rr[0] / dd_diag[ii]\n",
    "        # distances2[ii,ii+1:] = distances2[ii+1:,ii] = dd\n",
    "        distances2[ii,ii:] = distances2[ii+1:,ii] = dd\n",
    "        #distances2[ii+1:,ii] = dd\n",
    "        # normalise les vecteurs d'orientation\n",
    "        sepVec[ii,ii:,:] = rr \n",
    "        sepVec[ii+1:,ii,:] = - sepVec[ii,ii:,:]\n",
    "    return distances2,sepVec,dd_diag,sepVec_diag"
   ]
  },
  {
   "cell_type": "markdown",
   "metadata": {
    "hidden": true
   },
   "source": [
    "$\\mathbf{F}_{LJ}\\left(\\mathbf{r}\\right)  = \\mathbf{\\hat{r}} \\,F_{LJ}\\left(d\\right) = \\mathbf{\\hat{r}}  \\frac{12 \\epsilon}{d} \\left[\\left(\\frac{r_m}{d}\\right)^{12}-\\left(\\frac{r_m}{d}\\right)^{6}  \\right] $"
   ]
  },
  {
   "cell_type": "code",
   "execution_count": 7,
   "metadata": {
    "code_folding": [
     0
    ],
    "collapsed": true,
    "hidden": true
   },
   "outputs": [],
   "source": [
    "def get_forces_LJ(distances2,sepVec,r_m,epsilon,forces):\n",
    "    Natom,_ = positions.shape\n",
    "    #forces = np.zeros((Natom,3))\n",
    "    r_m2 = r_m**2\n",
    "    epsi = 12*epsilon\n",
    "    pot = 0\n",
    "    for iatom in range(Natom):\n",
    "        c6 = np.power(np.divide(r_m2,distances2[iatom]),3)\n",
    "        c12 = np.power(c6,2)\n",
    "        fac = np.multiply(np.divide(epsi,distances2[iatom]),np.subtract(c12,c6)).reshape((1,-1,1))\n",
    "        forces[iatom] += np.sum(np.multiply(sepVec[iatom],fac),axis=1).flatten()\n",
    "        #if iatom == 1:\n",
    "        pot += 0.5*np.sum(epsilon*np.subtract(c12,2*c6))\n",
    "    return pot"
   ]
  },
  {
   "cell_type": "markdown",
   "metadata": {
    "hidden": true
   },
   "source": [
    "$\\mathbf{F}_{Har}\\left(\\mathbf{r}\\right)  = \\mathbf{\\hat{r}} \\,F_{Har}\\left(d\\right) =  - 2 k \\, (d - r_m)  \\mathbf{\\hat{r}} $\n"
   ]
  },
  {
   "cell_type": "code",
   "execution_count": 185,
   "metadata": {
    "code_folding": [
     0
    ],
    "collapsed": true,
    "hidden": true
   },
   "outputs": [],
   "source": [
    "def get_forces_polymer_alt(positions,r_m,k_spring):\n",
    "    Natom,_ = positions.shape\n",
    "    forces = np.zeros(positions.shape)\n",
    "    energy = 0\n",
    "    pp2 = np.empty(positions.shape)\n",
    "    pp1 = positions\n",
    "    pp2[:-1] = positions[1:]\n",
    "    pp2[-1] = positions[0]\n",
    "    \n",
    "    r = np.subtract(pp1,pp2)\n",
    "    norms = npl.norm(r,axis=1).reshape((-1,1))\n",
    "    direction_vectors = np.divide(r,norms)\n",
    "    ffs = - np.multiply(k_spring, np.multiply(np.subtract(norms, r_m), direction_vectors))\n",
    "    # st = range(Natom)\n",
    "    # nd = list(range(1,Natom))+[0]\n",
    "    st = range(Natom-1)\n",
    "    nd = list(range(1,Natom))\n",
    "    for ff,it,jt in zip(ffs,st,nd):\n",
    "        forces[it] += ff\n",
    "        forces[jt] -= ff\n",
    "        \n",
    "        \n",
    "    return forces"
   ]
  },
  {
   "cell_type": "code",
   "execution_count": 8,
   "metadata": {
    "code_folding": [],
    "collapsed": true,
    "hidden": true
   },
   "outputs": [],
   "source": [
    "def get_forces_polymer(dd_diag,sepVec_diag,r_m,k_spring,forces):\n",
    "    \n",
    "    force_resort = np.multiply( -2*k_spring*(dd_diag-r_m).reshape((-1,1)),sepVec_diag)\n",
    "    forces[:-1] += force_resort\n",
    "    forces[1:] -= force_resort\n",
    "    pot = np.sum( k_spring*(dd_diag-r_m)**2 )\n",
    "    return pot"
   ]
  },
  {
   "cell_type": "code",
   "execution_count": 10,
   "metadata": {
    "collapsed": true,
    "hidden": true
   },
   "outputs": [],
   "source": [
    "positions,r_m,epsilon,k_spring = np.array([[1,1,0],[1,0,0],[1,0,1]]),0.8,1.,1.\n",
    "#positions,r_m,epsilon,k_spring = np.array([[0,0,0],[0.9,1.3,0.99]]),1.2,1.,1"
   ]
  },
  {
   "cell_type": "code",
   "execution_count": 11,
   "metadata": {
    "code_folding": [
     2
    ],
    "collapsed": true,
    "hidden": true
   },
   "outputs": [],
   "source": [
    "import math\n",
    "\n",
    "def rotation_matrix(axis, theta):\n",
    "    \"\"\"\n",
    "    Return the rotation matrix associated with counterclockwise rotation about\n",
    "    the given axis by theta radians.\n",
    "    \"\"\"\n",
    "    axis = np.asarray(axis)\n",
    "    axis = axis/math.sqrt(np.dot(axis, axis))\n",
    "    a = math.cos(theta/2.0)\n",
    "    b, c, d = -axis*math.sin(theta/2.0)\n",
    "    aa, bb, cc, dd = a*a, b*b, c*c, d*d\n",
    "    bc, ad, ac, ab, bd, cd = b*c, a*d, a*c, a*b, b*d, c*d\n",
    "    return np.array([[aa+bb-cc-dd, 2*(bc+ad), 2*(bd-ac)],\n",
    "                     [2*(bc-ad), aa+cc-bb-dd, 2*(cd+ab)],\n",
    "                     [2*(bd+ac), 2*(cd-ab), aa+dd-bb-cc]])"
   ]
  },
  {
   "cell_type": "code",
   "execution_count": 12,
   "metadata": {
    "hidden": true
   },
   "outputs": [
    {
     "data": {
      "text/plain": [
       "1.0"
      ]
     },
     "execution_count": 12,
     "metadata": {},
     "output_type": "execute_result"
    }
   ],
   "source": [
    "positions,r_m,epsilon,k_spring = np.array([[1,1,0],[1,0,0],[1,0,1]]),0.8,1.,1.\n",
    "rot = rotation_matrix([0,1,1],np.pi*0.)\n",
    "positions = np.dot(positions,rot)\n",
    "np.linalg.norm(positions[1]-positions[0])"
   ]
  },
  {
   "cell_type": "code",
   "execution_count": 12,
   "metadata": {
    "collapsed": true,
    "hidden": true
   },
   "outputs": [],
   "source": [
    "Nparticule = len(positions)\n",
    "distances2,sepVec,dd_diag,sepVec_diag = calcule_r_et_d(positions)"
   ]
  },
  {
   "cell_type": "markdown",
   "metadata": {
    "heading_collapsed": true,
    "hidden": true
   },
   "source": [
    "### check lj"
   ]
  },
  {
   "cell_type": "code",
   "execution_count": 109,
   "metadata": {
    "collapsed": true,
    "hidden": true
   },
   "outputs": [],
   "source": [
    "positions,r_m,epsilon,k_spring = np.array([[1,1,0],[1,0,0],[1,0,1],[1,1,1]]),1.,1.,1.\n",
    "#positions,r_m,epsilon,k_spring = np.array([[0,0,0],[0.9,1.3,0.99]]),1.2,1.,1"
   ]
  },
  {
   "cell_type": "code",
   "execution_count": 110,
   "metadata": {
    "collapsed": true,
    "hidden": true
   },
   "outputs": [],
   "source": [
    "positions = np.random.rand(4,3)"
   ]
  },
  {
   "cell_type": "code",
   "execution_count": 111,
   "metadata": {
    "hidden": true
   },
   "outputs": [
    {
     "name": "stdout",
     "output_type": "stream",
     "text": [
      "49.31245870163867\n"
     ]
    },
    {
     "data": {
      "text/plain": [
       "array([ -55.01752739, -930.81442541,  404.14619784])"
      ]
     },
     "execution_count": 111,
     "metadata": {},
     "output_type": "execute_result"
    }
   ],
   "source": [
    "r = positions[1]-positions[0]\n",
    "ppp = 0\n",
    "F_num = get_numerical_force(Potentiel_LennardJones,r,*[r_m,epsilon])\n",
    "ppp += Potentiel_LennardJones(np.linalg.norm(r),*[r_m,epsilon])\n",
    "r = positions[1]-positions[2]\n",
    "F_num += get_numerical_force(Potentiel_LennardJones,r,*[r_m,epsilon])\n",
    "ppp += Potentiel_LennardJones(np.linalg.norm(r),*[r_m,epsilon])\n",
    "r = positions[1]-positions[3]\n",
    "F_num += get_numerical_force(Potentiel_LennardJones,r,*[r_m,epsilon])\n",
    "ppp += Potentiel_LennardJones(np.linalg.norm(r),*[r_m,epsilon])\n",
    "print(ppp)\n",
    "F_num"
   ]
  },
  {
   "cell_type": "code",
   "execution_count": 112,
   "metadata": {
    "hidden": true
   },
   "outputs": [
    {
     "name": "stdout",
     "output_type": "stream",
     "text": [
      "49.31245870163873\n"
     ]
    },
    {
     "data": {
      "text/plain": [
       "array([[-4.46097692e+07,  1.25133658e+08,  1.40075854e+07],\n",
       "       [-5.50175273e+01, -9.30814425e+02,  4.04146198e+02],\n",
       "       [-5.84964770e+07, -7.62165471e+07,  5.68223882e+07],\n",
       "       [ 1.03106301e+08, -4.89161796e+07, -7.08303778e+07]])"
      ]
     },
     "execution_count": 112,
     "metadata": {},
     "output_type": "execute_result"
    }
   ],
   "source": [
    "forces = np.zeros((len(positions),3))\n",
    "distances2,sepVec,dd_diag,sepVec_diag = calcule_r_et_d(positions)\n",
    "print(get_forces_LJ(distances2,sepVec,r_m,epsilon,forces))\n",
    "forces"
   ]
  },
  {
   "cell_type": "markdown",
   "metadata": {
    "heading_collapsed": true,
    "hidden": true
   },
   "source": [
    "### check harm"
   ]
  },
  {
   "cell_type": "code",
   "execution_count": 570,
   "metadata": {
    "hidden": true
   },
   "outputs": [
    {
     "data": {
      "text/plain": [
       "array([-0. ,  0.4, -0. ])"
      ]
     },
     "execution_count": 570,
     "metadata": {},
     "output_type": "execute_result"
    }
   ],
   "source": [
    "r = (positions[1]-positions[0])\n",
    "F_num = get_numerical_force(Potentiel_Harmonique,r,*[r_m,epsilon])\n",
    "F_num"
   ]
  },
  {
   "cell_type": "code",
   "execution_count": 571,
   "metadata": {
    "hidden": true
   },
   "outputs": [
    {
     "data": {
      "text/plain": [
       "array([ 0. , -0.4, -0.4])"
      ]
     },
     "execution_count": 571,
     "metadata": {},
     "output_type": "execute_result"
    }
   ],
   "source": [
    "r = (positions[0]-positions[1])\n",
    "F_num = get_numerical_force(Potentiel_Harmonique,r,*[r_m,epsilon])\n",
    "r = positions[1]-positions[2]\n",
    "F_num -= get_numerical_force(Potentiel_Harmonique,r,*[r_m,epsilon])\n",
    "F_num"
   ]
  },
  {
   "cell_type": "code",
   "execution_count": 181,
   "metadata": {
    "collapsed": true,
    "hidden": true
   },
   "outputs": [],
   "source": [
    "positions,r_m,epsilon,k_spring = np.array([[1,1,0],[1,0,0],[1,0,1]]),0.8,1.,1."
   ]
  },
  {
   "cell_type": "code",
   "execution_count": 182,
   "metadata": {
    "hidden": true
   },
   "outputs": [
    {
     "data": {
      "text/plain": [
       "array([[ 0. , -0.2,  0. ],\n",
       "       [ 0. ,  0.2,  0.2],\n",
       "       [ 0. ,  0. , -0.2]])"
      ]
     },
     "execution_count": 182,
     "metadata": {},
     "output_type": "execute_result"
    }
   ],
   "source": [
    "get_forces_polymer_alt(positions,r_m,k_spring)"
   ]
  },
  {
   "cell_type": "code",
   "execution_count": 184,
   "metadata": {
    "hidden": true
   },
   "outputs": [
    {
     "data": {
      "text/plain": [
       "array([[ 0. , -0.4,  0. ],\n",
       "       [ 0. ,  0.4,  0.4],\n",
       "       [ 0. ,  0. , -0.4]])"
      ]
     },
     "execution_count": 184,
     "metadata": {},
     "output_type": "execute_result"
    }
   ],
   "source": [
    "forces = np.zeros((len(positions),3))\n",
    "distances2,sepVec,dd_diag,sepVec_diag = calcule_r_et_d(positions)\n",
    "pp = get_forces_polymer(dd_diag,sepVec_diag,r_m,k_spring,forces)\n",
    "forces"
   ]
  },
  {
   "cell_type": "code",
   "execution_count": 564,
   "metadata": {
    "hidden": true
   },
   "outputs": [
    {
     "data": {
      "text/plain": [
       "array([0.4       , 0.56568542, 0.4       ])"
      ]
     },
     "execution_count": 564,
     "metadata": {},
     "output_type": "execute_result"
    }
   ],
   "source": [
    "np.linalg.norm(forces,axis=1)"
   ]
  },
  {
   "cell_type": "code",
   "execution_count": null,
   "metadata": {
    "collapsed": true,
    "hidden": true
   },
   "outputs": [],
   "source": []
  },
  {
   "cell_type": "markdown",
   "metadata": {
    "heading_collapsed": true,
    "hidden": true
   },
   "source": [
    "## get spring forces"
   ]
  },
  {
   "cell_type": "code",
   "execution_count": 180,
   "metadata": {
    "code_folding": [
     2,
     19,
     39
    ],
    "collapsed": true,
    "hidden": true
   },
   "outputs": [],
   "source": [
    "def get_energy_and_forces_polymer1(positions,r_m,k_spring):\n",
    "    Natom,_ = positions.shape\n",
    "    forces = np.zeros(positions.shape)\n",
    "    energy = 0\n",
    "    st = range(Natom)\n",
    "    nd = list(range(1,Natom))+[0]\n",
    "    for it,jt in zip(st,nd):\n",
    "        r = positions[it] - positions[jt]\n",
    "        norm = npl.norm(r) \n",
    "        direction_vector = r / norm\n",
    "        force = - k_spring * (norm - r_m) * direction_vector\n",
    "        forces[it] += force\n",
    "        forces[jt] -= force\n",
    "        energy += 0.5*k_spring * (norm - r_m)**2\n",
    "        \n",
    "    return forces\n",
    "\n",
    "def get_energy_and_forces_polymer2(positions,r_m,k_spring):\n",
    "    Natom,_ = positions.shape\n",
    "    forces = np.zeros(positions.shape)\n",
    "    energy = 0\n",
    "    pp2 = np.empty(positions.shape)\n",
    "    pp1 = positions\n",
    "    pp2[:-1] = positions[1:]\n",
    "    pp2[-1] = positions[0]\n",
    "    \n",
    "    r = np.subtract(pp1,pp2)\n",
    "    norms = npl.norm(r,axis=1).reshape((-1,1))\n",
    "    direction_vectors = np.divide(r,norms)\n",
    "    ffs = - np.multiply(k_spring, np.multiply(np.subtract(norms, r_m), direction_vectors))\n",
    "    st = range(Natom)\n",
    "    nd = list(range(1,Natom))+[0]\n",
    "    for ff,it,jt in zip(ffs,st,nd):\n",
    "        forces[it] += ff\n",
    "        forces[jt] -= ff\n",
    "    return forces\n",
    "\n",
    "def get_forces_polymer_alt(positions,r_m,k_spring):\n",
    "    Natom,_ = positions.shape\n",
    "    forces = np.zeros(positions.shape)\n",
    "    energy = 0\n",
    "    pp2 = np.empty(positions.shape)\n",
    "    pp1 = positions\n",
    "    pp2[:-1] = positions[1:]\n",
    "    pp2[-1] = positions[0]\n",
    "    \n",
    "    r = np.subtract(pp1,pp2)\n",
    "    norms = npl.norm(r,axis=1).reshape((-1,1))\n",
    "    direction_vectors = np.divide(r,norms)\n",
    "    ffs = - np.multiply(k_spring, np.multiply(np.subtract(norms, r_m), direction_vectors))\n",
    "    # st = range(Natom)\n",
    "    # nd = list(range(1,Natom))+[0]\n",
    "    st = range(Natom-1)\n",
    "    nd = list(range(1,Natom))\n",
    "    for ff,it,jt in zip(ffs,st,nd):\n",
    "        forces[it] += ff\n",
    "        forces[jt] -= ff\n",
    "        \n",
    "        \n",
    "    return forces"
   ]
  },
  {
   "cell_type": "markdown",
   "metadata": {
    "hidden": true
   },
   "source": [
    "## integrator"
   ]
  },
  {
   "cell_type": "code",
   "execution_count": 13,
   "metadata": {
    "code_folding": [
     0
    ],
    "collapsed": true,
    "hidden": true
   },
   "outputs": [],
   "source": [
    "def move_velocity_verlet(positions,velocities,accelerations,dt,mass,r_m,epsilon,k_spring):\n",
    "    \n",
    "    v_half = velocities + 0.5 * dt * accelerations\n",
    "    new_positions = positions + dt * v_half\n",
    "    \n",
    "    forces = np.zeros(positions.shape)\n",
    "    distances2,sepVec,dd_diag,sepVec_diag = calcule_r_et_d(positions)\n",
    "    \n",
    "    forces = get_forces_LJ(distances2,sepVec,r_m,epsilon,forces)\n",
    "    forces = get_forces_polymer(dd_diag,sepVec_diag,r_m,k_spring,forces)\n",
    "    \n",
    "    new_accelerations = forces / mass\n",
    "    \n",
    "    new_velocities = v_half + 0.5 * dt * new_accelerations\n",
    "    \n",
    "    return new_positions,new_velocities,new_accelerations"
   ]
  },
  {
   "cell_type": "markdown",
   "metadata": {},
   "source": [
    "# NEW"
   ]
  },
  {
   "cell_type": "markdown",
   "metadata": {
    "heading_collapsed": true
   },
   "source": [
    "## get forces"
   ]
  },
  {
   "cell_type": "code",
   "execution_count": 50,
   "metadata": {
    "code_folding": [
     20
    ],
    "collapsed": true,
    "hidden": true
   },
   "outputs": [],
   "source": [
    "def get_LJ_forces(positions,r_m,epsilon):\n",
    "    Npart,_ = positions.shape\n",
    "    #dist = squareform(pdist(positions))\n",
    "    forces = np.zeros(positions.shape)\n",
    "    energy = 0.0\n",
    "    r_m2 = r_m**2\n",
    "    epsi = -12*epsilon\n",
    "    for ipart in range(Npart-1):\n",
    "        r = np.subtract(positions[ipart+1:],positions[ipart])\n",
    "        d2 = np.power(r,2).sum(axis=1)\n",
    "        c6 = np.power(np.divide(r_m2,d2),3)\n",
    "        c12 = np.power(c6,2)\n",
    "        energy += epsilon * np.subtract(c12, np.multiply(2,c6)).sum()\n",
    "        factor = np.divide(epsi,d2)\n",
    "        fs = np.multiply(factor, np.subtract(c12,c6)).reshape((-1,1)) * r \n",
    "        forces[ipart] += fs.sum(axis=0)\n",
    "        forces[ipart+1:] -= fs\n",
    "    return forces,energy\n",
    "def get_Harm_forces(positions,r_m,k_spring):\n",
    "    Npart,_ = positions.shape\n",
    "    forces = np.zeros(positions.shape)\n",
    "    energy = 0.0\n",
    "    r = np.subtract(positions[1:], positions[:-1])\n",
    "    d = np.linalg.norm(r,axis=1)\n",
    "    dx = np.subtract(d,r_m)\n",
    "    \n",
    "    f = - 2 * k_spring * np.divide(dx,d).reshape((-1,1))\n",
    "    rf = np.multiply(r, f)\n",
    "    \n",
    "    forces[:Npart-1] -= rf\n",
    "    forces[1:] += rf\n",
    "    energy = k_spring * np.power(dx,2).sum()\n",
    "    return forces,energy\n",
    "def get_forces(positions,r_m,epsilon,k_spring):\n",
    "    LJ_forces,LJ_pot = get_LJ_forces(positions,r_m,epsilon)\n",
    "    H_forces,H_pot = get_Harm_forces(positions,r_m,k_spring)\n",
    "    return LJ_forces+H_forces,LJ_pot,H_pot"
   ]
  },
  {
   "cell_type": "markdown",
   "metadata": {
    "heading_collapsed": true
   },
   "source": [
    "## thermostat"
   ]
  },
  {
   "cell_type": "code",
   "execution_count": 4,
   "metadata": {
    "code_folding": [],
    "collapsed": true,
    "hidden": true
   },
   "outputs": [],
   "source": [
    "def andersen_thermostat(velocities,temperature,freq,dt):\n",
    "    if temperature > 0:\n",
    "        mask = (np.random.rand(velocities.shape[0]) < 1 - np.exp(-freq*dt))\n",
    "        Nupdate = np.sum(mask)\n",
    "        velocities[mask,0] = np.sqrt(temperature)*np.random.normal(loc=0.0, scale=1,size=(Nupdate,))\n",
    "        velocities[mask,1] = np.sqrt(temperature)*np.random.normal(loc=0.0, scale=1,size=(Nupdate,))\n",
    "        velocities[mask,2] = np.sqrt(temperature)*np.random.normal(loc=0.0, scale=1,size=(Nupdate,))\n",
    "    return velocities"
   ]
  },
  {
   "cell_type": "markdown",
   "metadata": {
    "heading_collapsed": true
   },
   "source": [
    "## main engine"
   ]
  },
  {
   "cell_type": "code",
   "execution_count": 20,
   "metadata": {
    "code_folding": [],
    "hidden": true
   },
   "outputs": [],
   "source": [
    "def MD_NVT_simulator(positions,velocities,mass,temperature,r_m,epsilon,k_spring,Nstep,dt,thermostat_Nstep):\n",
    "    Nparticule, _ = positions.shape\n",
    "    #velocities = np.zeros(positions.shape)\n",
    "    accelerations = np.zeros(positions.shape)\n",
    "    from tqdm import tqdm_notebook as tqdm_cs\n",
    "    pos = []\n",
    "    vel = []\n",
    "    masses = np.ones((Nparticule))*mass\n",
    "    thermostat_frequency = np.sqrt(2)*np.sqrt(2*k_spring)\n",
    "    En = [[],[],[],[]]\n",
    "    dt_half = 0.5*dt\n",
    "    for it in tqdm_cs(range(Nstep)):\n",
    "        # half update of velocities\n",
    "        velocities = velocities + dt_half * accelerations\n",
    "        # half update of postitions\n",
    "        positions = positions + dt_half * velocities\n",
    "        # apply full thermostat\n",
    "        Ekin_half = 0.5*mass*np.power(velocities,2).sum()\n",
    "        velocities = andersen_thermostat(velocities,temperature,thermostat_frequency,dt)\n",
    "        Ekin_thermo_half = 0.5*mass*np.power(velocities,2).sum()\n",
    "        th_en = (Ekin_thermo_half-Ekin_half)\n",
    "        CoM = np.average(velocities,weights=masses,axis=0).reshape((1,3))\n",
    "        velocities = velocities - CoM\n",
    "        # half update of postitions\n",
    "        positions = positions + dt_half * velocities\n",
    "        # update forces from new posittions\n",
    "        forces,ljpot,sppot = get_forces(positions,r_m,epsilon,k_spring)\n",
    "        # update acceleration\n",
    "        accelerations = forces / mass\n",
    "        # half update of velocities\n",
    "        velocities = velocities + dt_half * accelerations\n",
    "        \n",
    "        Ekin_tot = 0.5*mass*np.power(velocities,2).sum()\n",
    "        if it % thermostat_Nstep == 0:\n",
    "            En[0].append(ljpot)\n",
    "            En[1].append(sppot)\n",
    "            En[2].append(Ekin_tot)\n",
    "            En[3].append(th_en)\n",
    "            vel.append(velocities)\n",
    "            pos.append(positions)\n",
    "            \n",
    "        \n",
    "    return pos,vel,np.array(En)"
   ]
  },
  {
   "cell_type": "markdown",
   "metadata": {
    "heading_collapsed": true
   },
   "source": [
    "## make input"
   ]
  },
  {
   "cell_type": "code",
   "execution_count": 6,
   "metadata": {
    "code_folding": [
     0
    ],
    "collapsed": true,
    "hidden": true
   },
   "outputs": [],
   "source": [
    "def view_traj(pos,stride):\n",
    "    from ase.visualize import view\n",
    "    from nglview import show_asetraj,show_ase\n",
    "    from ase import Atoms\n",
    "    Natom,_ = pos[0].shape\n",
    "    num = [1]*Natom\n",
    "    #cell = pos[0].max()*10*np.eye(3)\n",
    "    #frames = [Atoms(numbers=num,positions=pp,cell=cell,pbc=False) for pp in pos[::stride]]\n",
    "    frames = [Atoms(numbers=num,positions=pp,pbc=False) for pp in pos[::stride]]\n",
    "    view = show_asetraj(frames, gui=False)\n",
    "    view.clear_representations()\n",
    "    view.add_ball_and_stick(aspectRatio=4)\n",
    "    return view"
   ]
  },
  {
   "cell_type": "code",
   "execution_count": 7,
   "metadata": {
    "collapsed": true,
    "hidden": true
   },
   "outputs": [],
   "source": [
    "from nglview import show_asetraj,show_ase"
   ]
  },
  {
   "cell_type": "code",
   "execution_count": 8,
   "metadata": {
    "code_folding": [
     0
    ],
    "collapsed": true,
    "hidden": true
   },
   "outputs": [],
   "source": [
    "def make_linear_chain(N,r_m):\n",
    "    r = N * r_m / (2*np.pi)\n",
    "    n = np.arange(N)\n",
    "    pos = np.asarray([r * np.cos(2*np.pi* n/N), r * np.sin(2*np.pi* n/N),np.zeros(N)]).T\n",
    "    return pos.reshape((-1,3))\n",
    "view = view_traj([make_linear_chain(N=10,r_m=1)],1)\n",
    "#view"
   ]
  },
  {
   "cell_type": "code",
   "execution_count": 9,
   "metadata": {
    "code_folding": [
     0
    ],
    "hidden": true
   },
   "outputs": [],
   "source": [
    "def make_chain(N,r_m):\n",
    "    n = np.arange(N)\n",
    "    pos = np.asarray([n*r_m,n*0,n*0]).T\n",
    "    return pos.reshape((-1,3))\n",
    "view = view_traj([make_chain(N=10,r_m=1)],1)\n",
    "#view"
   ]
  },
  {
   "cell_type": "code",
   "execution_count": 10,
   "metadata": {
    "code_folding": [
     0
    ],
    "collapsed": true,
    "hidden": true
   },
   "outputs": [],
   "source": [
    "def make_globular_chain(N,r_m,seed=10):\n",
    "    np.random.seed(seed)\n",
    "    pos = [np.zeros(3)]\n",
    "    r = r_m\n",
    "    for it in range(N):\n",
    "        theta,phi = np.random.rand(2)\n",
    "        pos.append(np.array(\n",
    "                   [r * np.sin(theta*np.pi) * np.cos(phi*2*np.pi),\n",
    "                    r * np.sin(theta*np.pi) * np.sin(phi*2*np.pi),\n",
    "                    r * np.cos(theta*np.pi) ]\n",
    "                    ) + pos[-1])\n",
    "    return np.asarray(pos)\n",
    "#view_traj([make_globular_chain(N=10,r_m=1)],1)"
   ]
  },
  {
   "cell_type": "markdown",
   "metadata": {},
   "source": [
    "# run MD"
   ]
  },
  {
   "cell_type": "code",
   "execution_count": 11,
   "metadata": {
    "code_folding": [
     0
    ],
    "collapsed": true
   },
   "outputs": [],
   "source": [
    "def movingaverage(interval, window_size):\n",
    "    window= np.ones(int(window_size))/float(window_size)\n",
    "    return np.convolve(interval, window, 'same')"
   ]
  },
  {
   "cell_type": "markdown",
   "metadata": {},
   "source": [
    "## run"
   ]
  },
  {
   "cell_type": "code",
   "execution_count": 34,
   "metadata": {},
   "outputs": [
    {
     "name": "stdout",
     "output_type": "stream",
     "text": [
      "0.740480489693061\n",
      "16.67 0.01\n"
     ]
    }
   ],
   "source": [
    "epsilon = 1.\n",
    "r_m = 1.\n",
    "k_spring = 16.67 * epsilon / r_m**2\n",
    "mass = 1.\n",
    "print(np.pi / 6. * np.sqrt(2*epsilon / (mass* r_m**2)))\n",
    "dt = 0.01\n",
    "print(k_spring,dt)\n",
    "initial_pos = make_linear_chain(100,r_m)"
   ]
  },
  {
   "cell_type": "code",
   "execution_count": 35,
   "metadata": {
    "collapsed": true
   },
   "outputs": [],
   "source": [
    "vel_init = np.random.normal(loc=0.0, scale=np.sqrt(0.1),size=initial_pos.shape)"
   ]
  },
  {
   "cell_type": "code",
   "execution_count": 36,
   "metadata": {},
   "outputs": [
    {
     "data": {
      "text/plain": [
       "16.04235728817597"
      ]
     },
     "execution_count": 36,
     "metadata": {},
     "output_type": "execute_result"
    }
   ],
   "source": [
    "np.power(vel_init,2).sum()/2"
   ]
  },
  {
   "cell_type": "code",
   "execution_count": 45,
   "metadata": {},
   "outputs": [],
   "source": [
    "%lprun -f get_LJ_forces -f get_forces get_forces(initial_pos,r_m,epsilon,k_spring)"
   ]
  },
  {
   "cell_type": "code",
   "execution_count": 49,
   "metadata": {},
   "outputs": [
    {
     "data": {
      "application/vnd.jupyter.widget-view+json": {
       "model_id": "c89027442e9344649051c9213cef4dd3",
       "version_major": 2,
       "version_minor": 0
      },
      "text/html": [
       "<p>Failed to display Jupyter Widget of type <code>HBox</code>.</p>\n",
       "<p>\n",
       "  If you're reading this message in the Jupyter Notebook or JupyterLab Notebook, it may mean\n",
       "  that the widgets JavaScript is still loading. If this message persists, it\n",
       "  likely means that the widgets JavaScript library is either not installed or\n",
       "  not enabled. See the <a href=\"https://ipywidgets.readthedocs.io/en/stable/user_install.html\">Jupyter\n",
       "  Widgets Documentation</a> for setup instructions.\n",
       "</p>\n",
       "<p>\n",
       "  If you're reading this message in another frontend (for example, a static\n",
       "  rendering on GitHub or <a href=\"https://nbviewer.jupyter.org/\">NBViewer</a>),\n",
       "  it may mean that your frontend doesn't currently support widgets.\n",
       "</p>\n"
      ],
      "text/plain": [
       "HBox(children=(IntProgress(value=0, max=1000), HTML(value='')))"
      ]
     },
     "metadata": {},
     "output_type": "display_data"
    },
    {
     "name": "stdout",
     "output_type": "stream",
     "text": [
      "\n"
     ]
    }
   ],
   "source": [
    "%lprun -f get_LJ_forces  -f MD_NVT_simulator  MD_NVT_simulator(initial_pos,vel_init,mass=mass,r_m=r_m,epsilon=epsilon,k_spring=k_spring,temperature=T,Nstep=1000,dt=dt,thermostat_Nstep=10)"
   ]
  },
  {
   "cell_type": "code",
   "execution_count": 24,
   "metadata": {},
   "outputs": [
    {
     "data": {
      "application/vnd.jupyter.widget-view+json": {
       "model_id": "110a244d106f4f46bccd1329b2c61d91",
       "version_major": 2,
       "version_minor": 0
      },
      "text/html": [
       "<p>Failed to display Jupyter Widget of type <code>HBox</code>.</p>\n",
       "<p>\n",
       "  If you're reading this message in the Jupyter Notebook or JupyterLab Notebook, it may mean\n",
       "  that the widgets JavaScript is still loading. If this message persists, it\n",
       "  likely means that the widgets JavaScript library is either not installed or\n",
       "  not enabled. See the <a href=\"https://ipywidgets.readthedocs.io/en/stable/user_install.html\">Jupyter\n",
       "  Widgets Documentation</a> for setup instructions.\n",
       "</p>\n",
       "<p>\n",
       "  If you're reading this message in another frontend (for example, a static\n",
       "  rendering on GitHub or <a href=\"https://nbviewer.jupyter.org/\">NBViewer</a>),\n",
       "  it may mean that your frontend doesn't currently support widgets.\n",
       "</p>\n"
      ],
      "text/plain": [
       "HBox(children=(IntProgress(value=0, max=1000), HTML(value='')))"
      ]
     },
     "metadata": {},
     "output_type": "display_data"
    },
    {
     "name": "stdout",
     "output_type": "stream",
     "text": [
      "\n"
     ]
    }
   ],
   "source": [
    "T = 0.5\n",
    "pos,vel,en = MD_NVT_simulator(initial_pos,vel_init,mass=mass,r_m=r_m,epsilon=epsilon,\n",
    "                           k_spring=k_spring,temperature=T,\n",
    "                           Nstep=1000,dt=dt,thermostat_Nstep=1)"
   ]
  },
  {
   "cell_type": "code",
   "execution_count": 28,
   "metadata": {},
   "outputs": [
    {
     "data": {
      "text/plain": [
       "<matplotlib.legend.Legend at 0x7fea2c613860>"
      ]
     },
     "execution_count": 28,
     "metadata": {},
     "output_type": "execute_result"
    },
    {
     "data": {
      "image/png": "[encoded data removed]",
      "text/plain": [
       "<Figure size 864x576 with 1 Axes>"
      ]
     },
     "metadata": {},
     "output_type": "display_data"
    }
   ],
   "source": [
    "navg = 1\n",
    "plt.figure(figsize=(12,8))\n",
    "plt.plot(movingaverage((en[0]), navg),label='LJ',)\n",
    "plt.plot(movingaverage((en[3]), navg),label='bath',)\n",
    "plt.plot(movingaverage((en[2]), navg),label='kin',)\n",
    "plt.plot(movingaverage((en[1]), navg),label='spring',)\n",
    "#plt.plot(movingaverage((en[2]+en[0]+en[1]), navg),label='kin+LJ+spring',)\n",
    "plt.plot(movingaverage((en[2]+en[0]+en[1]+en[3]), navg),label='kin+LJ+spring+bath',)\n",
    "plt.legend()"
   ]
  },
  {
   "cell_type": "code",
   "execution_count": 26,
   "metadata": {},
   "outputs": [
    {
     "data": {
      "text/plain": [
       "[<matplotlib.lines.Line2D at 0x7fea2c84fda0>]"
      ]
     },
     "execution_count": 26,
     "metadata": {},
     "output_type": "execute_result"
    },
    {
     "data": {
      "image/png": "[encoded data removed]",
      "text/plain": [
       "<Figure size 432x288 with 1 Axes>"
      ]
     },
     "metadata": {},
     "output_type": "display_data"
    }
   ],
   "source": [
    "plt.plot(movingaverage(en[2]/len(initial_pos)*2/3, 1),label='kin')"
   ]
  },
  {
   "cell_type": "code",
   "execution_count": 27,
   "metadata": {},
   "outputs": [
    {
     "data": {
      "application/vnd.jupyter.widget-view+json": {
       "model_id": "5fd342b073454230aeadc881c85c7f3d",
       "version_major": 2,
       "version_minor": 0
      },
      "text/html": [
       "<p>Failed to display Jupyter Widget of type <code>NGLWidget</code>.</p>\n",
       "<p>\n",
       "  If you're reading this message in the Jupyter Notebook or JupyterLab Notebook, it may mean\n",
       "  that the widgets JavaScript is still loading. If this message persists, it\n",
       "  likely means that the widgets JavaScript library is either not installed or\n",
       "  not enabled. See the <a href=\"https://ipywidgets.readthedocs.io/en/stable/user_install.html\">Jupyter\n",
       "  Widgets Documentation</a> for setup instructions.\n",
       "</p>\n",
       "<p>\n",
       "  If you're reading this message in another frontend (for example, a static\n",
       "  rendering on GitHub or <a href=\"https://nbviewer.jupyter.org/\">NBViewer</a>),\n",
       "  it may mean that your frontend doesn't currently support widgets.\n",
       "</p>\n"
      ],
      "text/plain": [
       "NGLWidget(count=100)"
      ]
     },
     "metadata": {},
     "output_type": "display_data"
    }
   ],
   "source": [
    "view_traj(pos,10)"
   ]
  },
  {
   "cell_type": "code",
   "execution_count": 492,
   "metadata": {
    "collapsed": true
   },
   "outputs": [],
   "source": [
    "aa,bb = pos[-1],vel[-1]"
   ]
  },
  {
   "cell_type": "code",
   "execution_count": 172,
   "metadata": {
    "collapsed": true
   },
   "outputs": [],
   "source": [
    "d2,_,dd_diag,_ = calcule_r_et_d(aa)"
   ]
  },
  {
   "cell_type": "code",
   "execution_count": 493,
   "metadata": {
    "code_folding": [],
    "scrolled": true
   },
   "outputs": [
    {
     "data": {
      "application/vnd.jupyter.widget-view+json": {
       "model_id": "37976bb892494c1d9c32964fa23e8b87",
       "version_major": 2,
       "version_minor": 0
      },
      "text/html": [
       "<p>Failed to display Jupyter Widget of type <code>HBox</code>.</p>\n",
       "<p>\n",
       "  If you're reading this message in the Jupyter Notebook or JupyterLab Notebook, it may mean\n",
       "  that the widgets JavaScript is still loading. If this message persists, it\n",
       "  likely means that the widgets JavaScript library is either not installed or\n",
       "  not enabled. See the <a href=\"https://ipywidgets.readthedocs.io/en/stable/user_install.html\">Jupyter\n",
       "  Widgets Documentation</a> for setup instructions.\n",
       "</p>\n",
       "<p>\n",
       "  If you're reading this message in another frontend (for example, a static\n",
       "  rendering on GitHub or <a href=\"https://nbviewer.jupyter.org/\">NBViewer</a>),\n",
       "  it may mean that your frontend doesn't currently support widgets.\n",
       "</p>\n"
      ],
      "text/plain": [
       "HBox(children=(IntProgress(value=0, max=10000), HTML(value='')))"
      ]
     },
     "metadata": {},
     "output_type": "display_data"
    },
    {
     "name": "stdout",
     "output_type": "stream",
     "text": [
      "\n"
     ]
    }
   ],
   "source": [
    "T = 1.\n",
    "#pos,vel,en1 = MD_NVT_simulator(pos[-1],vel[-1],mass=mass,r_m=r_m,epsilon=epsilon,\n",
    "pos,vel,en1 = MD_NVT_simulator(aa,bb,mass=mass,r_m=r_m,epsilon=epsilon,                   \n",
    "                           k_spring=k_spring,temperature=T,\n",
    "                           Nstep=10000,dt=dt,thermostat_Nstep=1)"
   ]
  },
  {
   "cell_type": "code",
   "execution_count": 494,
   "metadata": {},
   "outputs": [
    {
     "data": {
      "text/plain": [
       "[<matplotlib.lines.Line2D at 0x7f24a974f6d8>]"
      ]
     },
     "execution_count": 494,
     "metadata": {},
     "output_type": "execute_result"
    },
    {
     "data": {
      "image/png": "[encoded data removed]",
      "text/plain": [
       "<Figure size 432x288 with 1 Axes>"
      ]
     },
     "metadata": {},
     "output_type": "display_data"
    }
   ],
   "source": [
    "plt.plot(movingaverage(en1[2]/len(initial_pos)*2/3, 1),label='temperature')"
   ]
  },
  {
   "cell_type": "code",
   "execution_count": 504,
   "metadata": {},
   "outputs": [
    {
     "data": {
      "text/plain": [
       "<matplotlib.legend.Legend at 0x7f24a8b7ed30>"
      ]
     },
     "execution_count": 504,
     "metadata": {},
     "output_type": "execute_result"
    },
    {
     "data": {
      "image/png": "[encoded data removed]",
      "text/plain": [
       "<Figure size 864x576 with 1 Axes>"
      ]
     },
     "metadata": {},
     "output_type": "display_data"
    }
   ],
   "source": [
    "navg = 1\n",
    "plt.figure(figsize=(12,8))\n",
    "plt.plot(movingaverage((en1[0]), navg),label='LJ',)\n",
    "plt.plot(movingaverage((en1[3]), navg),label='bath',)\n",
    "plt.plot(movingaverage((en1[2]), navg),label='kin',)\n",
    "plt.plot(movingaverage((en1[1]), navg),label='spring',)\n",
    "#plt.plot(movingaverage((en[2]+en[0]+en[1]), navg),label='kin+LJ+spring',)\n",
    "plt.plot(movingaverage((en1[2]+en1[0]+en1[1]+en1[3]), navg),label='kin+LJ+spring+bath',)\n",
    "plt.legend()"
   ]
  },
  {
   "cell_type": "code",
   "execution_count": 496,
   "metadata": {},
   "outputs": [
    {
     "data": {
      "application/vnd.jupyter.widget-view+json": {
       "model_id": "cf898e8a34304b3caf2b15914c9ba25b",
       "version_major": 2,
       "version_minor": 0
      },
      "text/html": [
       "<p>Failed to display Jupyter Widget of type <code>NGLWidget</code>.</p>\n",
       "<p>\n",
       "  If you're reading this message in the Jupyter Notebook or JupyterLab Notebook, it may mean\n",
       "  that the widgets JavaScript is still loading. If this message persists, it\n",
       "  likely means that the widgets JavaScript library is either not installed or\n",
       "  not enabled. See the <a href=\"https://ipywidgets.readthedocs.io/en/stable/user_install.html\">Jupyter\n",
       "  Widgets Documentation</a> for setup instructions.\n",
       "</p>\n",
       "<p>\n",
       "  If you're reading this message in another frontend (for example, a static\n",
       "  rendering on GitHub or <a href=\"https://nbviewer.jupyter.org/\">NBViewer</a>),\n",
       "  it may mean that your frontend doesn't currently support widgets.\n",
       "</p>\n"
      ],
      "text/plain": [
       "NGLWidget(count=1000)"
      ]
     },
     "metadata": {},
     "output_type": "display_data"
    }
   ],
   "source": [
    "view_traj(pos,10)"
   ]
  },
  {
   "cell_type": "code",
   "execution_count": null,
   "metadata": {
    "collapsed": true
   },
   "outputs": [],
   "source": []
  },
  {
   "cell_type": "code",
   "execution_count": null,
   "metadata": {
    "collapsed": true
   },
   "outputs": [],
   "source": []
  },
  {
   "cell_type": "code",
   "execution_count": null,
   "metadata": {
    "collapsed": true
   },
   "outputs": [],
   "source": []
  }
 ],
 "metadata": {
  "kernelspec": {
   "display_name": "Python 3 soap",
   "language": "python",
   "name": "soap"
  },
  "language_info": {
   "codemirror_mode": {
    "name": "ipython",
    "version": 3
   },
   "file_extension": ".py",
   "mimetype": "text/x-python",
   "name": "python",
   "nbconvert_exporter": "python",
   "pygments_lexer": "ipython3",
   "version": "3.6.2"
  },
  "toc": {
   "nav_menu": {
    "height": "160px",
    "width": "252px"
   },
   "number_sections": true,
   "sideBar": true,
   "skip_h1_title": false,
   "title_cell": "Table of Contents",
   "title_sidebar": "Contents",
   "toc_cell": false,
   "toc_position": {
    "height": "461px",
    "left": "0px",
    "right": "927.667px",
    "top": "107px",
    "width": "139px"
   },
   "toc_section_display": "block",
   "toc_window_display": false
  }
 },
 "nbformat": 4,
 "nbformat_minor": 1
}
