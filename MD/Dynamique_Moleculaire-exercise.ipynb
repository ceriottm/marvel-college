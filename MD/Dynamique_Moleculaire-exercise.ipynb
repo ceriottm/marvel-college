{
 "cells": [
  {
   "cell_type": "code",
   "execution_count": 1,
   "metadata": {},
   "outputs": [],
   "source": [
    "%matplotlib inline\n",
    "import matplotlib.pyplot as plt"
   ]
  },
  {
   "cell_type": "code",
   "execution_count": 2,
   "metadata": {},
   "outputs": [],
   "source": [
    "import numpy as np\n",
    "import scipy as sc\n",
    "import numpy.linalg as npl\n",
    "from numpy.linalg import norm\n",
    "import scipy.linalg as scl\n",
    "from scipy.spatial.distance import pdist,squareform\n",
    "import ase\n",
    "from tqdm import tqdm_notebook as tqdm_cs"
   ]
  },
  {
   "cell_type": "code",
   "execution_count": 3,
   "metadata": {},
   "outputs": [],
   "source": [
    "from tools import manipulation_hist,manipulation_LJ_force,manipulation_Harmonique_force,manipulation_LJ,get_numerical_force,manipulation_Harmonique\n",
    "from tools import visualiser_trajectoire,faire_une_chaine_circulaire,faire_une_chaine_lineaire"
   ]
  },
  {
   "cell_type": "markdown",
   "metadata": {},
   "source": [
    "+ add circles on the potential\n",
    "+ more details on the positions to forces\n",
    "+ external functions\n",
    "+ put total forces formula\n",
    "+ possibility to turn on/off pieces"
   ]
  },
  {
   "cell_type": "markdown",
   "metadata": {},
   "source": [
    "# Developper les fonctions pour modeliser une chaine de polymere"
   ]
  },
  {
   "cell_type": "markdown",
   "metadata": {},
   "source": [
    "## Potentiel harmonique\n",
    "\n",
    "Le potentiel harmonique est donné par:\n",
    "\n",
    "$V_{har}\\,\\left(d\\right) = k \\,\\left(d-r_m\\right)^2,$\n",
    "\n",
    "où $d$ est la longueur du ressort, $r_m$ est la longueur du ressort au repos et $k$ est la constante de raideur du ressort.\n",
    "Si les extrémités du ressort sont données par les vecteurs $\\mathbf{r_1} = \\left(x_1,\\, y_1,\\,  z_1\\right)$ et $\\mathbf{r_2} = \\left(x_2,\\, y_2,\\,  z_2\\right)$ respectivement, alors $d=\\sqrt{(x_1-x_2)^2+(y_1-y_2)^2+(z_1-z_2)^2}$.\n"
   ]
  },
  {
   "cell_type": "code",
   "execution_count": 4,
   "metadata": {
    "collapsed": true
   },
   "outputs": [],
   "source": [
    "def Potentiel_Harmonique(d,r_m,k):\n",
    "    ### Retourne la valeur du potentiel harmonique\n",
    "    return k*( d - r_m)**2"
   ]
  },
  {
   "cell_type": "code",
   "execution_count": 5,
   "metadata": {
    "scrolled": true
   },
   "outputs": [
    {
     "data": {
      "application/vnd.jupyter.widget-view+json": {
       "model_id": "f1b6f86e196f4288b0a4fd18bb3bcd99",
       "version_major": 2,
       "version_minor": 0
      },
      "text/html": [
       "<p>Failed to display Jupyter Widget of type <code>interactive</code>.</p>\n",
       "<p>\n",
       "  If you're reading this message in the Jupyter Notebook or JupyterLab Notebook, it may mean\n",
       "  that the widgets JavaScript is still loading. If this message persists, it\n",
       "  likely means that the widgets JavaScript library is either not installed or\n",
       "  not enabled. See the <a href=\"https://ipywidgets.readthedocs.io/en/stable/user_install.html\">Jupyter\n",
       "  Widgets Documentation</a> for setup instructions.\n",
       "</p>\n",
       "<p>\n",
       "  If you're reading this message in another frontend (for example, a static\n",
       "  rendering on GitHub or <a href=\"https://nbviewer.jupyter.org/\">NBViewer</a>),\n",
       "  it may mean that your frontend doesn't currently support widgets.\n",
       "</p>\n"
      ],
      "text/plain": [
       "interactive(children=(FloatSlider(value=2.0, description='\\\\(r_m\\\\)', max=5.0, min=0.5, step=0.2), FloatSlider(value=2.0, description='\\\\(k\\\\)', max=5.0, min=0.5, step=0.2), Output()), _dom_classes=('widget-interact',))"
      ]
     },
     "metadata": {},
     "output_type": "display_data"
    }
   ],
   "source": [
    "manipulation_Harmonique(Potentiel_Harmonique)"
   ]
  },
  {
   "cell_type": "markdown",
   "metadata": {},
   "source": [
    "## Force d'un ressort\n",
    "\n",
    "En 1D, la force ressentie à l'extrémité d'un ressort est:\n",
    "\n",
    "${F}_{Har}\\left(x\\right) = - \\frac{dV_{Har}(x)}{dx} = - 2x k \\, (x - r_m).$\n",
    "\n",
    "\n",
    "De la même manière, la force ressentie à l'extrémité d'un ressort en trois dimension est:\n",
    "\n",
    "$\\mathbf{F}_{Har}\\left(\\mathbf{r}_{12}\\right)  = \\frac{\\mathbf{r}_{12} }{d} \\,F_{Har}\\left(d\\right) =  - 2 k \\, (d - r_m)  \\frac{\\mathbf{r}_{12} }{d},$\n",
    "\n",
    " sur la particule 2, situé en $\\mathbf{r}_{2}=(x_2,y_2,z_2)$,\n",
    "\n",
    "où $\\mathbf{r}_{12}=\\mathbf{r}_{1}-\\mathbf{r}_{2}=(x_1-x_2,y_1-y_2,z_1-z_2)$ est le vecteur qui va d'une extrémité du ressort, situé en $\\mathbf{r}_{1}=(x_1,y_1,z_1)$, à l'autre, situé en $\\mathbf{r}_{2}=(x_2,y_2,z_2)$, et $d=\\sqrt{(x_1-x_2)^2+(y_1-y_2)^2+(z_1-z_2)^2}$ est la longueur du vecteur $\\mathbf{r}_{12}$.\n",
    "Donc la norme de la force harmonique est donnée par:\n",
    "\n",
    "$F_{Har}\\left(d\\right) =  - 2 k \\, (d - r_m)$"
   ]
  },
  {
   "cell_type": "code",
   "execution_count": 4,
   "metadata": {},
   "outputs": [],
   "source": [
    "def Force_Harmonique(d,r_m,k):\n",
    "    ### Retourne la norme de la force harmonique\n",
    "    return  - 2*k * (d - r_m)"
   ]
  },
  {
   "cell_type": "code",
   "execution_count": 7,
   "metadata": {},
   "outputs": [
    {
     "data": {
      "application/vnd.jupyter.widget-view+json": {
       "model_id": "93d27a7827a84b68a94a28e231342c38",
       "version_major": 2,
       "version_minor": 0
      },
      "text/html": [
       "<p>Failed to display Jupyter Widget of type <code>interactive</code>.</p>\n",
       "<p>\n",
       "  If you're reading this message in the Jupyter Notebook or JupyterLab Notebook, it may mean\n",
       "  that the widgets JavaScript is still loading. If this message persists, it\n",
       "  likely means that the widgets JavaScript library is either not installed or\n",
       "  not enabled. See the <a href=\"https://ipywidgets.readthedocs.io/en/stable/user_install.html\">Jupyter\n",
       "  Widgets Documentation</a> for setup instructions.\n",
       "</p>\n",
       "<p>\n",
       "  If you're reading this message in another frontend (for example, a static\n",
       "  rendering on GitHub or <a href=\"https://nbviewer.jupyter.org/\">NBViewer</a>),\n",
       "  it may mean that your frontend doesn't currently support widgets.\n",
       "</p>\n"
      ],
      "text/plain": [
       "interactive(children=(FloatSlider(value=2.0, description='\\\\(d\\\\)', max=3.5, min=0.5), Output()), _dom_classes=('widget-interact',))"
      ]
     },
     "metadata": {},
     "output_type": "display_data"
    }
   ],
   "source": [
    "manipulation_Harmonique_force(Potentiel_Harmonique,Force_Harmonique)"
   ]
  },
  {
   "cell_type": "markdown",
   "metadata": {},
   "source": [
    "## Potentiel de Lennard Jones\n",
    "\n",
    "Le potentiel de Lennard Jones exercé par la particule 1 sur la particule 2 est:\n",
    "\n",
    "$V_{LJ}\\left(d\\right)= \\epsilon \\left[\\left(\\frac{r_m}{d}\\right)^{12}-2\\left(\\frac{r_m}{d}\\right)^{6}\\right],$\n",
    "\n",
    "où $\\mathbf{r}_{12}=\\mathbf{r}_{1}-\\mathbf{r}_{2}=(x_1-x_2,y_1-y_2,z_1-z_2)$ est le vecteur qui va de la particule 1, situé en $\\mathbf{r}_{1}=(x_1,y_1,z_1)$, sur la particule 2, situé en $\\mathbf{r}_{2}=(x_2,y_2,z_2)$, et $d=\\sqrt{(x_1-x_2)^2+(y_1-y_2)^2+(z_1-z_2)^2}$ est la longueur du vecteur $\\mathbf{r}_{12}$.\n"
   ]
  },
  {
   "cell_type": "code",
   "execution_count": 5,
   "metadata": {},
   "outputs": [],
   "source": [
    "def Potentiel_LennardJones(d,r_m,epsilon):\n",
    "    ### Retourne la valeur du potentiel de Lennard Jones \n",
    "    return epsilon*( (r_m/d)**12 - 2*(r_m/d)**6)"
   ]
  },
  {
   "cell_type": "code",
   "execution_count": 9,
   "metadata": {},
   "outputs": [
    {
     "data": {
      "application/vnd.jupyter.widget-view+json": {
       "model_id": "8ef56c404e644f5e89a4e8dc7ce54db2",
       "version_major": 2,
       "version_minor": 0
      },
      "text/html": [
       "<p>Failed to display Jupyter Widget of type <code>interactive</code>.</p>\n",
       "<p>\n",
       "  If you're reading this message in the Jupyter Notebook or JupyterLab Notebook, it may mean\n",
       "  that the widgets JavaScript is still loading. If this message persists, it\n",
       "  likely means that the widgets JavaScript library is either not installed or\n",
       "  not enabled. See the <a href=\"https://ipywidgets.readthedocs.io/en/stable/user_install.html\">Jupyter\n",
       "  Widgets Documentation</a> for setup instructions.\n",
       "</p>\n",
       "<p>\n",
       "  If you're reading this message in another frontend (for example, a static\n",
       "  rendering on GitHub or <a href=\"https://nbviewer.jupyter.org/\">NBViewer</a>),\n",
       "  it may mean that your frontend doesn't currently support widgets.\n",
       "</p>\n"
      ],
      "text/plain": [
       "interactive(children=(FloatSlider(value=2.0, description='\\\\(r_m\\\\)', max=5.0, min=0.1, step=0.2), FloatSlider(value=2.0, description='\\\\(\\\\epsilon\\\\)', max=2.0, min=0.1, step=0.2), Output()), _dom_classes=('widget-interact',))"
      ]
     },
     "metadata": {},
     "output_type": "display_data"
    }
   ],
   "source": [
    "manipulation_LJ(Potentiel_LennardJones)"
   ]
  },
  {
   "cell_type": "markdown",
   "metadata": {},
   "source": [
    "## Force de Lennard Jones\n",
    "\n",
    "La force de Lennard Jones exercée par une particule 1 sur une particule 2 en trois dimension est:\n",
    "\n",
    "$\\mathbf{F}_{LJ}\\left(\\mathbf{r}_{12}\\right)  = \\frac{\\mathbf{r}_{12} }{d} \\,F_{LJ}\\left(d\\right) = \\frac{\\mathbf{r}_{12} }{d}  \\frac{12 \\epsilon}{d} \\left[\\left(\\frac{r_m}{d}\\right)^{12}-\\left(\\frac{r_m}{d}\\right)^{6}  \\right],$\n",
    "\n",
    "où $\\mathbf{r}_{12}=\\mathbf{r}_{1}-\\mathbf{r}_{2}=(x_1-x_2,y_1-y_2,z_1-z_2)$ est le vecteur qui va de la particule 1, situé en $\\mathbf{r}_{1}=(x_1,y_1,z_1)$, sur la particule 2, situé en $\\mathbf{r}_{2}=(x_2,y_2,z_2)$, et $d=\\sqrt{(x_1-x_2)^2+(y_1-y_2)^2+(z_1-z_2)^2}$ est la longueur du vecteur $\\mathbf{r}_{12}$.\n",
    "Donc la norme de la force de Lennard Jones est donnée par:\n",
    "\n",
    "$F_{LJ}\\left(d\\right) = \\frac{\\mathbf{r}_{12} }{d}  \\frac{12 \\epsilon}{d} \\left[\\left(\\frac{r_m}{d}\\right)^{12}-\\left(\\frac{r_m}{d}\\right)^{6}  \\right]$"
   ]
  },
  {
   "cell_type": "code",
   "execution_count": 10,
   "metadata": {
    "collapsed": true
   },
   "outputs": [],
   "source": [
    "def Force_LennardJones(d,r_m,epsilon):\n",
    "    ### Retourne la norme de la force de Lennard Jones\n",
    "    return  12  * epsilon * ( (r_m/d)**12 - (r_m/d)**6 ) / d"
   ]
  },
  {
   "cell_type": "code",
   "execution_count": 11,
   "metadata": {},
   "outputs": [
    {
     "data": {
      "application/vnd.jupyter.widget-view+json": {
       "model_id": "f109759c5d254adf83626706c88e995e",
       "version_major": 2,
       "version_minor": 0
      },
      "text/html": [
       "<p>Failed to display Jupyter Widget of type <code>interactive</code>.</p>\n",
       "<p>\n",
       "  If you're reading this message in the Jupyter Notebook or JupyterLab Notebook, it may mean\n",
       "  that the widgets JavaScript is still loading. If this message persists, it\n",
       "  likely means that the widgets JavaScript library is either not installed or\n",
       "  not enabled. See the <a href=\"https://ipywidgets.readthedocs.io/en/stable/user_install.html\">Jupyter\n",
       "  Widgets Documentation</a> for setup instructions.\n",
       "</p>\n",
       "<p>\n",
       "  If you're reading this message in another frontend (for example, a static\n",
       "  rendering on GitHub or <a href=\"https://nbviewer.jupyter.org/\">NBViewer</a>),\n",
       "  it may mean that your frontend doesn't currently support widgets.\n",
       "</p>\n"
      ],
      "text/plain": [
       "interactive(children=(FloatSlider(value=1.0, description='\\\\(d\\\\)', max=4.0, min=0.7), Output()), _dom_classes=('widget-interact',))"
      ]
     },
     "metadata": {},
     "output_type": "display_data"
    }
   ],
   "source": [
    "manipulation_LJ_force(Potentiel_LennardJones,Force_LennardJones)"
   ]
  },
  {
   "cell_type": "markdown",
   "metadata": {},
   "source": [
    "# Calculer les forces entre les particules"
   ]
  },
  {
   "cell_type": "markdown",
   "metadata": {},
   "source": [
    "Le polymère est représenté par une chaine de $N$ particules. La chaine est modélisée par l'interaction harmonique entre les particules en suivant leur numérotation: la particule $i$ interagit avec la particule $i+1$ et $i-1$ et les deux extrémités sont libre. De plus, l'interaction entre toutes les particules est approximée par la force de Lennard Jones. La force appliquée sur la particule $i$ est donc:\n",
    "\n",
    "$\\mathbf{F}_{i} = \\sum_{j}^{N} \\left(\\mathbf{F}_{LJ}^{\\,ij} + \\mathbf{F}_{Harm}^{\\,ij} \\right),$\n",
    "\n",
    "$\\mathbf{F}_{i} =  \\sum_{j,j\\neq i}^{N} \\frac{\\mathbf{r}^{\\,ij}}{d^{\\,ij}} \\,F_{LJ}\\left(d^{\\,ij}\\right)  + \\left[ \\frac{\\mathbf{r}^{\\,i-1,i}}{d^{\\,i-1,i}} \\,F_{Harm}\\left(d^{\\,i-1,i}\\right) + \\frac{\\mathbf{r}^{\\,i,i+1}}{d^{\\,i,i+1}} \\,F_{Harm}\\left(d^{\\,i,i+1}\\right) \\right],$\n",
    "\n",
    "où le vecteur $\\mathbf{r}^{\\,ij} = \\left(x^{i}-x^{j},\\,y^{i}-y^{j},\\,  z^{i}-z^{j}\\right)  $ est le vecteur qui va de la particule $i$ à la particule $j$ et $d^{\\,ij}=\\sqrt{(x_i-x_j)^2+(y_i-y_j)^2+(z_i-z_j)^2}$ est la longueur du vecteur $\\mathbf{r}^{\\,ij}$.\n"
   ]
  },
  {
   "cell_type": "markdown",
   "metadata": {},
   "source": [
    "## Calculer les forces de Lennard Jones entre chaque particules\n",
    "\n",
    "\n",
    "$\\mathbf{F}_{i}^{LJ} =  \\sum_{j,j\\neq i}^{N} \\frac{\\mathbf{r}^{\\,ij}}{d^{\\,ij}} \\,F_{LJ}\\left(d^{\\,ij}\\right)$\n",
    "\n",
    "**Algorithme**:\n",
    "\n",
    "$E_{LJ} = 0$ et $\\mathbf{F}_{i}^{LJ}=0$ pour i=0,1,...,Nparticule-1\n",
    "\n",
    "pour i de 0 a Nparticule-1:\n",
    "\n",
    "pour j de 0 a Nparticule-1:\n",
    "    \n",
    "si j est different de i:\n",
    "    \n",
    "+ $\\mathbf{F}_{i}^{LJ} \\mathrel{+}= \\frac{\\mathbf{r}^{\\,ij}}{d^{\\,ij}} \\,F_{LJ}\\left(d^{\\,ij}\\right)$\n",
    "+ $E_{LJ} \\mathrel{+}= 0.5 V_{LJ}\\left(d^{\\,ij}\\right)$\n",
    "        "
   ]
  },
  {
   "cell_type": "code",
   "execution_count": 12,
   "metadata": {
    "code_folding": [],
    "collapsed": true
   },
   "outputs": [],
   "source": [
    "def calculer_forces_LJ(positions,r_m,epsilon):\n",
    "    # Nombre de particules dans le système\n",
    "    Nparticule,_ = positions.shape\n",
    "    # liste des forces appliquees a chaque particule\n",
    "    forces = np.zeros((Nparticule,3))\n",
    "    energy = 0\n",
    "    \n",
    "    ### Calcule la somme des forces de LJ appliquées par toutes les particules sur chaque atoms i\n",
    "    for ipart in range(Nparticule):\n",
    "        for jpart in range(Nparticule):\n",
    "            if jpart != ipart:\n",
    "                r = positions[ipart]-positions[jpart]\n",
    "                d = np.linalg.norm(r)\n",
    "                forces[ipart] += (r/d)*Force_LennardJones(d,r_m,epsilon)\n",
    "                energy += Potentiel_LennardJones(d,r_m,epsilon)\n",
    "    energy *= 0.5\n",
    "    return forces,energy"
   ]
  },
  {
   "cell_type": "code",
   "execution_count": 13,
   "metadata": {
    "collapsed": true
   },
   "outputs": [],
   "source": [
    "r_m,epsilon = 0.2,1\n",
    "positions = np.random.rand(4,3)"
   ]
  },
  {
   "cell_type": "code",
   "execution_count": 14,
   "metadata": {},
   "outputs": [
    {
     "data": {
      "text/plain": [
       "(array([[ 1.96309369e-01,  7.23540131e-01, -2.12626411e+00],\n",
       "        [ 4.87831994e-03, -4.59444187e-03,  8.32808291e-03],\n",
       "        [-4.35185389e-03,  8.71087416e-04, -9.67397712e-03],\n",
       "        [-1.96835835e-01, -7.19816777e-01,  2.12761000e+00]]),\n",
       " -0.1248167014115068)"
      ]
     },
     "execution_count": 14,
     "metadata": {},
     "output_type": "execute_result"
    }
   ],
   "source": [
    "calculer_forces_LJ(positions,r_m,epsilon)"
   ]
  },
  {
   "cell_type": "markdown",
   "metadata": {},
   "source": [
    "## Calculer les forces des ressorts entre chaque particules de la chaine\n",
    "\n",
    "$\\mathbf{F}_{i}^{Harm} =  \\frac{\\mathbf{r}^{\\,i-1,i}}{d^{\\,i-1,i}}\\,F_{Harm}\\left(d^{\\,i-1,i}\\right) + \\frac{\\mathbf{r}^{\\,i,i+1}}{d^{\\,i,i+1}} \\,F_{Harm}\\left(d^{\\,i,i+1}\\right) $\n",
    "\n",
    "**Algorithme**:\n",
    "\n",
    "\n",
    "$E_{Harm} = 0$ et $\\mathbf{F}_{i}^{Harm} = 0 $ pour i=0,1,...,Nparticule-1\n",
    "\n",
    "pour i de 0 a Nresort:\n",
    "+ $\\mathbf{F}_{i}^{Harm} =  \\mathbf{\\hat{r}}^{\\,i,i+1} \\,F_{Harm}\\left(d^{\\,i,i+1}\\right)$\n",
    "+ $\\mathbf{F}_{i+1}^{Harm} =  - \\mathbf{\\hat{r}}^{\\,i,i+1} \\,F_{Harm}\\left(d^{\\,i,i+1}\\right)$\n",
    "+ $E_{Harm} \\mathrel{+}= V_{Harm}\\left(d^{\\,i,i+1}\\right)$"
   ]
  },
  {
   "cell_type": "code",
   "execution_count": 15,
   "metadata": {
    "collapsed": true
   },
   "outputs": [],
   "source": [
    "def calculer_forces_harmoniques(positions,r_m,k_spring):\n",
    "    Nparticule,_ = positions.shape\n",
    "    Nresort = Nparticule-1\n",
    "    # liste des forces appliquees a chaque particule\n",
    "    forces = np.zeros((Nparticule,3))\n",
    "    energy = 0\n",
    "    # TODO\n",
    "    for iresort in range(Nresort):\n",
    "        r = positions[iresort]-positions[iresort+1]\n",
    "        d = np.linalg.norm(r)\n",
    "        f =  Force_Harmonique(d,r_m,k_spring) * (r/d)\n",
    "        forces[iresort] += f\n",
    "        forces[iresort+1] -= f\n",
    "        energy += Potentiel_Harmonique(d,r_m,k_spring)\n",
    "    \n",
    "    return forces,energy"
   ]
  },
  {
   "cell_type": "code",
   "execution_count": 16,
   "metadata": {
    "collapsed": true
   },
   "outputs": [],
   "source": [
    "r_m,k_spring = 0.2,1\n",
    "positions = np.random.rand(4,3)"
   ]
  },
  {
   "cell_type": "code",
   "execution_count": 17,
   "metadata": {},
   "outputs": [
    {
     "data": {
      "text/plain": [
       "(array([[-0.41193043, -0.14875939,  0.54576186],\n",
       "        [ 0.35727772, -0.04594452, -0.39861036],\n",
       "        [-0.1690984 ,  0.50995195, -0.59293865],\n",
       "        [ 0.2237511 , -0.31524803,  0.44578716]]), 0.22509854992533598)"
      ]
     },
     "execution_count": 17,
     "metadata": {},
     "output_type": "execute_result"
    }
   ],
   "source": [
    "calculer_forces_harmoniques(positions,r_m,k_spring)"
   ]
  },
  {
   "cell_type": "markdown",
   "metadata": {},
   "source": [
    "## Thermostat de Andersen\n",
    "\n",
    "Pour modeliser l'effet du monde exterieur sur la chaine de polymère, les composantes des vitesses sont aleatoirement remplacées par des valeurs tirées d'une distribution gaussienne centrée en zéro."
   ]
  },
  {
   "cell_type": "code",
   "execution_count": 18,
   "metadata": {},
   "outputs": [
    {
     "data": {
      "application/vnd.jupyter.widget-view+json": {
       "model_id": "b043cf54df2b43f5bb1704d1fba81641",
       "version_major": 2,
       "version_minor": 0
      },
      "text/html": [
       "<p>Failed to display Jupyter Widget of type <code>interactive</code>.</p>\n",
       "<p>\n",
       "  If you're reading this message in the Jupyter Notebook or JupyterLab Notebook, it may mean\n",
       "  that the widgets JavaScript is still loading. If this message persists, it\n",
       "  likely means that the widgets JavaScript library is either not installed or\n",
       "  not enabled. See the <a href=\"https://ipywidgets.readthedocs.io/en/stable/user_install.html\">Jupyter\n",
       "  Widgets Documentation</a> for setup instructions.\n",
       "</p>\n",
       "<p>\n",
       "  If you're reading this message in another frontend (for example, a static\n",
       "  rendering on GitHub or <a href=\"https://nbviewer.jupyter.org/\">NBViewer</a>),\n",
       "  it may mean that your frontend doesn't currently support widgets.\n",
       "</p>\n"
      ],
      "text/plain": [
       "interactive(children=(FloatSlider(value=1.0, description='\\\\(T\\\\)', max=7.0, min=0.1, step=0.3), Output()), _dom_classes=('widget-interact',))"
      ]
     },
     "metadata": {},
     "output_type": "display_data"
    }
   ],
   "source": [
    "manipulation_hist()"
   ]
  },
  {
   "cell_type": "code",
   "execution_count": 19,
   "metadata": {
    "collapsed": true
   },
   "outputs": [],
   "source": [
    "def andersen_thermostat(velocities,temperature,freq,dt):\n",
    "    if temperature > 0:\n",
    "        vshape = velocities.shape\n",
    "        mask = np.random.rand(velocities.size) < 1 - np.exp(-freq*dt)\n",
    "        Nupdate = np.sum(mask)\n",
    "        velocities = velocities.flatten()\n",
    "        velocities[mask] = np.sqrt(temperature)*np.random.normal(loc=0.0, scale=1,size=(Nupdate,))\n",
    "        velocities = velocities.reshape(vshape)\n",
    "    return velocities"
   ]
  },
  {
   "cell_type": "markdown",
   "metadata": {},
   "source": [
    "## Simulateur\n",
    "\n",
    "Faire evoluer un systeme de N particules pendant $t_{simulation}=N_{étape}\\,\\Delta\\,t$.\n",
    "\n",
    "Procédure:\n",
    "+ Initialiser les vitesses et les accelerations\n",
    "+ Integrer $N_{étape}$ fois les equations du mouvement avec l'integrateur de Verlet en enregistrant les positions et vitesses a chaque étape\n",
    "\n",
    "### Intégration de Verlet\n",
    "\n",
    "A un instant $t$, on connait les postions, vitesses et accelerations des particules $\\mathbf{x}_{t}$, $\\mathbf{v}_{t}$, $\\mathbf{a}_{t}$ et on veut faire avancer le system d'un interval $\\Delta t$ en calculant $\\mathbf{x}_{t+\\Delta t}$, $\\mathbf{v}_{t+\\Delta t}$, $\\mathbf{a}_{t+\\Delta t}$.\n",
    "\n",
    "Algorithme:\n",
    "\n",
    "+ applique le thermostat \n",
    "\n",
    "+ $\\mathbf{v}_{t+\\Delta t/2}= \\mathbf{v}_{t} + 0.5\\,\\Delta t\\,\\mathbf{a}_{t}$\n",
    "\n",
    "+ $\\mathbf{x}_{t+\\Delta t} = \\mathbf{x}_{t}+\\Delta t\\,\\mathbf{v}_{t+\\Delta t/2}$\n",
    "\n",
    "+ $\\mathbf{a}_{t+\\Delta t} = \\frac{\\mathbf{F}_{t+\\Delta t}}{m} = \\left[\\mathbf{F}_{LJ}\\left(\\mathbf{x}_{t+\\Delta t}\\right)+\\mathbf{F}_{Har}\\left(\\mathbf{x}_{t+\\Delta t}\\right)\\right]\\,/\\,m$ \n",
    "\n",
    "+ $\\mathbf{v}_{t+\\Delta t} = \\mathbf{v}_{t+\\Delta t/2}+0.5\\,\\Delta t\\, \\mathbf{a}_{t+\\Delta t} $"
   ]
  },
  {
   "cell_type": "code",
   "execution_count": 20,
   "metadata": {
    "collapsed": true
   },
   "outputs": [],
   "source": [
    "def calculer_les_forces(positions,r_m,epsilon,k_spring):\n",
    "    F_harm,E_harm = calculer_forces_harmoniques(positions,r_m,k_spring)\n",
    "    F_LJ,E_LJ = calculer_forces_LJ(positions,r_m,epsilon)\n",
    "    return F_harm+F_LJ,E_harm+E_LJ"
   ]
  },
  {
   "cell_type": "code",
   "execution_count": 32,
   "metadata": {
    "code_folding": [],
    "collapsed": true
   },
   "outputs": [],
   "source": [
    "def simulateur_NVT(positions,vitesses,masse,temperature,r_m,epsilon,k_spring,Nstep,dt):\n",
    "    \n",
    "    Nparticules, _ = positions.shape\n",
    "    accelerations = np.zeros(positions.shape)\n",
    "    forces = np.zeros(positions.shape)\n",
    "    pos = []\n",
    "    vel = []\n",
    "    diagnostic = dict(E_variation=np.zeros((Nstep,)),Temperature=np.zeros((Nstep,)),\n",
    "                      E_system=np.zeros((Nstep,)),E_potentiel=np.zeros((Nstep,)),\n",
    "                     E_cinetique=np.zeros((Nstep,)),temps=np.zeros((Nstep,)))\n",
    "    \n",
    "    frequence_du_thermostat = np.sqrt(2)*np.sqrt(2*k_spring)\n",
    "    \n",
    "    E_thermostat = 0\n",
    "    E_system = 0\n",
    "    E_variation = 0.0\n",
    "    \n",
    "    # Calculates the initial potential energy\n",
    "    forces,E_potentiel = calculer_les_forces(positions,r_m,epsilon,k_spring)\n",
    "    E_cinetique = 0.5*masse*np.power(vitesses,2).sum()\n",
    "    E_system += E_potentiel + E_cinetique\n",
    "    E_variation += E_system \n",
    "    \n",
    "    for it in tqdm_cs(range(Nstep)):\n",
    "        \n",
    "        # applique le thermostat a tous les thermostat_Nstep\n",
    "        E_thermostat -= 0.5*masse*np.power(vitesses,2).sum()\n",
    "        vitesses = andersen_thermostat(vitesses,temperature,frequence_du_thermostat,dt)\n",
    "        E_thermostat += 0.5*masse*np.power(vitesses,2).sum()\n",
    "        \n",
    "        # TODO\n",
    "        # Faire avancer d'un pas le system\n",
    "        ## avance d'un demi pas pour les vitesses\n",
    "        vitesses = vitesses + 0.5 * dt * accelerations\n",
    "        ## avance d'un pas complet pour les positions\n",
    "        positions = positions + dt * vitesses\n",
    "        ## Calcule les forces\n",
    "        forces,E_potentiel = calculer_les_forces(positions,r_m,epsilon,k_spring)\n",
    "        ## F = ma\n",
    "        accelerations = forces / masse\n",
    "        ## avance d'un demi pas les vitesses\n",
    "        vitesses = vitesses + 0.5 * dt * accelerations\n",
    "        \n",
    "        E_cinetique = 0.5*masse*np.power(vitesses,2).sum()\n",
    "        E_variation +=  E_potentiel + E_cinetique - E_thermostat - E_system\n",
    "        E_system =  E_potentiel + E_cinetique\n",
    "        \n",
    "        # enregistre les positions et les vitesses\n",
    "        pos.append(positions)\n",
    "        vel.append(vitesses)\n",
    "        diagnostic['E_variation'][it] = E_variation\n",
    "        diagnostic['E_potentiel'][it] = E_potentiel\n",
    "        diagnostic['E_system'][it] = E_system\n",
    "        diagnostic['E_cinetique'][it] = E_cinetique\n",
    "        diagnostic['Temperature'][it] = E_cinetique/1.5/Nparticules\n",
    "        diagnostic['temps'][it] = it * dt\n",
    "        E_thermostat = 0\n",
    "        \n",
    "    return pos,vel,diagnostic"
   ]
  },
  {
   "cell_type": "markdown",
   "metadata": {
    "heading_collapsed": true
   },
   "source": [
    "## trajectory visualiser"
   ]
  },
  {
   "cell_type": "code",
   "execution_count": 55,
   "metadata": {
    "code_folding": [],
    "hidden": true
   },
   "outputs": [
    {
     "data": {
      "application/vnd.jupyter.widget-view+json": {
       "model_id": "e4c0c28688f944c58680cc7d779251ab",
       "version_major": 2,
       "version_minor": 0
      },
      "text/html": [
       "<p>Failed to display Jupyter Widget of type <code>NGLWidget</code>.</p>\n",
       "<p>\n",
       "  If you're reading this message in the Jupyter Notebook or JupyterLab Notebook, it may mean\n",
       "  that the widgets JavaScript is still loading. If this message persists, it\n",
       "  likely means that the widgets JavaScript library is either not installed or\n",
       "  not enabled. See the <a href=\"https://ipywidgets.readthedocs.io/en/stable/user_install.html\">Jupyter\n",
       "  Widgets Documentation</a> for setup instructions.\n",
       "</p>\n",
       "<p>\n",
       "  If you're reading this message in another frontend (for example, a static\n",
       "  rendering on GitHub or <a href=\"https://nbviewer.jupyter.org/\">NBViewer</a>),\n",
       "  it may mean that your frontend doesn't currently support widgets.\n",
       "</p>\n"
      ],
      "text/plain": [
       "NGLWidget()"
      ]
     },
     "metadata": {},
     "output_type": "display_data"
    }
   ],
   "source": [
    "view = visualiser_trajectoire([faire_une_chaine_circulaire(N=10,r_m=1.5)],1)\n",
    "view"
   ]
  },
  {
   "cell_type": "code",
   "execution_count": 56,
   "metadata": {
    "collapsed": true,
    "hidden": true
   },
   "outputs": [],
   "source": [
    "view = view_traj([faire_une_chaine_lineaire(N=10,r_m=1)],1)\n",
    "#view"
   ]
  },
  {
   "cell_type": "markdown",
   "metadata": {},
   "source": [
    "# Verifie l'implementation"
   ]
  },
  {
   "cell_type": "markdown",
   "metadata": {
    "heading_collapsed": true
   },
   "source": [
    "## potentiel de Lennard Jones sans exitation thermique"
   ]
  },
  {
   "cell_type": "code",
   "execution_count": 37,
   "metadata": {
    "collapsed": true,
    "hidden": true
   },
   "outputs": [],
   "source": [
    "epsilon = 1.\n",
    "r_m = 1.\n",
    "masse = 1.\n",
    "dt = 0.001\n",
    "\n",
    "T = 0\n",
    "k_spring = 0.\n",
    "\n",
    "positions_initiales = faire_une_chaine_lineaire(10,r_m-0.1)\n",
    "vitesses_initiales = np.random.normal(loc=0.0, scale=np.sqrt(.01),size=positions_initiales.shape)"
   ]
  },
  {
   "cell_type": "code",
   "execution_count": 47,
   "metadata": {
    "hidden": true
   },
   "outputs": [
    {
     "data": {
      "application/vnd.jupyter.widget-view+json": {
       "model_id": "84428232809f41a39b3b63be7b80dd33",
       "version_major": 2,
       "version_minor": 0
      },
      "text/html": [
       "<p>Failed to display Jupyter Widget of type <code>HBox</code>.</p>\n",
       "<p>\n",
       "  If you're reading this message in the Jupyter Notebook or JupyterLab Notebook, it may mean\n",
       "  that the widgets JavaScript is still loading. If this message persists, it\n",
       "  likely means that the widgets JavaScript library is either not installed or\n",
       "  not enabled. See the <a href=\"https://ipywidgets.readthedocs.io/en/stable/user_install.html\">Jupyter\n",
       "  Widgets Documentation</a> for setup instructions.\n",
       "</p>\n",
       "<p>\n",
       "  If you're reading this message in another frontend (for example, a static\n",
       "  rendering on GitHub or <a href=\"https://nbviewer.jupyter.org/\">NBViewer</a>),\n",
       "  it may mean that your frontend doesn't currently support widgets.\n",
       "</p>\n"
      ],
      "text/plain": [
       "HBox(children=(IntProgress(value=0, max=5000), HTML(value='')))"
      ]
     },
     "metadata": {},
     "output_type": "display_data"
    },
    {
     "name": "stdout",
     "output_type": "stream",
     "text": [
      "\n",
      "\n"
     ]
    },
    {
     "name": "stderr",
     "output_type": "stream",
     "text": [
      "Exception in thread Thread-8:\n",
      "Traceback (most recent call last):\n",
      "  File \"/home/felix/miniconda2/envs/soap/lib/python3.6/threading.py\", line 916, in _bootstrap_inner\n",
      "    self.run()\n",
      "  File \"/home/felix/miniconda2/envs/soap/lib/python3.6/site-packages/tqdm/_tqdm.py\", line 144, in run\n",
      "    for instance in self.tqdm_cls._instances:\n",
      "  File \"/home/felix/miniconda2/envs/soap/lib/python3.6/_weakrefset.py\", line 60, in __iter__\n",
      "    for itemref in self.data:\n",
      "RuntimeError: Set changed size during iteration\n",
      "\n"
     ]
    }
   ],
   "source": [
    "pos,vel,diagnostic = simulateur_NVT(positions_initiales,vitesses_initiales,masse=masse,r_m=r_m,epsilon=epsilon,\n",
    "                           k_spring=k_spring,temperature=T,\n",
    "                           Nstep=5000,dt=dt)"
   ]
  },
  {
   "cell_type": "markdown",
   "metadata": {
    "hidden": true
   },
   "source": [
    "L'énergie du système est-elle conservée ?"
   ]
  },
  {
   "cell_type": "code",
   "execution_count": 48,
   "metadata": {
    "hidden": true,
    "scrolled": false
   },
   "outputs": [
    {
     "data": {
      "text/plain": [
       "<matplotlib.legend.Legend at 0x7f06fe9b4d68>"
      ]
     },
     "execution_count": 48,
     "metadata": {},
     "output_type": "execute_result"
    },
    {
     "data": {
      "image/png": "[encoded data removed]",
      "text/plain": [
       "<Figure size 432x288 with 1 Axes>"
      ]
     },
     "metadata": {},
     "output_type": "display_data"
    }
   ],
   "source": [
    "plt.plot(diagnostic['E_system'],label='E_system',)\n",
    "plt.legend()"
   ]
  },
  {
   "cell_type": "code",
   "execution_count": 49,
   "metadata": {
    "hidden": true
   },
   "outputs": [
    {
     "data": {
      "application/vnd.jupyter.widget-view+json": {
       "model_id": "05345554853645e2969a78fb58976284",
       "version_major": 2,
       "version_minor": 0
      },
      "text/html": [
       "<p>Failed to display Jupyter Widget of type <code>NGLWidget</code>.</p>\n",
       "<p>\n",
       "  If you're reading this message in the Jupyter Notebook or JupyterLab Notebook, it may mean\n",
       "  that the widgets JavaScript is still loading. If this message persists, it\n",
       "  likely means that the widgets JavaScript library is either not installed or\n",
       "  not enabled. See the <a href=\"https://ipywidgets.readthedocs.io/en/stable/user_install.html\">Jupyter\n",
       "  Widgets Documentation</a> for setup instructions.\n",
       "</p>\n",
       "<p>\n",
       "  If you're reading this message in another frontend (for example, a static\n",
       "  rendering on GitHub or <a href=\"https://nbviewer.jupyter.org/\">NBViewer</a>),\n",
       "  it may mean that your frontend doesn't currently support widgets.\n",
       "</p>\n"
      ],
      "text/plain": [
       "NGLWidget(count=500)"
      ]
     },
     "metadata": {},
     "output_type": "display_data"
    }
   ],
   "source": [
    "visualiser_trajectoire(pos,10)"
   ]
  },
  {
   "cell_type": "markdown",
   "metadata": {
    "heading_collapsed": true
   },
   "source": [
    "## potentiel de Harmonique sans exitation thermique"
   ]
  },
  {
   "cell_type": "code",
   "execution_count": 50,
   "metadata": {
    "collapsed": true,
    "hidden": true
   },
   "outputs": [],
   "source": [
    "k_spring = 1.\n",
    "r_m = 1.\n",
    "masse = 1.\n",
    "dt = 0.001\n",
    "\n",
    "T = 0\n",
    "epsilon = 0.\n",
    "\n",
    "positions_initiales = faire_une_chaine_lineaire(10,r_m-0.1)\n",
    "vitesses_initiales = np.random.normal(loc=0.0, scale=np.sqrt(.01),size=positions_initiales.shape)"
   ]
  },
  {
   "cell_type": "code",
   "execution_count": 51,
   "metadata": {
    "hidden": true,
    "scrolled": true
   },
   "outputs": [
    {
     "data": {
      "application/vnd.jupyter.widget-view+json": {
       "model_id": "384225ddf35a4d3d89c3ae41e7d97aad",
       "version_major": 2,
       "version_minor": 0
      },
      "text/html": [
       "<p>Failed to display Jupyter Widget of type <code>HBox</code>.</p>\n",
       "<p>\n",
       "  If you're reading this message in the Jupyter Notebook or JupyterLab Notebook, it may mean\n",
       "  that the widgets JavaScript is still loading. If this message persists, it\n",
       "  likely means that the widgets JavaScript library is either not installed or\n",
       "  not enabled. See the <a href=\"https://ipywidgets.readthedocs.io/en/stable/user_install.html\">Jupyter\n",
       "  Widgets Documentation</a> for setup instructions.\n",
       "</p>\n",
       "<p>\n",
       "  If you're reading this message in another frontend (for example, a static\n",
       "  rendering on GitHub or <a href=\"https://nbviewer.jupyter.org/\">NBViewer</a>),\n",
       "  it may mean that your frontend doesn't currently support widgets.\n",
       "</p>\n"
      ],
      "text/plain": [
       "HBox(children=(IntProgress(value=0, max=5000), HTML(value='')))"
      ]
     },
     "metadata": {},
     "output_type": "display_data"
    },
    {
     "name": "stdout",
     "output_type": "stream",
     "text": [
      "\n"
     ]
    }
   ],
   "source": [
    "pos,vel,diagnostic = simulateur_NVT(positions_initiales,vitesses_initiales,masse=masse,r_m=r_m,epsilon=epsilon,\n",
    "                           k_spring=k_spring,temperature=T,\n",
    "                           Nstep=5000,dt=dt)"
   ]
  },
  {
   "cell_type": "markdown",
   "metadata": {
    "hidden": true
   },
   "source": [
    "L'énergie du système est-elle conservée ?"
   ]
  },
  {
   "cell_type": "code",
   "execution_count": 52,
   "metadata": {
    "hidden": true,
    "scrolled": true
   },
   "outputs": [
    {
     "data": {
      "text/plain": [
       "<matplotlib.legend.Legend at 0x7f06fe703198>"
      ]
     },
     "execution_count": 52,
     "metadata": {},
     "output_type": "execute_result"
    },
    {
     "data": {
      "image/png": "[encoded data removed]",
      "text/plain": [
       "<Figure size 432x288 with 1 Axes>"
      ]
     },
     "metadata": {},
     "output_type": "display_data"
    }
   ],
   "source": [
    "plt.plot(diagnostic['E_system'],label='E_system',)\n",
    "plt.legend()"
   ]
  },
  {
   "cell_type": "code",
   "execution_count": 53,
   "metadata": {
    "hidden": true,
    "scrolled": true
   },
   "outputs": [
    {
     "data": {
      "application/vnd.jupyter.widget-view+json": {
       "model_id": "3296ca6201844fe1a29c50953f3500ec",
       "version_major": 2,
       "version_minor": 0
      },
      "text/html": [
       "<p>Failed to display Jupyter Widget of type <code>NGLWidget</code>.</p>\n",
       "<p>\n",
       "  If you're reading this message in the Jupyter Notebook or JupyterLab Notebook, it may mean\n",
       "  that the widgets JavaScript is still loading. If this message persists, it\n",
       "  likely means that the widgets JavaScript library is either not installed or\n",
       "  not enabled. See the <a href=\"https://ipywidgets.readthedocs.io/en/stable/user_install.html\">Jupyter\n",
       "  Widgets Documentation</a> for setup instructions.\n",
       "</p>\n",
       "<p>\n",
       "  If you're reading this message in another frontend (for example, a static\n",
       "  rendering on GitHub or <a href=\"https://nbviewer.jupyter.org/\">NBViewer</a>),\n",
       "  it may mean that your frontend doesn't currently support widgets.\n",
       "</p>\n"
      ],
      "text/plain": [
       "NGLWidget(count=500)"
      ]
     },
     "metadata": {},
     "output_type": "display_data"
    }
   ],
   "source": [
    "visualiser_trajectoire(pos,10)"
   ]
  },
  {
   "cell_type": "markdown",
   "metadata": {
    "heading_collapsed": true
   },
   "source": [
    "## Avec l'effet de la temperature"
   ]
  },
  {
   "cell_type": "code",
   "execution_count": 64,
   "metadata": {
    "collapsed": true,
    "hidden": true
   },
   "outputs": [],
   "source": [
    "k_spring = 1.\n",
    "epsilon = 1.\n",
    "r_m = 1.\n",
    "masse = 1.\n",
    "dt = 0.001\n",
    "T = 1.\n",
    "\n",
    "positions_initiales = faire_une_chaine_lineaire(10,r_m-0.1)\n",
    "vitesses_initiales = np.random.normal(loc=0.0, scale=np.sqrt(.01),size=positions_initiales.shape)"
   ]
  },
  {
   "cell_type": "code",
   "execution_count": 65,
   "metadata": {
    "hidden": true,
    "scrolled": true
   },
   "outputs": [
    {
     "data": {
      "application/vnd.jupyter.widget-view+json": {
       "model_id": "763900592ac94fe394de1a6cfe79941a",
       "version_major": 2,
       "version_minor": 0
      },
      "text/html": [
       "<p>Failed to display Jupyter Widget of type <code>HBox</code>.</p>\n",
       "<p>\n",
       "  If you're reading this message in the Jupyter Notebook or JupyterLab Notebook, it may mean\n",
       "  that the widgets JavaScript is still loading. If this message persists, it\n",
       "  likely means that the widgets JavaScript library is either not installed or\n",
       "  not enabled. See the <a href=\"https://ipywidgets.readthedocs.io/en/stable/user_install.html\">Jupyter\n",
       "  Widgets Documentation</a> for setup instructions.\n",
       "</p>\n",
       "<p>\n",
       "  If you're reading this message in another frontend (for example, a static\n",
       "  rendering on GitHub or <a href=\"https://nbviewer.jupyter.org/\">NBViewer</a>),\n",
       "  it may mean that your frontend doesn't currently support widgets.\n",
       "</p>\n"
      ],
      "text/plain": [
       "HBox(children=(IntProgress(value=0, max=5000), HTML(value='')))"
      ]
     },
     "metadata": {},
     "output_type": "display_data"
    },
    {
     "name": "stdout",
     "output_type": "stream",
     "text": [
      "\n"
     ]
    }
   ],
   "source": [
    "pos,vel,diagnostic = simulateur_NVT(positions_initiales,vitesses_initiales,masse=masse,r_m=r_m,epsilon=epsilon,\n",
    "                           k_spring=k_spring,temperature=T,\n",
    "                           Nstep=5000,dt=dt)"
   ]
  },
  {
   "cell_type": "markdown",
   "metadata": {
    "hidden": true
   },
   "source": [
    "L'énergie du système est-elle conservée ?"
   ]
  },
  {
   "cell_type": "code",
   "execution_count": 66,
   "metadata": {
    "hidden": true,
    "scrolled": false
   },
   "outputs": [
    {
     "data": {
      "text/plain": [
       "<matplotlib.legend.Legend at 0x7f06fd58f4e0>"
      ]
     },
     "execution_count": 66,
     "metadata": {},
     "output_type": "execute_result"
    },
    {
     "data": {
      "image/png": "[encoded data removed]",
      "text/plain": [
       "<Figure size 432x288 with 1 Axes>"
      ]
     },
     "metadata": {},
     "output_type": "display_data"
    }
   ],
   "source": [
    "plt.plot(diagnostic['E_variation'],label='E_variation',)\n",
    "plt.legend()"
   ]
  },
  {
   "cell_type": "code",
   "execution_count": 67,
   "metadata": {
    "hidden": true,
    "scrolled": true
   },
   "outputs": [
    {
     "data": {
      "text/plain": [
       "<matplotlib.legend.Legend at 0x7f06fd3a8048>"
      ]
     },
     "execution_count": 67,
     "metadata": {},
     "output_type": "execute_result"
    },
    {
     "data": {
      "image/png": "[encoded data removed]",
      "text/plain": [
       "<Figure size 432x288 with 1 Axes>"
      ]
     },
     "metadata": {},
     "output_type": "display_data"
    }
   ],
   "source": [
    "plt.plot(diagnostic['Temperature'],label='Temperature',)\n",
    "plt.legend()"
   ]
  },
  {
   "cell_type": "code",
   "execution_count": 69,
   "metadata": {
    "hidden": true,
    "scrolled": true
   },
   "outputs": [
    {
     "data": {
      "application/vnd.jupyter.widget-view+json": {
       "model_id": "85624faa08214681a0fa5b22798ee6a6",
       "version_major": 2,
       "version_minor": 0
      },
      "text/html": [
       "<p>Failed to display Jupyter Widget of type <code>NGLWidget</code>.</p>\n",
       "<p>\n",
       "  If you're reading this message in the Jupyter Notebook or JupyterLab Notebook, it may mean\n",
       "  that the widgets JavaScript is still loading. If this message persists, it\n",
       "  likely means that the widgets JavaScript library is either not installed or\n",
       "  not enabled. See the <a href=\"https://ipywidgets.readthedocs.io/en/stable/user_install.html\">Jupyter\n",
       "  Widgets Documentation</a> for setup instructions.\n",
       "</p>\n",
       "<p>\n",
       "  If you're reading this message in another frontend (for example, a static\n",
       "  rendering on GitHub or <a href=\"https://nbviewer.jupyter.org/\">NBViewer</a>),\n",
       "  it may mean that your frontend doesn't currently support widgets.\n",
       "</p>\n"
      ],
      "text/plain": [
       "NGLWidget(count=500)"
      ]
     },
     "metadata": {},
     "output_type": "display_data"
    }
   ],
   "source": [
    "visualiser_trajectoire(pos,10)"
   ]
  },
  {
   "cell_type": "markdown",
   "metadata": {},
   "source": [
    "# Simule la transition entre l'etat globulaire et l'etat elonge"
   ]
  },
  {
   "cell_type": "code",
   "execution_count": 70,
   "metadata": {
    "collapsed": true
   },
   "outputs": [],
   "source": [
    "from Exercise_functions import simulateur_NVT_efficace"
   ]
  },
  {
   "cell_type": "code",
   "execution_count": 84,
   "metadata": {
    "collapsed": true
   },
   "outputs": [],
   "source": [
    "epsilon = 1.\n",
    "r_m = 1.\n",
    "mass = 1.\n",
    "dt = 0.01\n",
    "T = 6.\n",
    "\n",
    "k_spring = 16.67 * epsilon / r_m**2\n",
    "\n",
    "positions_initiales = faire_une_chaine_circulaire(100,r_m)\n",
    "vitesses_initiales = np.random.normal(loc=0.0, scale=np.sqrt(.1),size=positions_initiales.shape)"
   ]
  },
  {
   "cell_type": "code",
   "execution_count": 87,
   "metadata": {},
   "outputs": [
    {
     "data": {
      "application/vnd.jupyter.widget-view+json": {
       "model_id": "c69e8b35235f4a10bfba73da0c759758",
       "version_major": 2,
       "version_minor": 0
      },
      "text/html": [
       "<p>Failed to display Jupyter Widget of type <code>HBox</code>.</p>\n",
       "<p>\n",
       "  If you're reading this message in the Jupyter Notebook or JupyterLab Notebook, it may mean\n",
       "  that the widgets JavaScript is still loading. If this message persists, it\n",
       "  likely means that the widgets JavaScript library is either not installed or\n",
       "  not enabled. See the <a href=\"https://ipywidgets.readthedocs.io/en/stable/user_install.html\">Jupyter\n",
       "  Widgets Documentation</a> for setup instructions.\n",
       "</p>\n",
       "<p>\n",
       "  If you're reading this message in another frontend (for example, a static\n",
       "  rendering on GitHub or <a href=\"https://nbviewer.jupyter.org/\">NBViewer</a>),\n",
       "  it may mean that your frontend doesn't currently support widgets.\n",
       "</p>\n"
      ],
      "text/plain": [
       "HBox(children=(IntProgress(value=0, max=50000), HTML(value='')))"
      ]
     },
     "metadata": {},
     "output_type": "display_data"
    },
    {
     "name": "stdout",
     "output_type": "stream",
     "text": [
      "\n"
     ]
    }
   ],
   "source": [
    "pos,vel,diagnostic = simulateur_NVT_efficace(positions_initiales,vitesses_initiales,mass=mass,r_m=r_m,epsilon=epsilon,\n",
    "                           k_spring=k_spring,temperature=T,Nstep=50000,dt=dt,enregistrement_stride=10)"
   ]
  },
  {
   "cell_type": "code",
   "execution_count": 88,
   "metadata": {},
   "outputs": [
    {
     "data": {
      "application/vnd.jupyter.widget-view+json": {
       "model_id": "3778faf50a0e440c84f777ee7d829624",
       "version_major": 2,
       "version_minor": 0
      },
      "text/html": [
       "<p>Failed to display Jupyter Widget of type <code>NGLWidget</code>.</p>\n",
       "<p>\n",
       "  If you're reading this message in the Jupyter Notebook or JupyterLab Notebook, it may mean\n",
       "  that the widgets JavaScript is still loading. If this message persists, it\n",
       "  likely means that the widgets JavaScript library is either not installed or\n",
       "  not enabled. See the <a href=\"https://ipywidgets.readthedocs.io/en/stable/user_install.html\">Jupyter\n",
       "  Widgets Documentation</a> for setup instructions.\n",
       "</p>\n",
       "<p>\n",
       "  If you're reading this message in another frontend (for example, a static\n",
       "  rendering on GitHub or <a href=\"https://nbviewer.jupyter.org/\">NBViewer</a>),\n",
       "  it may mean that your frontend doesn't currently support widgets.\n",
       "</p>\n"
      ],
      "text/plain": [
       "NGLWidget(count=5000)"
      ]
     },
     "metadata": {},
     "output_type": "display_data"
    }
   ],
   "source": [
    "visualiser_trajectoire(pos,1)"
   ]
  },
  {
   "cell_type": "code",
   "execution_count": 89,
   "metadata": {},
   "outputs": [
    {
     "data": {
      "text/plain": [
       "<matplotlib.legend.Legend at 0x7f06e6718588>"
      ]
     },
     "execution_count": 89,
     "metadata": {},
     "output_type": "execute_result"
    },
    {
     "data": {
      "image/png": "[encoded data removed]",
      "text/plain": [
       "<Figure size 432x288 with 1 Axes>"
      ]
     },
     "metadata": {},
     "output_type": "display_data"
    }
   ],
   "source": [
    "plt.plot(diagnostic['time'],diagnostic['E_variation'],label='E_variation',)\n",
    "plt.legend()"
   ]
  },
  {
   "cell_type": "code",
   "execution_count": 90,
   "metadata": {},
   "outputs": [
    {
     "data": {
      "text/plain": [
       "<matplotlib.legend.Legend at 0x7f06e6718c88>"
      ]
     },
     "execution_count": 90,
     "metadata": {},
     "output_type": "execute_result"
    },
    {
     "data": {
      "image/png": "[encoded data removed]",
      "text/plain": [
       "<Figure size 432x288 with 1 Axes>"
      ]
     },
     "metadata": {},
     "output_type": "display_data"
    }
   ],
   "source": [
    "plt.plot(diagnostic['time'],diagnostic['Temperature'],label='Temperature',)\n",
    "plt.legend()"
   ]
  },
  {
   "cell_type": "code",
   "execution_count": 91,
   "metadata": {},
   "outputs": [
    {
     "data": {
      "text/plain": [
       "<matplotlib.legend.Legend at 0x7f06e5ee1780>"
      ]
     },
     "execution_count": 91,
     "metadata": {},
     "output_type": "execute_result"
    },
    {
     "data": {
      "image/png": "[encoded data removed]",
      "text/plain": [
       "<Figure size 432x288 with 1 Axes>"
      ]
     },
     "metadata": {},
     "output_type": "display_data"
    }
   ],
   "source": [
    "plt.plot(diagnostic['time'],diagnostic['E_system'],label='E_system',)\n",
    "plt.legend()"
   ]
  },
  {
   "cell_type": "code",
   "execution_count": null,
   "metadata": {
    "collapsed": true
   },
   "outputs": [],
   "source": []
  }
 ],
 "metadata": {
  "kernelspec": {
   "display_name": "Python 3 soap",
   "language": "python",
   "name": "soap"
  },
  "language_info": {
   "codemirror_mode": {
    "name": "ipython",
    "version": 3
   },
   "file_extension": ".py",
   "mimetype": "text/x-python",
   "name": "python",
   "nbconvert_exporter": "python",
   "pygments_lexer": "ipython3",
   "version": "3.6.4"
  },
  "toc": {
   "nav_menu": {
    "height": "160px",
    "width": "252px"
   },
   "number_sections": true,
   "sideBar": true,
   "skip_h1_title": false,
   "title_cell": "Table of Contents",
   "title_sidebar": "Contents",
   "toc_cell": false,
   "toc_position": {
    "height": "461px",
    "left": "0px",
    "right": "927.667px",
    "top": "107px",
    "width": "139px"
   },
   "toc_section_display": "block",
   "toc_window_display": false
  }
 },
 "nbformat": 4,
 "nbformat_minor": 2
}
