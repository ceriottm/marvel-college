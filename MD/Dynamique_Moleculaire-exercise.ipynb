{
 "cells": [
  {
   "cell_type": "code",
   "execution_count": 1,
   "metadata": {
    "collapsed": true
   },
   "outputs": [],
   "source": [
    "%matplotlib inline\n",
    "import matplotlib.pyplot as plt"
   ]
  },
  {
   "cell_type": "code",
   "execution_count": 2,
   "metadata": {
    "collapsed": true
   },
   "outputs": [],
   "source": [
    "import numpy as np\n",
    "import scipy as sc\n",
    "import numpy.linalg as npl\n",
    "from numpy.linalg import norm\n",
    "import scipy.linalg as scl\n",
    "from scipy.spatial.distance import pdist,squareform\n",
    "import ase"
   ]
  },
  {
   "cell_type": "code",
   "execution_count": 3,
   "metadata": {
    "collapsed": true
   },
   "outputs": [],
   "source": [
    "from ipywidgets import interactive,FloatSlider,interact"
   ]
  },
  {
   "cell_type": "code",
   "execution_count": 5,
   "metadata": {
    "collapsed": true
   },
   "outputs": [],
   "source": [
    "def manipulation_Har(func):\n",
    "    def f(r_m,k):\n",
    "        plt.figure(2)\n",
    "        r = np.linspace(0.01, 6, num=1000)\n",
    "        plt.plot(r, func(r,r_m,k))\n",
    "        plt.xlim(-0.5,4)\n",
    "        plt.ylim(-5,5)\n",
    "        plt.show()\n",
    "    return interactive(f, r_m=FloatSlider(min=0.1, max=5, step=0.2,description=r'\\(r_m\\)',value=1), \n",
    "                       k=FloatSlider(min=0.1,max=3.,step=0.2,description=r'\\(k\\)',value=2))"
   ]
  },
  {
   "cell_type": "code",
   "execution_count": 6,
   "metadata": {
    "collapsed": true
   },
   "outputs": [],
   "source": [
    "def manipulation_hist():\n",
    "    def f(temperature):\n",
    "        plt.figure(2)\n",
    "        velocities = np.zeros((500,1))\n",
    "        velocities = np.random.normal(loc=0.0, scale=np.sqrt(temperature),size=velocities.shape)\n",
    "        plt.hist(velocities);\n",
    "        plt.xlim(-10,10)\n",
    "        plt.show()\n",
    "    return interactive(f, temperature=FloatSlider(min=0.1, max=7, step=0.3,description=r'\\(T\\)',value=1))"
   ]
  },
  {
   "cell_type": "code",
   "execution_count": 7,
   "metadata": {
    "collapsed": true
   },
   "outputs": [],
   "source": [
    "def get_numerical_force(pot_func,r,*args):\n",
    "    e_x,e_y,e_z = np.array([1,0,0]),np.array([0,1,0]),np.array([0,0,1])\n",
    "    h = 1e-3\n",
    "    F_x = - ( pot_func(norm(r+e_x*h),*args) - pot_func(norm(r-e_x*h),*args) )  / (2*h)\n",
    "    F_y = - ( pot_func(norm(r+e_y*h),*args) - pot_func(norm(r-e_y*h),*args) )  / (2*h)\n",
    "    F_z = - ( pot_func(norm(r+e_z*h),*args) - pot_func(norm(r-e_z*h),*args) )  / (2*h)\n",
    "    return np.array([F_x,F_y,F_z])"
   ]
  },
  {
   "cell_type": "markdown",
   "metadata": {},
   "source": [
    "+ add circles on the potential\n",
    "+ more details on the positions to forces\n",
    "+ external functions\n",
    "+ put total forces formula\n",
    "+ possibility to turn on/off pieces"
   ]
  },
  {
   "cell_type": "markdown",
   "metadata": {},
   "source": [
    "# Developper les fonctions pour modeliser une chaine de polymere"
   ]
  },
  {
   "cell_type": "markdown",
   "metadata": {
    "heading_collapsed": true
   },
   "source": [
    "## get spring forces"
   ]
  },
  {
   "cell_type": "markdown",
   "metadata": {
    "heading_collapsed": true,
    "hidden": true
   },
   "source": [
    "### Potentiel harmonique\n",
    "\n",
    "$V_{har}\\,\\left(d\\right) = k \\,\\left(d-r_m\\right)^2$\n",
    "\n",
    "$\\mathbf{r} = \\left(x,\\, y,\\,  z\\right)  $\n",
    "\n",
    "$d=\\sqrt{x^2+y^2+z^2}$\n",
    "\n",
    "$\\mathbf{\\hat{r}}=\\frac{\\mathbf{r} }{d}$"
   ]
  },
  {
   "cell_type": "code",
   "execution_count": 139,
   "metadata": {
    "collapsed": true,
    "hidden": true
   },
   "outputs": [],
   "source": [
    "def Potentiel_Harmonique(d,r_m,k):\n",
    "    ''' '''\n",
    "    return k*( d - r_m)**2"
   ]
  },
  {
   "cell_type": "code",
   "execution_count": 9,
   "metadata": {
    "hidden": true,
    "scrolled": true
   },
   "outputs": [
    {
     "data": {
      "image/png": "[encoded data removed]",
      "text/plain": [
       "<matplotlib.figure.Figure at 0x1102877b8>"
      ]
     },
     "metadata": {},
     "output_type": "display_data"
    }
   ],
   "source": [
    "manipulation_Har(Potentiel_Harmonique)"
   ]
  },
  {
   "cell_type": "markdown",
   "metadata": {
    "heading_collapsed": true
   },
   "source": [
    "## Force d'un ressort\n",
    "$\\mathbf{F}_{Har}\\left(\\mathbf{r}\\right)  = \\mathbf{\\hat{r}} \\,F_{Har}\\left(d\\right) =  - 2 k \\, (d - r_m)  \\mathbf{\\hat{r}} $\n",
    "\n",
    "$\\mathbf{r} = \\left(x,\\, y,\\,  z\\right)  $\n",
    "\n",
    "$d=\\sqrt{x^2+y^2+z^2}$\n",
    "\n",
    "$\\mathbf{\\hat{r}}=\\frac{\\mathbf{r} }{d}$"
   ]
  },
  {
   "cell_type": "code",
   "execution_count": 100,
   "metadata": {
    "collapsed": true,
    "hidden": true
   },
   "outputs": [],
   "source": [
    "def Force_Harmonique(d,r_m,k):\n",
    "    return  - 2*k * (d - r_m)"
   ]
  },
  {
   "cell_type": "markdown",
   "metadata": {
    "heading_collapsed": true,
    "hidden": true
   },
   "source": [
    "### tester la force avec the potentiel\n",
    "$\\mathbf{F}\\left(\\mathbf{r}\\right) \\approx - \\left( \\frac{V\\left(\\mathbf{r}+h_x\\right) - V\\left(\\mathbf{r}-h_x\\right)}{2h_x}, \\frac{V\\left(\\mathbf{r}+h_y\\right) - V\\left(\\mathbf{r}-h_y\\right)}{2h_y},\\frac{V\\left(\\mathbf{r}+h_z\\right) - V\\left(\\mathbf{r}-h_z\\right)}{2h_z} \\right)  $"
   ]
  },
  {
   "cell_type": "code",
   "execution_count": 46,
   "metadata": {
    "hidden": true
   },
   "outputs": [
    {
     "name": "stdout",
     "output_type": "stream",
     "text": [
      "[  1.27635745e-07   1.23601060e-07   1.31455011e-07]\n"
     ]
    }
   ],
   "source": [
    "e_x,e_y,e_z = np.array([1,0,0]),np.array([0,1,0]),np.array([0,0,1])\n",
    "positionA,positionB,r_m,k = np.array([0,0,0]),np.array([0.9,1.3,0.99]),1.2,1.\n",
    "r = positionB-positionA\n",
    "d = norm(r)\n",
    "h = 1e-3\n",
    "F = r/d*Force_Harmonique(d,r_m,k)\n",
    "F_num = get_numerical_force(Potentiel_Harmonique,d,*[r_m,k])\n",
    "print(F-F_num)"
   ]
  },
  {
   "cell_type": "markdown",
   "metadata": {
    "heading_collapsed": true
   },
   "source": [
    "## Calculer la force des ressorts entre les atoms"
   ]
  },
  {
   "cell_type": "code",
   "execution_count": 84,
   "metadata": {
    "collapsed": true,
    "hidden": true
   },
   "outputs": [],
   "source": [
    "def get_forces_polymer(positions,r_m,k_spring):\n",
    "    Natom,_ = positions.shape\n",
    "    forces = np.zeros(positions.shape)\n",
    "    p1 = positions[:-1]\n",
    "    p2 = positions[1:]\n",
    "    r = np.subtract(p1,p2)\n",
    "    d = npl.norm(r,axis=1).reshape((-1,1))\n",
    "    direction_vectors = np.divide(r,d)\n",
    "    spring_forces = np.multiply(Force_Harmonique(d,r_m,k_spring), direction_vectors)\n",
    "    \n",
    "    forces[:-1] += spring_forces\n",
    "    forces[1:] -= spring_forces\n",
    "    \n",
    "    return forces"
   ]
  },
  {
   "cell_type": "markdown",
   "metadata": {
    "hidden": true
   },
   "source": [
    "### test"
   ]
  },
  {
   "cell_type": "code",
   "execution_count": 85,
   "metadata": {
    "hidden": true
   },
   "outputs": [
    {
     "data": {
      "text/plain": [
       "array([[ 0.25618013,  0.37003797,  0.28179814],\n",
       "       [-0.19407153, -0.34785632, -0.26006013],\n",
       "       [-0.0621086 , -0.02218164, -0.02173801]])"
      ]
     },
     "execution_count": 85,
     "metadata": {},
     "output_type": "execute_result"
    }
   ],
   "source": [
    "positions,r_m,k = np.array([[0,0,0],[0.9,1.3,0.99],[-0.5,0.8,0.5]]),1.6,1.\n",
    "get_forces_polymer(positions,r_m,k)"
   ]
  },
  {
   "cell_type": "code",
   "execution_count": 86,
   "metadata": {
    "hidden": true
   },
   "outputs": [
    {
     "data": {
      "text/plain": [
       "array([[ 0.2561803 ,  0.37003813,  0.28179832],\n",
       "       [-0.19407182, -0.34785668, -0.26006049],\n",
       "       [-0.06210848, -0.02218146, -0.02173783]])"
      ]
     },
     "execution_count": 86,
     "metadata": {},
     "output_type": "execute_result"
    }
   ],
   "source": [
    "p1 = positions[:-1]\n",
    "p2 = positions[1:]\n",
    "r = np.subtract(p1,p2)\n",
    "F_num = np.zeros(positions.shape)\n",
    "for it in range(len(r)):\n",
    "    F_num[it] += get_numerical_force(Potentiel_Harmonique,r[it],*[r_m,k])\n",
    "    F_num[it+1] -= get_numerical_force(Potentiel_Harmonique,r[it],*[r_m,k])\n",
    "F_num"
   ]
  },
  {
   "cell_type": "markdown",
   "metadata": {},
   "source": [
    "## Potentiel de Lennard Jones\n",
    "\n",
    "$V_{LJ}\\left(\\mathbf{r}\\right)=V_{LJ}\\left(d\\right)= \\epsilon \\left[\\left(\\frac{r_m}{d}\\right)^{12}-2\\left(\\frac{r_m}{d}\\right)^{6}\\right]$\n",
    "\n",
    "$\\mathbf{r} = \\left(x,\\, y,\\,  z\\right)  $\n",
    "\n",
    "$d=\\sqrt{x^2+y^2+z^2}$"
   ]
  },
  {
   "cell_type": "code",
   "execution_count": 195,
   "metadata": {
    "collapsed": true
   },
   "outputs": [],
   "source": [
    "def Potentiel_LennardJones(d,r_m,epsilon):\n",
    "    ''' '''\n",
    "    return epsilon*( (r_m/d)**12 - 2*(r_m/d)**6)"
   ]
  },
  {
   "cell_type": "code",
   "execution_count": 214,
   "metadata": {
    "collapsed": true
   },
   "outputs": [],
   "source": [
    "def manipulation_LJ(func):\n",
    "    def f(r_m,epsilon):\n",
    "        fig, ax = plt.subplots(figsize=(5,5))\n",
    "        circle1 = plt.Circle((0, 2), 0.2, color='b')\n",
    "        circle2 = plt.Circle((r_m, 2), 0.2, color='r')\n",
    "        ax.add_artist(circle1)\n",
    "        ax.add_artist(circle2)\n",
    "        r = np.linspace(0.01, 6, num=1000)\n",
    "        plt.plot(r, func(r,r_m,epsilon))\n",
    "        \n",
    "        plt.xlim(-0.5,5)\n",
    "        plt.ylim(-2.5,3)\n",
    "        plt.show()\n",
    "    return interactive(f, r_m=FloatSlider(min=0.1, max=5, step=0.2,description=r'\\(r_m\\)',value=2), \n",
    "                       epsilon=FloatSlider(min=0.1,max=2.,step=0.2,description=r'\\(\\epsilon\\)',value=2))"
   ]
  },
  {
   "cell_type": "code",
   "execution_count": 215,
   "metadata": {},
   "outputs": [
    {
     "data": {
      "application/vnd.jupyter.widget-view+json": {
       "model_id": "c2d34236e68548b586e65a8210d0126c",
       "version_major": 2,
       "version_minor": 0
      },
      "text/html": [
       "<p>Failed to display Jupyter Widget of type <code>interactive</code>.</p>\n",
       "<p>\n",
       "  If you're reading this message in the Jupyter Notebook or JupyterLab Notebook, it may mean\n",
       "  that the widgets JavaScript is still loading. If this message persists, it\n",
       "  likely means that the widgets JavaScript library is either not installed or\n",
       "  not enabled. See the <a href=\"https://ipywidgets.readthedocs.io/en/stable/user_install.html\">Jupyter\n",
       "  Widgets Documentation</a> for setup instructions.\n",
       "</p>\n",
       "<p>\n",
       "  If you're reading this message in another frontend (for example, a static\n",
       "  rendering on GitHub or <a href=\"https://nbviewer.jupyter.org/\">NBViewer</a>),\n",
       "  it may mean that your frontend doesn't currently support widgets.\n",
       "</p>\n"
      ],
      "text/plain": [
       "interactive(children=(FloatSlider(value=2.0, description='\\\\(r_m\\\\)', max=5.0, min=0.1, step=0.2), FloatSlider(value=2.0, description='\\\\(\\\\epsilon\\\\)', max=2.0, min=0.1, step=0.2), Output()), _dom_classes=('widget-interact',))"
      ]
     },
     "metadata": {},
     "output_type": "display_data"
    }
   ],
   "source": [
    "manipulation_LJ(Potentiel_LennardJones)"
   ]
  },
  {
   "cell_type": "markdown",
   "metadata": {},
   "source": [
    "## Force de Lennard Jones\n",
    "$\\mathbf{F}_{LJ}\\left(\\mathbf{r}\\right)  = \\mathbf{\\hat{r}} \\,F_{LJ}\\left(d\\right) = \\mathbf{\\hat{r}}  \\frac{12 \\epsilon}{d} \\left[\\left(\\frac{r_m}{d}\\right)^{12}-\\left(\\frac{r_m}{d}\\right)^{6}  \\right] $\n",
    "\n",
    "$\\mathbf{r} = \\left(x,\\, y,\\,  z\\right)  $\n",
    "\n",
    "$d=\\sqrt{x^2+y^2+z^2}$\n",
    "\n",
    "$\\mathbf{\\hat{r}}=\\frac{\\mathbf{r} }{d}$"
   ]
  },
  {
   "cell_type": "code",
   "execution_count": 42,
   "metadata": {
    "collapsed": true
   },
   "outputs": [],
   "source": [
    "def Force_LennardJones(d,r_m,epsilon):\n",
    "    return  12  * epsilon * ( (r_m/d)**12 - (r_m/d)**6 ) / d"
   ]
  },
  {
   "cell_type": "code",
   "execution_count": 267,
   "metadata": {
    "code_folding": [
     0
    ],
    "collapsed": true
   },
   "outputs": [],
   "source": [
    "def manipulation_LJ_force(potentiel,force):\n",
    "    font = {'family': 'serif',\n",
    "        'color':  'darkred',\n",
    "        'weight': 'normal',\n",
    "        'size': 16,\n",
    "        }\n",
    "    r_m,epsilon = 1,1\n",
    "    def f(d):\n",
    "        fig, ax = plt.subplots(figsize=(5,5))\n",
    "        circle1 = plt.Circle((0, 2), 0.2, color='b')\n",
    "        circle2 = plt.Circle((d, 2), 0.2, color='r')\n",
    "        \n",
    "        ax.add_artist(circle1)\n",
    "        ax.add_artist(circle2)\n",
    "        st = np.array([d,2])\n",
    "        \n",
    "        if d != r_m:\n",
    "            end = np.array([force(d,r_m,epsilon),2])\n",
    "            nnn = end - st \n",
    "            ax.arrow(st[0], st[1],2*nnn[0]/force(r_m-0.3,r_m,epsilon), nnn[1], head_width=0.25, head_length=0.15, fc='k', ec='k',width=0.05)\n",
    "            plt.text(2, 0.65, r'$F_{LJ}=$'+'{val:.1f}'.format(val=end[0]), fontdict=font)\n",
    "        else:\n",
    "            plt.text(2, 0.65, r'$F_{LJ}=$'+'{val:.1f}'.format(val=0), fontdict=font)\n",
    "        r = np.linspace(0.01, 4, num=1000)\n",
    "        plt.plot(r, potentiel(r,r_m,epsilon))\n",
    "        \n",
    "        plt.xlim(-0.5,4)\n",
    "        plt.ylim(-1.5,3)\n",
    "        plt.show()\n",
    "    return interactive(f, d=FloatSlider(min=r_m-0.3, max=4, step=0.1,description=r'\\(d\\)',value=r_m))"
   ]
  },
  {
   "cell_type": "code",
   "execution_count": 268,
   "metadata": {},
   "outputs": [
    {
     "data": {
      "application/vnd.jupyter.widget-view+json": {
       "model_id": "3d248ec488d04867a721230fec03dfd5",
       "version_major": 2,
       "version_minor": 0
      },
      "text/html": [
       "<p>Failed to display Jupyter Widget of type <code>interactive</code>.</p>\n",
       "<p>\n",
       "  If you're reading this message in the Jupyter Notebook or JupyterLab Notebook, it may mean\n",
       "  that the widgets JavaScript is still loading. If this message persists, it\n",
       "  likely means that the widgets JavaScript library is either not installed or\n",
       "  not enabled. See the <a href=\"https://ipywidgets.readthedocs.io/en/stable/user_install.html\">Jupyter\n",
       "  Widgets Documentation</a> for setup instructions.\n",
       "</p>\n",
       "<p>\n",
       "  If you're reading this message in another frontend (for example, a static\n",
       "  rendering on GitHub or <a href=\"https://nbviewer.jupyter.org/\">NBViewer</a>),\n",
       "  it may mean that your frontend doesn't currently support widgets.\n",
       "</p>\n"
      ],
      "text/plain": [
       "interactive(children=(FloatSlider(value=1.0, description='\\\\(d\\\\)', max=4.0, min=0.7), Output()), _dom_classes=('widget-interact',))"
      ]
     },
     "metadata": {},
     "output_type": "display_data"
    }
   ],
   "source": [
    "manipulation_LJ_force(Potentiel_LennardJones,Force_LennardJones)"
   ]
  },
  {
   "cell_type": "markdown",
   "metadata": {},
   "source": [
    "### tester la force avec the potentiel\n",
    "$\\mathbf{F}\\left(\\mathbf{r}\\right) \\approx - \\left( \\frac{V\\left(\\mathbf{r}+h_x\\right) - V\\left(\\mathbf{r}-h_x\\right)}{2h_x}, \\frac{V\\left(\\mathbf{r}+h_y\\right) - V\\left(\\mathbf{r}-h_y\\right)}{2h_y},\\frac{V\\left(\\mathbf{r}+h_z\\right) - V\\left(\\mathbf{r}-h_z\\right)}{2h_z} \\right)  $"
   ]
  },
  {
   "cell_type": "code",
   "execution_count": 15,
   "metadata": {},
   "outputs": [
    {
     "name": "stdout",
     "output_type": "stream",
     "text": [
      "-6.42075301538e-08 1.5389271979e-07 -3.43229286104e-08\n"
     ]
    }
   ],
   "source": [
    "e_x,e_y,e_z = np.array([1,0,0]),np.array([0,1,0]),np.array([0,0,1])\n",
    "positionA,positionB,r_m,epsilon = np.array([0,0,0]),np.array([0.9,1.3,0.99]),1.2,1.\n",
    "r = positionB-positionA\n",
    "d = norm(r)\n",
    "h = 1e-3\n",
    "F = r/d*Force_LennardJones(d,r_m,epsilon)\n",
    "F_x = - ( Potentiel_LennardJones(norm(r+e_x*h),r_m,epsilon) - Potentiel_LennardJones(norm(r-e_x*h),r_m,epsilon) )  / (2*h)\n",
    "F_y = - ( Potentiel_LennardJones(norm(r+e_y*h),r_m,epsilon) - Potentiel_LennardJones(norm(r-e_y*h),r_m,epsilon) )  / (2*h)\n",
    "F_z = - ( Potentiel_LennardJones(norm(r+e_z*h),r_m,epsilon) - Potentiel_LennardJones(norm(r-e_z*h),r_m,epsilon) )  / (2*h)\n",
    "print(F[0]-F_x,F[1]-F_y,F[2]-F_z)"
   ]
  },
  {
   "cell_type": "markdown",
   "metadata": {},
   "source": [
    "## Calculer les Forces de Lennard Jones entre tous les atomes"
   ]
  },
  {
   "cell_type": "code",
   "execution_count": 16,
   "metadata": {
    "code_folding": [],
    "collapsed": true
   },
   "outputs": [],
   "source": [
    "def get_separations(position,positions):\n",
    "    r = np.subtract(position,positions).reshape((-1,3))\n",
    "    distances2 = np.power(r,2).sum(axis=1).reshape((-1,1))\n",
    "    return distances2,r\n",
    "    \n",
    "def get_forces_LJ(positions,r_m,epsilon):\n",
    "    Natom,_ = positions.shape\n",
    "    energy = 0\n",
    "    forces = np.zeros((Natom,3))\n",
    "    for iatom in range(Natom):\n",
    "        ll = list(set(range(Natom)).difference([iatom]))\n",
    "        distances2,r = get_separations(positions[iatom],positions[ll])\n",
    "        c6 = np.power(np.divide(r_m**2, distances2),3)\n",
    "        c12 = np.power(c6,2)\n",
    "        #energy += 0.5 * np.sum(np.multiply(epsilon , np.subtract(c12,2*c6)))\n",
    "        forces[iatom] += np.multiply(np.multiply(12 * epsilon ,np.subtract(c12,c6)).reshape((Natom-1,1)), \n",
    "                                     np.divide(r,distances2)).sum(axis=0)\n",
    "    return forces"
   ]
  },
  {
   "cell_type": "code",
   "execution_count": 38,
   "metadata": {},
   "outputs": [
    {
     "data": {
      "text/plain": [
       "array([[ 10.97586867, -16.93946157, -10.54687433],\n",
       "       [ -1.31373791,  -0.69130936,  -0.61302053],\n",
       "       [ -9.66213077,  17.63077093,  11.15989486]])"
      ]
     },
     "execution_count": 38,
     "metadata": {},
     "output_type": "execute_result"
    }
   ],
   "source": [
    "positions,r_m,epsilon = np.array([[0,0,0],[0.9,1.3,0.99]]),1.2,1.\n",
    "positions,r_m,epsilon = np.array([[0,0,0],[0.9,1.3,0.99],[-0.5,0.8,0.5]]),1.2,1.\n",
    "F = get_forces_LJ(positions,r_m,epsilon)\n",
    "F"
   ]
  },
  {
   "cell_type": "code",
   "execution_count": 40,
   "metadata": {
    "scrolled": true
   },
   "outputs": [
    {
     "data": {
      "text/plain": [
       "array([-1.31373899, -0.69130911, -0.6130201 ])"
      ]
     },
     "execution_count": 40,
     "metadata": {},
     "output_type": "execute_result"
    }
   ],
   "source": [
    "r = positions[1]-positions[0]\n",
    "F_num = get_numerical_force(Potentiel_LennardJones,r,*[r_m,epsilon])\n",
    "r = positions[1]-positions[2]\n",
    "F_num += get_numerical_force(Potentiel_LennardJones,r,*[r_m,epsilon])\n",
    "F_num"
   ]
  },
  {
   "cell_type": "markdown",
   "metadata": {},
   "source": [
    "# Calculer les forces entre les particules"
   ]
  },
  {
   "cell_type": "markdown",
   "metadata": {},
   "source": [
    "On a un system de $N$ particules donc la force appliquee sur une particule $i$ est:\n",
    "\n",
    "$\\mathbf{F}_{i} = \\sum_{j}^{N} \\left(\\mathbf{F}_{LJ}^{\\,ij} + \\mathbf{F}_{Harm}^{\\,ij} \\right)$\n",
    "\n",
    "$\\mathbf{F}_{i} =  \\sum_{j}^{N} \\left(\\mathbf{\\hat{r}}^{\\,ij} \\,F_{LJ}\\left(d^{\\,ij}\\right) \\right)  +  \\sum_{j}^{N} \\left(\\mathbf{\\hat{r}}^{\\,ij} \\,F_{Harm}\\left(d^{\\,ij}\\right) \\right)$\n",
    "\n",
    "$\\mathbf{F}_{i} =  \\sum_{j}^{N} \\left(\\mathbf{\\hat{r}}^{\\,ij} \\,F_{LJ}\\left(d^{\\,ij}\\right) \\right)  + \\left[ \\mathbf{\\hat{r}}^{\\,i-1,i} \\,F_{Harm}\\left(d^{\\,i-1,i}\\right) - \\mathbf{\\hat{r}}^{\\,i,i+1} \\,F_{Harm}\\left(d^{\\,i,i+1}\\right) \\right]$\n",
    "\n",
    "Ou le vecteur, la distance et le vecteur de direction entre la particule $i$ et la particule $j$ sont respectivement donne par:\n",
    "\n",
    "$\\mathbf{r}^{\\,ij} = \\left(x^{i}-x^{j},\\,y^{i}-y^{j},\\,  z^{i}-z^{j}\\right)  $,\n",
    "\n",
    "$d^{\\,ij}=\\sqrt{\\mathbf{r}^{\\,ij} * \\mathbf{r}^{\\,ij}}$,\n",
    "\n",
    "$\\mathbf{\\hat{r}}^{\\,ij}=\\frac{\\mathbf{r}^{\\,ij} }{d^{\\,ij}}$,\n",
    "\n",
    "et $*$ est le produit scalaire entre deux vecteur."
   ]
  },
  {
   "cell_type": "markdown",
   "metadata": {
    "heading_collapsed": true
   },
   "source": [
    "## Calculer distances et vecteurs de direction a partir des positions\n",
    "\n",
    "Utiliser les definitions de la distance et du vecteur de direction pour construire la matrice des distances et des vecteurs de direction entre toutes les particules"
   ]
  },
  {
   "cell_type": "code",
   "execution_count": 176,
   "metadata": {
    "code_folding": [],
    "collapsed": true,
    "hidden": true
   },
   "outputs": [],
   "source": [
    "def calcule_r_et_d(positions):\n",
    "    Nparticule,_ = positions.shape\n",
    "    # matrice des distances\n",
    "    distances = np.zeros((Nparticule,Nparticule))\n",
    "    # matrice des vecteurs de direction\n",
    "    orientationVec = np.zeros((Nparticule,Nparticule,3))\n",
    "    \n",
    "    # TODO\n",
    "    for ii,position in enumerate(positions):\n",
    "        # calcule les vecteurs d'orientation: pour chaque position prendre la difference avec les autres positions\n",
    "        rr = position - positions[ii+1:]\n",
    "        # calcule la norme des vecteur d'orientation\n",
    "        dd = np.linalg.norm(rr,axis=1)\n",
    "        distances[ii,ii+1:] = distances[ii+1:,ii] = dd\n",
    "        \n",
    "        # normalise les vecteurs d'orientation\n",
    "        orientationVec[ii,ii+1:,:] = rr / dd.reshape((-1,1))\n",
    "        orientationVec[ii+1:,ii,:] = - orientationVec[ii,ii+1:,:]\n",
    "        \n",
    "    return distances,orientationVec"
   ]
  },
  {
   "cell_type": "code",
   "execution_count": 174,
   "metadata": {
    "hidden": true,
    "scrolled": true
   },
   "outputs": [
    {
     "data": {
      "text/plain": [
       "array([[[ 0.        ,  0.        ,  0.        ],\n",
       "        [-0.48244371, -0.69686314, -0.53068808],\n",
       "        [-0.7228974 , -0.56225353,  0.40160966],\n",
       "        [ 0.7228974 , -0.56225353,  0.40160966]],\n",
       "\n",
       "       [[ 0.48244371,  0.69686314,  0.53068808],\n",
       "        [ 0.        ,  0.        ,  0.        ],\n",
       "        [ 0.        ,  0.37353644,  0.9276155 ],\n",
       "        [ 0.7461176 ,  0.24870587,  0.61761956]],\n",
       "\n",
       "       [[ 0.7228974 ,  0.56225353, -0.40160966],\n",
       "        [-0.        , -0.37353644, -0.9276155 ],\n",
       "        [ 0.        ,  0.        ,  0.        ],\n",
       "        [ 1.        ,  0.        ,  0.        ]],\n",
       "\n",
       "       [[-0.7228974 ,  0.56225353, -0.40160966],\n",
       "        [-0.7461176 , -0.24870587, -0.61761956],\n",
       "        [-1.        , -0.        , -0.        ],\n",
       "        [ 0.        ,  0.        ,  0.        ]]])"
      ]
     },
     "execution_count": 174,
     "metadata": {},
     "output_type": "execute_result"
    }
   ],
   "source": [
    "positions,r_m,epsilon,k_spring = np.array([[0,0,0],[0.9,1.3,0.99],[0.9,0.7,-0.5],[-0.9,0.7,-0.5],]),1.2,1.,1.\n",
    "distances,orientationVec = calcule_r_et_d(positions)\n",
    "orientationVec"
   ]
  },
  {
   "cell_type": "code",
   "execution_count": 175,
   "metadata": {
    "hidden": true
   },
   "outputs": [
    {
     "data": {
      "text/plain": [
       "array([[0., 1., 1., 1.],\n",
       "       [1., 0., 1., 1.],\n",
       "       [1., 1., 0., 1.],\n",
       "       [1., 1., 1., 0.]])"
      ]
     },
     "execution_count": 175,
     "metadata": {},
     "output_type": "execute_result"
    }
   ],
   "source": [
    "np.linalg.norm(orientationVec,axis=2)"
   ]
  },
  {
   "cell_type": "markdown",
   "metadata": {},
   "source": [
    "## Calculer les forces de Lennard Jones entre chaque particules\n",
    "\n",
    "\n",
    "$\\mathbf{F}_{i}^{LJ} =  \\sum_{j}^{N} \\mathbf{\\hat{r}}^{\\,ij} \\,F_{LJ}\\left(d^{\\,ij}\\right)$\n",
    "\n",
    "Ecrire une fonction qui prend les matrices des distances et des vecteurs d'orientation et retourne les forces de Lennard Jones appliquees sur chaque particules"
   ]
  },
  {
   "cell_type": "code",
   "execution_count": 180,
   "metadata": {
    "collapsed": true
   },
   "outputs": [],
   "source": [
    "def get_forces_LJ(distances,orientationVec,r_m,epsilon):\n",
    "    Nparticule,_ = distances.shape\n",
    "    # liste des forces appliquees a chaque particule\n",
    "    forces = np.zeros((Nparticule,3))\n",
    "        \n",
    "    # TODO\n",
    "    # calcule la somme des forces de LJ applique par toutes les particules sur chaque atoms\n",
    "    for ipart in range(Nparticule):\n",
    "        # attention a ne pas diviser par zeros\n",
    "        for jpart in range(Nparticule):\n",
    "            if jpart != ipart:\n",
    "                contributions_de_tout_les_atoms = orientationVec[ipart,jpart,:]*\\\n",
    "                            Force_LennardJones(distances[ipart,jpart],r_m,epsilon)\n",
    "                forces[ipart] += contributions_de_tout_les_atoms\n",
    "    \n",
    "    return forces"
   ]
  },
  {
   "cell_type": "code",
   "execution_count": 181,
   "metadata": {},
   "outputs": [
    {
     "data": {
      "text/plain": [
       "array([[ 0.20428302,  2.01721004, -1.0053848 ],\n",
       "       [-0.25964241, -0.71433262, -1.26586656],\n",
       "       [-1.64098083, -0.46026327,  1.61037802],\n",
       "       [ 1.69634022, -0.84261415,  0.66087334]])"
      ]
     },
     "execution_count": 181,
     "metadata": {},
     "output_type": "execute_result"
    }
   ],
   "source": [
    "get_forces_LJ(distances,orientationVec,r_m,epsilon)"
   ]
  },
  {
   "cell_type": "code",
   "execution_count": 182,
   "metadata": {},
   "outputs": [
    {
     "data": {
      "text/plain": [
       "array([-0.25964238, -0.71433242, -1.26586798])"
      ]
     },
     "execution_count": 182,
     "metadata": {},
     "output_type": "execute_result"
    }
   ],
   "source": [
    "r = positions[1]-positions[0]\n",
    "F_num = get_numerical_force(Potentiel_LennardJones,r,*[r_m,epsilon])\n",
    "r = positions[1]-positions[2]\n",
    "F_num += get_numerical_force(Potentiel_LennardJones,r,*[r_m,epsilon])\n",
    "r = positions[1]-positions[3]\n",
    "F_num += get_numerical_force(Potentiel_LennardJones,r,*[r_m,epsilon])\n",
    "F_num"
   ]
  },
  {
   "cell_type": "markdown",
   "metadata": {},
   "source": [
    "## Calculer les forces des ressorts entre chaque particules de la chaine\n",
    "\n",
    "$\\mathbf{F}_{i}^{Harm} =  \\mathbf{\\hat{r}}^{\\,i-1,i} \\,F_{Harm}\\left(d^{\\,i-1,i}\\right) - \\mathbf{\\hat{r}}^{\\,i,i+1} \\,F_{Harm}\\left(d^{\\,i,i+1}\\right) $"
   ]
  },
  {
   "cell_type": "code",
   "execution_count": 189,
   "metadata": {
    "collapsed": true
   },
   "outputs": [],
   "source": [
    "def get_forces_polymer(distances,orientationVec,r_m,k_spring):\n",
    "    Nparticule,_ = distances.shape\n",
    "    Nresort = Nparticule-1\n",
    "    # liste des forces appliquees a chaque particule\n",
    "    forces = np.zeros((Nparticule,3))\n",
    "    \n",
    "    # TODO\n",
    "    for iresort in range(Nresort):\n",
    "        forces_resort = Force_Harmonique(distances[iresort,iresort+1],r_m,k_spring) * orientationVec[iresort,iresort+1,:]\n",
    "        forces[iresort] += forces_resort\n",
    "        forces[iresort+1] -= forces_resort\n",
    "    \n",
    "    return forces"
   ]
  },
  {
   "cell_type": "code",
   "execution_count": 190,
   "metadata": {},
   "outputs": [
    {
     "data": {
      "text/plain": [
       "array([[ 0.6421351 ,  0.92752848,  0.70634861],\n",
       "       [-0.6421351 , -1.23104101, -1.4600714 ],\n",
       "       [-1.2       ,  0.30351253,  0.75372279],\n",
       "       [ 1.2       ,  0.        ,  0.        ]])"
      ]
     },
     "execution_count": 190,
     "metadata": {},
     "output_type": "execute_result"
    }
   ],
   "source": [
    "get_forces_polymer(distances,orientationVec,r_m,k_spring)"
   ]
  },
  {
   "cell_type": "code",
   "execution_count": 191,
   "metadata": {},
   "outputs": [
    {
     "data": {
      "text/plain": [
       "array([-0.64213523, -1.23104128, -1.46007159])"
      ]
     },
     "execution_count": 191,
     "metadata": {},
     "output_type": "execute_result"
    }
   ],
   "source": [
    "r = positions[1]-positions[0]\n",
    "F_num = get_numerical_force(Potentiel_Harmonique,r,*[r_m,k_spring])\n",
    "r = positions[1]-positions[2]\n",
    "F_num += get_numerical_force(Potentiel_Harmonique,r,*[r_m,k_spring])\n",
    "F_num"
   ]
  },
  {
   "cell_type": "markdown",
   "metadata": {
    "heading_collapsed": true
   },
   "source": [
    "## Thermostat de Andersen\n",
    "\n",
    "Remplacer les vitesses par des vitesses aleatoires qui suivent une lois normale"
   ]
  },
  {
   "cell_type": "code",
   "execution_count": 152,
   "metadata": {
    "hidden": true
   },
   "outputs": [
    {
     "data": {
      "application/vnd.jupyter.widget-view+json": {
       "model_id": "876d11bfab7f4fa782be5377ad855c32",
       "version_major": 2,
       "version_minor": 0
      },
      "text/html": [
       "<p>Failed to display Jupyter Widget of type <code>interactive</code>.</p>\n",
       "<p>\n",
       "  If you're reading this message in the Jupyter Notebook or JupyterLab Notebook, it may mean\n",
       "  that the widgets JavaScript is still loading. If this message persists, it\n",
       "  likely means that the widgets JavaScript library is either not installed or\n",
       "  not enabled. See the <a href=\"https://ipywidgets.readthedocs.io/en/stable/user_install.html\">Jupyter\n",
       "  Widgets Documentation</a> for setup instructions.\n",
       "</p>\n",
       "<p>\n",
       "  If you're reading this message in another frontend (for example, a static\n",
       "  rendering on GitHub or <a href=\"https://nbviewer.jupyter.org/\">NBViewer</a>),\n",
       "  it may mean that your frontend doesn't currently support widgets.\n",
       "</p>\n"
      ],
      "text/plain": [
       "interactive(children=(FloatSlider(value=1.0, description='\\\\(T\\\\)', max=7.0, min=0.1, step=0.3), Output()), _dom_classes=('widget-interact',))"
      ]
     },
     "metadata": {},
     "output_type": "display_data"
    }
   ],
   "source": [
    "manipulation_hist()"
   ]
  },
  {
   "cell_type": "code",
   "execution_count": 153,
   "metadata": {
    "collapsed": true,
    "hidden": true
   },
   "outputs": [],
   "source": [
    "def andersen_thermostat(velocities,temperature):  \n",
    "    velocities = np.random.normal(loc=0.0, scale=np.sqrt(temperature),size=velocities.shape)\n",
    "    return velocities"
   ]
  },
  {
   "cell_type": "markdown",
   "metadata": {},
   "source": [
    "## Simulateur\n",
    "\n",
    "Faire evoluer un systeme de N particules pendant $t_{simulation}=N_{étape}\\,\\Delta\\,t$.\n",
    "\n",
    "Procédure:\n",
    "+ Initialiser les vitesses et les accelerations\n",
    "+ Integrer $N_{étape}$ fois les equations du mouvement avec l'integrateur de Verlet en enregistrant les positions et vitesses a chaque étape\n",
    "\n",
    "### Intégration de Verlet\n",
    "\n",
    "A un instant $t$, on connait les postions, vitesses et accelerations des particules $\\mathbf{x}_{t}$, $\\mathbf{v}_{t}$, $\\mathbf{a}_{t}$ et on veut faire avancer le system d'un interval $\\Delta t$ en calculant $\\mathbf{x}_{t+\\Delta t}$, $\\mathbf{v}_{t+\\Delta t}$, $\\mathbf{a}_{t+\\Delta t}$.\n",
    "\n",
    "Algorithme:\n",
    "\n",
    "+ applique le thermostat a tous les $N_{step}$ interval\n",
    "\n",
    "+ $\\mathbf{v}_{t+\\Delta t/2}= \\mathbf{v}_{t} + 0.5\\,\\Delta t\\,\\mathbf{a}_{t}$\n",
    "\n",
    "+ $\\mathbf{x}_{t+\\Delta t} = \\mathbf{x}_{t}+\\Delta t\\,\\mathbf{v}_{t+\\Delta t/2}$\n",
    "\n",
    "+ $\\mathbf{a}_{t+\\Delta t} = \\frac{\\mathbf{F}_{t+\\Delta t}}{m} = \\left[\\mathbf{F}_{LJ}\\left(\\mathbf{x}_{t+\\Delta t}\\right)+\\mathbf{F}_{Har}\\left(\\mathbf{x}_{t+\\Delta t}\\right)\\right]\\,/\\,m$ \n",
    "\n",
    "+ $\\mathbf{v}_{t+\\Delta t} = \\mathbf{v}_{t+\\Delta t/2}+0.5\\,\\Delta t\\, \\mathbf{a}_{t+\\Delta t} $"
   ]
  },
  {
   "cell_type": "code",
   "execution_count": 154,
   "metadata": {
    "code_folding": [],
    "collapsed": true
   },
   "outputs": [],
   "source": [
    "def MD_NVT_simulator(positions,mass,temperature,r_m,epsilon,k_spring,Nstep,dt,thermostat_Nstep):\n",
    "    Natom, _ = positions.shape\n",
    "    velocities = np.zeros(positions.shape)\n",
    "    accelerations = np.zeros(positions.shape)\n",
    "    forces = np.zeros(positions.shape)\n",
    "    from tqdm import tqdm as tqdm_cs\n",
    "    pos = []\n",
    "    vel = []\n",
    "    k_b = 8.61733e-5 # eV / K\n",
    "        \n",
    "    for it in tqdm_cs(range(Nstep)):\n",
    "        \n",
    "        # applique le thermostat a tous les thermostat_Nstep\n",
    "        if it % thermostat_Nstep == 0:\n",
    "            velocities = andersen_thermostat(velocities,k_b*temperature)\n",
    "        \n",
    "        # enregistre les positions et les vitesses\n",
    "        pos.append(positions)\n",
    "        vel.append(velocities)\n",
    "        \n",
    "\n",
    "        # Faire avancer d'un pas le system\n",
    "        ## avance d'un demi pas pour les vitesses\n",
    "        v_half = velocities + 0.5 * dt * accelerations\n",
    "        ## avance d'un pas complet pour les positions\n",
    "        new_positions = positions + dt * v_half\n",
    "        \n",
    "        ## calcule la matrice des distances et des vecteurs d'orientation entre toutes les particules\n",
    "        distances,orientationVec = calcule_r_et_d(new_positions)\n",
    "        \n",
    "        forces = np.zeros(positions.shape)\n",
    "        ## calcule les forces de Lennard Jones\n",
    "        forces += get_forces_LJ(distances,orientationVec,r_m,epsilon)\n",
    "        ## calcules les forces des ressorts\n",
    "        forces += get_forces_polymer(distances,orientationVec,r_m,k_spring)\n",
    "        ## F = ma\n",
    "        new_accelerations = forces / mass\n",
    "        ## avance d'un pas les vitesses\n",
    "        new_velocities = v_half + 0.5 * dt * new_accelerations\n",
    "        \n",
    "        positions,velocities,accelerations = new_positions,new_velocities,new_accelerations\n",
    "                \n",
    "        \n",
    "    return pos,vel"
   ]
  },
  {
   "cell_type": "markdown",
   "metadata": {
    "heading_collapsed": true
   },
   "source": [
    "## trajectory visualiser"
   ]
  },
  {
   "cell_type": "code",
   "execution_count": 102,
   "metadata": {
    "collapsed": true,
    "hidden": true
   },
   "outputs": [],
   "source": [
    "def traj_view(t):\n",
    "    view=nv.show_asetraj(t, gui=True)\n",
    "    view.clear_representations()\n",
    "    view.add_ball_and_stick(aspectRatio=4)\n",
    "    return view"
   ]
  },
  {
   "cell_type": "code",
   "execution_count": 111,
   "metadata": {
    "collapsed": true,
    "hidden": true
   },
   "outputs": [],
   "source": [
    "def view_traj(pos,stride):\n",
    "    from ase.visualize import view\n",
    "    from nglview import show_asetraj,show_ase\n",
    "    from ase import Atoms\n",
    "    Natom,_ = pos[0].shape\n",
    "    num = [1]*Natom\n",
    "    #cell = pos[0].max()*10*np.eye(3)\n",
    "    #frames = [Atoms(numbers=num,positions=pp,cell=cell,pbc=False) for pp in pos[::stride]]\n",
    "    frames = [Atoms(numbers=num,positions=pp,pbc=False) for pp in pos[::stride]]\n",
    "    view = show_asetraj(frames, gui=False)\n",
    "    view.clear_representations()\n",
    "    view.add_ball_and_stick(aspectRatio=4)\n",
    "    return view"
   ]
  },
  {
   "cell_type": "markdown",
   "metadata": {},
   "source": [
    "# run MD"
   ]
  },
  {
   "cell_type": "code",
   "execution_count": 112,
   "metadata": {
    "collapsed": true
   },
   "outputs": [],
   "source": [
    "from nglview import show_asetraj,show_ase"
   ]
  },
  {
   "cell_type": "code",
   "execution_count": 156,
   "metadata": {
    "code_folding": [
     0
    ],
    "collapsed": true
   },
   "outputs": [
    {
     "data": {
      "application/vnd.jupyter.widget-view+json": {
       "model_id": "570684814c48404e9b628033178fdea1",
       "version_major": 2,
       "version_minor": 0
      },
      "text/html": [
       "<p>Failed to display Jupyter Widget of type <code>NGLWidget</code>.</p>\n",
       "<p>\n",
       "  If you're reading this message in the Jupyter Notebook or JupyterLab Notebook, it may mean\n",
       "  that the widgets JavaScript is still loading. If this message persists, it\n",
       "  likely means that the widgets JavaScript library is either not installed or\n",
       "  not enabled. See the <a href=\"https://ipywidgets.readthedocs.io/en/stable/user_install.html\">Jupyter\n",
       "  Widgets Documentation</a> for setup instructions.\n",
       "</p>\n",
       "<p>\n",
       "  If you're reading this message in another frontend (for example, a static\n",
       "  rendering on GitHub or <a href=\"https://nbviewer.jupyter.org/\">NBViewer</a>),\n",
       "  it may mean that your frontend doesn't currently support widgets.\n",
       "</p>\n"
      ],
      "text/plain": [
       "NGLWidget()"
      ]
     },
     "metadata": {},
     "output_type": "display_data"
    }
   ],
   "source": [
    "def make_linear_chain(N,r_m):\n",
    "    r = N * r_m / (2*np.pi)\n",
    "    n = np.arange(N)\n",
    "    pos = np.asarray([r * np.cos(2*np.pi* n/N), r * np.sin(2*np.pi* n/N),np.zeros(N)]).T\n",
    "    return pos.reshape((-1,3))\n",
    "view = view_traj([make_linear_chain(N=10,r_m=1)],1)\n",
    "view"
   ]
  },
  {
   "cell_type": "code",
   "execution_count": 54,
   "metadata": {
    "code_folding": [
     0
    ]
   },
   "outputs": [
    {
     "data": {
      "application/vnd.jupyter.widget-view+json": {
       "model_id": "f4f4d2f6ef144cf49d62e1e867e06f6f",
       "version_major": 2,
       "version_minor": 0
      },
      "text/html": [
       "<p>Failed to display Jupyter Widget of type <code>NGLWidget</code>.</p>\n",
       "<p>\n",
       "  If you're reading this message in the Jupyter Notebook or JupyterLab Notebook, it may mean\n",
       "  that the widgets JavaScript is still loading. If this message persists, it\n",
       "  likely means that the widgets JavaScript library is either not installed or\n",
       "  not enabled. See the <a href=\"https://ipywidgets.readthedocs.io/en/stable/user_install.html\">Jupyter\n",
       "  Widgets Documentation</a> for setup instructions.\n",
       "</p>\n",
       "<p>\n",
       "  If you're reading this message in another frontend (for example, a static\n",
       "  rendering on GitHub or <a href=\"https://nbviewer.jupyter.org/\">NBViewer</a>),\n",
       "  it may mean that your frontend doesn't currently support widgets.\n",
       "</p>\n"
      ],
      "text/plain": [
       "NGLWidget()"
      ]
     },
     "metadata": {},
     "output_type": "display_data"
    }
   ],
   "source": [
    "def make_globular_chain(N,r_m,seed=10):\n",
    "    np.random.seed(seed)\n",
    "    pos = [np.zeros(3)]\n",
    "    r = r_m\n",
    "    for it in range(N):\n",
    "        theta,phi = np.random.rand(2)\n",
    "        pos.append(np.array(\n",
    "                   [r * np.sin(theta*np.pi) * np.cos(phi*2*np.pi),\n",
    "                    r * np.sin(theta*np.pi) * np.sin(phi*2*np.pi),\n",
    "                    r * np.cos(theta*np.pi) ]\n",
    "                    ) + pos[-1])\n",
    "    return np.asarray(pos)\n",
    "view_traj([make_globular_chain(N=10,r_m=1)],1)      "
   ]
  },
  {
   "cell_type": "code",
   "execution_count": 192,
   "metadata": {},
   "outputs": [
    {
     "name": "stdout",
     "output_type": "stream",
     "text": [
      "0.740480489693061\n",
      "16.67 0.01\n"
     ]
    }
   ],
   "source": [
    "epsilon = 1.\n",
    "r_m = 1.\n",
    "k_spring = 16.67 * epsilon / r_m**2\n",
    "mass = 1.\n",
    "print(np.pi / 6. * np.sqrt(2*epsilon / (mass* r_m**2)))\n",
    "dt = 0.01\n",
    "print(k_spring,dt)\n",
    "initial_pos = make_linear_chain(100,r_m)"
   ]
  },
  {
   "cell_type": "code",
   "execution_count": 193,
   "metadata": {},
   "outputs": [
    {
     "name": "stderr",
     "output_type": "stream",
     "text": [
      "  1%|          | 573/50000 [00:27<38:57, 21.14it/s]"
     ]
    },
    {
     "ename": "KeyboardInterrupt",
     "evalue": "",
     "output_type": "error",
     "traceback": [
      "\u001b[0;31m---------------------------------------------------------------------------\u001b[0m",
      "\u001b[0;31mKeyboardInterrupt\u001b[0m                         Traceback (most recent call last)",
      "\u001b[0;32m<ipython-input-193-538e9c2165b5>\u001b[0m in \u001b[0;36m<module>\u001b[0;34m()\u001b[0m\n\u001b[1;32m      2\u001b[0m pos,vel = MD_NVT_simulator(initial_pos,mass=mass,r_m=r_m,epsilon=epsilon,\n\u001b[1;32m      3\u001b[0m                            \u001b[0mk_spring\u001b[0m\u001b[0;34m=\u001b[0m\u001b[0mk_spring\u001b[0m\u001b[0;34m,\u001b[0m\u001b[0mtemperature\u001b[0m\u001b[0;34m=\u001b[0m\u001b[0mT\u001b[0m\u001b[0;34m,\u001b[0m\u001b[0;34m\u001b[0m\u001b[0m\n\u001b[0;32m----> 4\u001b[0;31m                            Nstep=50000,dt=dt,thermostat_Nstep=500)\n\u001b[0m",
      "\u001b[0;32m<ipython-input-154-082a42fba88f>\u001b[0m in \u001b[0;36mMD_NVT_simulator\u001b[0;34m(positions, mass, temperature, r_m, epsilon, k_spring, Nstep, dt, thermostat_Nstep)\u001b[0m\n\u001b[1;32m     31\u001b[0m         \u001b[0mforces\u001b[0m \u001b[0;34m=\u001b[0m \u001b[0mnp\u001b[0m\u001b[0;34m.\u001b[0m\u001b[0mzeros\u001b[0m\u001b[0;34m(\u001b[0m\u001b[0mpositions\u001b[0m\u001b[0;34m.\u001b[0m\u001b[0mshape\u001b[0m\u001b[0;34m)\u001b[0m\u001b[0;34m\u001b[0m\u001b[0m\n\u001b[1;32m     32\u001b[0m         \u001b[0;31m## calcule les forces de Lennard Jones\u001b[0m\u001b[0;34m\u001b[0m\u001b[0;34m\u001b[0m\u001b[0m\n\u001b[0;32m---> 33\u001b[0;31m         \u001b[0mforces\u001b[0m \u001b[0;34m+=\u001b[0m \u001b[0mget_forces_LJ\u001b[0m\u001b[0;34m(\u001b[0m\u001b[0mdistances\u001b[0m\u001b[0;34m,\u001b[0m\u001b[0morientationVec\u001b[0m\u001b[0;34m,\u001b[0m\u001b[0mr_m\u001b[0m\u001b[0;34m,\u001b[0m\u001b[0mepsilon\u001b[0m\u001b[0;34m)\u001b[0m\u001b[0;34m\u001b[0m\u001b[0m\n\u001b[0m\u001b[1;32m     34\u001b[0m         \u001b[0;31m## calcules les forces des ressorts\u001b[0m\u001b[0;34m\u001b[0m\u001b[0;34m\u001b[0m\u001b[0m\n\u001b[1;32m     35\u001b[0m         \u001b[0mforces\u001b[0m \u001b[0;34m+=\u001b[0m \u001b[0mget_forces_polymer\u001b[0m\u001b[0;34m(\u001b[0m\u001b[0mdistances\u001b[0m\u001b[0;34m,\u001b[0m\u001b[0morientationVec\u001b[0m\u001b[0;34m,\u001b[0m\u001b[0mr_m\u001b[0m\u001b[0;34m,\u001b[0m\u001b[0mk_spring\u001b[0m\u001b[0;34m)\u001b[0m\u001b[0;34m\u001b[0m\u001b[0m\n",
      "\u001b[0;32m<ipython-input-180-47a802769f85>\u001b[0m in \u001b[0;36mget_forces_LJ\u001b[0;34m(distances, orientationVec, r_m, epsilon)\u001b[0m\n\u001b[1;32m     11\u001b[0m         \u001b[0;32mfor\u001b[0m \u001b[0mjpart\u001b[0m \u001b[0;32min\u001b[0m \u001b[0mrange\u001b[0m\u001b[0;34m(\u001b[0m\u001b[0mNparticule\u001b[0m\u001b[0;34m)\u001b[0m\u001b[0;34m:\u001b[0m\u001b[0;34m\u001b[0m\u001b[0m\n\u001b[1;32m     12\u001b[0m             \u001b[0;32mif\u001b[0m \u001b[0mjpart\u001b[0m \u001b[0;34m!=\u001b[0m \u001b[0mipart\u001b[0m\u001b[0;34m:\u001b[0m\u001b[0;34m\u001b[0m\u001b[0m\n\u001b[0;32m---> 13\u001b[0;31m                 \u001b[0mcontributions_de_tout_les_atoms\u001b[0m \u001b[0;34m=\u001b[0m \u001b[0morientationVec\u001b[0m\u001b[0;34m[\u001b[0m\u001b[0mipart\u001b[0m\u001b[0;34m,\u001b[0m\u001b[0mjpart\u001b[0m\u001b[0;34m,\u001b[0m\u001b[0;34m:\u001b[0m\u001b[0;34m]\u001b[0m\u001b[0;34m*\u001b[0m                            \u001b[0mForce_LennardJones\u001b[0m\u001b[0;34m(\u001b[0m\u001b[0mdistances\u001b[0m\u001b[0;34m[\u001b[0m\u001b[0mipart\u001b[0m\u001b[0;34m,\u001b[0m\u001b[0mjpart\u001b[0m\u001b[0;34m]\u001b[0m\u001b[0;34m,\u001b[0m\u001b[0mr_m\u001b[0m\u001b[0;34m,\u001b[0m\u001b[0mepsilon\u001b[0m\u001b[0;34m)\u001b[0m\u001b[0;34m\u001b[0m\u001b[0m\n\u001b[0m\u001b[1;32m     14\u001b[0m                 \u001b[0mforces\u001b[0m\u001b[0;34m[\u001b[0m\u001b[0mipart\u001b[0m\u001b[0;34m]\u001b[0m \u001b[0;34m+=\u001b[0m \u001b[0mcontributions_de_tout_les_atoms\u001b[0m\u001b[0;34m\u001b[0m\u001b[0m\n\u001b[1;32m     15\u001b[0m \u001b[0;34m\u001b[0m\u001b[0m\n",
      "\u001b[0;32m<ipython-input-42-72c8a6c6d7a9>\u001b[0m in \u001b[0;36mForce_LennardJones\u001b[0;34m(d, r_m, epsilon)\u001b[0m\n\u001b[1;32m      1\u001b[0m \u001b[0;32mdef\u001b[0m \u001b[0mForce_LennardJones\u001b[0m\u001b[0;34m(\u001b[0m\u001b[0md\u001b[0m\u001b[0;34m,\u001b[0m\u001b[0mr_m\u001b[0m\u001b[0;34m,\u001b[0m\u001b[0mepsilon\u001b[0m\u001b[0;34m)\u001b[0m\u001b[0;34m:\u001b[0m\u001b[0;34m\u001b[0m\u001b[0m\n\u001b[0;32m----> 2\u001b[0;31m     \u001b[0;32mreturn\u001b[0m  \u001b[0;36m12\u001b[0m  \u001b[0;34m*\u001b[0m \u001b[0mepsilon\u001b[0m \u001b[0;34m*\u001b[0m \u001b[0;34m(\u001b[0m \u001b[0;34m(\u001b[0m\u001b[0mr_m\u001b[0m\u001b[0;34m/\u001b[0m\u001b[0md\u001b[0m\u001b[0;34m)\u001b[0m\u001b[0;34m**\u001b[0m\u001b[0;36m12\u001b[0m \u001b[0;34m-\u001b[0m \u001b[0;34m(\u001b[0m\u001b[0mr_m\u001b[0m\u001b[0;34m/\u001b[0m\u001b[0md\u001b[0m\u001b[0;34m)\u001b[0m\u001b[0;34m**\u001b[0m\u001b[0;36m6\u001b[0m \u001b[0;34m)\u001b[0m \u001b[0;34m/\u001b[0m \u001b[0md\u001b[0m\u001b[0;34m\u001b[0m\u001b[0m\n\u001b[0m",
      "\u001b[0;31mKeyboardInterrupt\u001b[0m: "
     ]
    },
    {
     "name": "stderr",
     "output_type": "stream",
     "text": [
      "\r",
      "  1%|          | 573/50000 [00:40<57:32, 14.32it/s]"
     ]
    }
   ],
   "source": [
    "T = 5.\n",
    "pos,vel = MD_NVT_simulator(initial_pos,mass=mass,r_m=r_m,epsilon=epsilon,\n",
    "                           k_spring=k_spring,temperature=T,\n",
    "                           Nstep=50000,dt=dt,thermostat_Nstep=500)"
   ]
  },
  {
   "cell_type": "code",
   "execution_count": 172,
   "metadata": {},
   "outputs": [
    {
     "data": {
      "application/vnd.jupyter.widget-view+json": {
       "model_id": "96614c5b661e45639fd04c86551b39e1",
       "version_major": 2,
       "version_minor": 0
      },
      "text/html": [
       "<p>Failed to display Jupyter Widget of type <code>NGLWidget</code>.</p>\n",
       "<p>\n",
       "  If you're reading this message in the Jupyter Notebook or JupyterLab Notebook, it may mean\n",
       "  that the widgets JavaScript is still loading. If this message persists, it\n",
       "  likely means that the widgets JavaScript library is either not installed or\n",
       "  not enabled. See the <a href=\"https://ipywidgets.readthedocs.io/en/stable/user_install.html\">Jupyter\n",
       "  Widgets Documentation</a> for setup instructions.\n",
       "</p>\n",
       "<p>\n",
       "  If you're reading this message in another frontend (for example, a static\n",
       "  rendering on GitHub or <a href=\"https://nbviewer.jupyter.org/\">NBViewer</a>),\n",
       "  it may mean that your frontend doesn't currently support widgets.\n",
       "</p>\n"
      ],
      "text/plain": [
       "NGLWidget(count=100)"
      ]
     },
     "metadata": {},
     "output_type": "display_data"
    }
   ],
   "source": [
    "view_traj(pos,500)"
   ]
  },
  {
   "cell_type": "code",
   "execution_count": 168,
   "metadata": {},
   "outputs": [
    {
     "name": "stderr",
     "output_type": "stream",
     "text": [
      "100%|██████████| 10000/10000 [01:16<00:00, 131.37it/s]\n"
     ]
    }
   ],
   "source": [
    "pos,vel = MD_NVT_simulator(pos[-1],mass=mass,r_m=r_m,epsilon=epsilon,\n",
    "                           k_spring=k_spring,temperature=T,\n",
    "                           Nstep=10000,dt=dt,thermostat_Nstep=2000)"
   ]
  },
  {
   "cell_type": "code",
   "execution_count": 169,
   "metadata": {},
   "outputs": [
    {
     "data": {
      "application/vnd.jupyter.widget-view+json": {
       "model_id": "672f647ebc3644d3a2b8666527033fa1",
       "version_major": 2,
       "version_minor": 0
      },
      "text/html": [
       "<p>Failed to display Jupyter Widget of type <code>NGLWidget</code>.</p>\n",
       "<p>\n",
       "  If you're reading this message in the Jupyter Notebook or JupyterLab Notebook, it may mean\n",
       "  that the widgets JavaScript is still loading. If this message persists, it\n",
       "  likely means that the widgets JavaScript library is either not installed or\n",
       "  not enabled. See the <a href=\"https://ipywidgets.readthedocs.io/en/stable/user_install.html\">Jupyter\n",
       "  Widgets Documentation</a> for setup instructions.\n",
       "</p>\n",
       "<p>\n",
       "  If you're reading this message in another frontend (for example, a static\n",
       "  rendering on GitHub or <a href=\"https://nbviewer.jupyter.org/\">NBViewer</a>),\n",
       "  it may mean that your frontend doesn't currently support widgets.\n",
       "</p>\n"
      ],
      "text/plain": [
       "NGLWidget(count=100)"
      ]
     },
     "metadata": {},
     "output_type": "display_data"
    }
   ],
   "source": [
    "view_traj(pos,100)"
   ]
  },
  {
   "cell_type": "code",
   "execution_count": 35,
   "metadata": {
    "collapsed": true
   },
   "outputs": [],
   "source": [
    "initial_pos = np.array([[ 7.57791562,  6.05943954,  4.29313611],\n",
    "       [ 9.68264401,  7.29780593,  6.16368313],\n",
    "       [ 3.56309168,  3.4864184 ,  1.7344766 ],\n",
    "       [ 4.34609445,  8.26733904,  1.73420634],\n",
    "       [ 7.2692545 ,  1.6044641 ,  2.37728721],\n",
    "       [ 9.95430504,  9.75743299,  1.97981315],\n",
    "       [ 7.39230153,  7.12396028,  7.04031191],\n",
    "       [ 3.4686374 ,  9.90738663,  6.84665733],\n",
    "       [ 8.38584324,  6.83163809,  6.54699294],\n",
    "       [ 1.40366425,  7.42216277,  0.10324773]])"
   ]
  },
  {
   "cell_type": "code",
   "execution_count": 37,
   "metadata": {
    "collapsed": true
   },
   "outputs": [],
   "source": [
    "initial_pos = np.array([\n",
    "          [0.1947679907,        0.3306365642,        1.7069272101],\n",
    "          [1.1592174250,       -1.1514615100,       -0.6254746298],\n",
    "          [1.4851406793,       -0.0676273830,        0.9223060046],\n",
    "         [-0.1498046416,        1.4425168343,       -0.9785553065],\n",
    "          [1.4277261305,        0.3530265376,       -0.9475378022],\n",
    "         [-0.6881246261,       -1.5737014419,       -0.3328844168],\n",
    "         [-1.4277352637,       -0.3530034531,        0.9475270683],\n",
    "         [ 0.6881257085,        1.5736904826,        0.3329032458],\n",
    "         [-1.1592204530,        1.1514535263,        0.6254777879],\n",
    "         [ 0.1498035273,       -1.4424985165,        0.9785685322],\n",
    "         [-1.4851196066,        0.0676193562,       -0.9223231092],\n",
    "         [-0.7057028384,        0.6207073550,       -1.4756523155],\n",
    "         [-0.8745359533,        0.4648140463,        1.4422103492],\n",
    "         [-0.9742077067,       -0.8837261792,       -1.1536019836],\n",
    "         [-0.1947765396,       -0.3306358487,       -1.7069179299],\n",
    "          [0.3759933035,       -1.7072373106,       -0.0694439840],\n",
    "         [-1.7124296000,        0.3336352522,        0.1307959669],\n",
    "         [ 0.9143159284,        1.3089975397,       -0.7151210582],\n",
    "         [-0.3759920260,        1.7072300336,        0.0694634263],\n",
    "         [ 1.7124281219,       -0.3336312342,       -0.1308207313],\n",
    "         [-0.9143187026,       -1.3089785474,        0.7151290509],\n",
    "         [ 0.9742085109,        0.8837023041,        1.1536069633],\n",
    "         [ 0.7057104439,       -0.6206907639,        1.4756502961],\n",
    "         [ 0.8745319670,       -0.4648127187,       -1.4422106957],\n",
    "         [-1.1954804901,       -0.6171923123,       -0.1021449363],\n",
    "         [ 0.0917363053,       -1.0144887859,       -0.8848410405],\n",
    "         [ 0.9276243144,       -0.8836123311,        0.4234140820],\n",
    "         [ 1.1954744473,        0.6171883800,        0.1021399054],\n",
    "         [-0.9276176774,        0.8836123556,       -0.4234173533],\n",
    "         [-0.3595942315,       -0.4863167551,        1.2061133825],\n",
    "          [0.3595891589,        0.4863295901,       -1.2061152849],\n",
    "         [-0.0917352078,        1.0144694592,        0.8848400639],\n",
    "         [ 0.6410702480,       -0.1978633363,       -0.3898095439],\n",
    "         [-0.4162942817,       -0.0651798741,       -0.6515502084],\n",
    "         [ 0.1334019604,        0.7474406294,       -0.1600033264],\n",
    "         [-0.6410732823,        0.1978593218,        0.3898012337],\n",
    "         [ 0.4162968444,        0.0651733322,        0.6515490914],\n",
    "         [-0.1333998872,       -0.7474445984,        0.1600019961],\n",
    "])"
   ]
  },
  {
   "cell_type": "code",
   "execution_count": 38,
   "metadata": {
    "collapsed": true
   },
   "outputs": [],
   "source": [
    "view_traj([initial_pos],1)"
   ]
  },
  {
   "cell_type": "code",
   "execution_count": null,
   "metadata": {
    "collapsed": true
   },
   "outputs": [],
   "source": []
  }
 ],
 "metadata": {
  "kernelspec": {
   "display_name": "Python 3 soap",
   "language": "python",
   "name": "soap"
  },
  "language_info": {
   "codemirror_mode": {
    "name": "ipython",
    "version": 3
   },
   "file_extension": ".py",
   "mimetype": "text/x-python",
   "name": "python",
   "nbconvert_exporter": "python",
   "pygments_lexer": "ipython3",
   "version": "3.6.2"
  },
  "toc": {
   "colors": {
    "hover_highlight": "#DAA520",
    "navigate_num": "#000000",
    "navigate_text": "#333333",
    "running_highlight": "#FF0000",
    "selected_highlight": "#FFD700",
    "sidebar_border": "#EEEEEE",
    "wrapper_background": "#FFFFFF"
   },
   "moveMenuLeft": true,
   "nav_menu": {
    "height": "160px",
    "width": "252px"
   },
   "navigate_menu": true,
   "number_sections": true,
   "sideBar": true,
   "skip_h1_title": false,
   "threshold": 4,
   "title_cell": "Table of Contents",
   "title_sidebar": "Contents",
   "toc_cell": false,
   "toc_position": {
    "height": "461px",
    "left": "0px",
    "right": "927.667px",
    "top": "107px",
    "width": "139px"
   },
   "toc_section_display": "block",
   "toc_window_display": false,
   "widenNotebook": false
  }
 },
 "nbformat": 4,
 "nbformat_minor": 2
}
