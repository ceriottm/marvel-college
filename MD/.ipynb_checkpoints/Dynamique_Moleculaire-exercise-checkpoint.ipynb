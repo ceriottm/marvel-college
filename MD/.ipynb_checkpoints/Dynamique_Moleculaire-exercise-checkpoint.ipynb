{
 "cells": [
  {
   "cell_type": "code",
   "execution_count": 3,
   "metadata": {},
   "outputs": [],
   "source": [
    "%matplotlib inline\n",
    "import matplotlib.pyplot as plt"
   ]
  },
  {
   "cell_type": "code",
   "execution_count": 5,
   "metadata": {},
   "outputs": [],
   "source": [
    "import numpy as np\n",
    "import scipy as sc\n",
    "import numpy.linalg as npl\n",
    "from numpy.linalg import norm\n",
    "import scipy.linalg as scl\n",
    "from scipy.spatial.distance import pdist,squareform\n",
    "import ase\n",
    "from tqdm import tqdm_notebook as tqdm_cs"
   ]
  },
  {
   "cell_type": "code",
   "execution_count": 24,
   "metadata": {},
   "outputs": [],
   "source": [
    "from tools import manipulation_hist,manipulation_LJ_force,manipulation_Harmonique_force,manipulation_LJ,get_numerical_force\n",
    "from tools import visualiser_trajectoire,faire_une_chaine_circulaire,faire_une_chaine_lineaire"
   ]
  },
  {
   "cell_type": "markdown",
   "metadata": {},
   "source": [
    "+ add circles on the potential\n",
    "+ more details on the positions to forces\n",
    "+ external functions\n",
    "+ put total forces formula\n",
    "+ possibility to turn on/off pieces"
   ]
  },
  {
   "cell_type": "markdown",
   "metadata": {},
   "source": [
    "# Developper les fonctions pour modeliser une chaine de polymere"
   ]
  },
  {
   "cell_type": "markdown",
   "metadata": {},
   "source": [
    "## get spring forces"
   ]
  },
  {
   "cell_type": "markdown",
   "metadata": {},
   "source": [
    "### Potentiel harmonique\n",
    "\n",
    "$V_{har}\\,\\left(d\\right) = k \\,\\left(d-r_m\\right)^2$\n",
    "\n",
    "$\\mathbf{r} = \\left(x,\\, y,\\,  z\\right)  $\n",
    "\n",
    "$d=\\sqrt{x^2+y^2+z^2}$\n",
    "\n",
    "$\\mathbf{\\hat{r}}=\\frac{\\mathbf{r} }{d}$"
   ]
  },
  {
   "cell_type": "code",
   "execution_count": 32,
   "metadata": {},
   "outputs": [],
   "source": [
    "def Potentiel_Harmonique(d,r_m,k):\n",
    "    ''' '''\n",
    "    return k*( d - r_m)**2"
   ]
  },
  {
   "cell_type": "code",
   "execution_count": 33,
   "metadata": {
    "scrolled": true
   },
   "outputs": [
    {
     "ename": "NameError",
     "evalue": "name 'manipulation_Har' is not defined",
     "output_type": "error",
     "traceback": [
      "\u001b[0;31m---------------------------------------------------------------------------\u001b[0m",
      "\u001b[0;31mNameError\u001b[0m                                 Traceback (most recent call last)",
      "\u001b[0;32m<ipython-input-33-2138557e38e4>\u001b[0m in \u001b[0;36m<module>\u001b[0;34m()\u001b[0m\n\u001b[0;32m----> 1\u001b[0;31m \u001b[0mmanipulation_Har\u001b[0m\u001b[0;34m(\u001b[0m\u001b[0mPotentiel_Harmonique\u001b[0m\u001b[0;34m)\u001b[0m\u001b[0;34m\u001b[0m\u001b[0m\n\u001b[0m",
      "\u001b[0;31mNameError\u001b[0m: name 'manipulation_Har' is not defined"
     ]
    }
   ],
   "source": [
    "manipulation_Har(Potentiel_Harmonique)"
   ]
  },
  {
   "cell_type": "markdown",
   "metadata": {},
   "source": [
    "## Force d'un ressort\n",
    "$\\mathbf{F}_{Har}\\left(\\mathbf{r}\\right)  = \\mathbf{\\hat{r}} \\,F_{Har}\\left(d\\right) =  - 2 k \\, (d - r_m)  \\mathbf{\\hat{r}} $\n",
    "\n",
    "$\\mathbf{r} = \\left(x,\\, y,\\,  z\\right)  $\n",
    "\n",
    "$d=\\sqrt{x^2+y^2+z^2}$\n",
    "\n",
    "$\\mathbf{\\hat{r}}=\\frac{\\mathbf{r} }{d}$"
   ]
  },
  {
   "cell_type": "code",
   "execution_count": 36,
   "metadata": {},
   "outputs": [],
   "source": [
    "def Force_Harmonique(d,r_m,k):\n",
    "    return  - 2*k * (d - r_m)"
   ]
  },
  {
   "cell_type": "code",
   "execution_count": 37,
   "metadata": {},
   "outputs": [
    {
     "data": {
      "application/vnd.jupyter.widget-view+json": {
       "model_id": "686dc5df87434defa6e865a9d41bf372",
       "version_major": 2,
       "version_minor": 0
      },
      "text/html": [
       "<p>Failed to display Jupyter Widget of type <code>interactive</code>.</p>\n",
       "<p>\n",
       "  If you're reading this message in the Jupyter Notebook or JupyterLab Notebook, it may mean\n",
       "  that the widgets JavaScript is still loading. If this message persists, it\n",
       "  likely means that the widgets JavaScript library is either not installed or\n",
       "  not enabled. See the <a href=\"https://ipywidgets.readthedocs.io/en/stable/user_install.html\">Jupyter\n",
       "  Widgets Documentation</a> for setup instructions.\n",
       "</p>\n",
       "<p>\n",
       "  If you're reading this message in another frontend (for example, a static\n",
       "  rendering on GitHub or <a href=\"https://nbviewer.jupyter.org/\">NBViewer</a>),\n",
       "  it may mean that your frontend doesn't currently support widgets.\n",
       "</p>\n"
      ],
      "text/plain": [
       "interactive(children=(FloatSlider(value=2.0, description='\\\\(d\\\\)', max=3.5, min=0.5), Output()), _dom_classes=('widget-interact',))"
      ]
     },
     "metadata": {},
     "output_type": "display_data"
    }
   ],
   "source": [
    "manipulation_Harmonique_force(Potentiel_Harmonique,Force_Harmonique)"
   ]
  },
  {
   "cell_type": "markdown",
   "metadata": {
    "heading_collapsed": true
   },
   "source": [
    "### tester la force avec the potentiel\n",
    "$\\mathbf{F}\\left(\\mathbf{r}\\right) \\approx - \\left( \\frac{V\\left(\\mathbf{r}+h_x\\right) - V\\left(\\mathbf{r}-h_x\\right)}{2h_x}, \\frac{V\\left(\\mathbf{r}+h_y\\right) - V\\left(\\mathbf{r}-h_y\\right)}{2h_y},\\frac{V\\left(\\mathbf{r}+h_z\\right) - V\\left(\\mathbf{r}-h_z\\right)}{2h_z} \\right)  $"
   ]
  },
  {
   "cell_type": "code",
   "execution_count": 46,
   "metadata": {
    "hidden": true
   },
   "outputs": [
    {
     "name": "stdout",
     "output_type": "stream",
     "text": [
      "[  1.27635745e-07   1.23601060e-07   1.31455011e-07]\n"
     ]
    }
   ],
   "source": [
    "e_x,e_y,e_z = np.array([1,0,0]),np.array([0,1,0]),np.array([0,0,1])\n",
    "positionA,positionB,r_m,k = np.array([0,0,0]),np.array([0.9,1.3,0.99]),1.2,1.\n",
    "r = positionB-positionA\n",
    "d = norm(r)\n",
    "h = 1e-3\n",
    "F = r/d*Force_Harmonique(d,r_m,k)\n",
    "F_num = get_numerical_force(Potentiel_Harmonique,d,*[r_m,k])\n",
    "print(F-F_num)"
   ]
  },
  {
   "cell_type": "markdown",
   "metadata": {
    "heading_collapsed": true
   },
   "source": [
    "## Calculer la force des ressorts entre les atoms"
   ]
  },
  {
   "cell_type": "code",
   "execution_count": 84,
   "metadata": {
    "collapsed": true,
    "hidden": true
   },
   "outputs": [],
   "source": [
    "def get_forces_polymer(positions,r_m,k_spring):\n",
    "    Natom,_ = positions.shape\n",
    "    forces = np.zeros(positions.shape)\n",
    "    p1 = positions[:-1]\n",
    "    p2 = positions[1:]\n",
    "    r = np.subtract(p1,p2)\n",
    "    d = npl.norm(r,axis=1).reshape((-1,1))\n",
    "    direction_vectors = np.divide(r,d)\n",
    "    spring_forces = np.multiply(Force_Harmonique(d,r_m,k_spring), direction_vectors)\n",
    "    \n",
    "    forces[:-1] += spring_forces\n",
    "    forces[1:] -= spring_forces\n",
    "    \n",
    "    return forces"
   ]
  },
  {
   "cell_type": "markdown",
   "metadata": {
    "hidden": true
   },
   "source": [
    "### test"
   ]
  },
  {
   "cell_type": "code",
   "execution_count": 85,
   "metadata": {
    "hidden": true
   },
   "outputs": [
    {
     "data": {
      "text/plain": [
       "array([[ 0.25618013,  0.37003797,  0.28179814],\n",
       "       [-0.19407153, -0.34785632, -0.26006013],\n",
       "       [-0.0621086 , -0.02218164, -0.02173801]])"
      ]
     },
     "execution_count": 85,
     "metadata": {},
     "output_type": "execute_result"
    }
   ],
   "source": [
    "positions,r_m,k = np.array([[0,0,0],[0.9,1.3,0.99],[-0.5,0.8,0.5]]),1.6,1.\n",
    "get_forces_polymer(positions,r_m,k)"
   ]
  },
  {
   "cell_type": "code",
   "execution_count": 86,
   "metadata": {
    "hidden": true
   },
   "outputs": [
    {
     "data": {
      "text/plain": [
       "array([[ 0.2561803 ,  0.37003813,  0.28179832],\n",
       "       [-0.19407182, -0.34785668, -0.26006049],\n",
       "       [-0.06210848, -0.02218146, -0.02173783]])"
      ]
     },
     "execution_count": 86,
     "metadata": {},
     "output_type": "execute_result"
    }
   ],
   "source": [
    "p1 = positions[:-1]\n",
    "p2 = positions[1:]\n",
    "r = np.subtract(p1,p2)\n",
    "F_num = np.zeros(positions.shape)\n",
    "for it in range(len(r)):\n",
    "    F_num[it] += get_numerical_force(Potentiel_Harmonique,r[it],*[r_m,k])\n",
    "    F_num[it+1] -= get_numerical_force(Potentiel_Harmonique,r[it],*[r_m,k])\n",
    "F_num"
   ]
  },
  {
   "cell_type": "markdown",
   "metadata": {
    "heading_collapsed": true
   },
   "source": [
    "## Potentiel de Lennard Jones\n",
    "\n",
    "$V_{LJ}\\left(\\mathbf{r}\\right)=V_{LJ}\\left(d\\right)= \\epsilon \\left[\\left(\\frac{r_m}{d}\\right)^{12}-2\\left(\\frac{r_m}{d}\\right)^{6}\\right]$\n",
    "\n",
    "$\\mathbf{r} = \\left(x,\\, y,\\,  z\\right)  $\n",
    "\n",
    "$d=\\sqrt{x^2+y^2+z^2}$"
   ]
  },
  {
   "cell_type": "code",
   "execution_count": 34,
   "metadata": {
    "hidden": true
   },
   "outputs": [],
   "source": [
    "def Potentiel_LennardJones(d,r_m,epsilon):\n",
    "    ''' '''\n",
    "    return epsilon*( (r_m/d)**12 - 2*(r_m/d)**6)"
   ]
  },
  {
   "cell_type": "code",
   "execution_count": 35,
   "metadata": {
    "hidden": true
   },
   "outputs": [
    {
     "data": {
      "application/vnd.jupyter.widget-view+json": {
       "model_id": "2a5e739dee894367a7098774e0543af2",
       "version_major": 2,
       "version_minor": 0
      },
      "text/html": [
       "<p>Failed to display Jupyter Widget of type <code>interactive</code>.</p>\n",
       "<p>\n",
       "  If you're reading this message in the Jupyter Notebook or JupyterLab Notebook, it may mean\n",
       "  that the widgets JavaScript is still loading. If this message persists, it\n",
       "  likely means that the widgets JavaScript library is either not installed or\n",
       "  not enabled. See the <a href=\"https://ipywidgets.readthedocs.io/en/stable/user_install.html\">Jupyter\n",
       "  Widgets Documentation</a> for setup instructions.\n",
       "</p>\n",
       "<p>\n",
       "  If you're reading this message in another frontend (for example, a static\n",
       "  rendering on GitHub or <a href=\"https://nbviewer.jupyter.org/\">NBViewer</a>),\n",
       "  it may mean that your frontend doesn't currently support widgets.\n",
       "</p>\n"
      ],
      "text/plain": [
       "interactive(children=(FloatSlider(value=2.0, description='\\\\(r_m\\\\)', max=5.0, min=0.1, step=0.2), FloatSlider(value=2.0, description='\\\\(\\\\epsilon\\\\)', max=2.0, min=0.1, step=0.2), Output()), _dom_classes=('widget-interact',))"
      ]
     },
     "metadata": {},
     "output_type": "display_data"
    }
   ],
   "source": [
    "manipulation_LJ(Potentiel_LennardJones)"
   ]
  },
  {
   "cell_type": "markdown",
   "metadata": {},
   "source": [
    "## Force de Lennard Jones\n",
    "$\\mathbf{F}_{LJ}\\left(\\mathbf{r}\\right)  = \\mathbf{\\hat{r}} \\,F_{LJ}\\left(d\\right) = \\mathbf{\\hat{r}}  \\frac{12 \\epsilon}{d} \\left[\\left(\\frac{r_m}{d}\\right)^{12}-\\left(\\frac{r_m}{d}\\right)^{6}  \\right] $\n",
    "\n",
    "$\\mathbf{r} = \\left(x,\\, y,\\,  z\\right)  $\n",
    "\n",
    "$d=\\sqrt{x^2+y^2+z^2}$\n",
    "\n",
    "$\\mathbf{\\hat{r}}=\\frac{\\mathbf{r} }{d}$"
   ]
  },
  {
   "cell_type": "code",
   "execution_count": 28,
   "metadata": {},
   "outputs": [],
   "source": [
    "def Force_LennardJones(d,r_m,epsilon):\n",
    "    return  12  * epsilon * ( (r_m/d)**12 - (r_m/d)**6 ) / d"
   ]
  },
  {
   "cell_type": "code",
   "execution_count": 29,
   "metadata": {},
   "outputs": [
    {
     "ename": "NameError",
     "evalue": "name 'Potentiel_LennardJones' is not defined",
     "output_type": "error",
     "traceback": [
      "\u001b[0;31m---------------------------------------------------------------------------\u001b[0m",
      "\u001b[0;31mNameError\u001b[0m                                 Traceback (most recent call last)",
      "\u001b[0;32m<ipython-input-29-0dfeac14247f>\u001b[0m in \u001b[0;36m<module>\u001b[0;34m()\u001b[0m\n\u001b[0;32m----> 1\u001b[0;31m \u001b[0mmanipulation_LJ_force\u001b[0m\u001b[0;34m(\u001b[0m\u001b[0mPotentiel_LennardJones\u001b[0m\u001b[0;34m,\u001b[0m\u001b[0mForce_LennardJones\u001b[0m\u001b[0;34m)\u001b[0m\u001b[0;34m\u001b[0m\u001b[0m\n\u001b[0m",
      "\u001b[0;31mNameError\u001b[0m: name 'Potentiel_LennardJones' is not defined"
     ]
    }
   ],
   "source": [
    "manipulation_LJ_force(Potentiel_LennardJones,Force_LennardJones)"
   ]
  },
  {
   "cell_type": "markdown",
   "metadata": {
    "heading_collapsed": true
   },
   "source": [
    "# Calculer les forces entre les particules"
   ]
  },
  {
   "cell_type": "markdown",
   "metadata": {
    "hidden": true
   },
   "source": [
    "On a un system de $N$ particules donc la force appliquee sur une particule $i$ est:\n",
    "\n",
    "$\\mathbf{F}_{i} = \\sum_{j}^{N} \\left(\\mathbf{F}_{LJ}^{\\,ij} + \\mathbf{F}_{Harm}^{\\,ij} \\right)$\n",
    "\n",
    "$\\mathbf{F}_{i} =  \\sum_{j,j\\neq i}^{N} \\mathbf{\\hat{r}}^{\\,ij} \\,F_{LJ}\\left(d^{\\,ij}\\right)  + \\left[ \\mathbf{\\hat{r}}^{\\,i-1,i} \\,F_{Harm}\\left(d^{\\,i-1,i}\\right) + \\mathbf{\\hat{r}}^{\\,i,i+1} \\,F_{Harm}\\left(d^{\\,i,i+1}\\right) \\right]$\n",
    "\n",
    "Ou le vecteur, la distance et le vecteur de direction entre la particule $i$ et la particule $j$ sont respectivement donne par:\n",
    "\n",
    "$\\mathbf{r}^{\\,ij} = \\left(x^{i}-x^{j},\\,y^{i}-y^{j},\\,  z^{i}-z^{j}\\right)  $,\n",
    "\n",
    "$d^{\\,ij}=\\sqrt{\\mathbf{r}^{\\,ij} * \\mathbf{r}^{\\,ij}}$,\n",
    "\n",
    "$\\mathbf{\\hat{r}}^{\\,ij}=\\frac{\\mathbf{r}^{\\,ij} }{d^{\\,ij}}$,\n",
    "\n",
    "et $*$ est le produit scalaire entre deux vecteur."
   ]
  },
  {
   "cell_type": "markdown",
   "metadata": {
    "heading_collapsed": true,
    "hidden": true
   },
   "source": [
    "## Calculer les forces de Lennard Jones entre chaque particules\n",
    "\n",
    "\n",
    "$\\mathbf{F}_{i}^{LJ} =  \\sum_{j,j\\neq i}^{N} \\mathbf{\\hat{r}}^{\\,ij} \\,F_{LJ}\\left(d^{\\,ij}\\right)$\n",
    "\n",
    "### Algorithm:\n",
    "\n",
    "\n",
    "$E_{LJ} = 0$\n",
    "\n",
    "pour i de 0 a Npart-1:\n",
    "\n",
    "pour j de 0 a Npart-1:\n",
    "    \n",
    "si j est different de i:\n",
    "    \n",
    "+ $\\mathbf{F}_{i}^{LJ} \\mathrel{+}= \\mathbf{\\hat{r}}^{\\,ij} \\,F_{LJ}\\left(d^{\\,ij}\\right)$\n",
    "+ $E_{LJ} \\mathrel{+}= 0.5 V_{LJ}\\left(d^{\\,ij}\\right)$\n",
    "        "
   ]
  },
  {
   "cell_type": "code",
   "execution_count": 214,
   "metadata": {
    "code_folding": [],
    "collapsed": true,
    "hidden": true
   },
   "outputs": [],
   "source": [
    "def get_forces_LJ(positions,r_m,epsilon):\n",
    "    Nparticule,_ = positions.shape\n",
    "    # liste des forces appliquees a chaque particule\n",
    "    forces = np.zeros((Nparticule,3))\n",
    "    energy = 0\n",
    "    # TODO\n",
    "    # calcule la somme des forces de LJ applique par toutes les particules sur chaque atoms\n",
    "    for ipart in range(Nparticule):\n",
    "        # attention a ne pas diviser par zeros\n",
    "        for jpart in range(Nparticule):\n",
    "            if jpart != ipart:\n",
    "                r = positions[ipart]-positions[jpart]\n",
    "                d = np.linalg.norm(r)\n",
    "                forces[ipart] += (r/d)*Force_LennardJones(d,r_m,epsilon)\n",
    "                energy += Potentiel_LennardJones(d,r_m,epsilon)\n",
    "    energy *= 0.5\n",
    "    return forces,energy"
   ]
  },
  {
   "cell_type": "code",
   "execution_count": 215,
   "metadata": {
    "collapsed": true,
    "hidden": true
   },
   "outputs": [],
   "source": [
    "r_m,epsilon = 0.2,1\n",
    "positions = np.random.rand(4,3)"
   ]
  },
  {
   "cell_type": "code",
   "execution_count": 216,
   "metadata": {
    "hidden": true
   },
   "outputs": [
    {
     "data": {
      "text/plain": [
       "(array([[-0.0077083 , -0.01312319, -0.00329515],\n",
       "        [ 0.00598272,  0.01340007, -0.00320813],\n",
       "        [-0.06524678,  0.07849555,  0.01653363],\n",
       "        [ 0.06697237, -0.07877243, -0.01003035]]), -0.011118126900477235)"
      ]
     },
     "execution_count": 216,
     "metadata": {},
     "output_type": "execute_result"
    }
   ],
   "source": [
    "get_forces_LJ(positions,r_m,epsilon)"
   ]
  },
  {
   "cell_type": "markdown",
   "metadata": {
    "heading_collapsed": true,
    "hidden": true
   },
   "source": [
    "## Calculer les forces des ressorts entre chaque particules de la chaine\n",
    "\n",
    "$\\mathbf{F}_{i}^{Harm} =  \\mathbf{\\hat{r}}^{\\,i-1,i} \\,F_{Harm}\\left(d^{\\,i-1,i}\\right) + \\mathbf{\\hat{r}}^{\\,i,i+1} \\,F_{Harm}\\left(d^{\\,i,i+1}\\right) $\n",
    "\n",
    "### Algorithm:\n",
    "\n",
    "\n",
    "$E_{Harm} = 0$\n",
    "\n",
    "pour i de 0 a Nresort:\n",
    "+ $\\mathbf{F}_{i}^{Harm} =  \\mathbf{\\hat{r}}^{\\,i,i+1} \\,F_{Harm}\\left(d^{\\,i,i+1}\\right)$\n",
    "+ $\\mathbf{F}_{i+1}^{Harm} =  - \\mathbf{\\hat{r}}^{\\,i,i+1} \\,F_{Harm}\\left(d^{\\,i,i+1}\\right)$\n",
    "+ $E_{Harm} \\mathrel{+}= V_{Harm}\\left(d^{\\,i,i+1}\\right)$"
   ]
  },
  {
   "cell_type": "code",
   "execution_count": 13,
   "metadata": {
    "hidden": true
   },
   "outputs": [],
   "source": [
    "def get_forces_harmonic(positions,r_m,k_spring):\n",
    "    Nparticule,_ = positions.shape\n",
    "    Nresort = Nparticule-1\n",
    "    # liste des forces appliquees a chaque particule\n",
    "    forces = np.zeros((Nparticule,3))\n",
    "    energy = 0\n",
    "    # TODO\n",
    "    for iresort in range(Nresort):\n",
    "        r = positions[iresort]-positions[iresort+1]\n",
    "        d = np.linalg.norm(r)\n",
    "        f =  Force_Harmonique(d,r_m,k_spring) * (r/d)\n",
    "        forces[iresort] += f\n",
    "        forces[iresort+1] -= f\n",
    "        energy += Potentiel_Harmonique(d,r_m,k_spring)\n",
    "    \n",
    "    return forces,energy"
   ]
  },
  {
   "cell_type": "code",
   "execution_count": 14,
   "metadata": {
    "hidden": true
   },
   "outputs": [],
   "source": [
    "r_m,k_spring = 0.2,1\n",
    "positions = np.random.rand(4,3)"
   ]
  },
  {
   "cell_type": "code",
   "execution_count": 16,
   "metadata": {
    "hidden": true
   },
   "outputs": [
    {
     "ename": "NameError",
     "evalue": "name 'Force_Harmonique' is not defined",
     "output_type": "error",
     "traceback": [
      "\u001b[0;31m---------------------------------------------------------------------------\u001b[0m",
      "\u001b[0;31mNameError\u001b[0m                                 Traceback (most recent call last)",
      "\u001b[0;32m<ipython-input-16-18551f779f5a>\u001b[0m in \u001b[0;36m<module>\u001b[0;34m()\u001b[0m\n\u001b[0;32m----> 1\u001b[0;31m \u001b[0mget_forces_harmonic\u001b[0m\u001b[0;34m(\u001b[0m\u001b[0mpositions\u001b[0m\u001b[0;34m,\u001b[0m\u001b[0mr_m\u001b[0m\u001b[0;34m,\u001b[0m\u001b[0mk_spring\u001b[0m\u001b[0;34m)\u001b[0m\u001b[0;34m\u001b[0m\u001b[0m\n\u001b[0m",
      "\u001b[0;32m<ipython-input-13-71c1a84dffa8>\u001b[0m in \u001b[0;36mget_forces_harmonic\u001b[0;34m(positions, r_m, k_spring)\u001b[0m\n\u001b[1;32m      9\u001b[0m         \u001b[0mr\u001b[0m \u001b[0;34m=\u001b[0m \u001b[0mpositions\u001b[0m\u001b[0;34m[\u001b[0m\u001b[0miresort\u001b[0m\u001b[0;34m]\u001b[0m\u001b[0;34m-\u001b[0m\u001b[0mpositions\u001b[0m\u001b[0;34m[\u001b[0m\u001b[0miresort\u001b[0m\u001b[0;34m+\u001b[0m\u001b[0;36m1\u001b[0m\u001b[0;34m]\u001b[0m\u001b[0;34m\u001b[0m\u001b[0m\n\u001b[1;32m     10\u001b[0m         \u001b[0md\u001b[0m \u001b[0;34m=\u001b[0m \u001b[0mnp\u001b[0m\u001b[0;34m.\u001b[0m\u001b[0mlinalg\u001b[0m\u001b[0;34m.\u001b[0m\u001b[0mnorm\u001b[0m\u001b[0;34m(\u001b[0m\u001b[0mr\u001b[0m\u001b[0;34m)\u001b[0m\u001b[0;34m\u001b[0m\u001b[0m\n\u001b[0;32m---> 11\u001b[0;31m         \u001b[0mf\u001b[0m \u001b[0;34m=\u001b[0m  \u001b[0mForce_Harmonique\u001b[0m\u001b[0;34m(\u001b[0m\u001b[0md\u001b[0m\u001b[0;34m,\u001b[0m\u001b[0mr_m\u001b[0m\u001b[0;34m,\u001b[0m\u001b[0mk_spring\u001b[0m\u001b[0;34m)\u001b[0m \u001b[0;34m*\u001b[0m \u001b[0;34m(\u001b[0m\u001b[0mr\u001b[0m\u001b[0;34m/\u001b[0m\u001b[0md\u001b[0m\u001b[0;34m)\u001b[0m\u001b[0;34m\u001b[0m\u001b[0m\n\u001b[0m\u001b[1;32m     12\u001b[0m         \u001b[0mforces\u001b[0m\u001b[0;34m[\u001b[0m\u001b[0miresort\u001b[0m\u001b[0;34m]\u001b[0m \u001b[0;34m+=\u001b[0m \u001b[0mf\u001b[0m\u001b[0;34m\u001b[0m\u001b[0m\n\u001b[1;32m     13\u001b[0m         \u001b[0mforces\u001b[0m\u001b[0;34m[\u001b[0m\u001b[0miresort\u001b[0m\u001b[0;34m+\u001b[0m\u001b[0;36m1\u001b[0m\u001b[0;34m]\u001b[0m \u001b[0;34m-=\u001b[0m \u001b[0mf\u001b[0m\u001b[0;34m\u001b[0m\u001b[0m\n",
      "\u001b[0;31mNameError\u001b[0m: name 'Force_Harmonique' is not defined"
     ]
    }
   ],
   "source": [
    "get_forces_harmonic(positions,r_m,k_spring)"
   ]
  },
  {
   "cell_type": "markdown",
   "metadata": {
    "heading_collapsed": true,
    "hidden": true
   },
   "source": [
    "## Thermostat de Andersen\n",
    "\n",
    "Remplacer les vitesses par des vitesses aleatoires qui suivent une lois normale"
   ]
  },
  {
   "cell_type": "code",
   "execution_count": 135,
   "metadata": {
    "hidden": true
   },
   "outputs": [
    {
     "data": {
      "application/vnd.jupyter.widget-view+json": {
       "model_id": "582f15899ac8490db23ea096c3a59c9c",
       "version_major": 2,
       "version_minor": 0
      },
      "text/html": [
       "<p>Failed to display Jupyter Widget of type <code>interactive</code>.</p>\n",
       "<p>\n",
       "  If you're reading this message in the Jupyter Notebook or JupyterLab Notebook, it may mean\n",
       "  that the widgets JavaScript is still loading. If this message persists, it\n",
       "  likely means that the widgets JavaScript library is either not installed or\n",
       "  not enabled. See the <a href=\"https://ipywidgets.readthedocs.io/en/stable/user_install.html\">Jupyter\n",
       "  Widgets Documentation</a> for setup instructions.\n",
       "</p>\n",
       "<p>\n",
       "  If you're reading this message in another frontend (for example, a static\n",
       "  rendering on GitHub or <a href=\"https://nbviewer.jupyter.org/\">NBViewer</a>),\n",
       "  it may mean that your frontend doesn't currently support widgets.\n",
       "</p>\n"
      ],
      "text/plain": [
       "interactive(children=(FloatSlider(value=1.0, description='\\\\(T\\\\)', max=7.0, min=0.1, step=0.3), Output()), _dom_classes=('widget-interact',))"
      ]
     },
     "metadata": {},
     "output_type": "display_data"
    }
   ],
   "source": [
    "manipulation_hist()"
   ]
  },
  {
   "cell_type": "code",
   "execution_count": 162,
   "metadata": {
    "collapsed": true,
    "hidden": true
   },
   "outputs": [],
   "source": [
    "def andersen_thermostat(velocities,temperature,freq,dt):\n",
    "    if temperature > 0:\n",
    "        vshape = velocities.shape\n",
    "        mask = np.random.rand(velocities.size) < 1 - np.exp(-freq*dt)\n",
    "        Nupdate = np.sum(mask)\n",
    "        velocities = velocities.flatten()\n",
    "        velocities[mask] = np.sqrt(temperature)*np.random.normal(loc=0.0, scale=1,size=(Nupdate,))\n",
    "        velocities = velocities.reshape(vshape)\n",
    "    return velocities"
   ]
  },
  {
   "cell_type": "markdown",
   "metadata": {
    "hidden": true
   },
   "source": [
    "## Simulateur\n",
    "\n",
    "Faire evoluer un systeme de N particules pendant $t_{simulation}=N_{étape}\\,\\Delta\\,t$.\n",
    "\n",
    "Procédure:\n",
    "+ Initialiser les vitesses et les accelerations\n",
    "+ Integrer $N_{étape}$ fois les equations du mouvement avec l'integrateur de Verlet en enregistrant les positions et vitesses a chaque étape\n",
    "\n",
    "### Intégration de Verlet\n",
    "\n",
    "A un instant $t$, on connait les postions, vitesses et accelerations des particules $\\mathbf{x}_{t}$, $\\mathbf{v}_{t}$, $\\mathbf{a}_{t}$ et on veut faire avancer le system d'un interval $\\Delta t$ en calculant $\\mathbf{x}_{t+\\Delta t}$, $\\mathbf{v}_{t+\\Delta t}$, $\\mathbf{a}_{t+\\Delta t}$.\n",
    "\n",
    "Algorithme:\n",
    "\n",
    "+ applique le thermostat \n",
    "\n",
    "+ $\\mathbf{v}_{t+\\Delta t/2}= \\mathbf{v}_{t} + 0.5\\,\\Delta t\\,\\mathbf{a}_{t}$\n",
    "\n",
    "+ $\\mathbf{x}_{t+\\Delta t} = \\mathbf{x}_{t}+\\Delta t\\,\\mathbf{v}_{t+\\Delta t/2}$\n",
    "\n",
    "+ $\\mathbf{a}_{t+\\Delta t} = \\frac{\\mathbf{F}_{t+\\Delta t}}{m} = \\left[\\mathbf{F}_{LJ}\\left(\\mathbf{x}_{t+\\Delta t}\\right)+\\mathbf{F}_{Har}\\left(\\mathbf{x}_{t+\\Delta t}\\right)\\right]\\,/\\,m$ \n",
    "\n",
    "+ $\\mathbf{v}_{t+\\Delta t} = \\mathbf{v}_{t+\\Delta t/2}+0.5\\,\\Delta t\\, \\mathbf{a}_{t+\\Delta t} $"
   ]
  },
  {
   "cell_type": "code",
   "execution_count": 189,
   "metadata": {
    "collapsed": true,
    "hidden": true
   },
   "outputs": [],
   "source": [
    "def get_forces(positions,r_m,epsilon,k_spring):\n",
    "    F_harm,E_harm = get_forces_harmonic(positions,r_m,k_spring)\n",
    "    F_LJ,E_LJ = get_forces_LJ(positions,r_m,epsilon)\n",
    "    return F_harm+F_LJ,E_harm+E_LJ"
   ]
  },
  {
   "cell_type": "code",
   "execution_count": 236,
   "metadata": {
    "code_folding": [],
    "collapsed": true,
    "hidden": true
   },
   "outputs": [],
   "source": [
    "def MD_NVT_simulator(positions,velocities,mass,temperature,r_m,epsilon,k_spring,Nstep,dt):\n",
    "    \n",
    "    Natom, _ = positions.shape\n",
    "    accelerations = np.zeros(positions.shape)\n",
    "    forces = np.zeros(positions.shape)\n",
    "    pos = []\n",
    "    vel = []\n",
    "    diagnostic = dict(E_variation=np.zeros((Nstep,)),Temperature=np.zeros((Nstep,)),\n",
    "                      E_system=np.zeros((Nstep,)),E_potentiel=np.zeros((Nstep,)),\n",
    "                     E_cinetique=np.zeros((Nstep,)),time=np.zeros((Nstep,)))\n",
    "    \n",
    "    thermostat_frequency = np.sqrt(2)*np.sqrt(2*k_spring)\n",
    "    \n",
    "    E_thermostat = 0\n",
    "    E_system = 0\n",
    "    E_variation = 0.0\n",
    "    \n",
    "    # Calculates the initial potential energy\n",
    "    forces,E_potentiel = get_forces(positions,r_m,epsilon,k_spring)\n",
    "    E_cinetique = 0.5*mass*np.power(velocities,2).sum()\n",
    "    E_system += E_potentiel + E_cinetique\n",
    "    E_variation += E_system \n",
    "    \n",
    "    for it in tqdm_cs(range(Nstep)):\n",
    "        \n",
    "        # applique le thermostat a tous les thermostat_Nstep\n",
    "        E_thermostat -= 0.5*mass*np.power(velocities,2).sum()\n",
    "        velocities = andersen_thermostat(velocities,temperature,thermostat_frequency,dt)\n",
    "        E_thermostat += 0.5*mass*np.power(velocities,2).sum()\n",
    "        \n",
    "        # TODO\n",
    "        # Faire avancer d'un pas le system\n",
    "        ## avance d'un demi pas pour les vitesses\n",
    "        velocities = velocities + 0.5 * dt * accelerations\n",
    "        ## avance d'un pas complet pour les positions\n",
    "        positions = positions + dt * velocities\n",
    "        ## Calcule les forces\n",
    "        forces,E_potentiel = get_forces(positions,r_m,epsilon,k_spring)\n",
    "        ## F = ma\n",
    "        accelerations = forces / mass\n",
    "        ## avance d'un pas les vitesses\n",
    "        velocities = velocities + 0.5 * dt * accelerations\n",
    "        \n",
    "        E_cinetique = 0.5*mass*np.power(velocities,2).sum()\n",
    "        E_variation +=  E_potentiel + E_cinetique - E_thermostat - E_system\n",
    "        E_system =  E_potentiel + E_cinetique\n",
    "        \n",
    "        # enregistre les positions et les vitesses\n",
    "        pos.append(positions)\n",
    "        vel.append(velocities)\n",
    "        diagnostic['E_variation'][it] = E_variation\n",
    "        diagnostic['E_potentiel'][it] = E_potentiel\n",
    "        diagnostic['E_system'][it] = E_system\n",
    "        diagnostic['E_cinetique'][it] = E_cinetique\n",
    "        diagnostic['Temperature'][it] = E_cinetique/1.5/Natom\n",
    "        diagnostic['time'][it] = it * dt\n",
    "        E_thermostat = 0\n",
    "        \n",
    "    return pos,vel,diagnostic"
   ]
  },
  {
   "cell_type": "markdown",
   "metadata": {
    "hidden": true
   },
   "source": [
    "## trajectory visualiser"
   ]
  },
  {
   "cell_type": "code",
   "execution_count": 17,
   "metadata": {
    "hidden": true
   },
   "outputs": [],
   "source": []
  },
  {
   "cell_type": "code",
   "execution_count": 18,
   "metadata": {
    "code_folding": [],
    "hidden": true
   },
   "outputs": [
    {
     "data": {
      "application/vnd.jupyter.widget-view+json": {
       "model_id": "f50547e6ee704eea9e53e92a2d1b62d0",
       "version_major": 2,
       "version_minor": 0
      },
      "text/html": [
       "<p>Failed to display Jupyter Widget of type <code>NGLWidget</code>.</p>\n",
       "<p>\n",
       "  If you're reading this message in the Jupyter Notebook or JupyterLab Notebook, it may mean\n",
       "  that the widgets JavaScript is still loading. If this message persists, it\n",
       "  likely means that the widgets JavaScript library is either not installed or\n",
       "  not enabled. See the <a href=\"https://ipywidgets.readthedocs.io/en/stable/user_install.html\">Jupyter\n",
       "  Widgets Documentation</a> for setup instructions.\n",
       "</p>\n",
       "<p>\n",
       "  If you're reading this message in another frontend (for example, a static\n",
       "  rendering on GitHub or <a href=\"https://nbviewer.jupyter.org/\">NBViewer</a>),\n",
       "  it may mean that your frontend doesn't currently support widgets.\n",
       "</p>\n"
      ],
      "text/plain": [
       "NGLWidget()"
      ]
     },
     "metadata": {},
     "output_type": "display_data"
    }
   ],
   "source": [
    "\n",
    "view = view_traj([make_circular_chain(N=10,r_m=1.5)],1)\n",
    "view"
   ]
  },
  {
   "cell_type": "code",
   "execution_count": 19,
   "metadata": {
    "hidden": true
   },
   "outputs": [],
   "source": [
    "\n",
    "view = view_traj([make_linear_chain(N=10,r_m=1)],1)\n",
    "#view"
   ]
  },
  {
   "cell_type": "code",
   "execution_count": 20,
   "metadata": {
    "code_folding": [],
    "hidden": true
   },
   "outputs": [
    {
     "data": {
      "application/vnd.jupyter.widget-view+json": {
       "model_id": "8ccf2356c8d2413eb5edd10ddd2f8adf",
       "version_major": 2,
       "version_minor": 0
      },
      "text/html": [
       "<p>Failed to display Jupyter Widget of type <code>NGLWidget</code>.</p>\n",
       "<p>\n",
       "  If you're reading this message in the Jupyter Notebook or JupyterLab Notebook, it may mean\n",
       "  that the widgets JavaScript is still loading. If this message persists, it\n",
       "  likely means that the widgets JavaScript library is either not installed or\n",
       "  not enabled. See the <a href=\"https://ipywidgets.readthedocs.io/en/stable/user_install.html\">Jupyter\n",
       "  Widgets Documentation</a> for setup instructions.\n",
       "</p>\n",
       "<p>\n",
       "  If you're reading this message in another frontend (for example, a static\n",
       "  rendering on GitHub or <a href=\"https://nbviewer.jupyter.org/\">NBViewer</a>),\n",
       "  it may mean that your frontend doesn't currently support widgets.\n",
       "</p>\n"
      ],
      "text/plain": [
       "NGLWidget()"
      ]
     },
     "metadata": {},
     "output_type": "display_data"
    }
   ],
   "source": [
    "\n",
    "view = view_traj([make_globular_chain(N=10,r_m=1.5)],1)      \n",
    "view"
   ]
  },
  {
   "cell_type": "code",
   "execution_count": 42,
   "metadata": {
    "hidden": true
   },
   "outputs": [
    {
     "data": {
      "application/vnd.jupyter.widget-view+json": {
       "model_id": "6bff0af773a146d49187a3631040be3b",
       "version_major": 2,
       "version_minor": 0
      },
      "text/html": [
       "<p>Failed to display Jupyter Widget of type <code>NGLWidget</code>.</p>\n",
       "<p>\n",
       "  If you're reading this message in the Jupyter Notebook or JupyterLab Notebook, it may mean\n",
       "  that the widgets JavaScript is still loading. If this message persists, it\n",
       "  likely means that the widgets JavaScript library is either not installed or\n",
       "  not enabled. See the <a href=\"https://ipywidgets.readthedocs.io/en/stable/user_install.html\">Jupyter\n",
       "  Widgets Documentation</a> for setup instructions.\n",
       "</p>\n",
       "<p>\n",
       "  If you're reading this message in another frontend (for example, a static\n",
       "  rendering on GitHub or <a href=\"https://nbviewer.jupyter.org/\">NBViewer</a>),\n",
       "  it may mean that your frontend doesn't currently support widgets.\n",
       "</p>\n"
      ],
      "text/plain": [
       "NGLWidget()"
      ]
     },
     "metadata": {},
     "output_type": "display_data"
    }
   ],
   "source": [
    "import numpy as np\n",
    "\n",
    "pos = make_circular_chain(N=10,r_m=2)\n",
    "stride = 1\n",
    "import nglview\n",
    "from ase.visualize import view\n",
    "from nglview import show_asetraj,show_ase\n",
    "from ase import Atoms\n",
    "#Natom,_ = pos[0].shape\n",
    "Natom,_ = pos.shape\n",
    "num = [1]*Natom\n",
    "#cell = pos[0].max()*10*np.eye(3)\n",
    "#frames = [Atoms(numbers=num,positions=pp,cell=cell,pbc=False) for pp in pos[::stride]]\n",
    "#frames = [Atoms(numbers=num,positions=pp,pbc=False) for pp in pos[::stride]]\n",
    "#view = show_asetraj(frames, gui=False)\n",
    "view = show_ase(Atoms(numbers=num,positions=pos,pbc=False))\n",
    "view.clear_representations()\n",
    "#view.add_ball_and_stick(aspectRatio=4)\n",
    "view.representations = [\n",
    "    {\"type\": \"surface\", \"params\": {\n",
    "        \"aspectRatio\": 4,\n",
    "        'colorScheme': \"value\",\n",
    "        'colorDomain': [ -0.5, 0.5 ],\n",
    "        'surfaceType': \"av\",\n",
    "    }},\n",
    "    \n",
    "]\n",
    "\n",
    "\n",
    "\n",
    "view"
   ]
  },
  {
   "cell_type": "code",
   "execution_count": null,
   "metadata": {
    "collapsed": true,
    "hidden": true
   },
   "outputs": [],
   "source": []
  },
  {
   "cell_type": "markdown",
   "metadata": {},
   "source": [
    "# Verifie l'implementation"
   ]
  },
  {
   "cell_type": "markdown",
   "metadata": {
    "heading_collapsed": true
   },
   "source": [
    "## potentiel de Lennard Jones sans exitation thermique"
   ]
  },
  {
   "cell_type": "code",
   "execution_count": 217,
   "metadata": {
    "collapsed": true,
    "hidden": true
   },
   "outputs": [],
   "source": [
    "epsilon = 1.\n",
    "r_m = 1.\n",
    "mass = 1.\n",
    "dt = 0.001\n",
    "\n",
    "T = 0\n",
    "k_spring = 0.\n",
    "\n",
    "initial_pos = make_linear_chain(10,r_m-0.1)\n",
    "initial_vel = np.random.normal(loc=0.0, scale=np.sqrt(.01),size=initial_pos.shape)"
   ]
  },
  {
   "cell_type": "code",
   "execution_count": 218,
   "metadata": {
    "hidden": true
   },
   "outputs": [
    {
     "data": {
      "application/vnd.jupyter.widget-view+json": {
       "model_id": "eb922873c0c64b7b858e62598175f466",
       "version_major": 2,
       "version_minor": 0
      },
      "text/html": [
       "<p>Failed to display Jupyter Widget of type <code>HBox</code>.</p>\n",
       "<p>\n",
       "  If you're reading this message in the Jupyter Notebook or JupyterLab Notebook, it may mean\n",
       "  that the widgets JavaScript is still loading. If this message persists, it\n",
       "  likely means that the widgets JavaScript library is either not installed or\n",
       "  not enabled. See the <a href=\"https://ipywidgets.readthedocs.io/en/stable/user_install.html\">Jupyter\n",
       "  Widgets Documentation</a> for setup instructions.\n",
       "</p>\n",
       "<p>\n",
       "  If you're reading this message in another frontend (for example, a static\n",
       "  rendering on GitHub or <a href=\"https://nbviewer.jupyter.org/\">NBViewer</a>),\n",
       "  it may mean that your frontend doesn't currently support widgets.\n",
       "</p>\n"
      ],
      "text/plain": [
       "HBox(children=(IntProgress(value=0, max=5000), HTML(value='')))"
      ]
     },
     "metadata": {},
     "output_type": "display_data"
    },
    {
     "name": "stdout",
     "output_type": "stream",
     "text": [
      "\n"
     ]
    }
   ],
   "source": [
    "\n",
    "pos,vel,diagnostic = MD_NVT_simulator(initial_pos,initial_vel,mass=mass,r_m=r_m,epsilon=epsilon,\n",
    "                           k_spring=k_spring,temperature=T,\n",
    "                           Nstep=5000,dt=dt)"
   ]
  },
  {
   "cell_type": "code",
   "execution_count": 219,
   "metadata": {
    "hidden": true,
    "scrolled": false
   },
   "outputs": [
    {
     "data": {
      "text/plain": [
       "<matplotlib.legend.Legend at 0x7fd4eee47518>"
      ]
     },
     "execution_count": 219,
     "metadata": {},
     "output_type": "execute_result"
    },
    {
     "data": {
      "image/png": "[encoded data removed]",
      "text/plain": [
       "<Figure size 432x288 with 1 Axes>"
      ]
     },
     "metadata": {},
     "output_type": "display_data"
    }
   ],
   "source": [
    "plt.plot(diagnostic['E_system'],label='E_system',)\n",
    "plt.legend()"
   ]
  },
  {
   "cell_type": "markdown",
   "metadata": {
    "heading_collapsed": true
   },
   "source": [
    "## potentiel de Harmonique sans exitation thermique"
   ]
  },
  {
   "cell_type": "code",
   "execution_count": 221,
   "metadata": {
    "collapsed": true,
    "hidden": true
   },
   "outputs": [],
   "source": [
    "k_spring = 1.\n",
    "r_m = 1.\n",
    "mass = 1.\n",
    "dt = 0.001\n",
    "\n",
    "T = 0\n",
    "epsilon = 0.\n",
    "\n",
    "initial_pos = make_linear_chain(10,r_m-0.1)\n",
    "initial_vel = np.random.normal(loc=0.0, scale=np.sqrt(.01),size=initial_pos.shape)"
   ]
  },
  {
   "cell_type": "code",
   "execution_count": 222,
   "metadata": {
    "hidden": true
   },
   "outputs": [
    {
     "data": {
      "application/vnd.jupyter.widget-view+json": {
       "model_id": "7719bb6f5fd748b8887a3e3356499d80",
       "version_major": 2,
       "version_minor": 0
      },
      "text/html": [
       "<p>Failed to display Jupyter Widget of type <code>HBox</code>.</p>\n",
       "<p>\n",
       "  If you're reading this message in the Jupyter Notebook or JupyterLab Notebook, it may mean\n",
       "  that the widgets JavaScript is still loading. If this message persists, it\n",
       "  likely means that the widgets JavaScript library is either not installed or\n",
       "  not enabled. See the <a href=\"https://ipywidgets.readthedocs.io/en/stable/user_install.html\">Jupyter\n",
       "  Widgets Documentation</a> for setup instructions.\n",
       "</p>\n",
       "<p>\n",
       "  If you're reading this message in another frontend (for example, a static\n",
       "  rendering on GitHub or <a href=\"https://nbviewer.jupyter.org/\">NBViewer</a>),\n",
       "  it may mean that your frontend doesn't currently support widgets.\n",
       "</p>\n"
      ],
      "text/plain": [
       "HBox(children=(IntProgress(value=0, max=5000), HTML(value='')))"
      ]
     },
     "metadata": {},
     "output_type": "display_data"
    },
    {
     "name": "stdout",
     "output_type": "stream",
     "text": [
      "\n"
     ]
    }
   ],
   "source": [
    "pos,vel,diagnostic = MD_NVT_simulator(initial_pos,initial_vel,mass=mass,r_m=r_m,epsilon=epsilon,\n",
    "                           k_spring=k_spring,temperature=T,\n",
    "                           Nstep=5000,dt=dt)"
   ]
  },
  {
   "cell_type": "code",
   "execution_count": 223,
   "metadata": {
    "hidden": true,
    "scrolled": false
   },
   "outputs": [
    {
     "data": {
      "text/plain": [
       "<matplotlib.legend.Legend at 0x7fd4ec463a90>"
      ]
     },
     "execution_count": 223,
     "metadata": {},
     "output_type": "execute_result"
    },
    {
     "data": {
      "image/png": "[encoded data removed]",
      "text/plain": [
       "<Figure size 432x288 with 1 Axes>"
      ]
     },
     "metadata": {},
     "output_type": "display_data"
    }
   ],
   "source": [
    "plt.plot(diagnostic['E_system'],label='E_system',)\n",
    "plt.legend()"
   ]
  },
  {
   "cell_type": "markdown",
   "metadata": {
    "heading_collapsed": true
   },
   "source": [
    "## Avec l'effet de la temperature"
   ]
  },
  {
   "cell_type": "code",
   "execution_count": 229,
   "metadata": {
    "collapsed": true,
    "hidden": true
   },
   "outputs": [],
   "source": [
    "k_spring = 1.\n",
    "epsilon = 1.\n",
    "r_m = 1.\n",
    "mass = 1.\n",
    "dt = 0.001\n",
    "T = 1.\n",
    "\n",
    "initial_pos = make_linear_chain(10,r_m-0.1)\n",
    "initial_vel = np.random.normal(loc=0.0, scale=np.sqrt(.01),size=initial_pos.shape)"
   ]
  },
  {
   "cell_type": "code",
   "execution_count": 230,
   "metadata": {
    "hidden": true
   },
   "outputs": [
    {
     "data": {
      "application/vnd.jupyter.widget-view+json": {
       "model_id": "30599e5fc46d49f89f384f7402357aed",
       "version_major": 2,
       "version_minor": 0
      },
      "text/html": [
       "<p>Failed to display Jupyter Widget of type <code>HBox</code>.</p>\n",
       "<p>\n",
       "  If you're reading this message in the Jupyter Notebook or JupyterLab Notebook, it may mean\n",
       "  that the widgets JavaScript is still loading. If this message persists, it\n",
       "  likely means that the widgets JavaScript library is either not installed or\n",
       "  not enabled. See the <a href=\"https://ipywidgets.readthedocs.io/en/stable/user_install.html\">Jupyter\n",
       "  Widgets Documentation</a> for setup instructions.\n",
       "</p>\n",
       "<p>\n",
       "  If you're reading this message in another frontend (for example, a static\n",
       "  rendering on GitHub or <a href=\"https://nbviewer.jupyter.org/\">NBViewer</a>),\n",
       "  it may mean that your frontend doesn't currently support widgets.\n",
       "</p>\n"
      ],
      "text/plain": [
       "HBox(children=(IntProgress(value=0, max=5000), HTML(value='')))"
      ]
     },
     "metadata": {},
     "output_type": "display_data"
    },
    {
     "name": "stdout",
     "output_type": "stream",
     "text": [
      "\n"
     ]
    }
   ],
   "source": [
    "pos,vel,diagnostic = MD_NVT_simulator(initial_pos,initial_vel,mass=mass,r_m=r_m,epsilon=epsilon,\n",
    "                           k_spring=k_spring,temperature=T,\n",
    "                           Nstep=5000,dt=dt)"
   ]
  },
  {
   "cell_type": "code",
   "execution_count": 231,
   "metadata": {
    "hidden": true,
    "scrolled": false
   },
   "outputs": [
    {
     "data": {
      "text/plain": [
       "<matplotlib.legend.Legend at 0x7fd4ec2f19b0>"
      ]
     },
     "execution_count": 231,
     "metadata": {},
     "output_type": "execute_result"
    },
    {
     "data": {
      "image/png": "[encoded data removed]",
      "text/plain": [
       "<Figure size 432x288 with 1 Axes>"
      ]
     },
     "metadata": {},
     "output_type": "display_data"
    }
   ],
   "source": [
    "plt.plot(diagnostic['E_variation'],label='E_variation',)\n",
    "plt.legend()"
   ]
  },
  {
   "cell_type": "code",
   "execution_count": 232,
   "metadata": {
    "hidden": true
   },
   "outputs": [
    {
     "data": {
      "text/plain": [
       "<matplotlib.legend.Legend at 0x7fd4ec3ff860>"
      ]
     },
     "execution_count": 232,
     "metadata": {},
     "output_type": "execute_result"
    },
    {
     "data": {
      "image/png": "[encoded data removed]",
      "text/plain": [
       "<Figure size 432x288 with 1 Axes>"
      ]
     },
     "metadata": {},
     "output_type": "display_data"
    }
   ],
   "source": [
    "plt.plot(diagnostic['Temperature'],label='Temperature',)\n",
    "plt.legend()"
   ]
  },
  {
   "cell_type": "markdown",
   "metadata": {},
   "source": [
    "# Simule la transition entre l'etat globulaire et l'etat elonge"
   ]
  },
  {
   "cell_type": "code",
   "execution_count": 9,
   "metadata": {},
   "outputs": [],
   "source": [
    "from Exercise_functions import MD_NVT_simulator_rapide"
   ]
  },
  {
   "cell_type": "code",
   "execution_count": 263,
   "metadata": {
    "collapsed": true
   },
   "outputs": [],
   "source": [
    "epsilon = 1.\n",
    "r_m = 1.\n",
    "mass = 1.\n",
    "dt = 0.01\n",
    "T = 6.\n",
    "\n",
    "k_spring = 16.67 * epsilon / r_m**2\n",
    "\n",
    "initial_pos = make_circular_chain(50,r_m)\n",
    "initial_vel = np.random.normal(loc=0.0, scale=np.sqrt(.1),size=initial_pos.shape)"
   ]
  },
  {
   "cell_type": "code",
   "execution_count": 264,
   "metadata": {},
   "outputs": [
    {
     "data": {
      "application/vnd.jupyter.widget-view+json": {
       "model_id": "9ba1b70431974353915e49eed3b747f3",
       "version_major": 2,
       "version_minor": 0
      },
      "text/html": [
       "<p>Failed to display Jupyter Widget of type <code>HBox</code>.</p>\n",
       "<p>\n",
       "  If you're reading this message in the Jupyter Notebook or JupyterLab Notebook, it may mean\n",
       "  that the widgets JavaScript is still loading. If this message persists, it\n",
       "  likely means that the widgets JavaScript library is either not installed or\n",
       "  not enabled. See the <a href=\"https://ipywidgets.readthedocs.io/en/stable/user_install.html\">Jupyter\n",
       "  Widgets Documentation</a> for setup instructions.\n",
       "</p>\n",
       "<p>\n",
       "  If you're reading this message in another frontend (for example, a static\n",
       "  rendering on GitHub or <a href=\"https://nbviewer.jupyter.org/\">NBViewer</a>),\n",
       "  it may mean that your frontend doesn't currently support widgets.\n",
       "</p>\n"
      ],
      "text/plain": [
       "HBox(children=(IntProgress(value=0, max=50000), HTML(value='')))"
      ]
     },
     "metadata": {},
     "output_type": "display_data"
    },
    {
     "name": "stdout",
     "output_type": "stream",
     "text": [
      "\n"
     ]
    }
   ],
   "source": [
    "pos,vel,diagnostic = MD_NVT_simulator_rapide(initial_pos,initial_vel,mass=mass,r_m=r_m,epsilon=epsilon,\n",
    "                           k_spring=k_spring,temperature=T,Nstep=50000,dt=dt)"
   ]
  },
  {
   "cell_type": "code",
   "execution_count": 269,
   "metadata": {},
   "outputs": [
    {
     "data": {
      "application/vnd.jupyter.widget-view+json": {
       "model_id": "6285f38fb0cd4c6db90f5b8a2c9f6264",
       "version_major": 2,
       "version_minor": 0
      },
      "text/html": [
       "<p>Failed to display Jupyter Widget of type <code>NGLWidget</code>.</p>\n",
       "<p>\n",
       "  If you're reading this message in the Jupyter Notebook or JupyterLab Notebook, it may mean\n",
       "  that the widgets JavaScript is still loading. If this message persists, it\n",
       "  likely means that the widgets JavaScript library is either not installed or\n",
       "  not enabled. See the <a href=\"https://ipywidgets.readthedocs.io/en/stable/user_install.html\">Jupyter\n",
       "  Widgets Documentation</a> for setup instructions.\n",
       "</p>\n",
       "<p>\n",
       "  If you're reading this message in another frontend (for example, a static\n",
       "  rendering on GitHub or <a href=\"https://nbviewer.jupyter.org/\">NBViewer</a>),\n",
       "  it may mean that your frontend doesn't currently support widgets.\n",
       "</p>\n"
      ],
      "text/plain": [
       "NGLWidget(count=500)"
      ]
     },
     "metadata": {},
     "output_type": "display_data"
    }
   ],
   "source": [
    "view_traj(pos,10)"
   ]
  },
  {
   "cell_type": "code",
   "execution_count": 270,
   "metadata": {},
   "outputs": [
    {
     "data": {
      "text/plain": [
       "<matplotlib.legend.Legend at 0x7fd4ba7daf60>"
      ]
     },
     "execution_count": 270,
     "metadata": {},
     "output_type": "execute_result"
    },
    {
     "data": {
      "image/png": "[encoded data removed]",
      "text/plain": [
       "<Figure size 432x288 with 1 Axes>"
      ]
     },
     "metadata": {},
     "output_type": "display_data"
    }
   ],
   "source": [
    "plt.plot(diagnostic['time'],diagnostic['E_variation'],label='E_variation',)\n",
    "plt.legend()"
   ]
  },
  {
   "cell_type": "code",
   "execution_count": 271,
   "metadata": {},
   "outputs": [
    {
     "data": {
      "text/plain": [
       "<matplotlib.legend.Legend at 0x7fd4ba7da2e8>"
      ]
     },
     "execution_count": 271,
     "metadata": {},
     "output_type": "execute_result"
    },
    {
     "data": {
      "image/png": "[encoded data removed]",
      "text/plain": [
       "<Figure size 432x288 with 1 Axes>"
      ]
     },
     "metadata": {},
     "output_type": "display_data"
    }
   ],
   "source": [
    "plt.plot(diagnostic['time'],diagnostic['Temperature'],label='Temperature',)\n",
    "plt.legend()"
   ]
  },
  {
   "cell_type": "code",
   "execution_count": 272,
   "metadata": {},
   "outputs": [
    {
     "data": {
      "text/plain": [
       "<matplotlib.legend.Legend at 0x7fd4ba7698d0>"
      ]
     },
     "execution_count": 272,
     "metadata": {},
     "output_type": "execute_result"
    },
    {
     "data": {
      "image/png": "[encoded data removed]",
      "text/plain": [
       "<Figure size 432x288 with 1 Axes>"
      ]
     },
     "metadata": {},
     "output_type": "display_data"
    }
   ],
   "source": [
    "plt.plot(diagnostic['time'],diagnostic['E_system'],label='E_system',)\n",
    "plt.legend()"
   ]
  },
  {
   "cell_type": "code",
   "execution_count": null,
   "metadata": {
    "collapsed": true
   },
   "outputs": [],
   "source": []
  },
  {
   "cell_type": "code",
   "execution_count": null,
   "metadata": {
    "collapsed": true
   },
   "outputs": [],
   "source": []
  }
 ],
 "metadata": {
  "kernelspec": {
   "display_name": "Python 3 soap",
   "language": "python",
   "name": "soap"
  },
  "language_info": {
   "codemirror_mode": {
    "name": "ipython",
    "version": 3
   },
   "file_extension": ".py",
   "mimetype": "text/x-python",
   "name": "python",
   "nbconvert_exporter": "python",
   "pygments_lexer": "ipython3",
   "version": "3.6.4"
  },
  "toc": {
   "nav_menu": {
    "height": "160px",
    "width": "252px"
   },
   "number_sections": true,
   "sideBar": true,
   "skip_h1_title": false,
   "title_cell": "Table of Contents",
   "title_sidebar": "Contents",
   "toc_cell": false,
   "toc_position": {
    "height": "461px",
    "left": "0px",
    "right": "927.667px",
    "top": "107px",
    "width": "139px"
   },
   "toc_section_display": "block",
   "toc_window_display": false
  }
 },
 "nbformat": 4,
 "nbformat_minor": 2
}
