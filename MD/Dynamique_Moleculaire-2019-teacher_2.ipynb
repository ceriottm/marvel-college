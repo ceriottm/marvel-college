{
 "cells": [
  {
   "cell_type": "code",
   "execution_count": null,
   "metadata": {},
   "outputs": [],
   "source": [
    "%matplotlib inline\n",
    "import matplotlib.pyplot as plt"
   ]
  },
  {
   "cell_type": "code",
   "execution_count": null,
   "metadata": {},
   "outputs": [],
   "source": [
    "import numpy as np\n",
    "import scipy as sc\n",
    "import numpy.linalg as npl\n",
    "from numpy.linalg import norm\n",
    "import scipy.linalg as scl\n",
    "from scipy.spatial.distance import pdist,squareform\n",
    "import ase\n",
    "from tqdm import tqdm_notebook as tqdm_cs"
   ]
  },
  {
   "cell_type": "code",
   "execution_count": null,
   "metadata": {},
   "outputs": [],
   "source": [
    "from tools import manipulation_hist,manipulation_LJ_force,manipulation_Harmonique_force,manipulation_LJ,get_numerical_force,manipulation_Harmonique\n",
    "from tools import visualiser_trajectoire,faire_une_chaine_circulaire,faire_une_chaine_lineaire\n",
    "\n",
    "from Exercise_functions import simulateur_NVT_efficace as simulateur_NVT"
   ]
  },
  {
   "cell_type": "markdown",
   "metadata": {
    "heading_collapsed": true
   },
   "source": [
    "# Construire un système initial et le visualiser\n",
    "\n",
    "L'integrateur à besoin de commencer à partir d'un état initial du système: positions et vitesses. Pour générer des positions compatible avec la transition entre un état globulaire et un état élongé voici deux fonctions qui produisent une chaine circulaire et une chaine linéaire. Note que pour générer des configurations initiales stable il est important de prendre en compte le paramètre $r_m$ qui correspond à la longueure d'équilibre associée au potentiel de Lennard Jones et harmonique. \n",
    "\n",
    "Optionel et avancé: Ecrit une autre fonction pour générer des configurations initiales stables. "
   ]
  },
  {
   "cell_type": "code",
   "execution_count": null,
   "metadata": {
    "hidden": true
   },
   "outputs": [],
   "source": [
    "view = visualiser_trajectoire([faire_une_chaine_circulaire(N=10,r_m=1.5)],1)\n",
    "view"
   ]
  },
  {
   "cell_type": "code",
   "execution_count": null,
   "metadata": {
    "hidden": true
   },
   "outputs": [],
   "source": [
    "view = visualiser_trajectoire([faire_une_chaine_lineaire(N=10,r_m=1)],1)\n",
    "view"
   ]
  },
  {
   "cell_type": "markdown",
   "metadata": {},
   "source": [
    "# Test l'implementation des forces et de l'integrateur\n",
    "\n",
    "L'implementation complète de l'integration des équations du mouvement de la chaine de polymère est fournie dans le fichier Exercise_functions.py. Pour mieux comprendre les différents composants de ce modèle, on va commencer par tester chacune de ses charactéristiques indépendament."
   ]
  },
  {
   "cell_type": "markdown",
   "metadata": {
    "heading_collapsed": true
   },
   "source": [
    "## Test potentiel de Lennard Jones sans exitation thermique"
   ]
  },
  {
   "cell_type": "code",
   "execution_count": null,
   "metadata": {
    "hidden": true
   },
   "outputs": [],
   "source": [
    "# Intensite de l'atractration de LJ\n",
    "epsilon = 10.\n",
    "# Distance d'equilibre pour le potentiel\n",
    "r_m = 1.\n",
    "# Masse des particules\n",
    "masse = 1.\n",
    "# Pas de temps entre chaque etapes d'integration\n",
    "dt = 0.001\n",
    "\n",
    "# Temperature du system\n",
    "T = 0\n",
    "# Rigidite du ressort\n",
    "k_spring = 0.\n",
    "# Genere les positions initiales\n",
    "positions_initiales = faire_une_chaine_lineaire(10,r_m)\n",
    "# Genere les vitesses initiales\n",
    "vitesses_initiales = np.zeros(positions_initiales.shape)\n",
    "vitesses_initiales[:,0] = 2 * np.ones(vitesses_initiales.shape[0]) * np.array(([-1,1]*int(vitesses_initiales.shape[0]/2)))"
   ]
  },
  {
   "cell_type": "code",
   "execution_count": null,
   "metadata": {
    "hidden": true
   },
   "outputs": [],
   "source": [
    "pos,vel,diagnostic = simulateur_NVT(positions_initiales,vitesses_initiales,masse=masse,r_m=r_m,epsilon=epsilon,\n",
    "                           k_spring=k_spring,temperature=T,\n",
    "                           Nstep=5000,dt=dt)"
   ]
  },
  {
   "cell_type": "markdown",
   "metadata": {
    "hidden": true
   },
   "source": [
    "L'énergie du système est-elle conservée ?"
   ]
  },
  {
   "cell_type": "code",
   "execution_count": null,
   "metadata": {
    "hidden": true
   },
   "outputs": [],
   "source": [
    "plt.plot(diagnostic['E_system'],label='E_system',)\n",
    "plt.legend()"
   ]
  },
  {
   "cell_type": "code",
   "execution_count": null,
   "metadata": {
    "hidden": true
   },
   "outputs": [],
   "source": [
    "visualiser_trajectoire(pos,10)"
   ]
  },
  {
   "cell_type": "markdown",
   "metadata": {
    "heading_collapsed": true
   },
   "source": [
    "## Test le potentiel de Harmonique sans exitation thermique"
   ]
  },
  {
   "cell_type": "code",
   "execution_count": null,
   "metadata": {
    "hidden": true
   },
   "outputs": [],
   "source": [
    "# Rigidite du ressort\n",
    "k_spring = 1.\n",
    "# Distance d'equilibre pour le potentiel\n",
    "r_m = 1.\n",
    "# Masse des particules\n",
    "masse = 1.\n",
    "# Pas de temps entre chaque etapes d'integration\n",
    "dt = 0.001\n",
    "# Temperature du system\n",
    "T = 0\n",
    "# Intensite de l'atractration de LJ\n",
    "epsilon = 0.\n",
    "# Genere les positions initiales\n",
    "positions_initiales = faire_une_chaine_lineaire(10,r_m)\n",
    "# Genere les vitesses initiales\n",
    "vitesses_initiales = np.random.normal(loc=0.0, scale=np.sqrt(0.5),size=positions_initiales.shape)"
   ]
  },
  {
   "cell_type": "code",
   "execution_count": null,
   "metadata": {
    "hidden": true,
    "scrolled": true
   },
   "outputs": [],
   "source": [
    "pos,vel,diagnostic = simulateur_NVT(positions_initiales,vitesses_initiales,masse=masse,r_m=r_m,epsilon=epsilon,\n",
    "                           k_spring=k_spring,temperature=T,\n",
    "                           Nstep=5000,dt=dt)"
   ]
  },
  {
   "cell_type": "markdown",
   "metadata": {
    "hidden": true
   },
   "source": [
    "L'énergie du système est-elle conservée ?"
   ]
  },
  {
   "cell_type": "code",
   "execution_count": null,
   "metadata": {
    "hidden": true
   },
   "outputs": [],
   "source": [
    "plt.plot(diagnostic['E_system'],label='E_system',)\n",
    "plt.legend()"
   ]
  },
  {
   "cell_type": "code",
   "execution_count": null,
   "metadata": {
    "hidden": true
   },
   "outputs": [],
   "source": [
    "visualiser_trajectoire(pos,10)"
   ]
  },
  {
   "cell_type": "markdown",
   "metadata": {
    "heading_collapsed": true
   },
   "source": [
    "## Test Avec l'effet de la temperature"
   ]
  },
  {
   "cell_type": "code",
   "execution_count": null,
   "metadata": {
    "hidden": true
   },
   "outputs": [],
   "source": [
    "# Rigidite du ressort\n",
    "k_spring = 1.\n",
    "# Intensite de l'atractration de LJ\n",
    "epsilon = 1.\n",
    "# Distance d'equilibre pour le potentiel\n",
    "r_m = 1.\n",
    "# Masse des particules\n",
    "masse = 1.\n",
    "# Pas de temps entre chaque etapes d'integration\n",
    "dt = 0.001\n",
    "# Temperature du system\n",
    "T = 1.\n",
    "\n",
    "# Genere les positions initiales\n",
    "positions_initiales = faire_une_chaine_lineaire(10,r_m)\n",
    "# Genere les vitesses initiales\n",
    "vitesses_initiales = np.random.normal(loc=0.0, scale=np.sqrt(1),size=positions_initiales.shape)"
   ]
  },
  {
   "cell_type": "code",
   "execution_count": null,
   "metadata": {
    "hidden": true,
    "scrolled": true
   },
   "outputs": [],
   "source": [
    "pos,vel,diagnostic = simulateur_NVT(positions_initiales,vitesses_initiales,masse=masse,r_m=r_m,epsilon=epsilon,\n",
    "                                       k_spring=k_spring,temperature=T,Nstep=5000,dt=dt)"
   ]
  },
  {
   "cell_type": "markdown",
   "metadata": {
    "hidden": true
   },
   "source": [
    "La variarion d'energie du system et du thermostat est-elle conservée ?"
   ]
  },
  {
   "cell_type": "code",
   "execution_count": null,
   "metadata": {
    "hidden": true
   },
   "outputs": [],
   "source": [
    "plt.plot(diagnostic['E_variation'],label='E_variation',)\n",
    "plt.legend()"
   ]
  },
  {
   "cell_type": "markdown",
   "metadata": {
    "hidden": true
   },
   "source": [
    "La temperature du system est-elle maintenue a la bone valeure"
   ]
  },
  {
   "cell_type": "code",
   "execution_count": null,
   "metadata": {
    "hidden": true
   },
   "outputs": [],
   "source": [
    "plt.plot(diagnostic['Temperature'],label='Temperature',)\n",
    "plt.legend()"
   ]
  },
  {
   "cell_type": "code",
   "execution_count": null,
   "metadata": {
    "hidden": true
   },
   "outputs": [],
   "source": [
    "visualiser_trajectoire(pos,10)"
   ]
  },
  {
   "cell_type": "markdown",
   "metadata": {},
   "source": [
    "# Simule la transition entre l'état globulaire et l'état alongé"
   ]
  },
  {
   "cell_type": "code",
   "execution_count": null,
   "metadata": {},
   "outputs": [],
   "source": [
    "# Intensite de l'atractration de LJ\n",
    "epsilon = 1.\n",
    "# Distance d'equilibre pour le potentiel\n",
    "r_m = 1.\n",
    "# Masse des particules\n",
    "mass = 1.\n",
    "# Pas de temps entre chaque etapes d'integration\n",
    "dt = 0.01\n",
    "# Temperature du system\n",
    "T = 6.\n",
    "\n",
    "# Rigidite du ressort. La rigidite du ressort est exprime en fonction de epsilon et de r_m pour que la forme du potentiel harmonique coincide avec celle du puit du potentiel de Lennard Jones\n",
    "k_spring = 16.67 * epsilon / r_m**2\n",
    "\n",
    "# Genere les positions initiales\n",
    "positions_initiales = faire_une_chaine_circulaire(100,r_m)\n",
    "# Genere les vitesses initiales\n",
    "vitesses_initiales = np.random.normal(loc=0.0, scale=np.sqrt(.1),size=positions_initiales.shape)"
   ]
  },
  {
   "cell_type": "code",
   "execution_count": null,
   "metadata": {},
   "outputs": [],
   "source": [
    "pos,vel,diagnostic = simulateur_NVT(positions_initiales,vitesses_initiales,masse=mass,r_m=r_m,epsilon=epsilon,\n",
    "                           k_spring=k_spring,temperature=T,Nstep=50000,dt=dt,enregistrement_stride=10)"
   ]
  },
  {
   "cell_type": "code",
   "execution_count": null,
   "metadata": {},
   "outputs": [],
   "source": [
    "visualiser_trajectoire(pos,1)"
   ]
  },
  {
   "cell_type": "markdown",
   "metadata": {},
   "source": [
    "des diagnostics"
   ]
  },
  {
   "cell_type": "code",
   "execution_count": null,
   "metadata": {},
   "outputs": [],
   "source": [
    "plt.plot(diagnostic['time'],diagnostic['E_variation'],label='E_variation',)\n",
    "plt.legend()"
   ]
  },
  {
   "cell_type": "code",
   "execution_count": null,
   "metadata": {},
   "outputs": [],
   "source": [
    "plt.plot(diagnostic['time'],diagnostic['Temperature'],label='Temperature',)\n",
    "plt.legend()"
   ]
  },
  {
   "cell_type": "code",
   "execution_count": null,
   "metadata": {},
   "outputs": [],
   "source": [
    "plt.plot(diagnostic['time'],diagnostic['E_system'],label='E_system',)\n",
    "plt.legend()"
   ]
  },
  {
   "cell_type": "markdown",
   "metadata": {},
   "source": [
    "## Analyser les trajectoires et detecter la transition entre l'état globulaire et l'état élongé à partir d'une longue simulation (au moins Nstep=200000 et dt=0.01)\n",
    "\n",
    "Quelle est la température de transition entre l'état globulaire et l'état élongé ?\n",
    "\n",
    "Comment mesurer dans quel état est le système ? Ecrit une fonction pour analyser la séquence de positions généré par le simulateur et determiner automatiquement dans quel état se trouve le système.\n",
    "\n",
    "Combien de fois est-ce que cette transition à lieu pendant la simulation ?\n"
   ]
  },
  {
   "cell_type": "code",
   "execution_count": null,
   "metadata": {},
   "outputs": [],
   "source": []
  }
 ],
 "metadata": {
  "kernelspec": {
   "display_name": "Python 3",
   "language": "python",
   "name": "python3"
  },
  "language_info": {
   "codemirror_mode": {
    "name": "ipython",
    "version": 3
   },
   "file_extension": ".py",
   "mimetype": "text/x-python",
   "name": "python",
   "nbconvert_exporter": "python",
   "pygments_lexer": "ipython3",
   "version": "3.6.8"
  },
  "latex_envs": {
   "LaTeX_envs_menu_present": true,
   "autoclose": false,
   "autocomplete": true,
   "bibliofile": "biblio.bib",
   "cite_by": "apalike",
   "current_citInitial": 1,
   "eqLabelWithNumbers": true,
   "eqNumInitial": 1,
   "hotkeys": {
    "equation": "Ctrl-E",
    "itemize": "Ctrl-I"
   },
   "labels_anchors": false,
   "latex_user_defs": false,
   "report_style_numbering": false,
   "user_envs_cfg": false
  },
  "toc": {
   "base_numbering": 1,
   "nav_menu": {
    "height": "160px",
    "width": "252px"
   },
   "number_sections": true,
   "sideBar": true,
   "skip_h1_title": false,
   "title_cell": "Table of Contents",
   "title_sidebar": "Contents",
   "toc_cell": false,
   "toc_position": {
    "height": "461px",
    "left": "0px",
    "right": "927.667px",
    "top": "107px",
    "width": "139px"
   },
   "toc_section_display": "block",
   "toc_window_display": false
  }
 },
 "nbformat": 4,
 "nbformat_minor": 2
}
