{
 "cells": [
  {
   "cell_type": "code",
   "execution_count": 1,
   "metadata": {},
   "outputs": [],
   "source": [
    "# %matplotlib notebook\n",
    "# import matplotlib.pyplot as plt"
   ]
  },
  {
   "cell_type": "code",
   "execution_count": 2,
   "metadata": {},
   "outputs": [],
   "source": [
    "import numpy as np\n",
    "import scipy as sc\n",
    "import numpy.linalg as npl\n",
    "from numpy.linalg import norm\n",
    "import scipy.linalg as scl\n",
    "from scipy.spatial.distance import pdist,squareform\n",
    "import ase\n",
    "from tqdm import tqdm_notebook as tqdm_cs"
   ]
  },
  {
   "cell_type": "code",
   "execution_count": 3,
   "metadata": {},
   "outputs": [],
   "source": [
    "%matplotlib notebook\n",
    "import numpy as np\n",
    "import pylab as plt\n",
    "\n",
    "import tabulate\n",
    "from ipywidgets import Label, Button, Output, FloatSlider, HBox, VBox, Layout, HTML, Accordion, interactive, interactive_output\n",
    "from widget_code_input import WidgetCodeInput\n",
    "from IPython.display import display"
   ]
  },
  {
   "cell_type": "code",
   "execution_count": 4,
   "metadata": {},
   "outputs": [],
   "source": [
    "from tools import manipulation_hist,manipulation_LJ_force,manipulation_Harmonique_force,manipulation_LJ,get_numerical_force,manipulation_Harmonique\n",
    "from tools import visualiser_trajectoire,faire_une_chaine_circulaire,faire_une_chaine_lineaire\n",
    "from appmode_functions import get_recompute"
   ]
  },
  {
   "cell_type": "markdown",
   "metadata": {},
   "source": [
    "# Developper les fonctions pour modeliser une chaine de polymere"
   ]
  },
  {
   "cell_type": "markdown",
   "metadata": {},
   "source": [
    "<img src=\"figures/r2_r1-01.png\" width=\"250\" height=\"250\" />"
   ]
  },
  {
   "cell_type": "markdown",
   "metadata": {},
   "source": [
    "## Potentiel harmonique\n",
    "\n",
    "Le potentiel harmonique est donné par:\n",
    "\n",
    "$V_{har}\\,\\left(d\\right) = k \\,\\left(d-r_m\\right)^2,$\n",
    "\n",
    "où $d$ est la longueur du ressort, $r_m$ est la longueur du ressort au repos et $k$ est la constante de raideur du ressort.\n",
    "Si les extrémités du ressort sont données par les vecteurs $\\vec{r_1} = \\left(x_1,\\, y_1,\\,  z_1\\right)$ et $\\vec{r_2} = \\left(x_2,\\, y_2,\\,  z_2\\right)$ respectivement, alors $d=\\sqrt{(x_1-x_2)^2+(y_1-y_2)^2+(z_1-z_2)^2}$.\n"
   ]
  },
  {
   "cell_type": "code",
   "execution_count": 5,
   "metadata": {
    "code_folding": []
   },
   "outputs": [],
   "source": [
    "class SetUpHarmonicPotential(object):\n",
    "    def __init__(self):        \n",
    "        self.plot_box = Output()\n",
    "        with self.plot_box:\n",
    "            self.the_figure, self.the_plot = plt.subplots(figsize=(5,5))\n",
    "            self.the_plot.set_xlabel(\"x [l]\")\n",
    "            self.the_plot.set_xlabel(\"Potentiel [e]\")\n",
    "        \n",
    "        # set up the value checker\n",
    "        self.check_function_output = Output()\n",
    "        self.check_accordion = Accordion(children=[self.check_function_output], selected_index=None)\n",
    "        self.check_accordion.set_title(0, 'Validation de ta fonction (clique pour voir le résultat)')\n",
    "        \n",
    "        # set up the sliders\n",
    "        r_m_widget = FloatSlider(\n",
    "            value=2, min=0.50, max=5,step=0.2,\n",
    "            description=r'\\(r_m\\)',\n",
    "            continuous_update=False, \n",
    "            style={'description_width': 'initial'}, layout=Layout(width='50%', min_width='350px'))\n",
    "        k_widget = FloatSlider(\n",
    "            value=2, min=0.50, max=5,step=0.2,\n",
    "            description=r'\\(k\\)',\n",
    "            continuous_update=False, \n",
    "            style={'description_width': 'initial'}, layout=Layout(width='50%', min_width='350px'))\n",
    "        self.sliders_dict = dict(r_m=r_m_widget,k=k_widget)\n",
    "        \n",
    "        # set up the test values\n",
    "        self.test_values_dict = dict(d=[1,2,3,4],r_m=[1,3],k=[2,3])\n",
    "        \n",
    "        # set upt the code widget window\n",
    "        self.code_widget = WidgetCodeInput(\n",
    "            function_name=\"Potentiel_Harmonique\", \n",
    "            function_parameters=\"d, r_m, k\",\n",
    "            docstring=\"\"\"\n",
    "        Implémente l'énergie potentielle associée à un ressort\n",
    "\n",
    "        :param d: distance [l]\n",
    "        :param r_m: distance de repos du ressort [l]\n",
    "        :param k: force du ressort [e/l] \n",
    "\n",
    "        :return: Valeur de l'énergie potentielle du ressort [e]\n",
    "        \"\"\",\n",
    "            function_body=\"# Ecrit ta solution\\n# Après avoir modifié la fonction, déplace un des sliders pour valider ta solution\")\n",
    "        \n",
    "        self.widgets = [slider for slider in self.sliders_dict.values()]\n",
    "        self.widgets += [self.code_widget]\n",
    "        \n",
    "        self.input_box = VBox([slider for slider in self.sliders_dict.values()])\n",
    "        # self.plot = interactive_output(self.replot, self.sliders_dict)\n",
    "    \n",
    "    def display(self):\n",
    "        display(self.code_widget)\n",
    "        display(self.input_box,self.the_figure)\n",
    "        display(self.check_accordion)\n",
    "        \n",
    "    def reference_func(self,d,r_m,k):\n",
    "        ### Retourne la valeur du potentiel harmonique\n",
    "        return k*( d - r_m)**2\n",
    "    \n",
    "    def replot(self, r_m, k):\n",
    "        # Clean up the graph\n",
    "        self.the_plot.axes.clear()\n",
    "\n",
    "        circle1 = plt.Circle((0, 2), 0.2, color='b')\n",
    "        circle2 = plt.Circle((r_m, 2), 0.2, color='r')\n",
    "        self.the_plot.add_artist(circle1)\n",
    "        self.the_plot.add_artist(circle2)\n",
    "        r = np.linspace(-2, 6, num=100)\n",
    "        self.the_plot.plot(r, self.reference_func(r,r_m,k))\n",
    "\n",
    "\n",
    "        # plt.show()\n",
    "        ## (Try to) plot user value\n",
    "        user_value = None\n",
    "        try:\n",
    "            user_value = get_user_value(**{'d',r})\n",
    "        except Exception:\n",
    "            # Just a guard not to break the visualization, we should not end up here\n",
    "            pass \n",
    "        try:\n",
    "            if user_value is not None:\n",
    "                self.the_plot.plot([user_value], [0], 'or')    \n",
    "        except Exception:\n",
    "            # We might end up here if the function does not return a float value\n",
    "            pass \n",
    "\n",
    "        self.the_plot.set_xlim(-0.5,4)\n",
    "        self.the_plot.set_ylim(-0.5,4)\n",
    "        # Redraw\n",
    "        self.the_figure.canvas.draw()\n",
    "        self.the_figure.canvas.flush_events()\n"
   ]
  },
  {
   "cell_type": "code",
   "execution_count": 6,
   "metadata": {
    "scrolled": false
   },
   "outputs": [
    {
     "ename": "NotImplementedError",
     "evalue": "",
     "output_type": "error",
     "traceback": [
      "\u001b[0;31m---------------------------------------------------------------------------\u001b[0m",
      "\u001b[0;31mNotImplementedError\u001b[0m                       Traceback (most recent call last)",
      "\u001b[0;32m<ipython-input-6-37a2fe6cc3a5>\u001b[0m in \u001b[0;36m<module>\u001b[0;34m()\u001b[0m\n\u001b[1;32m      3\u001b[0m \u001b[0mrecompute\u001b[0m \u001b[0;34m=\u001b[0m \u001b[0mget_recompute\u001b[0m\u001b[0;34m(\u001b[0m\u001b[0msetup_class\u001b[0m\u001b[0;34m)\u001b[0m\u001b[0;34m\u001b[0m\u001b[0m\n\u001b[1;32m      4\u001b[0m \u001b[0;34m\u001b[0m\u001b[0m\n\u001b[0;32m----> 5\u001b[0;31m \u001b[0m_\u001b[0m \u001b[0;34m=\u001b[0m \u001b[0mrecompute\u001b[0m\u001b[0;34m(\u001b[0m\u001b[0;32mNone\u001b[0m\u001b[0;34m)\u001b[0m\u001b[0;34m\u001b[0m\u001b[0m\n\u001b[0m\u001b[1;32m      6\u001b[0m \u001b[0;34m\u001b[0m\u001b[0m\n\u001b[1;32m      7\u001b[0m \u001b[0msetup_class\u001b[0m\u001b[0;34m.\u001b[0m\u001b[0mdisplay\u001b[0m\u001b[0;34m(\u001b[0m\u001b[0;34m)\u001b[0m\u001b[0;34m\u001b[0m\u001b[0m\n",
      "\u001b[0;32m~/notebooks/appmode_functions.py\u001b[0m in \u001b[0;36mrecompute\u001b[0;34m(e)\u001b[0m\n\u001b[1;32m     24\u001b[0m                 \u001b[0;32mreturn\u001b[0m\u001b[0;34m\u001b[0m\u001b[0m\n\u001b[1;32m     25\u001b[0m         \u001b[0mreplot_kwargs\u001b[0m \u001b[0;34m=\u001b[0m \u001b[0;34m{\u001b[0m\u001b[0mk\u001b[0m\u001b[0;34m:\u001b[0m\u001b[0mslider\u001b[0m\u001b[0;34m.\u001b[0m\u001b[0mvalue\u001b[0m \u001b[0;32mfor\u001b[0m \u001b[0mk\u001b[0m\u001b[0;34m,\u001b[0m\u001b[0mslider\u001b[0m \u001b[0;32min\u001b[0m \u001b[0msliders_dict\u001b[0m\u001b[0;34m.\u001b[0m\u001b[0mitems\u001b[0m\u001b[0;34m(\u001b[0m\u001b[0;34m)\u001b[0m\u001b[0;34m}\u001b[0m\u001b[0;34m\u001b[0m\u001b[0m\n\u001b[0;32m---> 26\u001b[0;31m         \u001b[0mreplot\u001b[0m\u001b[0;34m(\u001b[0m\u001b[0;34m**\u001b[0m\u001b[0mreplot_kwargs\u001b[0m\u001b[0;34m)\u001b[0m\u001b[0;34m\u001b[0m\u001b[0m\n\u001b[0m\u001b[1;32m     27\u001b[0m \u001b[0;34m\u001b[0m\u001b[0m\n\u001b[1;32m     28\u001b[0m         \u001b[0;31m# Print info on the \"correctness\" of the user's function\u001b[0m\u001b[0;34m\u001b[0m\u001b[0;34m\u001b[0m\u001b[0m\n",
      "\u001b[0;32m<ipython-input-5-aa6cfa052f19>\u001b[0m in \u001b[0;36mreplot\u001b[0;34m(self, r_m, k)\u001b[0m\n\u001b[1;32m     89\u001b[0m         \u001b[0;31m# Redraw\u001b[0m\u001b[0;34m\u001b[0m\u001b[0;34m\u001b[0m\u001b[0m\n\u001b[1;32m     90\u001b[0m         \u001b[0mself\u001b[0m\u001b[0;34m.\u001b[0m\u001b[0mthe_figure\u001b[0m\u001b[0;34m.\u001b[0m\u001b[0mcanvas\u001b[0m\u001b[0;34m.\u001b[0m\u001b[0mdraw\u001b[0m\u001b[0;34m(\u001b[0m\u001b[0;34m)\u001b[0m\u001b[0;34m\u001b[0m\u001b[0m\n\u001b[0;32m---> 91\u001b[0;31m         \u001b[0mself\u001b[0m\u001b[0;34m.\u001b[0m\u001b[0mthe_figure\u001b[0m\u001b[0;34m.\u001b[0m\u001b[0mcanvas\u001b[0m\u001b[0;34m.\u001b[0m\u001b[0mflush_events\u001b[0m\u001b[0;34m(\u001b[0m\u001b[0;34m)\u001b[0m\u001b[0;34m\u001b[0m\u001b[0m\n\u001b[0m",
      "\u001b[0;32m/opt/conda/lib/python3.6/site-packages/matplotlib/backend_bases.py\u001b[0m in \u001b[0;36mflush_events\u001b[0;34m(self)\u001b[0m\n\u001b[1;32m   2408\u001b[0m         \u001b[0mbackends\u001b[0m \u001b[0;32mwith\u001b[0m \u001b[0mGUIs\u001b[0m\u001b[0;34m.\u001b[0m\u001b[0;34m\u001b[0m\u001b[0m\n\u001b[1;32m   2409\u001b[0m         \"\"\"\n\u001b[0;32m-> 2410\u001b[0;31m         \u001b[0;32mraise\u001b[0m \u001b[0mNotImplementedError\u001b[0m\u001b[0;34m\u001b[0m\u001b[0m\n\u001b[0m\u001b[1;32m   2411\u001b[0m \u001b[0;34m\u001b[0m\u001b[0m\n\u001b[1;32m   2412\u001b[0m     \u001b[0;32mdef\u001b[0m \u001b[0mstart_event_loop\u001b[0m\u001b[0;34m(\u001b[0m\u001b[0mself\u001b[0m\u001b[0;34m,\u001b[0m \u001b[0mtimeout\u001b[0m\u001b[0;34m)\u001b[0m\u001b[0;34m:\u001b[0m\u001b[0;34m\u001b[0m\u001b[0m\n",
      "\u001b[0;31mNotImplementedError\u001b[0m: "
     ]
    }
   ],
   "source": [
    "setup_class = SetUpHarmonicPotential()\n",
    "\n",
    "recompute = get_recompute(setup_class)\n",
    "\n",
    "_ = recompute(None)\n",
    "\n",
    "setup_class.display()"
   ]
  },
  {
   "cell_type": "code",
   "execution_count": null,
   "metadata": {},
   "outputs": [],
   "source": []
  }
 ],
 "metadata": {
  "kernelspec": {
   "display_name": "Python 3",
   "language": "python",
   "name": "python3"
  },
  "language_info": {
   "codemirror_mode": {
    "name": "ipython",
    "version": 3
   },
   "file_extension": ".py",
   "mimetype": "text/x-python",
   "name": "python",
   "nbconvert_exporter": "python",
   "pygments_lexer": "ipython3",
   "version": "3.6.5"
  },
  "latex_envs": {
   "LaTeX_envs_menu_present": true,
   "autoclose": false,
   "autocomplete": true,
   "bibliofile": "biblio.bib",
   "cite_by": "apalike",
   "current_citInitial": 1,
   "eqLabelWithNumbers": true,
   "eqNumInitial": 1,
   "hotkeys": {
    "equation": "Ctrl-E",
    "itemize": "Ctrl-I"
   },
   "labels_anchors": false,
   "latex_user_defs": false,
   "report_style_numbering": false,
   "user_envs_cfg": false
  },
  "toc": {
   "base_numbering": 1,
   "nav_menu": {
    "height": "160px",
    "width": "252px"
   },
   "number_sections": true,
   "sideBar": true,
   "skip_h1_title": false,
   "title_cell": "Table of Contents",
   "title_sidebar": "Contents",
   "toc_cell": false,
   "toc_position": {
    "height": "461px",
    "left": "0px",
    "right": "927.667px",
    "top": "107px",
    "width": "139px"
   },
   "toc_section_display": "block",
   "toc_window_display": false
  }
 },
 "nbformat": 4,
 "nbformat_minor": 2
}
