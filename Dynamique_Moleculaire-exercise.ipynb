{
 "cells": [
  {
   "cell_type": "code",
   "execution_count": 1,
   "metadata": {},
   "outputs": [],
   "source": [
    "%matplotlib inline\n",
    "import matplotlib.pyplot as plt"
   ]
  },
  {
   "cell_type": "code",
   "execution_count": 2,
   "metadata": {},
   "outputs": [],
   "source": [
    "import numpy as np\n",
    "import scipy as sc\n",
    "import numpy.linalg as npl\n",
    "from numpy.linalg import norm\n",
    "import scipy.linalg as scl\n",
    "from scipy.spatial.distance import pdist,squareform\n",
    "import ase\n",
    "from tqdm import tqdm_notebook as tqdm_cs"
   ]
  },
  {
   "cell_type": "code",
   "execution_count": 3,
   "metadata": {},
   "outputs": [],
   "source": [
    "from tools import manipulation_hist,manipulation_LJ_force,manipulation_Harmonique_force,manipulation_LJ,get_numerical_force,manipulation_Harmonique\n",
    "from tools import visualiser_trajectoire,faire_une_chaine_circulaire,faire_une_chaine_lineaire"
   ]
  },
  {
   "cell_type": "markdown",
   "metadata": {
    "heading_collapsed": true
   },
   "source": [
    "# Developper les fonctions pour modeliser une chaine de polymere"
   ]
  },
  {
   "cell_type": "markdown",
   "metadata": {
    "hidden": true
   },
   "source": [
    "<img src=\"figures/r2_r1-01.png\" width=\"250\" height=\"250\" />"
   ]
  },
  {
   "cell_type": "markdown",
   "metadata": {
    "hidden": true
   },
   "source": [
    "## Potentiel harmonique\n",
    "\n",
    "Le potentiel harmonique est donné par:\n",
    "\n",
    "$V_{har}\\,\\left(d\\right) = k \\,\\left(d-r_m\\right)^2,$\n",
    "\n",
    "où $d$ est la longueur du ressort, $r_m$ est la longueur du ressort au repos et $k$ est la constante de raideur du ressort.\n",
    "Si les extrémités du ressort sont données par les vecteurs $\\vec{r_1} = \\left(x_1,\\, y_1,\\,  z_1\\right)$ et $\\vec{r_2} = \\left(x_2,\\, y_2,\\,  z_2\\right)$ respectivement, alors $d=\\sqrt{(x_1-x_2)^2+(y_1-y_2)^2+(z_1-z_2)^2}$.\n"
   ]
  },
  {
   "cell_type": "code",
   "execution_count": 9,
   "metadata": {
    "collapsed": true,
    "hidden": true
   },
   "outputs": [],
   "source": [
    "def Potentiel_Harmonique(d,r_m,k):\n",
    "    ### Retourne la valeur du potentiel harmonique\n",
    "    return k*( d - r_m)**2"
   ]
  },
  {
   "cell_type": "code",
   "execution_count": 10,
   "metadata": {
    "hidden": true,
    "scrolled": true
   },
   "outputs": [
    {
     "data": {
      "application/vnd.jupyter.widget-view+json": {
       "model_id": "ec586018e46b400cbb50c2a4f678ebd4",
       "version_major": 2,
       "version_minor": 0
      },
      "text/html": [
       "<p>Failed to display Jupyter Widget of type <code>interactive</code>.</p>\n",
       "<p>\n",
       "  If you're reading this message in the Jupyter Notebook or JupyterLab Notebook, it may mean\n",
       "  that the widgets JavaScript is still loading. If this message persists, it\n",
       "  likely means that the widgets JavaScript library is either not installed or\n",
       "  not enabled. See the <a href=\"https://ipywidgets.readthedocs.io/en/stable/user_install.html\">Jupyter\n",
       "  Widgets Documentation</a> for setup instructions.\n",
       "</p>\n",
       "<p>\n",
       "  If you're reading this message in another frontend (for example, a static\n",
       "  rendering on GitHub or <a href=\"https://nbviewer.jupyter.org/\">NBViewer</a>),\n",
       "  it may mean that your frontend doesn't currently support widgets.\n",
       "</p>\n"
      ],
      "text/plain": [
       "interactive(children=(FloatSlider(value=2.0, description='\\\\(r_m\\\\)', max=5.0, min=0.5, step=0.2), FloatSlider(value=2.0, description='\\\\(k\\\\)', max=5.0, min=0.5, step=0.2), Output()), _dom_classes=('widget-interact',))"
      ]
     },
     "metadata": {},
     "output_type": "display_data"
    }
   ],
   "source": [
    "### Change les parametres pour se familiariser avec la fonction\n",
    "manipulation_Harmonique(Potentiel_Harmonique)"
   ]
  },
  {
   "cell_type": "markdown",
   "metadata": {
    "hidden": true
   },
   "source": [
    "## Force d'un ressort\n",
    "\n",
    "En 1D, la force ressentie à l'extrémité d'un ressort est:\n",
    "\n",
    "${F}_{Har}\\left(x\\right) = - \\frac{dV_{Har}(x)}{dx} = - 2x k \\, (x - r_m).$\n",
    "\n",
    "\n",
    "De la même manière, la force ressentie à l'extrémité d'un ressort en trois dimension est:\n",
    "\n",
    "$\\vec{F}_{Har}\\left(\\vec{r}_{12}\\right)  = \\frac{\\vec{r}_{12} }{d} \\,F_{Har}\\left(d\\right) =  - 2 k \\, (d - r_m)  \\frac{\\vec{r}_{12} }{d},$\n",
    "\n",
    " sur la particule 2, situé en $\\vec{r}_{2}=(x_2,y_2,z_2)$,\n",
    "\n",
    "où $\\vec{r}_{12}=\\vec{r}_{1}-\\vec{r}_{2}=(x_1-x_2,y_1-y_2,z_1-z_2)$ est le vecteur qui va d'une extrémité du ressort, situé en $\\vec{r}_{1}=(x_1,y_1,z_1)$, à l'autre, situé en $\\vec{r}_{2}=(x_2,y_2,z_2)$, et $d=\\sqrt{(x_1-x_2)^2+(y_1-y_2)^2+(z_1-z_2)^2}$ est la longueur du vecteur $\\vec{r}_{12}$.\n",
    "Donc la norme de la force harmonique est donnée par:\n",
    "\n",
    "$F_{Har}\\left(d\\right) =  - 2 k \\, (d - r_m)$"
   ]
  },
  {
   "cell_type": "code",
   "execution_count": 11,
   "metadata": {
    "collapsed": true,
    "hidden": true
   },
   "outputs": [],
   "source": [
    "def Force_Harmonique(d,r_m,k):\n",
    "    ### Retourne la norme de la force harmonique\n",
    "    return  - 2*k * (d - r_m)"
   ]
  },
  {
   "cell_type": "code",
   "execution_count": 12,
   "metadata": {
    "hidden": true
   },
   "outputs": [
    {
     "data": {
      "application/vnd.jupyter.widget-view+json": {
       "model_id": "652fef3a13174f658308dcb6a28d8478",
       "version_major": 2,
       "version_minor": 0
      },
      "text/html": [
       "<p>Failed to display Jupyter Widget of type <code>interactive</code>.</p>\n",
       "<p>\n",
       "  If you're reading this message in the Jupyter Notebook or JupyterLab Notebook, it may mean\n",
       "  that the widgets JavaScript is still loading. If this message persists, it\n",
       "  likely means that the widgets JavaScript library is either not installed or\n",
       "  not enabled. See the <a href=\"https://ipywidgets.readthedocs.io/en/stable/user_install.html\">Jupyter\n",
       "  Widgets Documentation</a> for setup instructions.\n",
       "</p>\n",
       "<p>\n",
       "  If you're reading this message in another frontend (for example, a static\n",
       "  rendering on GitHub or <a href=\"https://nbviewer.jupyter.org/\">NBViewer</a>),\n",
       "  it may mean that your frontend doesn't currently support widgets.\n",
       "</p>\n"
      ],
      "text/plain": [
       "interactive(children=(FloatSlider(value=2.0, description='\\\\(d\\\\)', max=3.5, min=0.5), Output()), _dom_classes=('widget-interact',))"
      ]
     },
     "metadata": {},
     "output_type": "display_data"
    }
   ],
   "source": [
    "### Change la position d'une particule par rapport a l'autre et observe comment la force applique sur cette particule change\n",
    "manipulation_Harmonique_force(Potentiel_Harmonique,Force_Harmonique)"
   ]
  },
  {
   "cell_type": "markdown",
   "metadata": {
    "hidden": true
   },
   "source": [
    "## Potentiel de Lennard Jones\n",
    "\n",
    "Le potentiel de Lennard Jones exercé par la particule 1 sur la particule 2 est:\n",
    "\n",
    "$V_{LJ}\\left(d\\right)= \\epsilon \\left[\\left(\\frac{r_m}{d}\\right)^{12}-2\\left(\\frac{r_m}{d}\\right)^{6}\\right],$\n",
    "\n",
    "où $\\vec{r}_{12}=\\vec{r}_{1}-\\vec{r}_{2}=(x_1-x_2,y_1-y_2,z_1-z_2)$ est le vecteur qui va de la particule 1, situé en $\\vec{r}_{1}=(x_1,y_1,z_1)$, sur la particule 2, situé en $\\vec{r}_{2}=(x_2,y_2,z_2)$, et $d=\\sqrt{(x_1-x_2)^2+(y_1-y_2)^2+(z_1-z_2)^2}$ est la longueur du vecteur $\\vec{r}_{12}$.\n"
   ]
  },
  {
   "cell_type": "code",
   "execution_count": 13,
   "metadata": {
    "collapsed": true,
    "hidden": true
   },
   "outputs": [],
   "source": [
    "def Potentiel_LennardJones(d,r_m,epsilon):\n",
    "    ### Retourne la valeur du potentiel de Lennard Jones \n",
    "    return epsilon*( (r_m/d)**12 - 2*(r_m/d)**6)"
   ]
  },
  {
   "cell_type": "code",
   "execution_count": 14,
   "metadata": {
    "hidden": true
   },
   "outputs": [
    {
     "data": {
      "application/vnd.jupyter.widget-view+json": {
       "model_id": "dccd89caf5c0475692120752c671d75b",
       "version_major": 2,
       "version_minor": 0
      },
      "text/html": [
       "<p>Failed to display Jupyter Widget of type <code>interactive</code>.</p>\n",
       "<p>\n",
       "  If you're reading this message in the Jupyter Notebook or JupyterLab Notebook, it may mean\n",
       "  that the widgets JavaScript is still loading. If this message persists, it\n",
       "  likely means that the widgets JavaScript library is either not installed or\n",
       "  not enabled. See the <a href=\"https://ipywidgets.readthedocs.io/en/stable/user_install.html\">Jupyter\n",
       "  Widgets Documentation</a> for setup instructions.\n",
       "</p>\n",
       "<p>\n",
       "  If you're reading this message in another frontend (for example, a static\n",
       "  rendering on GitHub or <a href=\"https://nbviewer.jupyter.org/\">NBViewer</a>),\n",
       "  it may mean that your frontend doesn't currently support widgets.\n",
       "</p>\n"
      ],
      "text/plain": [
       "interactive(children=(FloatSlider(value=2.0, description='\\\\(r_m\\\\)', max=5.0, min=0.1, step=0.2), FloatSlider(value=2.0, description='\\\\(\\\\epsilon\\\\)', max=2.0, min=0.1, step=0.2), Output()), _dom_classes=('widget-interact',))"
      ]
     },
     "metadata": {},
     "output_type": "display_data"
    }
   ],
   "source": [
    "### Change les parametres pour se familiariser avec la fonction\n",
    "manipulation_LJ(Potentiel_LennardJones)"
   ]
  },
  {
   "cell_type": "markdown",
   "metadata": {
    "hidden": true
   },
   "source": [
    "## Force de Lennard Jones\n",
    "\n",
    "La force de Lennard Jones exercée par une particule 1 sur une particule 2 en trois dimension est:\n",
    "\n",
    "$\\vec{F}_{LJ}\\left(\\vec{r}_{12}\\right)  = \\frac{\\vec{r}_{12} }{d} \\,F_{LJ}\\left(d\\right) = \\frac{\\vec{r}_{12} }{d}  \\frac{12 \\epsilon}{d} \\left[\\left(\\frac{r_m}{d}\\right)^{12}-\\left(\\frac{r_m}{d}\\right)^{6}  \\right],$\n",
    "\n",
    "où $\\vec{r}_{12}=\\vec{r}_{1}-\\vec{r}_{2}=(x_1-x_2,y_1-y_2,z_1-z_2)$ est le vecteur qui va de la particule 1, situé en $\\vec{r}_{1}=(x_1,y_1,z_1)$, sur la particule 2, situé en $\\vec{r}_{2}=(x_2,y_2,z_2)$, et $d=\\sqrt{(x_1-x_2)^2+(y_1-y_2)^2+(z_1-z_2)^2}$ est la longueur du vecteur $\\vec{r}_{12}$.\n",
    "Donc la norme de la force de Lennard Jones est donnée par:\n",
    "\n",
    "$F_{LJ}\\left(d\\right) = \\frac{\\vec{r}_{12} }{d}  \\frac{12 \\epsilon}{d} \\left[\\left(\\frac{r_m}{d}\\right)^{12}-\\left(\\frac{r_m}{d}\\right)^{6}  \\right]$"
   ]
  },
  {
   "cell_type": "code",
   "execution_count": 15,
   "metadata": {
    "collapsed": true,
    "hidden": true
   },
   "outputs": [],
   "source": [
    "def Force_LennardJones(d,r_m,epsilon):\n",
    "    ### Retourne la norme de la force de Lennard Jones\n",
    "    return  12  * epsilon * ( (r_m/d)**12 - (r_m/d)**6 ) / d"
   ]
  },
  {
   "cell_type": "code",
   "execution_count": 16,
   "metadata": {
    "hidden": true
   },
   "outputs": [
    {
     "data": {
      "application/vnd.jupyter.widget-view+json": {
       "model_id": "43fdc500e4384e23a489eef9b7af0a02",
       "version_major": 2,
       "version_minor": 0
      },
      "text/html": [
       "<p>Failed to display Jupyter Widget of type <code>interactive</code>.</p>\n",
       "<p>\n",
       "  If you're reading this message in the Jupyter Notebook or JupyterLab Notebook, it may mean\n",
       "  that the widgets JavaScript is still loading. If this message persists, it\n",
       "  likely means that the widgets JavaScript library is either not installed or\n",
       "  not enabled. See the <a href=\"https://ipywidgets.readthedocs.io/en/stable/user_install.html\">Jupyter\n",
       "  Widgets Documentation</a> for setup instructions.\n",
       "</p>\n",
       "<p>\n",
       "  If you're reading this message in another frontend (for example, a static\n",
       "  rendering on GitHub or <a href=\"https://nbviewer.jupyter.org/\">NBViewer</a>),\n",
       "  it may mean that your frontend doesn't currently support widgets.\n",
       "</p>\n"
      ],
      "text/plain": [
       "interactive(children=(FloatSlider(value=1.0, description='\\\\(d\\\\)', max=4.0, min=0.7), Output()), _dom_classes=('widget-interact',))"
      ]
     },
     "metadata": {},
     "output_type": "display_data"
    }
   ],
   "source": [
    "### Change la position d'une particule par rapport a l'autre et observe comment la force applique sur cette particule change\n",
    "manipulation_LJ_force(Potentiel_LennardJones,Force_LennardJones)"
   ]
  },
  {
   "cell_type": "markdown",
   "metadata": {},
   "source": [
    "# Calculer les forces entre les particules"
   ]
  },
  {
   "cell_type": "markdown",
   "metadata": {},
   "source": [
    "Le polymère est représenté par une chaine de $N$ particules. \n",
    "+ La chaine est modélisée par l'interaction harmonique entre les particules en suivant leur numérotation: la particule $i$ interagit avec la particule $i+1$ et $i-1$ et les deux extrémités sont libre. \n",
    "+ L'interaction entre toutes les particules est approximée par la force de Lennard Jones. La force appliquée sur la particule $i$ est donc:\n",
    "\n",
    "$\\vec{F}_{i} = \\sum_{j}^{N} \\left(\\vec{F}_{LJ}^{\\,ij} + \\vec{F}_{Harm}^{\\,ij} \\right),$\n",
    "\n",
    "$\\vec{F}_{i} =  \\sum_{j,j\\neq i}^{N} \\frac{\\vec{r}^{\\,ij}}{d^{\\,ij}} \\,F_{LJ}\\left(d^{\\,ij}\\right)  + \\left[ \\frac{\\vec{r}^{\\,i-1,i}}{d^{\\,i-1,i}} \\,F_{Harm}\\left(d^{\\,i-1,i}\\right) + \\frac{\\vec{r}^{\\,i,i+1}}{d^{\\,i,i+1}} \\,F_{Harm}\\left(d^{\\,i,i+1}\\right) \\right],$\n",
    "\n",
    "où le vecteur $\\vec{r}^{\\,ij} = \\left(x^{i}-x^{j},\\,y^{i}-y^{j},\\,  z^{i}-z^{j}\\right)  $ est le vecteur qui va de la particule $i$ à la particule $j$ et $d^{\\,ij}=\\sqrt{(x_i-x_j)^2+(y_i-y_j)^2+(z_i-z_j)^2}$ est la longueur du vecteur $\\vec{r}^{\\,ij}$.\n"
   ]
  },
  {
   "cell_type": "markdown",
   "metadata": {},
   "source": [
    "## Calculer les forces de Lennard Jones entre chaque particules\n",
    "\n",
    "\n",
    "$\\vec{F}_{i}^{LJ} =  \\sum_{j,j\\neq i}^{N} \\frac{\\vec{r}^{\\,ij}}{d^{\\,ij}} \\,F_{LJ}\\left(d^{\\,ij}\\right)$\n",
    "\n",
    "\n",
    "<img src=\"figures/poly_chain-01.png\" width=\"500\" height=\"250\" />\n",
    "\n",
    "**Algorithme**:\n",
    "\n",
    "$E_{LJ} = 0$ et $\\vec{F}_{i}^{LJ}=0$ pour i=0,1,...,Nparticule-1\n",
    "\n",
    "pour i de 0 a Nparticule-1:\n",
    "\n",
    "    pour j de 0 a Nparticule-1:\n",
    "    \n",
    "        si j est different de i:\n",
    "            \n",
    "            Ajouter à la force et à l'energie la contribution de ij\n",
    "+ $\\vec{F}_{i}^{LJ} \\mathrel{+}= \\frac{\\vec{r}^{\\,ij}}{d^{\\,ij}} \\,F_{LJ}\\left(d^{\\,ij}\\right)$\n",
    "+ $E_{LJ} \\mathrel{+}= 0.5 V_{LJ}\\left(d^{\\,ij}\\right)$\n",
    "        "
   ]
  },
  {
   "cell_type": "code",
   "execution_count": 27,
   "metadata": {
    "code_folding": [],
    "collapsed": true
   },
   "outputs": [],
   "source": [
    "def calculer_forces_LJ(positions,r_m,epsilon):\n",
    "    # Nombre de particules dans le système\n",
    "    Nparticule,_ = positions.shape\n",
    "    # liste des forces appliquees a chaque particule\n",
    "    forces = np.zeros((Nparticule,3))\n",
    "    energy = 0\n",
    "    \n",
    "    ### Calcule la somme des forces de LJ appliquées par toutes les particules j sur chaque particule i\n",
    "    for ipart in range(Nparticule):\n",
    "        for jpart in range(Nparticule):\n",
    "            if jpart != ipart:\n",
    "                r = positions[ipart]-positions[jpart]\n",
    "                d = np.linalg.norm(r)\n",
    "                forces[ipart] += (r/d)*Force_LennardJones(d,r_m,epsilon)\n",
    "                energy += Potentiel_LennardJones(d,r_m,epsilon)\n",
    "    energy *= 0.5\n",
    "    return forces,energy"
   ]
  },
  {
   "cell_type": "code",
   "execution_count": 28,
   "metadata": {
    "collapsed": true
   },
   "outputs": [],
   "source": [
    "r_m,epsilon = 0.2,1\n",
    "positions = np.random.rand(4,3)"
   ]
  },
  {
   "cell_type": "code",
   "execution_count": 29,
   "metadata": {},
   "outputs": [
    {
     "data": {
      "text/plain": [
       "(array([[  3.59906316e+01,   2.88286205e+01,  -2.47360494e+00],\n",
       "        [ -3.59965321e+01,  -2.88658570e+01,   2.44581253e+00],\n",
       "        [ -1.49463771e-02,   1.35299051e-03,   1.01099474e-02],\n",
       "        [  2.08469313e-02,   3.58834731e-02,   1.76824687e-02]]),\n",
       " -0.77117309122421551)"
      ]
     },
     "execution_count": 29,
     "metadata": {},
     "output_type": "execute_result"
    }
   ],
   "source": [
    "calculer_forces_LJ(positions,r_m,epsilon)"
   ]
  },
  {
   "cell_type": "markdown",
   "metadata": {},
   "source": [
    "## Calculer les forces des ressorts entre chaque particules de la chaine\n",
    "\n",
    "$\\vec{F}_{i}^{Harm} =  \\frac{\\vec{r}^{\\,i-1,i}}{d^{\\,i-1,i}}\\,F_{Harm}\\left(d^{\\,i-1,i}\\right) + \\frac{\\vec{r}^{\\,i,i+1}}{d^{\\,i,i+1}} \\,F_{Harm}\\left(d^{\\,i,i+1}\\right) $\n",
    "\n",
    "<img src=\"figures/spring_chain.png\" width=\"500\" height=\"250\" />\n",
    "\n",
    "\n",
    "**Algorithme**:\n",
    "\n",
    "\n",
    "$E_{Harm} = 0$ et $\\vec{F}_{i}^{Harm} = 0 $ pour i=0,1,...,Nparticule-1\n",
    "\n",
    "pour i de 0 a Nresort:\n",
    "+ $\\vec{F}_{i}^{Harm} =  \\vec{\\hat{r}}^{\\,i,i+1} \\,F_{Harm}\\left(d^{\\,i,i+1}\\right)$\n",
    "+ $\\vec{F}_{i+1}^{Harm} =  - \\vec{\\hat{r}}^{\\,i,i+1} \\,F_{Harm}\\left(d^{\\,i,i+1}\\right)$\n",
    "+ $E_{Harm} \\mathrel{+}= V_{Harm}\\left(d^{\\,i,i+1}\\right)$"
   ]
  },
  {
   "cell_type": "code",
   "execution_count": 30,
   "metadata": {
    "collapsed": true
   },
   "outputs": [],
   "source": [
    "def calculer_forces_harmoniques(positions,r_m,k_spring):\n",
    "    Nparticule,_ = positions.shape\n",
    "    Nresort = Nparticule-1\n",
    "    # liste des forces appliquees a chaque particule\n",
    "    forces = np.zeros((Nparticule,3))\n",
    "    energy = 0\n",
    "    # TODO\n",
    "    for iresort in range(Nresort):\n",
    "        r = positions[iresort]-positions[iresort+1]\n",
    "        d = np.linalg.norm(r)\n",
    "        f =  Force_Harmonique(d,r_m,k_spring) * (r/d)\n",
    "        forces[iresort] += f\n",
    "        forces[iresort+1] -= f\n",
    "        energy += Potentiel_Harmonique(d,r_m,k_spring)\n",
    "    \n",
    "    return forces,energy"
   ]
  },
  {
   "cell_type": "code",
   "execution_count": 31,
   "metadata": {
    "collapsed": true
   },
   "outputs": [],
   "source": [
    "r_m,k_spring = 0.2,1\n",
    "positions = np.random.rand(4,3)"
   ]
  },
  {
   "cell_type": "code",
   "execution_count": 32,
   "metadata": {},
   "outputs": [
    {
     "data": {
      "text/plain": [
       "(array([[ 0.03471391,  0.28266173, -0.04439849],\n",
       "        [-0.09839922, -1.30772964,  1.09185323],\n",
       "        [ 0.0323916 ,  1.6752586 , -1.64955474],\n",
       "        [ 0.03129371, -0.65019068,  0.60210001]]), 0.75532676189598225)"
      ]
     },
     "execution_count": 32,
     "metadata": {},
     "output_type": "execute_result"
    }
   ],
   "source": [
    "calculer_forces_harmoniques(positions,r_m,k_spring)"
   ]
  },
  {
   "cell_type": "markdown",
   "metadata": {},
   "source": [
    "## Thermostat de Andersen\n",
    "\n",
    "Pour modeliser l'effet du monde exterieur sur la chaine de polymère, les composantes des vitesses sont aleatoirement remplacées par des valeurs tirées d'une distribution gaussienne centrée en zéro. Cela peux correspondre a l'effet de collisions successives et aleatoires entre les particules simulee et d'autres 'particules' de l'environement qui ne sont pas explicitement inclues dans la simulation"
   ]
  },
  {
   "cell_type": "code",
   "execution_count": 33,
   "metadata": {},
   "outputs": [
    {
     "data": {
      "application/vnd.jupyter.widget-view+json": {
       "model_id": "9c19ab5d0313460fa6e96ff378465b1a",
       "version_major": 2,
       "version_minor": 0
      },
      "text/html": [
       "<p>Failed to display Jupyter Widget of type <code>interactive</code>.</p>\n",
       "<p>\n",
       "  If you're reading this message in the Jupyter Notebook or JupyterLab Notebook, it may mean\n",
       "  that the widgets JavaScript is still loading. If this message persists, it\n",
       "  likely means that the widgets JavaScript library is either not installed or\n",
       "  not enabled. See the <a href=\"https://ipywidgets.readthedocs.io/en/stable/user_install.html\">Jupyter\n",
       "  Widgets Documentation</a> for setup instructions.\n",
       "</p>\n",
       "<p>\n",
       "  If you're reading this message in another frontend (for example, a static\n",
       "  rendering on GitHub or <a href=\"https://nbviewer.jupyter.org/\">NBViewer</a>),\n",
       "  it may mean that your frontend doesn't currently support widgets.\n",
       "</p>\n"
      ],
      "text/plain": [
       "interactive(children=(FloatSlider(value=1.0, description='\\\\(T\\\\)', max=7.0, min=0.1, step=0.3), Output()), _dom_classes=('widget-interact',))"
      ]
     },
     "metadata": {},
     "output_type": "display_data"
    }
   ],
   "source": [
    "### Change la temperature et observe comment les valeurs possible des nouvelles vitesses changent\n",
    "manipulation_hist()"
   ]
  },
  {
   "cell_type": "code",
   "execution_count": 4,
   "metadata": {
    "collapsed": true
   },
   "outputs": [],
   "source": [
    "def andersen_thermostat(velocities,temperature,freq,dt):\n",
    "    if temperature > 0:\n",
    "        vshape = velocities.shape\n",
    "        mask = np.random.rand(velocities.size) < 1 - np.exp(-freq*dt)\n",
    "        Nupdate = np.sum(mask)\n",
    "        velocities = velocities.flatten()\n",
    "        velocities[mask] = np.sqrt(temperature)*np.random.normal(loc=0.0, scale=1,size=(Nupdate,))\n",
    "        velocities = velocities.reshape(vshape)\n",
    "    return velocities"
   ]
  },
  {
   "cell_type": "markdown",
   "metadata": {},
   "source": [
    "## Simulateur\n",
    "\n",
    "Faire evoluer le systeme de N particules de sont etat initial $\\left(\\vec{r}(t_{init}),\\vec{v}(t_{init},\\vec{a}(t_{init})\\right)$ un etat final $\\left(\\vec{r}(t_{final}),\\vec{v}(t_{final}),\\vec{a}(t_{final})\\right)$ en passant par $N_{etape}$ intermédiaire.\n",
    "\n",
    "**Procédure**:\n",
    "+ Initialiser les positions, les vitesses et les accelerations\n",
    "+ Integrer $N_{étape}$ fois les equations du mouvement avec l'integrateur de Verlet en enregistrant les positions et vitesses a chaque étape\n",
    "\n",
    "**Intégration de Verlet**\n",
    "\n",
    "A un instant $t$, on connait les postions, vitesses et accelerations des particules $\\vec{x}_{t}$, $\\vec{v}_{t}$, $\\vec{a}_{t}$ et on veut faire avancer le system d'un interval $\\Delta t$ dans le temps en calculant $\\vec{x}_{t+\\Delta t}$, $\\vec{v}_{t+\\Delta t}$, $\\vec{a}_{t+\\Delta t}$.\n",
    "\n",
    "**Algorithme**:\n",
    "\n",
    "+ applique le thermostat \n",
    "\n",
    "+ $\\vec{v}_{t+\\Delta t/2}= \\vec{v}_{t} + 0.5\\,\\Delta t\\,\\vec{a}_{t}$\n",
    "\n",
    "+ $\\vec{x}_{t+\\Delta t} = \\vec{x}_{t}+\\Delta t\\,\\vec{v}_{t+\\Delta t/2}$\n",
    "\n",
    "+ $\\vec{a}_{t+\\Delta t} = \\frac{\\vec{F}_{t+\\Delta t}}{m} = \\left[\\vec{F}_{LJ}\\left(\\vec{x}_{t+\\Delta t}\\right)+\\vec{F}_{Har}\\left(\\vec{x}_{t+\\Delta t}\\right)\\right]\\,/\\,m$ \n",
    "\n",
    "+ $\\vec{v}_{t+\\Delta t} = \\vec{v}_{t+\\Delta t/2}+0.5\\,\\Delta t\\, \\vec{a}_{t+\\Delta t} $"
   ]
  },
  {
   "cell_type": "markdown",
   "metadata": {},
   "source": [
    "\\begin{equation}\n",
    "\\begin{split}\n",
    "\\vec{v}_{t+\\Delta t/2}=& \\vec{v}_{t} + 0.5\\,\\Delta t\\,\\vec{a}_{t} \\\\\n",
    "\\vec{x}_{t+\\Delta t} = &\\vec{x}_{t}+\\Delta t\\,\\vec{v}_{t+\\Delta t/2}\\\\\n",
    "\\vec{a}_{t+\\Delta t} =& \\frac{\\vec{F}_{t+\\Delta t}}{m} \\\\\n",
    "\\vec{v}_{t+\\Delta t} =& \\vec{v}_{t+\\Delta t/2}+0.5\\,\\Delta t\\, \\vec{a}_{t+\\Delta t} \\\\\n",
    "\\end{split}\n",
    "\\end{equation}"
   ]
  },
  {
   "cell_type": "code",
   "execution_count": 35,
   "metadata": {
    "collapsed": true
   },
   "outputs": [],
   "source": [
    "def calculer_les_forces(positions,r_m,epsilon,k_spring):\n",
    "    F_harm,E_harm = calculer_forces_harmoniques(positions,r_m,k_spring)\n",
    "    F_LJ,E_LJ = calculer_forces_LJ(positions,r_m,epsilon)\n",
    "    return F_harm+F_LJ,E_harm+E_LJ"
   ]
  },
  {
   "cell_type": "code",
   "execution_count": 36,
   "metadata": {
    "code_folding": [],
    "collapsed": true
   },
   "outputs": [],
   "source": [
    "def simulateur_NVT(positions,vitesses,masse,temperature,r_m,epsilon,k_spring,Nstep,dt):\n",
    "    \n",
    "    Nparticules, _ = positions.shape\n",
    "    accelerations = np.zeros(positions.shape)\n",
    "    forces = np.zeros(positions.shape)\n",
    "    pos = []\n",
    "    vel = []\n",
    "    diagnostic = dict(E_variation=np.zeros((Nstep,)),Temperature=np.zeros((Nstep,)),\n",
    "                      E_system=np.zeros((Nstep,)),E_potentiel=np.zeros((Nstep,)),\n",
    "                     E_cinetique=np.zeros((Nstep,)),temps=np.zeros((Nstep,)))\n",
    "    \n",
    "    frequence_du_thermostat = np.sqrt(2)*np.sqrt(2*k_spring)\n",
    "    \n",
    "    E_thermostat = 0\n",
    "    E_system = 0\n",
    "    E_variation = 0.0\n",
    "    \n",
    "    # Calcule les energies potentielles, cinetique, du system et la variation du de l'energie du system\n",
    "    forces,E_potentiel = calculer_les_forces(positions,r_m,epsilon,k_spring)\n",
    "    E_cinetique = 0.5*masse*np.power(vitesses,2).sum()\n",
    "    E_system += E_potentiel + E_cinetique\n",
    "    E_variation += E_system \n",
    "    \n",
    "    for it in tqdm_cs(range(Nstep)):\n",
    "        \n",
    "        # applique le thermostat a tous les thermostat_Nstep\n",
    "        E_thermostat -= 0.5*masse*np.power(vitesses,2).sum()\n",
    "        vitesses = andersen_thermostat(vitesses,temperature,frequence_du_thermostat,dt)\n",
    "        E_thermostat += 0.5*masse*np.power(vitesses,2).sum()\n",
    "        \n",
    "        \n",
    "        ### Faire avancer d'un pas le system: implementer l'algorithme de l'integrateur de Verlet\n",
    "        # avance d'un demi pas pour les vitesses\n",
    "        vitesses = vitesses + 0.5 * dt * accelerations\n",
    "        # avance d'un pas complet pour les positions\n",
    "        positions = positions + dt * vitesses\n",
    "        # Calcule les forces\n",
    "        forces,E_potentiel = calculer_les_forces(positions,r_m,epsilon,k_spring)\n",
    "        # F = ma\n",
    "        accelerations = forces / masse\n",
    "        # avance d'un demi pas les vitesses\n",
    "        vitesses = vitesses + 0.5 * dt * accelerations\n",
    "        \n",
    "        # Calcule l'energie cinetique, \n",
    "        E_cinetique = 0.5*masse*np.power(vitesses,2).sum()\n",
    "        E_variation +=  E_potentiel + E_cinetique - E_thermostat - E_system\n",
    "        E_system =  E_potentiel + E_cinetique\n",
    "        \n",
    "        # Enregistre les positions, les vitesses et different diagnostics\n",
    "        pos.append(positions)\n",
    "        vel.append(vitesses)\n",
    "        diagnostic['E_variation'][it] = E_variation\n",
    "        diagnostic['E_potentiel'][it] = E_potentiel\n",
    "        diagnostic['E_system'][it] = E_system\n",
    "        diagnostic['E_cinetique'][it] = E_cinetique\n",
    "        diagnostic['Temperature'][it] = E_cinetique/1.5/Nparticules\n",
    "        diagnostic['temps'][it] = it * dt\n",
    "        E_thermostat = 0\n",
    "        \n",
    "    return pos,vel,diagnostic"
   ]
  },
  {
   "cell_type": "markdown",
   "metadata": {},
   "source": [
    "## Construire une system initial et le visualiser"
   ]
  },
  {
   "cell_type": "code",
   "execution_count": 37,
   "metadata": {
    "code_folding": []
   },
   "outputs": [
    {
     "data": {
      "application/vnd.jupyter.widget-view+json": {
       "model_id": "bf2d08ea14e0455e9de87d35a177d9ac",
       "version_major": 2,
       "version_minor": 0
      },
      "text/html": [
       "<p>Failed to display Jupyter Widget of type <code>NGLWidget</code>.</p>\n",
       "<p>\n",
       "  If you're reading this message in the Jupyter Notebook or JupyterLab Notebook, it may mean\n",
       "  that the widgets JavaScript is still loading. If this message persists, it\n",
       "  likely means that the widgets JavaScript library is either not installed or\n",
       "  not enabled. See the <a href=\"https://ipywidgets.readthedocs.io/en/stable/user_install.html\">Jupyter\n",
       "  Widgets Documentation</a> for setup instructions.\n",
       "</p>\n",
       "<p>\n",
       "  If you're reading this message in another frontend (for example, a static\n",
       "  rendering on GitHub or <a href=\"https://nbviewer.jupyter.org/\">NBViewer</a>),\n",
       "  it may mean that your frontend doesn't currently support widgets.\n",
       "</p>\n"
      ],
      "text/plain": [
       "NGLWidget()"
      ]
     },
     "metadata": {},
     "output_type": "display_data"
    }
   ],
   "source": [
    "view = visualiser_trajectoire([faire_une_chaine_circulaire(N=10,r_m=1.5)],1)\n",
    "view"
   ]
  },
  {
   "cell_type": "code",
   "execution_count": 38,
   "metadata": {},
   "outputs": [
    {
     "data": {
      "application/vnd.jupyter.widget-view+json": {
       "model_id": "832e7d2534b847158ab7c72f9be4406a",
       "version_major": 2,
       "version_minor": 0
      },
      "text/html": [
       "<p>Failed to display Jupyter Widget of type <code>NGLWidget</code>.</p>\n",
       "<p>\n",
       "  If you're reading this message in the Jupyter Notebook or JupyterLab Notebook, it may mean\n",
       "  that the widgets JavaScript is still loading. If this message persists, it\n",
       "  likely means that the widgets JavaScript library is either not installed or\n",
       "  not enabled. See the <a href=\"https://ipywidgets.readthedocs.io/en/stable/user_install.html\">Jupyter\n",
       "  Widgets Documentation</a> for setup instructions.\n",
       "</p>\n",
       "<p>\n",
       "  If you're reading this message in another frontend (for example, a static\n",
       "  rendering on GitHub or <a href=\"https://nbviewer.jupyter.org/\">NBViewer</a>),\n",
       "  it may mean that your frontend doesn't currently support widgets.\n",
       "</p>\n"
      ],
      "text/plain": [
       "NGLWidget()"
      ]
     },
     "metadata": {},
     "output_type": "display_data"
    }
   ],
   "source": [
    "view = visualiser_trajectoire([faire_une_chaine_lineaire(N=10,r_m=1)],1)\n",
    "view"
   ]
  },
  {
   "cell_type": "markdown",
   "metadata": {},
   "source": [
    "# Verifier l'implementation des forces et de l'integrateur"
   ]
  },
  {
   "cell_type": "markdown",
   "metadata": {
    "heading_collapsed": true
   },
   "source": [
    "## Test potentiel de Lennard Jones sans exitation thermique"
   ]
  },
  {
   "cell_type": "code",
   "execution_count": 39,
   "metadata": {
    "collapsed": true,
    "hidden": true
   },
   "outputs": [],
   "source": [
    "# Intensite de l'atractration de LJ\n",
    "epsilon = 10.\n",
    "# Distance d'equilibre pour le potentiel\n",
    "r_m = 1.\n",
    "# Masse des particules\n",
    "masse = 1.\n",
    "# Pas de temps entre chaque etapes d'integration\n",
    "dt = 0.001\n",
    "\n",
    "# Temperature du system\n",
    "T = 0\n",
    "# Rigidite du ressort\n",
    "k_spring = 0.\n",
    "# Genere les positions initiales\n",
    "positions_initiales = faire_une_chaine_lineaire(10,r_m)\n",
    "# Genere les vitesses initiales\n",
    "vitesses_initiales = np.zeros(positions_initiales.shape)\n",
    "vitesses_initiales[:,0] = 2 * np.ones(vitesses_initiales.shape[0]) * np.array(([-1,1]*int(vitesses_initiales.shape[0]/2)))"
   ]
  },
  {
   "cell_type": "code",
   "execution_count": 40,
   "metadata": {
    "hidden": true
   },
   "outputs": [
    {
     "data": {
      "application/vnd.jupyter.widget-view+json": {
       "model_id": "49adc1c6c9e24270bbce07af37213ec6",
       "version_major": 2,
       "version_minor": 0
      },
      "text/html": [
       "<p>Failed to display Jupyter Widget of type <code>HBox</code>.</p>\n",
       "<p>\n",
       "  If you're reading this message in the Jupyter Notebook or JupyterLab Notebook, it may mean\n",
       "  that the widgets JavaScript is still loading. If this message persists, it\n",
       "  likely means that the widgets JavaScript library is either not installed or\n",
       "  not enabled. See the <a href=\"https://ipywidgets.readthedocs.io/en/stable/user_install.html\">Jupyter\n",
       "  Widgets Documentation</a> for setup instructions.\n",
       "</p>\n",
       "<p>\n",
       "  If you're reading this message in another frontend (for example, a static\n",
       "  rendering on GitHub or <a href=\"https://nbviewer.jupyter.org/\">NBViewer</a>),\n",
       "  it may mean that your frontend doesn't currently support widgets.\n",
       "</p>\n"
      ],
      "text/plain": [
       "HBox(children=(IntProgress(value=0, max=5000), HTML(value='')))"
      ]
     },
     "metadata": {},
     "output_type": "display_data"
    },
    {
     "name": "stdout",
     "output_type": "stream",
     "text": [
      "\n"
     ]
    }
   ],
   "source": [
    "pos,vel,diagnostic = simulateur_NVT(positions_initiales,vitesses_initiales,masse=masse,r_m=r_m,epsilon=epsilon,\n",
    "                           k_spring=k_spring,temperature=T,\n",
    "                           Nstep=5000,dt=dt)"
   ]
  },
  {
   "cell_type": "markdown",
   "metadata": {
    "hidden": true
   },
   "source": [
    "L'énergie du système est-elle conservée ?"
   ]
  },
  {
   "cell_type": "code",
   "execution_count": 41,
   "metadata": {
    "hidden": true
   },
   "outputs": [
    {
     "data": {
      "text/plain": [
       "<matplotlib.legend.Legend at 0x7f2f3f7b4390>"
      ]
     },
     "execution_count": 41,
     "metadata": {},
     "output_type": "execute_result"
    },
    {
     "data": {
      "image/png": "[encoded data removed]",
      "text/plain": [
       "<matplotlib.figure.Figure at 0x7f2f3f7b4518>"
      ]
     },
     "metadata": {},
     "output_type": "display_data"
    }
   ],
   "source": [
    "plt.plot(diagnostic['E_system'],label='E_system',)\n",
    "plt.legend()"
   ]
  },
  {
   "cell_type": "code",
   "execution_count": 42,
   "metadata": {
    "hidden": true
   },
   "outputs": [
    {
     "data": {
      "application/vnd.jupyter.widget-view+json": {
       "model_id": "149d7b753f044c96984356245527dace",
       "version_major": 2,
       "version_minor": 0
      },
      "text/html": [
       "<p>Failed to display Jupyter Widget of type <code>NGLWidget</code>.</p>\n",
       "<p>\n",
       "  If you're reading this message in the Jupyter Notebook or JupyterLab Notebook, it may mean\n",
       "  that the widgets JavaScript is still loading. If this message persists, it\n",
       "  likely means that the widgets JavaScript library is either not installed or\n",
       "  not enabled. See the <a href=\"https://ipywidgets.readthedocs.io/en/stable/user_install.html\">Jupyter\n",
       "  Widgets Documentation</a> for setup instructions.\n",
       "</p>\n",
       "<p>\n",
       "  If you're reading this message in another frontend (for example, a static\n",
       "  rendering on GitHub or <a href=\"https://nbviewer.jupyter.org/\">NBViewer</a>),\n",
       "  it may mean that your frontend doesn't currently support widgets.\n",
       "</p>\n"
      ],
      "text/plain": [
       "NGLWidget(count=500)"
      ]
     },
     "metadata": {},
     "output_type": "display_data"
    }
   ],
   "source": [
    "visualiser_trajectoire(pos,10)"
   ]
  },
  {
   "cell_type": "markdown",
   "metadata": {
    "heading_collapsed": true
   },
   "source": [
    "## Test le potentiel de Harmonique sans exitation thermique"
   ]
  },
  {
   "cell_type": "code",
   "execution_count": 101,
   "metadata": {
    "collapsed": true,
    "hidden": true
   },
   "outputs": [],
   "source": [
    "# Rigidite du ressort\n",
    "k_spring = 1.\n",
    "# Distance d'equilibre pour le potentiel\n",
    "r_m = 1.\n",
    "# Masse des particules\n",
    "masse = 1.\n",
    "# Pas de temps entre chaque etapes d'integration\n",
    "dt = 0.001\n",
    "# Temperature du system\n",
    "T = 0\n",
    "# Intensite de l'atractration de LJ\n",
    "epsilon = 0.\n",
    "# Genere les positions initiales\n",
    "positions_initiales = faire_une_chaine_lineaire(10,r_m)\n",
    "# Genere les vitesses initiales\n",
    "vitesses_initiales = np.random.normal(loc=0.0, scale=np.sqrt(0.5),size=positions_initiales.shape)"
   ]
  },
  {
   "cell_type": "code",
   "execution_count": 102,
   "metadata": {
    "hidden": true,
    "scrolled": true
   },
   "outputs": [
    {
     "data": {
      "application/vnd.jupyter.widget-view+json": {
       "model_id": "2e921d72336440a0ac8b53b7592744eb",
       "version_major": 2,
       "version_minor": 0
      },
      "text/html": [
       "<p>Failed to display Jupyter Widget of type <code>HBox</code>.</p>\n",
       "<p>\n",
       "  If you're reading this message in the Jupyter Notebook or JupyterLab Notebook, it may mean\n",
       "  that the widgets JavaScript is still loading. If this message persists, it\n",
       "  likely means that the widgets JavaScript library is either not installed or\n",
       "  not enabled. See the <a href=\"https://ipywidgets.readthedocs.io/en/stable/user_install.html\">Jupyter\n",
       "  Widgets Documentation</a> for setup instructions.\n",
       "</p>\n",
       "<p>\n",
       "  If you're reading this message in another frontend (for example, a static\n",
       "  rendering on GitHub or <a href=\"https://nbviewer.jupyter.org/\">NBViewer</a>),\n",
       "  it may mean that your frontend doesn't currently support widgets.\n",
       "</p>\n"
      ],
      "text/plain": [
       "HBox(children=(IntProgress(value=0, max=5000), HTML(value='')))"
      ]
     },
     "metadata": {},
     "output_type": "display_data"
    },
    {
     "name": "stdout",
     "output_type": "stream",
     "text": [
      "\n"
     ]
    }
   ],
   "source": [
    "pos,vel,diagnostic = simulateur_NVT(positions_initiales,vitesses_initiales,masse=masse,r_m=r_m,epsilon=epsilon,\n",
    "                           k_spring=k_spring,temperature=T,\n",
    "                           Nstep=5000,dt=dt)"
   ]
  },
  {
   "cell_type": "markdown",
   "metadata": {
    "hidden": true
   },
   "source": [
    "L'énergie du système est-elle conservée ?"
   ]
  },
  {
   "cell_type": "code",
   "execution_count": 103,
   "metadata": {
    "collapsed": true,
    "hidden": true
   },
   "outputs": [
    {
     "data": {
      "text/plain": [
       "<matplotlib.legend.Legend at 0x7fdd6443ab00>"
      ]
     },
     "execution_count": 103,
     "metadata": {},
     "output_type": "execute_result"
    },
    {
     "data": {
      "image/png": "[encoded data removed]",
      "text/plain": [
       "<Figure size 432x288 with 1 Axes>"
      ]
     },
     "metadata": {},
     "output_type": "display_data"
    }
   ],
   "source": [
    "plt.plot(diagnostic['E_system'],label='E_system',)\n",
    "plt.legend()"
   ]
  },
  {
   "cell_type": "code",
   "execution_count": 104,
   "metadata": {
    "collapsed": true,
    "hidden": true
   },
   "outputs": [
    {
     "data": {
      "application/vnd.jupyter.widget-view+json": {
       "model_id": "56ca7d15462e453486832d63a8f2c03c",
       "version_major": 2,
       "version_minor": 0
      },
      "text/html": [
       "<p>Failed to display Jupyter Widget of type <code>NGLWidget</code>.</p>\n",
       "<p>\n",
       "  If you're reading this message in the Jupyter Notebook or JupyterLab Notebook, it may mean\n",
       "  that the widgets JavaScript is still loading. If this message persists, it\n",
       "  likely means that the widgets JavaScript library is either not installed or\n",
       "  not enabled. See the <a href=\"https://ipywidgets.readthedocs.io/en/stable/user_install.html\">Jupyter\n",
       "  Widgets Documentation</a> for setup instructions.\n",
       "</p>\n",
       "<p>\n",
       "  If you're reading this message in another frontend (for example, a static\n",
       "  rendering on GitHub or <a href=\"https://nbviewer.jupyter.org/\">NBViewer</a>),\n",
       "  it may mean that your frontend doesn't currently support widgets.\n",
       "</p>\n"
      ],
      "text/plain": [
       "NGLWidget(count=500)"
      ]
     },
     "metadata": {},
     "output_type": "display_data"
    }
   ],
   "source": [
    "visualiser_trajectoire(pos,10)"
   ]
  },
  {
   "cell_type": "markdown",
   "metadata": {},
   "source": [
    "## Test Avec l'effet de la temperature"
   ]
  },
  {
   "cell_type": "code",
   "execution_count": 43,
   "metadata": {
    "collapsed": true
   },
   "outputs": [],
   "source": [
    "# Rigidite du ressort\n",
    "k_spring = 1.\n",
    "# Intensite de l'atractration de LJ\n",
    "epsilon = 1.\n",
    "# Distance d'equilibre pour le potentiel\n",
    "r_m = 1.\n",
    "# Masse des particules\n",
    "masse = 1.\n",
    "# Pas de temps entre chaque etapes d'integration\n",
    "dt = 0.001\n",
    "# Temperature du system\n",
    "T = 1.\n",
    "\n",
    "# Genere les positions initiales\n",
    "positions_initiales = faire_une_chaine_lineaire(10,r_m)\n",
    "# Genere les vitesses initiales\n",
    "vitesses_initiales = np.random.normal(loc=0.0, scale=np.sqrt(1),size=positions_initiales.shape)"
   ]
  },
  {
   "cell_type": "code",
   "execution_count": 44,
   "metadata": {
    "scrolled": true
   },
   "outputs": [
    {
     "data": {
      "application/vnd.jupyter.widget-view+json": {
       "model_id": "7cc0136e31434bbaae3d3f9e51073d3d",
       "version_major": 2,
       "version_minor": 0
      },
      "text/html": [
       "<p>Failed to display Jupyter Widget of type <code>HBox</code>.</p>\n",
       "<p>\n",
       "  If you're reading this message in the Jupyter Notebook or JupyterLab Notebook, it may mean\n",
       "  that the widgets JavaScript is still loading. If this message persists, it\n",
       "  likely means that the widgets JavaScript library is either not installed or\n",
       "  not enabled. See the <a href=\"https://ipywidgets.readthedocs.io/en/stable/user_install.html\">Jupyter\n",
       "  Widgets Documentation</a> for setup instructions.\n",
       "</p>\n",
       "<p>\n",
       "  If you're reading this message in another frontend (for example, a static\n",
       "  rendering on GitHub or <a href=\"https://nbviewer.jupyter.org/\">NBViewer</a>),\n",
       "  it may mean that your frontend doesn't currently support widgets.\n",
       "</p>\n"
      ],
      "text/plain": [
       "HBox(children=(IntProgress(value=0, max=5000), HTML(value='')))"
      ]
     },
     "metadata": {},
     "output_type": "display_data"
    },
    {
     "name": "stdout",
     "output_type": "stream",
     "text": [
      "\n"
     ]
    }
   ],
   "source": [
    "pos,vel,diagnostic = simulateur_NVT(positions_initiales,vitesses_initiales,masse=masse,r_m=r_m,epsilon=epsilon,\n",
    "                           k_spring=k_spring,temperature=T,\n",
    "                           Nstep=5000,dt=dt)"
   ]
  },
  {
   "cell_type": "markdown",
   "metadata": {},
   "source": [
    "La variarion d'energie du system et du thermostat est-elle conservée ?"
   ]
  },
  {
   "cell_type": "code",
   "execution_count": 45,
   "metadata": {},
   "outputs": [
    {
     "data": {
      "text/plain": [
       "<matplotlib.legend.Legend at 0x7f2f3f8be9e8>"
      ]
     },
     "execution_count": 45,
     "metadata": {},
     "output_type": "execute_result"
    },
    {
     "data": {
      "image/png": "[encoded data removed]",
      "text/plain": [
       "<matplotlib.figure.Figure at 0x7f2f3f8be748>"
      ]
     },
     "metadata": {},
     "output_type": "display_data"
    }
   ],
   "source": [
    "plt.plot(diagnostic['E_variation'],label='E_variation',)\n",
    "plt.legend()"
   ]
  },
  {
   "cell_type": "markdown",
   "metadata": {},
   "source": [
    "La temperature du system est-elle maintenue a la bone valeure"
   ]
  },
  {
   "cell_type": "code",
   "execution_count": 111,
   "metadata": {
    "collapsed": true
   },
   "outputs": [
    {
     "data": {
      "text/plain": [
       "<matplotlib.legend.Legend at 0x7fdd641bbeb8>"
      ]
     },
     "execution_count": 111,
     "metadata": {},
     "output_type": "execute_result"
    },
    {
     "data": {
      "image/png": "[encoded data removed]",
      "text/plain": [
       "<Figure size 432x288 with 1 Axes>"
      ]
     },
     "metadata": {},
     "output_type": "display_data"
    }
   ],
   "source": [
    "plt.plot(diagnostic['Temperature'],label='Temperature',)\n",
    "plt.legend()"
   ]
  },
  {
   "cell_type": "code",
   "execution_count": 112,
   "metadata": {
    "collapsed": true
   },
   "outputs": [
    {
     "data": {
      "application/vnd.jupyter.widget-view+json": {
       "model_id": "9752c34fa2914bbeb66dafa954bc9222",
       "version_major": 2,
       "version_minor": 0
      },
      "text/html": [
       "<p>Failed to display Jupyter Widget of type <code>NGLWidget</code>.</p>\n",
       "<p>\n",
       "  If you're reading this message in the Jupyter Notebook or JupyterLab Notebook, it may mean\n",
       "  that the widgets JavaScript is still loading. If this message persists, it\n",
       "  likely means that the widgets JavaScript library is either not installed or\n",
       "  not enabled. See the <a href=\"https://ipywidgets.readthedocs.io/en/stable/user_install.html\">Jupyter\n",
       "  Widgets Documentation</a> for setup instructions.\n",
       "</p>\n",
       "<p>\n",
       "  If you're reading this message in another frontend (for example, a static\n",
       "  rendering on GitHub or <a href=\"https://nbviewer.jupyter.org/\">NBViewer</a>),\n",
       "  it may mean that your frontend doesn't currently support widgets.\n",
       "</p>\n"
      ],
      "text/plain": [
       "NGLWidget(count=500)"
      ]
     },
     "metadata": {},
     "output_type": "display_data"
    }
   ],
   "source": [
    "visualiser_trajectoire(pos,10)"
   ]
  },
  {
   "cell_type": "markdown",
   "metadata": {},
   "source": [
    "# Simule la transition entre l'etat globulaire et l'etat elonge"
   ]
  },
  {
   "cell_type": "code",
   "execution_count": 4,
   "metadata": {},
   "outputs": [],
   "source": [
    "from Exercise_functions import simulateur_NVT_efficace"
   ]
  },
  {
   "cell_type": "code",
   "execution_count": 5,
   "metadata": {},
   "outputs": [],
   "source": [
    "# Intensite de l'atractration de LJ\n",
    "epsilon = 1.\n",
    "# Distance d'equilibre pour le potentiel\n",
    "r_m = 1.\n",
    "# Masse des particules\n",
    "mass = 1.\n",
    "# Pas de temps entre chaque etapes d'integration\n",
    "dt = 0.01\n",
    "# Temperature du system\n",
    "T = 6.\n",
    "\n",
    "# Rigidite du ressort. La rigidite du ressort est exprime en fonction de epsilon et de r_m pour que la forme du potentiel harmonique coincide avec celle du puit du potentiel de Lennard Jones\n",
    "k_spring = 16.67 * epsilon / r_m**2\n",
    "\n",
    "# Genere les positions initiales\n",
    "positions_initiales = faire_une_chaine_circulaire(100,r_m)\n",
    "# Genere les vitesses initiales\n",
    "vitesses_initiales = np.random.normal(loc=0.0, scale=np.sqrt(.1),size=positions_initiales.shape)"
   ]
  },
  {
   "cell_type": "code",
   "execution_count": 6,
   "metadata": {},
   "outputs": [
    {
     "data": {
      "application/vnd.jupyter.widget-view+json": {
       "model_id": "a9d555d26879440bb2366ad987632ded",
       "version_major": 2,
       "version_minor": 0
      },
      "text/html": [
       "<p>Failed to display Jupyter Widget of type <code>HBox</code>.</p>\n",
       "<p>\n",
       "  If you're reading this message in the Jupyter Notebook or JupyterLab Notebook, it may mean\n",
       "  that the widgets JavaScript is still loading. If this message persists, it\n",
       "  likely means that the widgets JavaScript library is either not installed or\n",
       "  not enabled. See the <a href=\"https://ipywidgets.readthedocs.io/en/stable/user_install.html\">Jupyter\n",
       "  Widgets Documentation</a> for setup instructions.\n",
       "</p>\n",
       "<p>\n",
       "  If you're reading this message in another frontend (for example, a static\n",
       "  rendering on GitHub or <a href=\"https://nbviewer.jupyter.org/\">NBViewer</a>),\n",
       "  it may mean that your frontend doesn't currently support widgets.\n",
       "</p>\n"
      ],
      "text/plain": [
       "HBox(children=(IntProgress(value=0, max=50000), HTML(value='')))"
      ]
     },
     "metadata": {},
     "output_type": "display_data"
    },
    {
     "name": "stdout",
     "output_type": "stream",
     "text": [
      "\n"
     ]
    }
   ],
   "source": [
    "pos,vel,diagnostic = simulateur_NVT_efficace(positions_initiales,vitesses_initiales,mass=mass,r_m=r_m,epsilon=epsilon,\n",
    "                           k_spring=k_spring,temperature=T,Nstep=50000,dt=dt,enregistrement_stride=10)"
   ]
  },
  {
   "cell_type": "code",
   "execution_count": 7,
   "metadata": {},
   "outputs": [
    {
     "data": {
      "application/vnd.jupyter.widget-view+json": {
       "model_id": "fc0f61630860478bbda7259aee9d9c9b",
       "version_major": 2,
       "version_minor": 0
      },
      "text/html": [
       "<p>Failed to display Jupyter Widget of type <code>NGLWidget</code>.</p>\n",
       "<p>\n",
       "  If you're reading this message in the Jupyter Notebook or JupyterLab Notebook, it may mean\n",
       "  that the widgets JavaScript is still loading. If this message persists, it\n",
       "  likely means that the widgets JavaScript library is either not installed or\n",
       "  not enabled. See the <a href=\"https://ipywidgets.readthedocs.io/en/stable/user_install.html\">Jupyter\n",
       "  Widgets Documentation</a> for setup instructions.\n",
       "</p>\n",
       "<p>\n",
       "  If you're reading this message in another frontend (for example, a static\n",
       "  rendering on GitHub or <a href=\"https://nbviewer.jupyter.org/\">NBViewer</a>),\n",
       "  it may mean that your frontend doesn't currently support widgets.\n",
       "</p>\n"
      ],
      "text/plain": [
       "NGLWidget(count=5000)"
      ]
     },
     "metadata": {},
     "output_type": "display_data"
    }
   ],
   "source": [
    "visualiser_trajectoire(pos,1)"
   ]
  },
  {
   "cell_type": "markdown",
   "metadata": {},
   "source": [
    "des diagnostics"
   ]
  },
  {
   "cell_type": "code",
   "execution_count": 8,
   "metadata": {},
   "outputs": [
    {
     "data": {
      "text/plain": [
       "<matplotlib.legend.Legend at 0x7efbede46828>"
      ]
     },
     "execution_count": 8,
     "metadata": {},
     "output_type": "execute_result"
    },
    {
     "data": {
      "image/png": "[encoded data removed]",
      "text/plain": [
       "<matplotlib.figure.Figure at 0x7efbede46860>"
      ]
     },
     "metadata": {},
     "output_type": "display_data"
    }
   ],
   "source": [
    "plt.plot(diagnostic['time'],diagnostic['E_variation'],label='E_variation',)\n",
    "plt.legend()"
   ]
  },
  {
   "cell_type": "code",
   "execution_count": 9,
   "metadata": {},
   "outputs": [
    {
     "data": {
      "text/plain": [
       "<matplotlib.legend.Legend at 0x7efbedddf5c0>"
      ]
     },
     "execution_count": 9,
     "metadata": {},
     "output_type": "execute_result"
    },
    {
     "data": {
      "image/png": "[encoded data removed]",
      "text/plain": [
       "<matplotlib.figure.Figure at 0x7efbedd2b630>"
      ]
     },
     "metadata": {},
     "output_type": "display_data"
    }
   ],
   "source": [
    "plt.plot(diagnostic['time'],diagnostic['Temperature'],label='Temperature',)\n",
    "plt.legend()"
   ]
  },
  {
   "cell_type": "code",
   "execution_count": 10,
   "metadata": {},
   "outputs": [
    {
     "data": {
      "text/plain": [
       "<matplotlib.legend.Legend at 0x7efbede46748>"
      ]
     },
     "execution_count": 10,
     "metadata": {},
     "output_type": "execute_result"
    },
    {
     "data": {
      "image/png": "[encoded data removed]",
      "text/plain": [
       "<matplotlib.figure.Figure at 0x7efbede46780>"
      ]
     },
     "metadata": {},
     "output_type": "display_data"
    }
   ],
   "source": [
    "plt.plot(diagnostic['time'],diagnostic['E_system'],label='E_system',)\n",
    "plt.legend()"
   ]
  },
  {
   "cell_type": "code",
   "execution_count": null,
   "metadata": {
    "collapsed": true
   },
   "outputs": [],
   "source": []
  }
 ],
 "metadata": {
  "kernelspec": {
   "display_name": "Python 3",
   "language": "python",
   "name": "python3"
  },
  "language_info": {
   "codemirror_mode": {
    "name": "ipython",
    "version": 3
   },
   "file_extension": ".py",
   "mimetype": "text/x-python",
   "name": "python",
   "nbconvert_exporter": "python",
   "pygments_lexer": "ipython3",
   "version": "3.6.3"
  },
  "latex_envs": {
   "LaTeX_envs_menu_present": true,
   "autoclose": false,
   "autocomplete": true,
   "bibliofile": "biblio.bib",
   "cite_by": "apalike",
   "current_citInitial": 1,
   "eqLabelWithNumbers": true,
   "eqNumInitial": 1,
   "hotkeys": {
    "equation": "Ctrl-E",
    "itemize": "Ctrl-I"
   },
   "labels_anchors": false,
   "latex_user_defs": false,
   "report_style_numbering": false,
   "user_envs_cfg": false
  },
  "toc": {
   "base_numbering": 1,
   "colors": {
    "hover_highlight": "#DAA520",
    "navigate_num": "#000000",
    "navigate_text": "#333333",
    "running_highlight": "#FF0000",
    "selected_highlight": "#FFD700",
    "sidebar_border": "#EEEEEE",
    "wrapper_background": "#FFFFFF"
   },
   "moveMenuLeft": true,
   "nav_menu": {
    "height": "160px",
    "width": "252px"
   },
   "navigate_menu": true,
   "number_sections": true,
   "sideBar": true,
   "skip_h1_title": false,
   "threshold": 4,
   "title_cell": "Table of Contents",
   "title_sidebar": "Contents",
   "toc_cell": false,
   "toc_position": {
    "height": "461px",
    "left": "0px",
    "right": "927.667px",
    "top": "107px",
    "width": "139px"
   },
   "toc_section_display": "block",
   "toc_window_display": false,
   "widenNotebook": false
  }
 },
 "nbformat": 4,
 "nbformat_minor": 2
}
